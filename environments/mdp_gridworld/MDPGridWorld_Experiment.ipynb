{
 "cells": [
  {
   "cell_type": "code",
   "execution_count": 1,
   "metadata": {},
   "outputs": [],
   "source": [
    "import math\n",
    "import numpy as np\n",
    "from MDPGridWorld import *"
   ]
  },
  {
   "cell_type": "code",
   "execution_count": 2,
   "metadata": {},
   "outputs": [],
   "source": [
    "np.random.seed(0)"
   ]
  },
  {
   "cell_type": "code",
   "execution_count": 3,
   "metadata": {},
   "outputs": [
    {
     "name": "stdout",
     "output_type": "stream",
     "text": [
      "_____\t_____\t_____\t_+1__\t\n",
      "_____\t__#__\t_____\t_-1__\t\n",
      "__@__\t_____\t_____\t_____\t\n",
      "\n"
     ]
    }
   ],
   "source": [
    "book_grid = [[' ',' ',' ',+1],\n",
    "            [' ','#',' ',-1],\n",
    "            ['@',' ',' ',' ']]\n",
    "\n",
    "gw = MDPGridWorld(book_grid, action_noise_dist=[0.1, 0.8, 0.1], obstacle_reward=-2, verbose=True)"
   ]
  },
  {
   "cell_type": "code",
   "execution_count": 4,
   "metadata": {},
   "outputs": [
    {
     "name": "stdout",
     "output_type": "stream",
     "text": [
      "_____\t_____\t_____\t_+1__\t\n",
      "__@__\t__#__\t_____\t_-1__\t\n",
      "_____\t_____\t_____\t_____\t\n",
      "\n"
     ]
    }
   ],
   "source": [
    "gw.curr_state_idx, _ = gw.sample_next_state(gw.curr_state_idx, MDPGridWorld.North)\n",
    "print(gw)"
   ]
  },
  {
   "cell_type": "code",
   "execution_count": 5,
   "metadata": {},
   "outputs": [
    {
     "name": "stdout",
     "output_type": "stream",
     "text": [
      "States (fused into a single grid-bc it's possible to do so here):\n",
      "------------\n",
      "0\t1\t2\t3\t\n",
      "4\t5\t6\t7\t\n",
      "8\t9\t10\t11\t\n",
      "Absorbing state: 12\n",
      "------------\n",
      "\n"
     ]
    }
   ],
   "source": [
    "print(\"States (fused into a single grid-bc it's possible to do so here):\")\n",
    "gw.disp_custom_grid(range(gw.nS), formatting=lambda x: str(x))"
   ]
  },
  {
   "cell_type": "code",
   "execution_count": 6,
   "metadata": {},
   "outputs": [
    {
     "name": "stdout",
     "output_type": "stream",
     "text": [
      "Optimal Value:\n",
      "------------\n",
      "0.903\t0.930\t0.955\t1.000\t\n",
      "0.880\t-1.098\t0.790\t-1.000\t\n",
      "0.853\t0.830\t0.805\t0.639\t\n",
      "Absorbing state: 0.000\n",
      "------------\n",
      "\n",
      "\n",
      "Optimal Policy:\n",
      "------------\n",
      "East\tEast\tEast\tNorth\t\n",
      "North\tNorth\tWest\tNorth\t\n",
      "North\tWest\tWest\tSouth\t\n",
      "Absorbing state: North\n",
      "------------\n",
      "\n"
     ]
    }
   ],
   "source": [
    "vi = run_value_iteration(gw.T, gw.R, gw.gamma)\n",
    "print(\"Optimal Value:\")\n",
    "gw.disp_custom_grid(vi.V, formatting=lambda x: \"{:.3f}\".format(x))\n",
    "print(\"\\nOptimal Policy:\")\n",
    "gw.disp_custom_grid(vi.policy, lambda x: \"{:}\".format(gw.actions_name[x]))"
   ]
  },
  {
   "cell_type": "markdown",
   "metadata": {},
   "source": [
    "## Sampling Trajectories"
   ]
  },
  {
   "cell_type": "code",
   "execution_count": 7,
   "metadata": {},
   "outputs": [
    {
     "name": "stdout",
     "output_type": "stream",
     "text": [
      "[(0, 1, -0.01), (1, 1, -0.01), (2, 1, 1.0), (3, 0, 0.0), (12, 0, 0.0), (12, 0, 0.0)]\n",
      "s:\n",
      "__@__\t_____\t_____\t_+1__\t\n",
      "_____\t__#__\t_____\t_-1__\t\n",
      "_____\t_____\t_____\t_____\t\n",
      "\n",
      "a:  East\n",
      "r:  -0.01\n",
      "s:\n",
      "_____\t__@__\t_____\t_+1__\t\n",
      "_____\t__#__\t_____\t_-1__\t\n",
      "_____\t_____\t_____\t_____\t\n",
      "\n",
      "a:  East\n",
      "r:  -0.01\n",
      "s:\n",
      "_____\t_____\t__@__\t_+1__\t\n",
      "_____\t__#__\t_____\t_-1__\t\n",
      "_____\t_____\t_____\t_____\t\n",
      "\n",
      "a:  East\n",
      "r:  1.0\n",
      "s:\n",
      "_____\t_____\t_____\t__@__\t\n",
      "_____\t__#__\t_____\t_-1__\t\n",
      "_____\t_____\t_____\t_____\t\n",
      "\n",
      "a:  North\n",
      "r:  0.0\n"
     ]
    }
   ],
   "source": [
    "tau = gw.sample_trajectory(init_state_idx=\"random\", max_length=5)\n",
    "print(tau)\n",
    "gw.interpret_trajectory(tau)"
   ]
  },
  {
   "cell_type": "code",
   "execution_count": 8,
   "metadata": {},
   "outputs": [
    {
     "name": "stdout",
     "output_type": "stream",
     "text": [
      "T000: [(6, 3, -0.01), (2, 1, 1.0), (3, 0, 0.0), (12, 0, 0.0), (12, 0, 0.0), (12, 0, 0.0), (12, 0, 0.0), (12, 0, 0.0), (12, 0, 0.0), (12, 0, 0.0), (12, 0, 0.0)]\n",
      "T001: [(8, 0, -0.01), (4, 0, -0.01), (4, 0, -0.01), (0, 1, -0.01), (1, 1, -0.01), (2, 1, -0.01), (6, 3, -0.01), (6, 3, -0.01), (6, 3, -0.01), (6, 3, -0.01), (6, 3, -0.01)]\n",
      "T002: [(3, 0, 0.0), (12, 0, 0.0), (12, 0, 0.0), (12, 0, 0.0), (12, 0, 0.0), (12, 0, 0.0), (12, 0, 0.0), (12, 0, 0.0), (12, 0, 0.0), (12, 0, 0.0), (12, 0, 0.0)]\n",
      "T003: [(1, 1, -0.01), (1, 1, -0.01), (2, 1, 1.0), (3, 0, 0.0), (12, 0, 0.0), (12, 0, 0.0), (12, 0, 0.0), (12, 0, 0.0), (12, 0, 0.0), (12, 0, 0.0), (12, 0, 0.0)]\n",
      "T004: [(11, 2, -0.01), (11, 2, -0.01), (11, 2, -0.01), (11, 2, -0.01), (11, 2, -0.01), (11, 2, -0.01), (11, 2, -0.01), (11, 2, -0.01), (11, 2, -0.01), (11, 2, -0.01), (11, 2, -0.01)]\n",
      "T005: [(1, 1, -0.01), (2, 1, -0.01), (2, 1, 1.0), (3, 0, 0.0), (12, 0, 0.0), (12, 0, 0.0), (12, 0, 0.0), (12, 0, 0.0), (12, 0, 0.0), (12, 0, 0.0), (12, 0, 0.0)]\n",
      "T006: [(11, 2, -0.01), (11, 2, -0.01), (11, 2, -0.01), (11, 2, -0.01), (10, 3, -0.01), (9, 3, -0.01), (9, 3, -0.01), (8, 0, -0.01), (4, 0, -0.01), (4, 0, -0.01), (0, 0, -0.01)]\n",
      "T007: [(4, 0, -0.01), (0, 1, -0.01), (1, 1, -0.01), (1, 1, -0.01), (2, 1, 1.0), (3, 0, 0.0), (12, 0, 0.0), (12, 0, 0.0), (12, 0, 0.0), (12, 0, 0.0), (12, 0, 0.0)]\n",
      "T008: [(0, 1, -0.01), (1, 1, -0.01), (2, 1, -0.01), (6, 3, -0.01), (6, 3, -0.01), (6, 3, -0.01), (2, 1, 1.0), (3, 0, 0.0), (12, 0, 0.0), (12, 0, 0.0), (12, 0, 0.0)]\n",
      "T009: [(11, 2, -0.01), (11, 2, -0.01), (11, 2, -0.01), (11, 2, -0.01), (11, 2, -0.01), (11, 2, -0.01), (10, 3, -0.01), (9, 3, -0.01), (8, 0, -0.01), (4, 0, -0.01), (0, 0, -0.01)]\n"
     ]
    }
   ],
   "source": [
    "tau_list = gw.sample_trajectories(10, max_length=10)\n",
    "for i, tau in enumerate(tau_list): print(\"T{:03d}: {}\".format(i, tau))"
   ]
  },
  {
   "cell_type": "markdown",
   "metadata": {},
   "source": [
    "## Visiting obstacles"
   ]
  },
  {
   "cell_type": "code",
   "execution_count": 9,
   "metadata": {},
   "outputs": [
    {
     "name": "stdout",
     "output_type": "stream",
     "text": [
      "_____\t_____\t_____\t_+1__\t\n",
      "_____\t__#__\t_____\t_-1__\t\n",
      "__@__\t_____\t_____\t_____\t\n",
      "\n"
     ]
    }
   ],
   "source": [
    "gw = MDPGridWorld(book_grid, action_noise_dist=[0.4, 0.2, 0.4], obstacle_reward=-0.2, visit_obstacles=True, verbose=True)"
   ]
  },
  {
   "cell_type": "code",
   "execution_count": 10,
   "metadata": {},
   "outputs": [
    {
     "name": "stdout",
     "output_type": "stream",
     "text": [
      "------------\n",
      "North\tNorth\tNorth\tNorth\t\n",
      "West\tNorth\tWest\tNorth\t\n",
      "West\tSouth\tWest\tSouth\t\n",
      "Absorbing state: North\n",
      "------------\n",
      "\n"
     ]
    }
   ],
   "source": [
    "gw.disp_policy(gw._get_optimal_policy())"
   ]
  },
  {
   "cell_type": "code",
   "execution_count": 11,
   "metadata": {},
   "outputs": [
    {
     "name": "stdout",
     "output_type": "stream",
     "text": [
      "T000: [(6, 3, -0.01), (2, 0, -0.01), (2, 0, 1.0), (3, 0, 0.0), (12, 0, 0.0), (12, 0, 0.0), (12, 0, 0.0), (12, 0, 0.0), (12, 0, 0.0), (12, 0, 0.0), (12, 0, 0.0)]\n",
      "T001: [(6, 3, -0.01), (2, 0, 1.0), (3, 0, 0.0), (12, 0, 0.0), (12, 0, 0.0), (12, 0, 0.0), (12, 0, 0.0), (12, 0, 0.0), (12, 0, 0.0), (12, 0, 0.0), (12, 0, 0.0)]\n",
      "T002: [(6, 3, -0.2), (5, 0, -0.01), (1, 0, -0.01), (2, 0, -0.01), (1, 0, -0.01), (2, 0, -0.01), (1, 0, -0.01), (2, 0, 1.0), (3, 0, 0.0), (12, 0, 0.0), (12, 0, 0.0)]\n",
      "T003: [(6, 3, -0.2), (5, 0, -0.01), (4, 3, -0.01), (0, 0, -0.01), (1, 0, -0.01), (1, 0, -0.01), (2, 0, 1.0), (3, 0, 0.0), (12, 0, 0.0), (12, 0, 0.0), (12, 0, 0.0)]\n",
      "T004: [(6, 3, -0.01), (2, 0, 1.0), (3, 0, 0.0), (12, 0, 0.0), (12, 0, 0.0), (12, 0, 0.0), (12, 0, 0.0), (12, 0, 0.0), (12, 0, 0.0), (12, 0, 0.0), (12, 0, 0.0)]\n",
      "T005: [(6, 3, -0.01), (10, 3, -0.01), (10, 3, -0.01), (9, 2, -0.01), (10, 3, -0.01), (10, 3, -0.01), (9, 2, -0.01), (10, 3, -0.01), (6, 3, -0.01), (2, 0, 1.0), (3, 0, 1.0)]\n",
      "T006: [(6, 3, -0.01), (2, 0, 1.0), (3, 0, 0.0), (12, 0, 0.0), (12, 0, 0.0), (12, 0, 0.0), (12, 0, 0.0), (12, 0, 0.0), (12, 0, 0.0), (12, 0, 0.0), (12, 0, 0.0)]\n",
      "T007: [(6, 3, -0.01), (2, 0, -0.01), (2, 0, -0.01), (2, 0, -0.01), (2, 0, 1.0), (3, 0, 0.0), (12, 0, 0.0), (12, 0, 0.0), (12, 0, 0.0), (12, 0, 0.0), (12, 0, 0.0)]\n",
      "T008: [(6, 3, -0.01), (10, 3, -0.01), (6, 3, -0.2), (5, 0, -0.01), (6, 3, -0.01), (10, 3, -0.01), (10, 3, -0.01), (6, 3, -0.01), (10, 3, -0.01), (10, 3, -0.01), (10, 3, -0.01)]\n",
      "T009: [(6, 3, -0.01), (2, 0, 1.0), (3, 0, 0.0), (12, 0, 0.0), (12, 0, 0.0), (12, 0, 0.0), (12, 0, 0.0), (12, 0, 0.0), (12, 0, 0.0), (12, 0, 0.0), (12, 0, 0.0)]\n"
     ]
    }
   ],
   "source": [
    "tau_list = gw.sample_trajectories(10, init_state_idx=6, max_length=10)\n",
    "for i, tau in enumerate(tau_list): print(\"T{:03d}: {}\".format(i, tau))"
   ]
  },
  {
   "cell_type": "code",
   "execution_count": 12,
   "metadata": {},
   "outputs": [
    {
     "name": "stdout",
     "output_type": "stream",
     "text": [
      "s:\n",
      "_____\t_____\t_____\t_+1__\t\n",
      "_____\t__#__\t__@__\t_-1__\t\n",
      "_____\t_____\t_____\t_____\t\n",
      "\n",
      "a:  West\n",
      "r:  -0.01\n",
      "s:\n",
      "_____\t_____\t_____\t_+1__\t\n",
      "_____\t__#__\t_____\t_-1__\t\n",
      "_____\t_____\t__@__\t_____\t\n",
      "\n",
      "a:  West\n",
      "r:  -0.01\n",
      "s:\n",
      "_____\t_____\t_____\t_+1__\t\n",
      "_____\t__#__\t__@__\t_-1__\t\n",
      "_____\t_____\t_____\t_____\t\n",
      "\n",
      "a:  West\n",
      "r:  -0.2\n",
      "s:\n",
      "_____\t_____\t_____\t_+1__\t\n",
      "_____\t__@__\t_____\t_-1__\t\n",
      "_____\t_____\t_____\t_____\t\n",
      "\n",
      "a:  North\n",
      "r:  -0.01\n",
      "s:\n",
      "_____\t_____\t_____\t_+1__\t\n",
      "_____\t__#__\t__@__\t_-1__\t\n",
      "_____\t_____\t_____\t_____\t\n",
      "\n",
      "a:  West\n",
      "r:  -0.01\n",
      "s:\n",
      "_____\t_____\t_____\t_+1__\t\n",
      "_____\t__#__\t_____\t_-1__\t\n",
      "_____\t_____\t__@__\t_____\t\n",
      "\n",
      "a:  West\n",
      "r:  -0.01\n",
      "s:\n",
      "_____\t_____\t_____\t_+1__\t\n",
      "_____\t__#__\t_____\t_-1__\t\n",
      "_____\t_____\t__@__\t_____\t\n",
      "\n",
      "a:  West\n",
      "r:  -0.01\n",
      "s:\n",
      "_____\t_____\t_____\t_+1__\t\n",
      "_____\t__#__\t__@__\t_-1__\t\n",
      "_____\t_____\t_____\t_____\t\n",
      "\n",
      "a:  West\n",
      "r:  -0.01\n",
      "s:\n",
      "_____\t_____\t_____\t_+1__\t\n",
      "_____\t__#__\t_____\t_-1__\t\n",
      "_____\t_____\t__@__\t_____\t\n",
      "\n",
      "a:  West\n",
      "r:  -0.01\n",
      "s:\n",
      "_____\t_____\t_____\t_+1__\t\n",
      "_____\t__#__\t_____\t_-1__\t\n",
      "_____\t_____\t__@__\t_____\t\n",
      "\n",
      "a:  West\n",
      "r:  -0.01\n",
      "s:\n",
      "_____\t_____\t_____\t_+1__\t\n",
      "_____\t__#__\t_____\t_-1__\t\n",
      "_____\t_____\t__@__\t_____\t\n",
      "\n",
      "a:  West\n",
      "r:  -0.01\n"
     ]
    }
   ],
   "source": [
    "# This trajectory visits the obstacle\n",
    "gw.interpret_trajectory(tau_list[8])"
   ]
  },
  {
   "cell_type": "code",
   "execution_count": 13,
   "metadata": {},
   "outputs": [
    {
     "name": "stdout",
     "output_type": "stream",
     "text": [
      "_____\t_____\t_____\t_+1__\t\n",
      "_____\t__#__\t_____\t_-1__\t\n",
      "__@__\t_____\t_____\t_____\t\n",
      "\n"
     ]
    }
   ],
   "source": [
    "gw = MDPGridWorld(book_grid, action_noise_dist=[0.4, 0.2, 0.4], obstacle_reward=-10, visit_obstacles=True, verbose=True)"
   ]
  },
  {
   "cell_type": "code",
   "execution_count": 14,
   "metadata": {},
   "outputs": [
    {
     "name": "stdout",
     "output_type": "stream",
     "text": [
      "------------\n",
      "North\tNorth\tNorth\tNorth\t\n",
      "West\tWest\tEast\tNorth\t\n",
      "West\tSouth\tSouth\tSouth\t\n",
      "Absorbing state: North\n",
      "------------\n",
      "\n"
     ]
    }
   ],
   "source": [
    "gw.disp_policy(gw._get_optimal_policy())"
   ]
  },
  {
   "cell_type": "markdown",
   "metadata": {},
   "source": [
    "^ policy Avoids obstacle at all cost bc obstacle reward is -10, so we will see obstacle states less likely to be visited during optimal agent trajectory."
   ]
  },
  {
   "cell_type": "code",
   "execution_count": 15,
   "metadata": {},
   "outputs": [
    {
     "name": "stdout",
     "output_type": "stream",
     "text": [
      "T000: [(6, 1, -0.01), (2, 0, 1.0), (3, 0, 0.0), (12, 0, 0.0), (12, 0, 0.0), (12, 0, 0.0), (12, 0, 0.0), (12, 0, 0.0), (12, 0, 0.0), (12, 0, 0.0), (12, 0, 0.0)]\n",
      "T001: [(6, 1, -1.0), (7, 0, 0.0), (12, 0, 0.0), (12, 0, 0.0), (12, 0, 0.0), (12, 0, 0.0), (12, 0, 0.0), (12, 0, 0.0), (12, 0, 0.0), (12, 0, 0.0), (12, 0, 0.0)]\n",
      "T002: [(6, 1, -1.0), (7, 0, 0.0), (12, 0, 0.0), (12, 0, 0.0), (12, 0, 0.0), (12, 0, 0.0), (12, 0, 0.0), (12, 0, 0.0), (12, 0, 0.0), (12, 0, 0.0), (12, 0, 0.0)]\n",
      "T003: [(6, 1, -0.01), (10, 2, -0.01), (11, 2, -0.01), (10, 2, -0.01), (9, 2, -0.01), (10, 2, -0.01), (9, 2, -0.01), (9, 2, -0.01), (8, 3, -0.01), (4, 3, -0.01), (0, 3, -0.01)]\n",
      "T004: [(6, 1, -0.01), (10, 2, -0.01), (9, 2, -0.01), (8, 3, -0.01), (8, 3, -0.01), (8, 3, -0.01), (4, 3, -0.01), (0, 0, -0.01), (1, 0, -0.01), (1, 0, -0.01), (0, 0, -0.01)]\n",
      "T005: [(6, 1, -0.01), (10, 2, -0.01), (11, 2, -0.01), (11, 2, -0.01), (11, 2, -0.01), (11, 2, -0.01), (10, 2, -0.01), (9, 2, -0.01), (8, 3, -0.01), (4, 3, -0.01), (8, 3, -0.01)]\n",
      "T006: [(6, 1, -0.01), (10, 2, -0.01), (10, 2, -0.01), (9, 2, -0.01), (8, 3, -0.01), (4, 3, -0.01), (4, 3, -0.01), (0, 0, -0.01), (1, 0, -0.01), (0, 0, -0.01), (0, 0, -0.01)]\n",
      "T007: [(6, 1, -0.01), (2, 0, -0.01), (1, 0, -0.01), (2, 0, -0.01), (2, 0, -0.01), (2, 0, 1.0), (3, 0, 0.0), (12, 0, 0.0), (12, 0, 0.0), (12, 0, 0.0), (12, 0, 0.0)]\n",
      "T008: [(6, 1, -0.01), (10, 2, -0.01), (9, 2, -0.01), (8, 3, -0.01), (8, 3, -0.01), (4, 3, -0.01), (0, 0, -0.01), (0, 0, -0.01), (1, 0, -0.01), (2, 0, 1.0), (3, 0, 1.0)]\n",
      "T009: [(6, 1, -0.01), (2, 0, 1.0), (3, 0, 0.0), (12, 0, 0.0), (12, 0, 0.0), (12, 0, 0.0), (12, 0, 0.0), (12, 0, 0.0), (12, 0, 0.0), (12, 0, 0.0), (12, 0, 0.0)]\n"
     ]
    }
   ],
   "source": [
    "tau_list = gw.sample_trajectories(10, init_state_idx=6, max_length=10)\n",
    "for i, tau in enumerate(tau_list): print(\"T{:03d}: {}\".format(i, tau))"
   ]
  }
 ],
 "metadata": {
  "kernelspec": {
   "display_name": "irl_python3",
   "language": "python",
   "name": "irl_python3"
  },
  "language_info": {
   "codemirror_mode": {
    "name": "ipython",
    "version": 3
   },
   "file_extension": ".py",
   "mimetype": "text/x-python",
   "name": "python",
   "nbconvert_exporter": "python",
   "pygments_lexer": "ipython3",
   "version": "3.6.1"
  }
 },
 "nbformat": 4,
 "nbformat_minor": 2
}
