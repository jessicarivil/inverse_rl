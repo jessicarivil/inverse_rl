{
 "cells": [
  {
   "cell_type": "code",
   "execution_count": 1,
   "metadata": {},
   "outputs": [],
   "source": [
    "import math\n",
    "import numpy as np"
   ]
  },
  {
   "cell_type": "code",
   "execution_count": 24,
   "metadata": {},
   "outputs": [],
   "source": [
    "book_grid = [[' ',' ',' ',+10],\n",
    "            [' ','#',' ',-10],\n",
    "            ['@',' ',' ',' ']]\n",
    "\n",
    "class GridWorld(object):\n",
    "    \"\"\"\n",
    "    This is a nice approximation for all the complexity of the entire universe \n",
    "        –Charles Isbell\n",
    "    \"\"\"\n",
    "    MARKER_WALL = '#'\n",
    "    MARKER_CURR_STATE = '@'\n",
    "    MARKER_FREE_SPACE = ' '\n",
    "    \n",
    "    def __init__(self, grid, living_reward=-0.01, a_noise_dist=[0.1, 0.8, 0.1]):\n",
    "        \n",
    "        \"\"\"\n",
    "        Returns a grid world with input specifications. \n",
    "        \n",
    "        Grid spec: '#' walls, '<int>' terminal state, 'S' initial position, ' ' free space\n",
    "        \"\"\"\n",
    "        \n",
    "        assert(len(grid) != 0 and len(grid[0]) != 0)\n",
    "        \n",
    "        self.grid = grid.copy()\n",
    "        self.width = len(grid[0])\n",
    "        self.height = len(grid)\n",
    "        self.living_reward = living_reward\n",
    "        self.a_noise_dist = a_noise_dist\n",
    "        self.actions = {\"North\": (-1, 0), \"East\": (0, 1), \"South\": (1, 0), \"West\": (0, -1)}\n",
    "        self.action_str_to_id = dict(zip(self.actions.keys(), range(len(self.actions.keys())))) # 0: North, 1: East, ...\n",
    "        self.action_id_to_str = dict(zip(range(len(self.actions.keys())), self.actions.keys())) # 0: North, 1: East, ...\n",
    "        self.n_actions = len(self.actions)\n",
    "        self.curr_state, self.states, self.states_to_feture_vec, self.feature_vec_to_state = self._compute_states(grid)\n",
    "        self.n_states = len(self.states)        \n",
    "        self.f_sj = lambda state: self.states_to_feture_vec[state]\n",
    "    \n",
    "    def _compute_states(self, grid, feature_kind='2d_loc'):\n",
    "        \n",
    "        n = 0\n",
    "        curr_state = None\n",
    "        states = []\n",
    "        states_to_feture_vec = {}\n",
    "        feature_vec_to_state = {}\n",
    "        for row in range(self.height):\n",
    "            for col in range(self.width):\n",
    "                if grid[row][col] != self.MARKER_WALL:\n",
    "                    if grid[row][col] == self.MARKER_CURR_STATE:\n",
    "                        curr_state = n\n",
    "                    states.append(n)\n",
    "                    if feature_kind == '2d_loc':\n",
    "                        states_to_feture_vec[n] = (row, col)\n",
    "                        feature_vec_to_state[(row, col)] = n\n",
    "                    n += 1\n",
    "        return curr_state, states, states_to_feture_vec, feature_vec_to_state\n",
    "    \n",
    "    def __is_terminal(self, state):\n",
    "        r, c = self.f_sj(state)\n",
    "        return isinstance(self.grid[r][c], int) or isinstance(self.grid[r][c], float)\n",
    "    \n",
    "    def get_states(self):\n",
    "        return states\n",
    "    \n",
    "    def get_curr_state(self):\n",
    "        return self.curr_state\n",
    "    \n",
    "    def get_feature_matrix(self, states):\n",
    "        return [self.f_sj(sj) for sj in states]\n",
    "    \n",
    "    def get_possible_actions(self, state):\n",
    "        \n",
    "        if self.__is_terminal(state):\n",
    "            return None\n",
    "        \n",
    "        return self.actions\n",
    "    \n",
    "    def T(self, state, a_id):\n",
    "        \n",
    "        delta = self.actions[self.action_id_to_str[a_id]]\n",
    "        r, c = self.f_sj(state)\n",
    "        new_r, new_c = r+delta[0], c+delta[1]\n",
    "        \n",
    "        if new_r < 0 or new_r >= self.height \\\n",
    "            or new_c < 0 or new_c >= self.width \\\n",
    "            or self.grid[new_r][new_c] == self.MARKER_WALL:\n",
    "                new_r, new_c = r, c\n",
    "#         self.grid[r][c] = self.MARKER_FREE_SPACE\n",
    "#         self.grid[new_r][new_c] = self.MARKER_CURR_STATE\n",
    "        self.curr_state = self.feature_vec_to_state[(new_r, new_c)]\n",
    "        return self.curr_state\n",
    "    \n",
    "    def move(self, stochastic_action):\n",
    "        \n",
    "        na = self.n_actions\n",
    "        a_id = self.action_str_to_id[stochastic_action]\n",
    "        a_id = np.random.choice([a_id-1, a_id, (a_id+1)%na], p=self.a_noise_dist)\n",
    "        return self.T(self.curr_state, a_id)\n",
    "    \n",
    "    def get_reward(self, state=None, action=None):\n",
    "        \n",
    "        if state == None:\n",
    "            state = self.curr_state\n",
    "        r, c = self.f_sj(state)\n",
    "        if isinstance(self.grid[r][c], int) or isinstance(self.grid[r][c], float):\n",
    "            return float(self.grid[r][c])\n",
    "        else:\n",
    "            return self.living_reward\n",
    "        \n",
    "    def __str__(self):\n",
    "        \n",
    "        msg = ''\n",
    "        cell_filler = \"_\"\n",
    "        grid = self.grid\n",
    "        curr_r, curr_c = self.f_sj(self.curr_state)\n",
    "        for r in range(self.height):\n",
    "            for c in range(self.width):\n",
    "                if r == curr_r and c == curr_c:\n",
    "                    tt = self.MARKER_CURR_STATE\n",
    "                elif grid[r][c] == self.MARKER_FREE_SPACE\\\n",
    "                    or (grid[r][c] == self.MARKER_CURR_STATE and (r != curr_r or c != curr_c)):\n",
    "                    tt = cell_filler\n",
    "                else:\n",
    "                    if isinstance(grid[r][c], int) or isinstance(grid[r][c], float):\n",
    "                        tt = \"{:+d}\".format(grid[r][c])\n",
    "                    else:\n",
    "                        tt = grid[r][c]\n",
    "                msg += \"{txt:{fill}^5s}\".format(txt=tt, fill=cell_filler)\n",
    "                msg += \"\\t\"\n",
    "            msg += \"\\n\"\n",
    "        msg += \"\\n\"\n",
    "        return msg\n",
    "        "
   ]
  },
  {
   "cell_type": "code",
   "execution_count": 25,
   "metadata": {},
   "outputs": [],
   "source": [
    "gw = GridWorld(book_grid, a_noise_dist=[0,1.,0])"
   ]
  },
  {
   "cell_type": "code",
   "execution_count": 26,
   "metadata": {},
   "outputs": [
    {
     "name": "stdout",
     "output_type": "stream",
     "text": [
      "_____\t_____\t_____\t_+10_\t\n",
      "_____\t__#__\t_____\t_-10_\t\n",
      "__@__\t_____\t_____\t_____\t\n",
      "\n",
      "\n"
     ]
    }
   ],
   "source": [
    "print(gw)"
   ]
  },
  {
   "cell_type": "code",
   "execution_count": 27,
   "metadata": {},
   "outputs": [
    {
     "data": {
      "text/plain": [
       "-0.01"
      ]
     },
     "execution_count": 27,
     "metadata": {},
     "output_type": "execute_result"
    }
   ],
   "source": [
    "gw.get_reward(gw.curr_state)"
   ]
  },
  {
   "cell_type": "code",
   "execution_count": 28,
   "metadata": {},
   "outputs": [
    {
     "name": "stdout",
     "output_type": "stream",
     "text": [
      "_____\t_____\t_____\t_+10_\t\n",
      "__@__\t__#__\t_____\t_-10_\t\n",
      "_____\t_____\t_____\t_____\t\n",
      "\n",
      "\n",
      "Reward:  -0.01\n",
      "__@__\t_____\t_____\t_+10_\t\n",
      "_____\t__#__\t_____\t_-10_\t\n",
      "_____\t_____\t_____\t_____\t\n",
      "\n",
      "\n",
      "Reward:  -0.01\n",
      "__@__\t_____\t_____\t_+10_\t\n",
      "_____\t__#__\t_____\t_-10_\t\n",
      "_____\t_____\t_____\t_____\t\n",
      "\n",
      "\n",
      "Reward:  -0.01\n",
      "_____\t__@__\t_____\t_+10_\t\n",
      "_____\t__#__\t_____\t_-10_\t\n",
      "_____\t_____\t_____\t_____\t\n",
      "\n",
      "\n",
      "Reward:  -0.01\n",
      "_____\t_____\t__@__\t_+10_\t\n",
      "_____\t__#__\t_____\t_-10_\t\n",
      "_____\t_____\t_____\t_____\t\n",
      "\n",
      "\n",
      "Reward:  -0.01\n",
      "_____\t_____\t_____\t__@__\t\n",
      "_____\t__#__\t_____\t_-10_\t\n",
      "_____\t_____\t_____\t_____\t\n",
      "\n",
      "\n",
      "Reward:  10.0\n"
     ]
    }
   ],
   "source": [
    "As = [\"North\", \"North\", \"North\", \"East\", \"East\", \"East\"]\n",
    "for a in As:\n",
    "    gw.move(a)\n",
    "    print(gw)\n",
    "    print(\"Reward: \", gw.get_reward())"
   ]
  }
 ],
 "metadata": {
  "kernelspec": {
   "display_name": "littman_irl_python3",
   "language": "python",
   "name": "littman_irl_python3"
  },
  "language_info": {
   "codemirror_mode": {
    "name": "ipython",
    "version": 3
   },
   "file_extension": ".py",
   "mimetype": "text/x-python",
   "name": "python",
   "nbconvert_exporter": "python",
   "pygments_lexer": "ipython3",
   "version": "3.6.1"
  }
 },
 "nbformat": 4,
 "nbformat_minor": 2
}
