{
 "cells": [
  {
   "cell_type": "code",
   "execution_count": 1,
   "metadata": {},
   "outputs": [],
   "source": [
    "import math\n",
    "\n",
    "from mdptoolbox_wrapper import *\n",
    "import mdptoolbox\n",
    "import numpy as np\n",
    "\n",
    "import matplotlib.pyplot as plt\n",
    "%matplotlib inline"
   ]
  },
  {
   "cell_type": "code",
   "execution_count": 64,
   "metadata": {},
   "outputs": [],
   "source": [
    "book_grid = [[' ',' ',' ',+100],\n",
    "            [' ','#',' ',-100],\n",
    "            ['@',' ',' ',' ']]\n",
    "\n",
    "def run_value_iteration(T, R, gamma, *args, **kwarg):\n",
    "    T = T.transpose(1,0,2)\n",
    "    vi = mdptoolbox.mdp.ValueIteration(T, R, gamma, *args, **kwarg)\n",
    "    vi.run()\n",
    "    return vi\n",
    "\n",
    "class GridWorld(object):\n",
    "    \"\"\"\n",
    "    This is a nice approximation for all the complexity of the entire universe \n",
    "        –Charles Isbell\n",
    "    \"\"\"\n",
    "    MARKER_WALL = '#'\n",
    "    MARKER_CURR_STATE = '@'\n",
    "    MARKER_FREE_SPACE = ' '\n",
    "    \n",
    "    def __init__(self, grid, living_reward=-0.01, gamma=0.99, action_noise_dist=[0.1, 0.8, 0.1], silent=True):\n",
    "        \n",
    "        \"\"\"\n",
    "        Returns a grid world with input specifications. \n",
    "        \n",
    "        Grid spec: '#' walls, '<int>' terminal state, 'S' initial position, ' ' free space\n",
    "        \"\"\"\n",
    "        \n",
    "        assert(len(grid) != 0 and len(grid[0]) != 0)\n",
    "        \n",
    "        self.grid = grid.copy()\n",
    "        self.width = len(grid[0])\n",
    "        self.height = len(grid)\n",
    "        self.living_reward = living_reward\n",
    "        self.action_noise_dist = action_noise_dist\n",
    "        self.actions_name = [\"North\", \"East\", \"South\", \"West\"]\n",
    "        self.actions = [(-1, 0), (0, 1), (1, 0), (0, -1)]\n",
    "        self.curr_state, self.states = self._compute_states(grid)\n",
    "        self.nS = len(self.states)\n",
    "        self.absorbing_state_idx = self.nS-1\n",
    "        # states_to_idx: Maps state feature (dim=K) to its index(0-N) in the self.states list\n",
    "        # For reverse mapping we can simply use self.states as it gives state features at a given index\n",
    "        self.states_to_idx = dict(zip(self.states, range(self.nS)))\n",
    "        self.nA = len(self.actions)\n",
    "        self.gamma = gamma\n",
    "        self.R = np.asarray([self.reward(s_idx) for s_idx in range(self.nS)]) # f(S)\n",
    "        self.T = self.compute_dynamics(self.nS, self.nA, self.R) # f(S, A, S')\n",
    "        self.mdp_transitions = self.compute_mdp_transitions(self.nS, self.nA, self.R)\n",
    "        \n",
    "        # Add class attribute for action strings which evaluates to action index\n",
    "        for i, a_name in enumerate(self.actions_name):\n",
    "            setattr(type(self), a_name, i)\n",
    "            \n",
    "        # For visualization purpose\n",
    "        self.silent = silent\n",
    "        if not self.silent: print(self.get_state_representation_2d(self.curr_state))\n",
    "            \n",
    "    def _compute_states(self, grid, feature_type='2d_loc'):\n",
    "        \"\"\"\n",
    "        Returns: Computes number of states in the grid world.\n",
    "        Input: \n",
    "            grid: grid description as python 2d array of strings (Ref: book_grid)\n",
    "        \"\"\"\n",
    "        states = []\n",
    "        for row in range(self.height): #[::-1]: # all rows, reverse order so that 0th state is (0,0)\n",
    "            for col in range(self.width): # all cols\n",
    "                \n",
    "                # State feature is simply (row#, col#)\n",
    "                state_feat1, state_feat2 = row, col\n",
    "                # Walls act like obstacles, and bumping into them won't change state (for now)\n",
    "                if grid[row][col] != self.MARKER_WALL:\n",
    "                    if grid[row][col] == self.MARKER_CURR_STATE:\n",
    "                        if feature_type == '2d_loc':\n",
    "                            init_state = (state_feat1, state_feat2)\n",
    "                        else:\n",
    "                            raise ValueError(\"Not Supported feature_type={}!\".format(feature_type))\n",
    "                    states.append((state_feat1, state_feat2))\n",
    "        \n",
    "        # The absorbing state\n",
    "        states.append((-100,-100))\n",
    "        return init_state, states\n",
    "    \n",
    "    def _is_terminal(self, s_idx):\n",
    "        \"\"\"\n",
    "        Returns: boolean representing whether a state represented by its index is a terminal\n",
    "            As per current model, this will be True for grid cells with integer reward value\n",
    "        \"\"\"\n",
    "        r, c = self.states[s_idx]\n",
    "        return isinstance(self.grid[r][c], int) or isinstance(self.grid[r][c], float)\n",
    "    \n",
    "    def reward(self, s_idx):\n",
    "        \n",
    "        if s_idx == self.nS-1:\n",
    "            return 0\n",
    "        r, c = self.states[s_idx]\n",
    "        if isinstance(self.grid[r][c], int) or isinstance(self.grid[r][c], float):\n",
    "            return float(self.grid[r][c])\n",
    "        else:\n",
    "            return self.living_reward\n",
    "        \n",
    "    def stochastic_action(self, a_idx):\n",
    "        return np.random.choice([a_idx-1, a_idx, (a_idx+1)%self.nA], p=self.action_noise_dist)\n",
    "    \n",
    "    def next_states_with_probs(self, s_idx, a_idx):\n",
    "        \"\"\"\n",
    "        Returns: Returns (next states, probabilities next states) for given state and stochastic action\n",
    "        \"\"\"\n",
    "        assert(len(self.action_noise_dist) == 3)\n",
    "        \n",
    "        state_primes_to_probs = {}\n",
    "        r, c = self.states[s_idx]\n",
    "        for j, noisy_a_idx in enumerate([a_idx-1, a_idx, (a_idx+1)%self.nA]): # hard coded for len(self.action_noise_dist) == 3\n",
    "            \n",
    "            dr, dc = self.actions[noisy_a_idx]\n",
    "            p = self.action_noise_dist[j]\n",
    "            new_r, new_c = r+dr, c+dc\n",
    "            if new_r < 0 or new_r >= self.height \\\n",
    "                or new_c < 0 or new_c >= self.width \\\n",
    "                or self.grid[new_r][new_c] == self.MARKER_WALL:\n",
    "                    new_r, new_c = r, c\n",
    "                    \n",
    "            if self.states_to_idx[(new_r, new_c)] in state_primes_to_probs:\n",
    "                state_primes_to_probs[self.states_to_idx[(new_r, new_c)]] += p\n",
    "            else:\n",
    "                state_primes_to_probs[self.states_to_idx[(new_r, new_c)]] = p\n",
    "            \n",
    "        return state_primes_to_probs.items()\n",
    "    \n",
    "    def compute_dynamics(self, nS, nA, R):\n",
    "        \n",
    "        absorbing_state_idx = nS-1\n",
    "        T = np.zeros((nS, nA, nS))\n",
    "        \n",
    "        for s_idx in range(nS): # no transitions from absorbing state\n",
    "            for a_idx in range(nA):\n",
    "                \n",
    "                if s_idx == absorbing_state_idx:\n",
    "                    T[s_idx, a_idx, absorbing_state_idx] = 1.\n",
    "                elif self._is_terminal(s_idx):\n",
    "                    T[s_idx, a_idx, absorbing_state_idx] = 1.\n",
    "                else:\n",
    "                    for k, (s_prime_idx, next_p) in enumerate(self.next_states_with_probs(s_idx, a_idx)):\n",
    "                        T[s_idx, a_idx][s_prime_idx] = next_p\n",
    "        return T\n",
    "    \n",
    "    def compute_mdp_transitions(self, nS, nA, R):\n",
    "        \"\"\"\n",
    "        Computes and Returns: MDP Transitions T{s}{a} = (p, s_prime, r, done) for all s, a, s_prime\n",
    "        \"\"\"\n",
    "        mdp = {}\n",
    "        absorbing_state_idx = nS-1\n",
    "        \n",
    "        for s_idx in range(nS-1): # no transitions from absorbing state\n",
    "        \n",
    "            mdp[s_idx] = {}\n",
    "            for a_idx in range(nA):\n",
    "                if self._is_terminal(s_idx):\n",
    "                    # Terminal state reward is achieved on transitioning to absorbing state\n",
    "                    mdp[s_idx][a_idx] = [(1., absorbing_state_idx, R[s_idx], False)] \n",
    "                else:\n",
    "                    mdp[s_idx][a_idx] = []\n",
    "                    for k, (s_prime_idx, next_p) in enumerate(self.next_states_with_probs(s_idx, a_idx)):\n",
    "                        mdp[s_idx][a_idx].append((next_p, s_prime_idx, R[s_idx], False)) # theoretically it's reward(s_prime_idx)\n",
    "        \n",
    "        # Absorbing state\n",
    "        mdp[absorbing_state_idx] = {a_idx: [(1., absorbing_state_idx, 0., True)] for a_idx in range(nA)}\n",
    "        return mdp\n",
    "    \n",
    "    def get_transition_dynamics_T(self):\n",
    "        \"\"\"\n",
    "        Returns: 3D MDP transition dynamics T[s, a, s']\n",
    "        \"\"\"\n",
    "        return self.T.copy()\n",
    "        \n",
    "    def __get_optimal_policy(self):\n",
    "        \"\"\"\n",
    "        Returns: Optimal Policy Pi(s) for all s\n",
    "        \"\"\"\n",
    "        if 'vi_results' not in dir(self):\n",
    "            self.vi_results = run_value_iteration(self.T, self.R, self.gamma)\n",
    "            \n",
    "        return np.asarray(self.vi_results.policy).copy()\n",
    "        \n",
    "    def get_possible_actions(self, s_idx):\n",
    "        \n",
    "        if self._is_terminal(s_idx):\n",
    "            return None\n",
    "        \n",
    "        return self.actions.copy()\n",
    "    \n",
    "    def get_state_features_matrix(self):\n",
    "        \"\"\"\n",
    "        Returns: State feature matrix of size N x K, N is number of states and K is dimensionality of state features\n",
    "        \"\"\"\n",
    "        return np.asarray(self.states).copy()\n",
    "    \n",
    "    def move(self, a_idx):\n",
    "        \"\"\"\n",
    "        Takes stochastic action speified by a_idx in curr_state of the object and modifies curr_state with the resulting state\n",
    "        \"\"\"\n",
    "        s_idx = self.states_to_idx[self.curr_state]\n",
    "        s_prime_idx = self.act(s_idx, a_idx)\n",
    "        self.curr_state = self.states[s_prime_idx]\n",
    "        if not self.silent: print(self.get_state_representation_2d(self.curr_state))\n",
    "\n",
    "    def act(self, s_idx, a_idx):\n",
    "        \"\"\"\n",
    "        Returns: the next state index from executing stochastic a_idx in s_idx\n",
    "        \"\"\"\n",
    "        a_idx = self.stochastic_action(a_idx)\n",
    "        s_prime_idx = np.random.choice(range(self.nS), p=self.T[s_idx, a_idx])\n",
    "        return s_prime_idx\n",
    "    \n",
    "    def sample_trajectories(self, M, init_state_idx=\"random\", max_length=100, Pi=\"optimal\", padding=True):\n",
    "        \"\"\"\n",
    "        Samples and returns T trajectories of the form \n",
    "            [ [(s0_0, a0_0, r0_0), ..., (s0_T, a0_T, r0_T)], [(s1_0, a1_0, r1_0), ..., (s1_T, a1_T, r1_T)], \n",
    "                                                ... [(sM_0, aM_0, rM_0), ..., (sM_T, aM_T, rM_T)]]\n",
    "        Input:\n",
    "            M: # of trajectories to be sampled\n",
    "            init_state_idx: initial state s0, if assigned \"random\" it'll randomly sample starting state\n",
    "            max_length: maximum length of the trajectory\n",
    "            padding: If trajectory (walk over DAG) terminates before encountering max_length states, it'll pad the last (s,a,r)\n",
    "            Pi: Policy. Mapping of state_idx to action_idx of size N, where N is number of states.\n",
    "            \n",
    "        \"\"\"\n",
    "        tau_list = []\n",
    "        \n",
    "        for _ in range(M):\n",
    "            tau_list.append(self.sample_trajectory(init_state_idx, max_length, Pi, padding))\n",
    "        return tau_list\n",
    "    \n",
    "    def sample_trajectory(self, init_state_idx=\"random\", max_length=100, Pi=\"optimal\", behavior_optimality=0.8, padding=True):\n",
    "        \"\"\"\n",
    "        Samples a trajectory of the form [(s0, a0, r0), ..., (sT, aT, rT)]\n",
    "        Input:\n",
    "            init_state_idx: initial state s0, if assigned \"random\" it'll randomly sample starting state\n",
    "            max_length: maximum length of the trajectory\n",
    "            padding: If trajectory (walk over DAG) terminates before encountering max_length states, it'll pad the last (s,a,r)\n",
    "            Pi: Policy. Mapping of state_idx to action_idx of size N, where N is number of states.\n",
    "                Two special values:\n",
    "                    - \"random\" will initialize a random policy\n",
    "                    - \"optimal\" will use the optimal policy for the given MDP (currently using policy iteration)\n",
    "        \"\"\"\n",
    "        tau = []\n",
    "        absorbing_state_idx = self.nS-1\n",
    "        \n",
    "        if init_state_idx == \"random\":\n",
    "            s_idx = np.random.randint(self.nS-1)\n",
    "        else:\n",
    "            s_idx = init_state_idx\n",
    "            \n",
    "        if Pi == \"random\":    \n",
    "            Pi = np.random.choice(self.nA, size=self.nS-1)\n",
    "        elif Pi == \"optimal\":\n",
    "            Pi = self.__get_optimal_policy()\n",
    "        else:\n",
    "            pass\n",
    "        \n",
    "        for i in range(max_length):\n",
    "            \n",
    "            if behavior_optimality < 1:\n",
    "                if np.random.random() <= behavior_optimality:\n",
    "                    a_idx = Pi[s_idx]\n",
    "                else:\n",
    "                    a_idx = np.random.choice(self.nA)\n",
    "            else:\n",
    "                a_idx = Pi[s_idx]\n",
    "                \n",
    "            s_prime_idx = self.act(s_idx, a_idx)\n",
    "            tau.append((s_idx, a_idx, self.reward(s_prime_idx)))\n",
    "            if s_prime_idx == absorbing_state_idx: #self._is_terminal(s_idx):\n",
    "                # Reached terminal state, terminate trajectory here\n",
    "                break\n",
    "            s_idx = s_prime_idx\n",
    "        \n",
    "        if padding:\n",
    "            for j in range(i, max_length):\n",
    "                tau.append((s_idx, a_idx, self.reward(s_prime_idx)))\n",
    "        return tau\n",
    "    \n",
    "    def interpret_trajectory(self, tau):\n",
    "        \n",
    "        for (s_idx, a_idx, r) in tau:\n",
    "            print(\"s:\")\n",
    "            print(self.get_state_representation_2d(self.states[s_idx]))\n",
    "            print(\"a: \", self.actions_name[a_idx])\n",
    "            print(\"r: \", r) # Note: this is current state reward\n",
    "    \n",
    "    def disp_custom_grid(self, state_values, formatting=lambda x: \"{:+.3f}\".format(x)):\n",
    "        \n",
    "        \"\"\"\n",
    "        Returns: state_values representation of states\n",
    "        Input: state_values associated with each state\n",
    "        \"\"\"\n",
    "        self.state_values_dict = {self.states[i]: state_values[i] for i in range(self.nS)}\n",
    "        \n",
    "        msg = ''\n",
    "        cell_filler = \"_\"\n",
    "        grid = self.grid\n",
    "        for r in range(self.height):\n",
    "            for c in range(self.width):\n",
    "                if grid[r][c] != self.MARKER_WALL:\n",
    "                    tt = formatting(self.state_values_dict[(r,c)])\n",
    "                else: # Values of unreachable states (Walls) are 0\n",
    "                    tt = str(np.float(\"-inf\"))\n",
    "                msg += tt + \"\\t\" #\"{txt:{fill}^5s}\".format(txt=tt, fill=cell_filler)\n",
    "            msg += \"\\n\"\n",
    "        print(msg)\n",
    "        \n",
    "    def get_state_representation_2d(self, state):\n",
    "        \n",
    "        msg = ''\n",
    "        cell_filler = \"_\"\n",
    "        grid = self.grid\n",
    "        curr_r, curr_c = state\n",
    "        for r in range(self.height):\n",
    "            for c in range(self.width):\n",
    "                if r == curr_r and c == curr_c:\n",
    "                    tt = self.MARKER_CURR_STATE\n",
    "                elif grid[r][c] == self.MARKER_FREE_SPACE\\\n",
    "                    or (grid[r][c] == self.MARKER_CURR_STATE and (r != curr_r or c != curr_c)):\n",
    "                    tt = cell_filler\n",
    "                else:\n",
    "                    if isinstance(grid[r][c], int) or isinstance(grid[r][c], float):\n",
    "                        tt = \"{:+d}\".format(grid[r][c])\n",
    "                    else:\n",
    "                        tt = grid[r][c]\n",
    "                msg += \"{txt:{fill}^5s}\\t\".format(txt=tt, fill=cell_filler)\n",
    "            msg += \"\\n\"\n",
    "        return msg\n",
    "    \n",
    "    def __str__(self):\n",
    "        return self.get_state_representation_2d(self.curr_state)"
   ]
  },
  {
   "cell_type": "code",
   "execution_count": 65,
   "metadata": {},
   "outputs": [
    {
     "name": "stdout",
     "output_type": "stream",
     "text": [
      "_____\t_____\t_____\t+100_\t\n",
      "_____\t__#__\t_____\t-100_\t\n",
      "__@__\t_____\t_____\t_____\t\n",
      "\n"
     ]
    }
   ],
   "source": [
    "gw = GridWorld(book_grid, action_noise_dist=[0.1,0.8,0.1], silent=False)"
   ]
  },
  {
   "cell_type": "code",
   "execution_count": 66,
   "metadata": {},
   "outputs": [
    {
     "name": "stdout",
     "output_type": "stream",
     "text": [
      "_____\t_____\t_____\t+100_\t\n",
      "__@__\t__#__\t_____\t-100_\t\n",
      "_____\t_____\t_____\t_____\t\n",
      "\n"
     ]
    }
   ],
   "source": [
    "gw.move(GridWorld.North)"
   ]
  },
  {
   "cell_type": "code",
   "execution_count": 67,
   "metadata": {},
   "outputs": [
    {
     "data": {
      "text/plain": [
       "array([[0.9, 0.1, 0. , 0. , 0. , 0. , 0. , 0. , 0. , 0. , 0. , 0. ],\n",
       "       [0.1, 0.8, 0. , 0. , 0.1, 0. , 0. , 0. , 0. , 0. , 0. , 0. ],\n",
       "       [0.1, 0.1, 0. , 0. , 0.8, 0. , 0. , 0. , 0. , 0. , 0. , 0. ],\n",
       "       [0.9, 0. , 0. , 0. , 0.1, 0. , 0. , 0. , 0. , 0. , 0. , 0. ]])"
      ]
     },
     "execution_count": 67,
     "metadata": {},
     "output_type": "execute_result"
    }
   ],
   "source": [
    "# print(gw.mdp.transitions[:, :, :]) # A x S x S'\n",
    "# print(gw.T)\n",
    "gw.T[0] # S X A X (P(s'), s', R(s'), Done)"
   ]
  },
  {
   "cell_type": "code",
   "execution_count": 68,
   "metadata": {},
   "outputs": [
    {
     "name": "stdout",
     "output_type": "stream",
     "text": [
      "States (fused into a single grid-bc it's possible to do so here):\n",
      "0\t1\t2\t3\t\n",
      "4\t-inf\t5\t6\t\n",
      "7\t8\t9\t10\t\n",
      "\n"
     ]
    }
   ],
   "source": [
    "print(\"States (fused into a single grid-bc it's possible to do so here):\")\n",
    "gw.disp_custom_grid(range(gw.nS), formatting=lambda x: str(x))"
   ]
  },
  {
   "cell_type": "code",
   "execution_count": 69,
   "metadata": {},
   "outputs": [],
   "source": [
    "vi = run_value_iteration(gw.get_transition_dynamics_T(), gw.R, gw.gamma)"
   ]
  },
  {
   "cell_type": "code",
   "execution_count": 70,
   "metadata": {},
   "outputs": [
    {
     "name": "stdout",
     "output_type": "stream",
     "text": [
      "95.12\t96.48\t97.71\t100.00\t\n",
      "93.92\t-inf\t89.38\t-100.00\t\n",
      "92.59\t91.42\t90.17\t81.81\t\n",
      "\n"
     ]
    }
   ],
   "source": [
    "gw.disp_custom_grid(vi.V, formatting=lambda x: \"{:.2f}\".format(x))"
   ]
  },
  {
   "cell_type": "code",
   "execution_count": 71,
   "metadata": {},
   "outputs": [
    {
     "name": "stdout",
     "output_type": "stream",
     "text": [
      "Policy:\n",
      "East\tEast\tEast\tNorth\t\n",
      "North\t-inf\tWest\tNorth\t\n",
      "North\tWest\tWest\tSouth\t\n",
      "\n"
     ]
    }
   ],
   "source": [
    "print(\"Policy:\")\n",
    "gw.disp_custom_grid(vi.policy, lambda x: \"{:}\".format(gw.actions_name[x]))"
   ]
  },
  {
   "cell_type": "markdown",
   "metadata": {},
   "source": [
    "## Sampling Trajectories"
   ]
  },
  {
   "cell_type": "code",
   "execution_count": 72,
   "metadata": {},
   "outputs": [
    {
     "name": "stdout",
     "output_type": "stream",
     "text": [
      "[(10, 2, -0.01), (10, 0, -100.0), (6, 0, 0), (6, 0, 0), (6, 0, 0), (6, 0, 0)]\n"
     ]
    }
   ],
   "source": [
    "tau = gw.sample_trajectory(max_length=5)\n",
    "print(tau)"
   ]
  },
  {
   "cell_type": "code",
   "execution_count": 73,
   "metadata": {},
   "outputs": [
    {
     "name": "stdout",
     "output_type": "stream",
     "text": [
      "s:\n",
      "_____\t_____\t_____\t+100_\t\n",
      "_____\t__#__\t_____\t-100_\t\n",
      "_____\t_____\t_____\t__@__\t\n",
      "\n",
      "a:  South\n",
      "r:  -0.01\n",
      "s:\n",
      "_____\t_____\t_____\t+100_\t\n",
      "_____\t__#__\t_____\t-100_\t\n",
      "_____\t_____\t_____\t__@__\t\n",
      "\n",
      "a:  North\n",
      "r:  -100.0\n",
      "s:\n",
      "_____\t_____\t_____\t+100_\t\n",
      "_____\t__#__\t_____\t__@__\t\n",
      "_____\t_____\t_____\t_____\t\n",
      "\n",
      "a:  North\n",
      "r:  0\n",
      "s:\n",
      "_____\t_____\t_____\t+100_\t\n",
      "_____\t__#__\t_____\t__@__\t\n",
      "_____\t_____\t_____\t_____\t\n",
      "\n",
      "a:  North\n",
      "r:  0\n",
      "s:\n",
      "_____\t_____\t_____\t+100_\t\n",
      "_____\t__#__\t_____\t__@__\t\n",
      "_____\t_____\t_____\t_____\t\n",
      "\n",
      "a:  North\n",
      "r:  0\n",
      "s:\n",
      "_____\t_____\t_____\t+100_\t\n",
      "_____\t__#__\t_____\t__@__\t\n",
      "_____\t_____\t_____\t_____\t\n",
      "\n",
      "a:  North\n",
      "r:  0\n"
     ]
    }
   ],
   "source": [
    "gw.interpret_trajectory(tau)"
   ]
  },
  {
   "cell_type": "code",
   "execution_count": 74,
   "metadata": {},
   "outputs": [
    {
     "name": "stdout",
     "output_type": "stream",
     "text": [
      "T000: [(4, 0, -0.01), (0, 1, -0.01), (1, 1, -0.01), (1, 1, -0.01), (2, 1, 100.0), (3, 0, 0), (3, 0, 0), (3, 0, 0), (3, 0, 0), (3, 0, 0), (3, 0, 0), (3, 0, 0), (3, 0, 0), (3, 0, 0), (3, 0, 0), (3, 0, 0), (3, 0, 0), (3, 0, 0), (3, 0, 0), (3, 0, 0), (3, 0, 0)]\n",
      "T001: [(8, 3, -0.01), (7, 0, -0.01), (7, 0, -0.01), (7, 0, -0.01), (4, 0, -0.01), (0, 1, -0.01), (4, 0, -0.01), (4, 0, -0.01), (4, 0, -0.01), (0, 1, -0.01), (0, 1, -0.01), (1, 1, -0.01), (2, 1, -0.01), (5, 3, -0.01), (2, 1, -0.01), (2, 1, 100.0), (3, 0, 0), (3, 0, 0), (3, 0, 0), (3, 0, 0), (3, 0, 0)]\n",
      "T002: [(0, 1, -0.01), (1, 1, -0.01), (2, 1, 100.0), (3, 0, 0), (3, 0, 0), (3, 0, 0), (3, 0, 0), (3, 0, 0), (3, 0, 0), (3, 0, 0), (3, 0, 0), (3, 0, 0), (3, 0, 0), (3, 0, 0), (3, 0, 0), (3, 0, 0), (3, 0, 0), (3, 0, 0), (3, 0, 0), (3, 0, 0), (3, 0, 0)]\n",
      "T003: [(0, 1, -0.01), (4, 0, -0.01), (0, 1, -0.01), (1, 1, -0.01), (2, 1, 100.0), (3, 0, 0), (3, 0, 0), (3, 0, 0), (3, 0, 0), (3, 0, 0), (3, 0, 0), (3, 0, 0), (3, 0, 0), (3, 0, 0), (3, 0, 0), (3, 0, 0), (3, 0, 0), (3, 0, 0), (3, 0, 0), (3, 0, 0), (3, 0, 0)]\n",
      "T004: [(0, 1, -0.01), (1, 1, -0.01), (1, 1, -0.01), (0, 1, -0.01), (1, 1, -0.01), (2, 1, 100.0), (3, 0, 0), (3, 0, 0), (3, 0, 0), (3, 0, 0), (3, 0, 0), (3, 0, 0), (3, 0, 0), (3, 0, 0), (3, 0, 0), (3, 0, 0), (3, 0, 0), (3, 0, 0), (3, 0, 0), (3, 0, 0), (3, 0, 0)]\n",
      "T005: [(2, 1, 100.0), (3, 0, 0), (3, 0, 0), (3, 0, 0), (3, 0, 0), (3, 0, 0), (3, 0, 0), (3, 0, 0), (3, 0, 0), (3, 0, 0), (3, 0, 0), (3, 0, 0), (3, 0, 0), (3, 0, 0), (3, 0, 0), (3, 0, 0), (3, 0, 0), (3, 0, 0), (3, 0, 0), (3, 0, 0), (3, 0, 0)]\n",
      "T006: [(8, 3, -0.01), (8, 3, -0.01), (8, 3, -0.01), (7, 0, -0.01), (4, 0, -0.01), (0, 1, -0.01), (1, 1, -0.01), (2, 1, 100.0), (3, 0, 0), (3, 0, 0), (3, 0, 0), (3, 0, 0), (3, 0, 0), (3, 0, 0), (3, 0, 0), (3, 0, 0), (3, 0, 0), (3, 0, 0), (3, 0, 0), (3, 0, 0), (3, 0, 0)]\n",
      "T007: [(10, 2, -0.01), (10, 2, -0.01), (10, 2, -0.01), (10, 2, -0.01), (9, 3, -0.01), (9, 3, -0.01), (9, 3, -0.01), (8, 3, -0.01), (7, 0, -0.01), (8, 3, -0.01), (8, 3, -0.01), (7, 0, -0.01), (4, 0, -0.01), (0, 1, -0.01), (1, 1, -0.01), (2, 1, -0.01), (2, 1, 100.0), (3, 0, 0), (3, 0, 0), (3, 0, 0), (3, 0, 0)]\n",
      "T008: [(5, 3, -0.01), (9, 3, -0.01), (8, 3, -0.01), (7, 0, -0.01), (4, 0, -0.01), (0, 1, -0.01), (4, 0, -0.01), (0, 1, -0.01), (1, 1, -0.01), (2, 1, 100.0), (3, 0, 0), (3, 0, 0), (3, 0, 0), (3, 0, 0), (3, 0, 0), (3, 0, 0), (3, 0, 0), (3, 0, 0), (3, 0, 0), (3, 0, 0), (3, 0, 0)]\n",
      "T009: [(4, 0, -0.01), (0, 1, -0.01), (4, 0, -0.01), (0, 1, -0.01), (0, 1, -0.01), (1, 1, -0.01), (2, 1, 100.0), (3, 0, 0), (3, 0, 0), (3, 0, 0), (3, 0, 0), (3, 0, 0), (3, 0, 0), (3, 0, 0), (3, 0, 0), (3, 0, 0), (3, 0, 0), (3, 0, 0), (3, 0, 0), (3, 0, 0), (3, 0, 0)]\n"
     ]
    }
   ],
   "source": [
    "tau_list = gw.sample_trajectories(10, max_length=20)\n",
    "for i, tau in enumerate(tau_list): print(\"T{:03d}: {}\".format(i, tau))"
   ]
  },
  {
   "cell_type": "markdown",
   "metadata": {},
   "source": [
    "## MDP ToolBox"
   ]
  },
  {
   "cell_type": "code",
   "execution_count": 14,
   "metadata": {},
   "outputs": [],
   "source": [
    "gw = GridWorld(book_grid, action_noise_dist=[0.1,0.8,0.1])\n",
    "initial_policy = np.random.choice(gw.nA, size=gw.nS)\n",
    "pi = mdptoolbox.mdp.ValueIteration(\n",
    "    gw.T.copy().transpose(1,0,2),\n",
    "    gw.R,\n",
    "    gw.gamma\n",
    ")\n",
    "# pi.setSilent()\n",
    "pi.run()"
   ]
  },
  {
   "cell_type": "code",
   "execution_count": 15,
   "metadata": {},
   "outputs": [
    {
     "name": "stdout",
     "output_type": "stream",
     "text": [
      "95.12\t96.48\t97.71\t100.00\t\n",
      "93.92\t-inf\t89.38\t-100.00\t\n",
      "92.59\t91.42\t90.17\t81.81\t\n",
      "\n"
     ]
    }
   ],
   "source": [
    "gw.disp_custom_grid(pi.V, lambda x: \"{:.2f}\".format(x))"
   ]
  },
  {
   "cell_type": "code",
   "execution_count": 16,
   "metadata": {},
   "outputs": [
    {
     "name": "stdout",
     "output_type": "stream",
     "text": [
      "East\tEast\tEast\tNorth\t\n",
      "North\t-inf\tWest\tNorth\t\n",
      "North\tWest\tWest\tSouth\t\n",
      "\n"
     ]
    }
   ],
   "source": [
    "gw.disp_custom_grid(pi.policy, lambda x: \"{:}\".format(gw.actions_name[x]))"
   ]
  },
  {
   "cell_type": "markdown",
   "metadata": {},
   "source": [
    "## MDP Visualization"
   ]
  },
  {
   "cell_type": "code",
   "execution_count": 17,
   "metadata": {},
   "outputs": [],
   "source": [
    "import pydot\n",
    "import networkx as nx\n",
    "from networkx.drawing.nx_agraph import write_dot\n",
    "import tempfile\n",
    "\n",
    "def disp_mdp(mdp_js, V):\n",
    "    \n",
    "    tmp_img = tempfile.mktemp()\n",
    "    G=nx.DiGraph()\n",
    "    for s in mdp_js['states']:\n",
    "        for a in s['actions']:\n",
    "            for t in a['transitions']:\n",
    "                ecolor='red' if a['id'] else 'green'\n",
    "                elabel='p={}, r={}'.format(round(t['probability'],4), t['reward'])\n",
    "                G.add_edge(s['id'], t['to'],\n",
    "                        color=ecolor,\n",
    "                        label=elabel)\n",
    "    \n",
    "    mapping = {g: str(g) + \", \" + str(g) for g in G}\n",
    "    # print(mapping)\n",
    "    G = nx.relabel_nodes(G,  mapping)\n",
    "    # print(G.nodes())\n",
    "    pos=nx.fruchterman_reingold_layout(G)\n",
    "    # nx.draw_networkx_edges(G,pos,width=8,alpha=0.5,edge_color='b')\n",
    "    # nx.draw(G,with_labels=True)\n",
    "    write_dot(G, tmp_img)\n",
    "    g = pydot.graph_from_dot_file(tmp_img)[0]\n",
    "    g.write_png(tmp_img)\n",
    "    img = plt.imread(tmp_img)\n",
    "\n",
    "    plt.figure(figsize=(30,20))\n",
    "    plt.imshow(img)\n",
    "    plt.axis(\"off\")"
   ]
  },
  {
   "cell_type": "code",
   "execution_count": 18,
   "metadata": {},
   "outputs": [
    {
     "data": {
      "image/png": "[encoded data removed]",
      "text/plain": [
       "<matplotlib.figure.Figure at 0x111fce080>"
      ]
     },
     "metadata": {},
     "output_type": "display_data"
    }
   ],
   "source": [
    "disp_mdp(create_MDP(gw.compute_mdp_transitions(gw.nS, gw.nA, gw.R), gw.gamma), pi.V)"
   ]
  },
  {
   "cell_type": "markdown",
   "metadata": {},
   "source": [
    "# Inferring rewards from suboptimal expert demonstrations\n",
    "\n",
    "**Inverse Reinfrocement Learning:**  \n",
    "In RL framework, reward is the most succinct representation of the state that governs the animal behavior. Once we know the reward for each state as well as dynamics, we can recover optimal behavior (policy) easily.  \n",
    "\n",
    "The key problem that inverse reinforcement learning tries to address is to infer reward function from the demonstrations. Once it is recovered (inferred), a machine can optimize over it and produce the desired behavior and hopefully transfer that knowledge efficiently to the new domains. To do this efficiently, we would ideally need optimal demonstrations performed by some expert, however, we cannot ignore suboptimality in the expert behavior. There are solid reasons why we must not ignore it. First, the ultimate objective is to help machine infer rewards and intentions of the people or species they are interacting with, so that they can not only clone the behavior but also transfer that knowledge and behave approximately similarly in different situations (domains). Most demonstrations will be performed by humans/animals who don't act optimally in every scenario (Add citations). Second, we have not yet succeeded in determining laws that govern all physical processes, so there's always inherent randomness and noise in any system that we must account for, the expectation of suboptimality also helps us sweep our ignorance under the rug for the time being while we are making progress towards being less ignorant.\n",
    "\n",
    "**Suboptimality in animal behavior:**\n",
    "\n",
    "TODO\n"
   ]
  },
  {
   "cell_type": "code",
   "execution_count": 19,
   "metadata": {},
   "outputs": [],
   "source": [
    "def q_values(v, nA, reward, T, gamma):\n",
    "    \n",
    "    nS = len(v)\n",
    "    Q = np.zeros((nS, nA))\n",
    "    for si in range(nS):\n",
    "        for ai in range(nA):\n",
    "            # Better stochastic model (Ziebart et al., 2010). Received from: https://youtu.be/iOYiPhu5GEk?t=33m56s.\n",
    "            # Q = expectation of (reward(next_state) + value(next_state)) over next_state\n",
    "            Q[si, ai] =  T[si, ai].dot(reward[si] + gamma*v)\n",
    "    Q -= Q.max(axis=1).reshape((nS,1)) # We'll use exp of this value for Beta (backward message) so for numeric stability we lower it's scale\n",
    "    return Q\n",
    "\n",
    "def get_v_from_q(Q, nS, nA):\n",
    "    \n",
    "    V = np.zeros((nS))\n",
    "    for si in range(nS):\n",
    "        for ai in range(nA):\n",
    "            V[si] += np.exp(Q[si, ai])\n",
    "    return np.log(V)"
   ]
  },
  {
   "cell_type": "code",
   "execution_count": 20,
   "metadata": {},
   "outputs": [],
   "source": [
    "vi = run_value_iteration(gw.T, gw.R, gw.gamma)\n",
    "Q = q_values(np.asarray(vi.V), gw.nA, gw.R, gw.T, gw.gamma)"
   ]
  },
  {
   "cell_type": "code",
   "execution_count": 21,
   "metadata": {},
   "outputs": [],
   "source": [
    "V = get_v_from_q(Q, gw.nS, gw.nA)"
   ]
  },
  {
   "cell_type": "code",
   "execution_count": 22,
   "metadata": {},
   "outputs": [],
   "source": [
    "def s_a_backward_message(Q,s,a):\n",
    "    return np.exp(Q[s,a])"
   ]
  },
  {
   "cell_type": "code",
   "execution_count": 23,
   "metadata": {},
   "outputs": [],
   "source": [
    "def s_only_backward_message(V,s):\n",
    "    return np.exp(V[s])"
   ]
  },
  {
   "cell_type": "code",
   "execution_count": 24,
   "metadata": {},
   "outputs": [
    {
     "data": {
      "text/plain": [
       "0.4377098995324904"
      ]
     },
     "execution_count": 24,
     "metadata": {},
     "output_type": "execute_result"
    }
   ],
   "source": [
    "s_a_backward_message(Q, 0, 0)"
   ]
  },
  {
   "cell_type": "code",
   "execution_count": 25,
   "metadata": {},
   "outputs": [
    {
     "data": {
      "text/plain": [
       "1.946781559623239"
      ]
     },
     "execution_count": 25,
     "metadata": {},
     "output_type": "execute_result"
    }
   ],
   "source": [
    "s_only_backward_message(V, 0)"
   ]
  },
  {
   "cell_type": "code",
   "execution_count": 28,
   "metadata": {},
   "outputs": [],
   "source": [
    "stochastic_policy = lambda a, s: s_a_backward_message(Q, s, a) / s_only_backward_message(V, s)\n",
    "pi = np.zeros((gw.nS, gw.nA))\n",
    "for s in range(gw.nS):\n",
    "    for a in range(gw.nA):\n",
    "        pi[s][a] = stochastic_policy(a,s)\n",
    "#         print(s, a, stochastic_policy(a,s))"
   ]
  },
  {
   "cell_type": "code",
   "execution_count": 29,
   "metadata": {},
   "outputs": [
    {
     "data": {
      "text/plain": [
       "array([1, 1, 1, 0, 0, 3, 0, 0, 3, 3, 2, 0])"
      ]
     },
     "execution_count": 29,
     "metadata": {},
     "output_type": "execute_result"
    }
   ],
   "source": [
    "pi.argmax(axis=1)"
   ]
  },
  {
   "cell_type": "code",
   "execution_count": 30,
   "metadata": {},
   "outputs": [
    {
     "data": {
      "text/plain": [
       "array([0.51366831, 0.5339523 , 0.67753521, 0.25      , 0.52644767,\n",
       "       0.99999785, 0.25      , 0.50651923, 0.51693151, 0.76630496,\n",
       "       0.99999497, 0.25      ])"
      ]
     },
     "execution_count": 30,
     "metadata": {},
     "output_type": "execute_result"
    }
   ],
   "source": [
    "pi.max(axis=1)"
   ]
  },
  {
   "cell_type": "code",
   "execution_count": 31,
   "metadata": {},
   "outputs": [
    {
     "name": "stdout",
     "output_type": "stream",
     "text": [
      "0\t1\t2\t3\t\n",
      "4\t-inf\t5\t6\t\n",
      "7\t8\t9\t10\t\n",
      "\n"
     ]
    }
   ],
   "source": [
    "gw.disp_custom_grid(range(gw.nS), formatting=lambda x: str(x))"
   ]
  },
  {
   "cell_type": "code",
   "execution_count": 32,
   "metadata": {},
   "outputs": [
    {
     "name": "stdout",
     "output_type": "stream",
     "text": [
      "East\tEast\tEast\tNorth\t\n",
      "North\t-inf\tWest\tNorth\t\n",
      "North\tWest\tWest\tSouth\t\n",
      "\n"
     ]
    }
   ],
   "source": [
    "gw.disp_custom_grid([gw.actions_name[a] for a in pi.argmax(axis=1)], formatting=lambda x: str(x))"
   ]
  },
  {
   "cell_type": "code",
   "execution_count": 33,
   "metadata": {},
   "outputs": [
    {
     "name": "stdout",
     "output_type": "stream",
     "text": [
      "0.51\t0.53\t0.68\t0.25\t\n",
      "0.53\t-inf\t1.00\t0.25\t\n",
      "0.51\t0.52\t0.77\t1.00\t\n",
      "\n"
     ]
    }
   ],
   "source": [
    "gw.disp_custom_grid(pi.max(axis=1), formatting=lambda x: \"{:.2f}\".format(x))"
   ]
  },
  {
   "cell_type": "code",
   "execution_count": 39,
   "metadata": {},
   "outputs": [],
   "source": [
    "def compute_stochastic_policy(nS, nA, R, T, gamma):\n",
    "    \n",
    "    vi = run_value_iteration(T, R, gamma)\n",
    "    Q = q_values(np.asarray(vi.V), nA, R, T, gamma)\n",
    "    V = get_v_from_q(Q, gw.nS, gw.nA)\n",
    "    pi = np.zeros((gw.nS, gw.nA))\n",
    "    \n",
    "    for s in range(gw.nS):\n",
    "        for a in range(gw.nA):\n",
    "            pi[s][a] = s_a_backward_message(Q, s, a) / s_only_backward_message(V, s)\n",
    "    return pi"
   ]
  },
  {
   "cell_type": "code",
   "execution_count": 40,
   "metadata": {},
   "outputs": [],
   "source": [
    "pi_s = compute_stochastic_policy(gw.nS, gw.nA, gw.R, gw.T, gw.gamma)"
   ]
  },
  {
   "cell_type": "code",
   "execution_count": 41,
   "metadata": {},
   "outputs": [
    {
     "data": {
      "text/plain": [
       "array([1., 1., 1., 1., 1., 1., 1., 1., 1., 1., 1., 1.])"
      ]
     },
     "execution_count": 41,
     "metadata": {},
     "output_type": "execute_result"
    }
   ],
   "source": [
    "pi_s.sum(axis=1)"
   ]
  },
  {
   "cell_type": "code",
   "execution_count": 44,
   "metadata": {},
   "outputs": [
    {
     "data": {
      "text/plain": [
       "array([[2.24837706e-01, 5.13668313e-01, 8.70242103e-02, 1.74469771e-01],\n",
       "       [1.98813720e-01, 5.33952304e-01, 1.98813720e-01, 6.84202554e-02],\n",
       "       [2.80341336e-01, 6.77535211e-01, 3.81308368e-04, 4.17421447e-02],\n",
       "       [2.50000000e-01, 2.50000000e-01, 2.50000000e-01, 2.50000000e-01],\n",
       "       [5.26447671e-01, 2.01175484e-01, 7.12013611e-02, 2.01175484e-01],\n",
       "       [2.14559100e-06, 7.26383313e-66, 5.48018932e-09, 9.99997849e-01],\n",
       "       [2.50000000e-01, 2.50000000e-01, 2.50000000e-01, 2.50000000e-01],\n",
       "       [5.06519227e-01, 8.99118406e-02, 1.76993809e-01, 2.26575124e-01],\n",
       "       [2.03442023e-01, 7.61844460e-02, 2.03442023e-01, 5.16931508e-01],\n",
       "       [8.10737512e-02, 3.77463352e-04, 1.52243827e-01, 7.66304958e-01],\n",
       "       [2.91649122e-63, 6.65941741e-09, 9.99994972e-01, 5.02101741e-06],\n",
       "       [2.50000000e-01, 2.50000000e-01, 2.50000000e-01, 2.50000000e-01]])"
      ]
     },
     "execution_count": 44,
     "metadata": {},
     "output_type": "execute_result"
    }
   ],
   "source": [
    "pi_s"
   ]
  },
  {
   "cell_type": "markdown",
   "metadata": {},
   "source": [
    "# MaxEntropy IRL"
   ]
  },
  {
   "cell_type": "code",
   "execution_count": null,
   "metadata": {},
   "outputs": [],
   "source": []
  },
  {
   "cell_type": "markdown",
   "metadata": {},
   "source": [
    "## Feature Expectations"
   ]
  },
  {
   "cell_type": "code",
   "execution_count": 82,
   "metadata": {},
   "outputs": [],
   "source": [
    "def compute_feature_expectations(trajectories, state_idx_to_features, gamma=1.):\n",
    "    \n",
    "    \"\"\"\n",
    "    Computes and returns: μ(π) from trajectories\n",
    "    The expectation is taken with respect to the random state sequence s0, s1, ... drawn by starting from a state s0 ∼ D, \n",
    "    and picking actions according to unknown π.\n",
    "    \n",
    "    Input:\n",
    "        trajectories: 3D numpy matrix of size M x T x 3, where M is number of trajectories, \n",
    "                        T is fixed length of the trajectory (padded with last state if terminated early), 3 is for (s, a, r)\n",
    "        state_idx_to_features: 2D numpy matrix mapping state index to its features of size N x K, \n",
    "                        N is total # of known states and K is its feature dimensionality\n",
    "    \"\"\"\n",
    "    nS, dimS = state_idx_to_features.shape\n",
    "    feature_expectations = np.zeros((dimS,))\n",
    "    for trajectory in trajectories:\n",
    "        for i, (s_idx, a_idx, s_prime_idx) in enumerate(trajectory): # we ignore rewards because that's assumed to be unknown\n",
    "            if s_prime_idx == nS-1:\n",
    "                break\n",
    "            feature_i = state_idx_to_features[s_idx]\n",
    "            # Assuming R is a linear combination of known features of the state s, R(s) = w . Phi(s)\n",
    "            feature_expectations += (gamma**i)*feature_i\n",
    "    \n",
    "    return feature_expectations / trajectories.shape[0]\n"
   ]
  },
  {
   "cell_type": "code",
   "execution_count": 101,
   "metadata": {},
   "outputs": [],
   "source": [
    "gw = GridWorld(book_grid, gamma=.99, action_noise_dist=[0.2, 0.6, 0.2])\n",
    "trajectories_mat = np.asarray(gw.sample_trajectories(10000, max_length=50), dtype=np.int)"
   ]
  },
  {
   "cell_type": "code",
   "execution_count": 102,
   "metadata": {},
   "outputs": [
    {
     "data": {
      "text/plain": [
       "array([17.54232962, 97.98032089])"
      ]
     },
     "execution_count": 102,
     "metadata": {},
     "output_type": "execute_result"
    }
   ],
   "source": [
    "compute_feature_expectations(trajectories_mat, gw.get_state_features_matrix(), gamma=gw.gamma)"
   ]
  },
  {
   "cell_type": "markdown",
   "metadata": {},
   "source": [
    "## State Visitation Frequency\n",
    "Forward pass"
   ]
  },
  {
   "cell_type": "code",
   "execution_count": 103,
   "metadata": {},
   "outputs": [],
   "source": [
    "def compute_state_visitation_frequency(trajectories, nS, nA, dynamics_T, R, gamma):\n",
    "    \"\"\"\n",
    "    Computes state visitation frequency using forward algorithm, uses DP algorithm from Zeibart et. al (2008).\n",
    "    \n",
    "    p(s, t+1) = sum_s' sum_a ( p(s', t-1) * p(a|s') * p(s|s', a))\n",
    "    i.e., Prob. of being in state at time t+1 = sum over all prev state and actions ( \n",
    "                                            probability of being in prev state at time t-1 * probability of taking action a in prev state \n",
    "                                            * transition dynamics (state | prev state, action))\n",
    "    The problem is we don't know p(s) at any time, so we start from p(s0) which can be easily computed from seeing first state of trajectories\n",
    "    and dividing by number of trajectories (M). Once we have p(s,0) for all s, we can build up p(s,t) using DP. Iteratively compute p(s,t+1) \n",
    "    from previously computed p(s, t-1), all we need is policy that affects the state evolution along with dynamics for stochastic actions.  \n",
    "    \n",
    "    Ref: DPV chapter 7 on DP\n",
    "    \"\"\"\n",
    "    \n",
    "    M, T, _ = trajectories.shape\n",
    "    state_idxs = range(nS)\n",
    "    action_idxs = range(nA)\n",
    "    \n",
    "    # compute stochastic policy\n",
    "    policy = compute_stochastic_policy(nS, nA, R, dynamics_T, gamma)\n",
    "    \n",
    "    init_state_idxs = trajectories[:,0,0] # take first visited state from all trajectories\n",
    "    t0_visitation_count, _ = np.histogram(init_state_idxs, bins=range(nS+1))\n",
    "    mu_0_s = t0_visitation_count / float(M) # mu_0_s = p(s0 = s), consider s1 and mu_1 if you're a 1 based indexing fan\n",
    "    mu_t_s = np.zeros((T, nS))\n",
    "    mu_t_s[0, :] = mu_0_s\n",
    "    \n",
    "    for t in range(1,T):\n",
    "        for s_idx in state_idxs:\n",
    "            for a_idx in action_idxs:\n",
    "                for s_prime_idx in state_idxs:\n",
    "                    mu_t_s[t, s_idx] += mu_t_s[t-1, s_prime_idx] * policy[s_idx][a_idx] * dynamics_T[s_idx, a_idx, s_prime_idx]\n",
    "    return mu_t_s.sum(axis=0)"
   ]
  },
  {
   "cell_type": "code",
   "execution_count": 104,
   "metadata": {},
   "outputs": [
    {
     "data": {
      "text/plain": [
       "array([1.38703021, 0.98690033, 0.6362919 , 0.09      , 1.69905456,\n",
       "       1.58912129, 0.0852    , 2.03826731, 2.22833818, 2.11154386,\n",
       "       2.5255855 , 0.        ])"
      ]
     },
     "execution_count": 104,
     "metadata": {},
     "output_type": "execute_result"
    }
   ],
   "source": [
    "svf = compute_state_visitation_frequency(trajectories_mat, gw.nS, gw.nA, gw.get_transition_dynamics_T(), gw.R, gw.gamma)\n",
    "svf"
   ]
  },
  {
   "cell_type": "code",
   "execution_count": 105,
   "metadata": {},
   "outputs": [
    {
     "name": "stdout",
     "output_type": "stream",
     "text": [
      "1.39\t0.99\t0.64\t0.09\t\n",
      "1.70\t-inf\t1.59\t0.09\t\n",
      "2.04\t2.23\t2.11\t2.53\t\n",
      "\n"
     ]
    }
   ],
   "source": [
    "gw.disp_custom_grid(svf, formatting=lambda x: \"{:.2f}\".format(x))"
   ]
  },
  {
   "cell_type": "code",
   "execution_count": 106,
   "metadata": {},
   "outputs": [],
   "source": [
    "def max_ent_irl(trajectories, state_idx_to_features, gamma, nA, dynamics_T, n_epochs, alpha):\n",
    "    \n",
    "    nS, dimS = gw.get_state_features_matrix().shape\n",
    "    \n",
    "    # initialize weights\n",
    "    theta = np.random.uniform(size=(dimS,))\n",
    "    \n",
    "    # calculate expert feature expectations\n",
    "    phi_tilde_obs = compute_feature_expectations(trajectories, state_idx_to_features, gamma) \n",
    "    \n",
    "    # run gradient descent on theta to minimize difference between observed feature expectations and \n",
    "    # state visitation frequency for current (evolving) reward (parameterized by theta and T) function\n",
    "    for i in range(n_epochs):\n",
    "        curr_R = state_idx_to_features.dot(theta)\n",
    "        svf = compute_state_visitation_frequency(trajectories, nS, nA, dynamics_T, curr_R, gamma)\n",
    "        grad = phi_tilde_obs - state_idx_to_features.T.dot(svf)\n",
    "        theta += alpha * grad\n",
    "    return state_idx_to_features.dot(theta).reshape((nS,))"
   ]
  },
  {
   "cell_type": "code",
   "execution_count": 107,
   "metadata": {},
   "outputs": [],
   "source": [
    "R = max_ent_irl(trajectories_mat, gw.get_state_features_matrix(), gw.gamma, gw.nA, gw.T, 10, 0.01)"
   ]
  },
  {
   "cell_type": "code",
   "execution_count": 108,
   "metadata": {},
   "outputs": [
    {
     "data": {
      "text/plain": [
       "array([   0.        ,    4.92332814,    9.84665628,   14.76998442,\n",
       "         -2.78028317,    7.06637311,   11.98970125,   -5.56056634,\n",
       "         -0.6372382 ,    4.28608994,    9.20941808, -214.30449679])"
      ]
     },
     "execution_count": 108,
     "metadata": {},
     "output_type": "execute_result"
    }
   ],
   "source": [
    "R"
   ]
  },
  {
   "cell_type": "code",
   "execution_count": 109,
   "metadata": {},
   "outputs": [
    {
     "name": "stdout",
     "output_type": "stream",
     "text": [
      "Recovered R:\n",
      "0.00\t4.92\t9.85\t14.77\t\n",
      "-2.78\t-inf\t7.07\t11.99\t\n",
      "-5.56\t-0.64\t4.29\t9.21\t\n",
      "\n"
     ]
    }
   ],
   "source": [
    "print(\"Recovered R:\")\n",
    "gw.disp_custom_grid(R, formatting=lambda x: \"{:.2f}\".format(x))"
   ]
  },
  {
   "cell_type": "code",
   "execution_count": 110,
   "metadata": {},
   "outputs": [
    {
     "name": "stdout",
     "output_type": "stream",
     "text": [
      "True R:\n",
      "-0.01\t-0.01\t-0.01\t100.00\t\n",
      "-0.01\t-inf\t-0.01\t-100.00\t\n",
      "-0.01\t-0.01\t-0.01\t-0.01\t\n",
      "\n"
     ]
    }
   ],
   "source": [
    "print(\"True R:\")\n",
    "gw.disp_custom_grid(gw.R, formatting=lambda x: \"{:.2f}\".format(x))"
   ]
  },
  {
   "cell_type": "markdown",
   "metadata": {},
   "source": [
    "## Reference\n",
    "\n",
    "1. Ziebart, Brian D., et al. \"Maximum Entropy Inverse Reinforcement Learning.\" AAAI. Vol. 8. 2008.\n",
    "2. Matthew Alger's MaxEnt implementation. https://github.com/MatthewJA/Inverse-Reinforcement-Learning"
   ]
  }
 ],
 "metadata": {
  "kernelspec": {
   "display_name": "littman_irl_python3",
   "language": "python",
   "name": "littman_irl_python3"
  },
  "language_info": {
   "codemirror_mode": {
    "name": "ipython",
    "version": 3
   },
   "file_extension": ".py",
   "mimetype": "text/x-python",
   "name": "python",
   "nbconvert_exporter": "python",
   "pygments_lexer": "ipython3",
   "version": "3.6.1"
  }
 },
 "nbformat": 4,
 "nbformat_minor": 2
}
