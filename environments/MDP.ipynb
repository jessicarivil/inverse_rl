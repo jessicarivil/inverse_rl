{
 "cells": [
  {
   "cell_type": "code",
   "execution_count": 238,
   "metadata": {},
   "outputs": [],
   "source": [
    "import math\n",
    "import numpy as np"
   ]
  },
  {
   "cell_type": "code",
   "execution_count": 239,
   "metadata": {},
   "outputs": [],
   "source": [
    "book_grid = [[' ',' ',' ',+10],\n",
    "            [' ','#',' ',-10],\n",
    "            ['@',' ',' ',' ']]\n",
    "\n",
    "class GridWorld(object):\n",
    "    \"\"\"\n",
    "    This is a nice approximation for all the complexity of the entire universe \n",
    "        –Charles Isbell\n",
    "    \"\"\"\n",
    "    MARKER_WALL = '#'\n",
    "    MARKER_CURR_STATE = '@'\n",
    "    MARKER_FREE_SPACE = ' '\n",
    "    \n",
    "    def __init__(self, grid=book_grid, living_reward=0.0, noise=0.1):\n",
    "        \n",
    "        \"\"\"\n",
    "        Returns a grid world with input specifications. \n",
    "        \n",
    "        Grid spec: '#' walls, '<int>' terminal state, 'S' initial position, ' ' free space\n",
    "        \"\"\"\n",
    "        \n",
    "        self.grid = grid\n",
    "        self.living_reward = living_reward\n",
    "        self.noise = noise\n",
    "        self.actions = (\"North\", \"East\", \"South\", \"West\")\n",
    "        self.n_actions = len(self.actions)\n",
    "        self.curr_state, self.states, self.states_feture_vec = self._compute_states(grid)\n",
    "        self.n_states = len(self.states)        \n",
    "        self.f_sj = lambda state: self.states_feture_vec[state]\n",
    "        self.feature_matrix = self.get_feature_matrix(self.states)\n",
    "    \n",
    "    def _compute_states(self, grid, feature_kind='2d_loc'):\n",
    "        \n",
    "        n = 0\n",
    "        curr_state = None\n",
    "        states = []\n",
    "        states_feture_vec = {}\n",
    "        for row in range(len(grid)):\n",
    "            for col in range(len(grid[row])):\n",
    "                if grid[row][col] != self.MARKER_WALL:\n",
    "                    if grid[row][col] == self.MARKER_CURR_STATE:\n",
    "                        curr_state = n\n",
    "                    states.append(n)\n",
    "                    if feature_kind == '2d_loc':\n",
    "                        states_feture_vec[n] = (row, col)\n",
    "                    n += 1\n",
    "        return curr_state, states, states_feture_vec\n",
    "    \n",
    "    def __is_terminal(self, state):\n",
    "        r, c = self.feature_matrix[state]\n",
    "        return isinstance(self.grid[r][c], int) or isinstance(self.grid[r][c], float)\n",
    "    \n",
    "    def get_states(self):\n",
    "        return states\n",
    "    \n",
    "    def get_curr_state(self):\n",
    "        return self.curr_state\n",
    "    \n",
    "    def get_curr_state_feat_vec(self, state):\n",
    "        return self.f_sj(state)\n",
    "    \n",
    "    def get_feature_matrix(self, states):\n",
    "        return [self.f_sj(sj) for sj in states]\n",
    "    \n",
    "    def get_possible_actions(self, state):\n",
    "        \n",
    "        if self.__is_terminal(state):\n",
    "            return None\n",
    "        \n",
    "        return self.actions\n",
    "    \n",
    "    def get_reward(self, state, action):\n",
    "        r, c = self.feature_matrix[state]\n",
    "        if isinstance(self.grid[r][c], int) or isinstance(self.grid[r][c], float):\n",
    "            return self.grid[r][c]\n",
    "        else:\n",
    "            return self.living_reward\n",
    "        \n",
    "    def __str__(self):\n",
    "        \n",
    "        msg = ''\n",
    "        cell_filler = \"_\"\n",
    "        grid = self.grid\n",
    "        curr_r, curr_c = self.feature_matrix[self.curr_state]\n",
    "        for r in range(len(grid)):\n",
    "            for c in range(len(grid[r])):\n",
    "                if grid[r][c] == self.MARKER_FREE_SPACE\\\n",
    "                    or (grid[r][c] == self.MARKER_CURR_STATE and (r != curr_r or c != curr_c)):\n",
    "                    tt = cell_filler\n",
    "                elif r == curr_r and c == curr_c:\n",
    "                    tt = self.MARKER_CURR_STATE\n",
    "                else:\n",
    "                    if isinstance(grid[r][c], int) or isinstance(grid[r][c], float):\n",
    "                        tt = \"{:+d}\".format(grid[r][c])\n",
    "                    else:\n",
    "                        tt = grid[r][c]\n",
    "                msg += \"{txt:{fill}^5s}\".format(txt=tt, fill=cell_filler)\n",
    "                msg += \"\\t\"\n",
    "            msg += \"\\n\"\n",
    "        msg += \"\\n\"\n",
    "        return msg\n",
    "        "
   ]
  },
  {
   "cell_type": "code",
   "execution_count": 240,
   "metadata": {},
   "outputs": [],
   "source": [
    "gw = GridWorld(book_grid)"
   ]
  },
  {
   "cell_type": "code",
   "execution_count": 241,
   "metadata": {},
   "outputs": [
    {
     "name": "stdout",
     "output_type": "stream",
     "text": [
      "_____\t_____\t_____\t_+10_\t\n",
      "_____\t__#__\t_____\t_-10_\t\n",
      "__@__\t_____\t_____\t_____\t\n",
      "\n",
      "\n"
     ]
    }
   ],
   "source": [
    "print(gw)"
   ]
  }
 ],
 "metadata": {
  "kernelspec": {
   "display_name": "littman_irl_python3",
   "language": "python",
   "name": "littman_irl_python3"
  },
  "language_info": {
   "codemirror_mode": {
    "name": "ipython",
    "version": 3
   },
   "file_extension": ".py",
   "mimetype": "text/x-python",
   "name": "python",
   "nbconvert_exporter": "python",
   "pygments_lexer": "ipython3",
   "version": "3.6.1"
  }
 },
 "nbformat": 4,
 "nbformat_minor": 2
}
