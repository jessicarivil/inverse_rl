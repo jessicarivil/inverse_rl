{
 "cells": [
  {
   "cell_type": "markdown",
   "metadata": {},
   "source": [
    "# MaxEnt"
   ]
  },
  {
   "cell_type": "code",
   "execution_count": 1,
   "metadata": {},
   "outputs": [],
   "source": [
    "import time\n",
    "import math\n",
    "import numpy as np\n",
    "from MDPGridWorld import *\n",
    "from maxent_irl import *\n",
    "from plotting import *\n",
    "\n",
    "%load_ext autoreload\n",
    "%autoreload 2"
   ]
  },
  {
   "cell_type": "code",
   "execution_count": 2,
   "metadata": {},
   "outputs": [],
   "source": [
    "def terminal_state_potential_fn(s_idx, terminal_state_idx):\n",
    "    \n",
    "    if s_idx == terminal_state_idx:\n",
    "        return 0\n",
    "    else:\n",
    "        return -1e20"
   ]
  },
  {
   "cell_type": "code",
   "execution_count": 3,
   "metadata": {},
   "outputs": [],
   "source": [
    "def run_max_ent_gridworld_experiment(grid,\n",
    "                                     n_traj, \n",
    "                                     max_traj_len, \n",
    "                                     n_epochs,\n",
    "                                     learning_rate,\n",
    "                                     action_noise_dist,\n",
    "                                     terminal_state_potential_fn=terminal_state_potential_fn,\n",
    "                                     linear_features=True,\n",
    "                                     init_state_idx=\"random\",\n",
    "                                     vi_eps=1e-6,\n",
    "                                     living_reward=-0.04, \n",
    "                                     obstacle_reward=-0.5, \n",
    "                                     avoid_obstacles=True,\n",
    "                                     gamma=0.99,\n",
    "                                     silent=False):\n",
    "    \n",
    "    gw = MDPGridWorld(grid, living_reward, gamma, action_noise_dist, obstacle_reward, silent=True)\n",
    "    phi=lambda x: terminal_state_potential_fn(x, gw.absorbing_state_idx)\n",
    "    trajectories = np.asarray(gw.sample_trajectories(n_traj, init_state_idx=init_state_idx, \n",
    "                                                     max_length=max_traj_len, avoid_obtacles=avoid_obstacles), dtype=np.int)\n",
    "    start = time.time()\n",
    "    if linear_features:\n",
    "        feature_matrix = gw.get_state_grid_features_matrix()\n",
    "    else:\n",
    "        feature_matrix = gw.get_state_2d_features_matrix()\n",
    "        \n",
    "    R = max_ent_irl(trajectories, feature_matrix, \n",
    "                    gw.gamma, gw.nA, gw.T, \n",
    "                    n_epochs, learning_rate, \n",
    "                    phi, vi_eps=vi_eps, silent=silent)\n",
    "    print(\"Epochs:{} Total Time: {} sec\".format(n_epochs, time.time()-start))\n",
    "    return R, gw, trajectories, feature_matrix"
   ]
  },
  {
   "cell_type": "code",
   "execution_count": 4,
   "metadata": {},
   "outputs": [],
   "source": [
    "def plot_results(gw, grid, R, n_epochs, learning_rate):\n",
    "\n",
    "    plt.figure(figsize=(14,8))\n",
    "    print(\"Expert Policy\")\n",
    "    gw.disp_custom_grid(gw.vi_results.policy, lambda x: \"{:}\".format(gw.actions_name[x]))\n",
    "    vi_recovered = run_value_iteration(gw.T, R, gw.gamma)\n",
    "    print(\"Recovered Policy\")\n",
    "    gw.disp_custom_grid(vi_recovered.policy, lambda x: \"{:}\".format(gw.actions_name[x]))\n",
    "    compare_grid_data(gw.vi_results.policy, vi_recovered.policy, gw.height, gw.width, \n",
    "                      suffix=\"policy:\", \n",
    "                      grid=grid, plots=[(2,2,1), (2,2,2)])\n",
    "    \n",
    "    print(\"Groundtruth R\")\n",
    "    gw.disp_custom_grid(gw.R, formatting=lambda x: \"{:.3f}\".format(x))\n",
    "    print(\"Recovered R\")\n",
    "    gw.disp_custom_grid(R, formatting=lambda x: \"{:.3f}\".format(x))\n",
    "    \n",
    "    compare_grid_data(gw.R, R, gw.height, gw.width, suffix=\"reward \", \n",
    "                      title2=\"MaxEnt inferred. \\nIter={}, lr={}\".format(n_epochs, learning_rate), \n",
    "                      grid=grid, plots=[(2,2,3), (2,2,4)])"
   ]
  },
  {
   "cell_type": "markdown",
   "metadata": {},
   "source": [
    "## Determinitic Dynamics & Linear Rewards (True R = w.dot(fs))"
   ]
  },
  {
   "cell_type": "code",
   "execution_count": 5,
   "metadata": {},
   "outputs": [],
   "source": [
    "action_noise_dist = [0., 1., 0.]"
   ]
  },
  {
   "cell_type": "markdown",
   "metadata": {},
   "source": [
    "### Simple Grid"
   ]
  },
  {
   "cell_type": "code",
   "execution_count": 6,
   "metadata": {},
   "outputs": [
    {
     "name": "stdout",
     "output_type": "stream",
     "text": [
      " Epoch 0, sum|grad|: 18.648374390198466\n",
      " Epoch 1, sum|grad|: 18.26264595078962\n",
      " Epoch 2, sum|grad|: 6.950894780041902\n",
      " Epoch 3, sum|grad|: 4.22991963505522\n",
      " Epoch 4, sum|grad|: 2.7885185940549158\n",
      " Epoch 5, sum|grad|: 2.065571132858148\n",
      " Epoch 6, sum|grad|: 1.7056516951705674\n",
      " Epoch 7, sum|grad|: 1.451517720302596\n",
      " Epoch 8, sum|grad|: 1.2528143268486645\n",
      " Epoch 9, sum|grad|: 1.0936114268697006\n",
      " Epoch 10, sum|grad|: 0.9657602916327317\n",
      " Epoch 11, sum|grad|: 0.8634760053371049\n",
      " Epoch 12, sum|grad|: 0.7817394780302642\n",
      " Epoch 13, sum|grad|: 0.7161345019226059\n",
      " Epoch 14, sum|grad|: 0.6629751213249809\n",
      " Epoch 15, sum|grad|: 0.6281748191760267\n",
      " Epoch 16, sum|grad|: 0.6019674604955447\n",
      " Epoch 17, sum|grad|: 0.5833226015638718\n",
      " Epoch 18, sum|grad|: 0.5659405206414356\n",
      " Epoch 19, sum|grad|: 0.5497333083031487\n",
      "Epochs:20 Total Time: 19.769999265670776 sec\n",
      "Expert Policy\n",
      "East\tEast\tEast\tEast\tSouth\t\n",
      "East\tEast\tEast\tEast\tSouth\t\n",
      "East\tEast\tEast\tEast\tSouth\t\n",
      "East\tEast\tEast\tEast\tSouth\t\n",
      "East\tEast\tEast\tEast\tNorth\t\n",
      "Absorbing state: North\n",
      "Recovered Policy\n",
      "East\tEast\tEast\tEast\tSouth\t\n",
      "East\tEast\tEast\tEast\tSouth\t\n",
      "East\tEast\tEast\tEast\tSouth\t\n",
      "East\tEast\tEast\tEast\tSouth\t\n",
      "East\tEast\tEast\tEast\tNorth\t\n",
      "Absorbing state: North\n",
      "Groundtruth R\n",
      "-0.040\t-0.040\t-0.040\t-0.040\t-0.040\t\n",
      "-0.040\t-0.040\t-0.040\t-0.040\t-0.040\t\n",
      "-0.040\t-0.040\t-0.040\t-0.040\t-0.040\t\n",
      "-0.040\t-0.040\t-0.040\t-0.040\t-0.040\t\n",
      "-0.040\t-0.040\t-0.040\t-0.040\t1.000\t\n",
      "Absorbing state: 0.000\n",
      "Recovered R\n",
      "-0.857\t-0.969\t-0.960\t-0.891\t-0.879\t\n",
      "-0.845\t-1.175\t-1.227\t-1.889\t-0.572\t\n",
      "-1.093\t-1.226\t-1.639\t-2.266\t-1.324\t\n",
      "-0.960\t-1.281\t-2.062\t-3.000\t-1.473\t\n",
      "-1.040\t-1.672\t-2.667\t-3.880\t2.179\t\n",
      "Absorbing state: 0.000\n"
     ]
    },
    {
     "data": {
      "image/png": "[encoded data removed]",
      "text/plain": [
       "<matplotlib.figure.Figure at 0x107c20b38>"
      ]
     },
     "metadata": {},
     "output_type": "display_data"
    }
   ],
   "source": [
    "np.random.seed(0)\n",
    "grid = [[' ',' ',' ',' ',' '],\n",
    "                [' ',' ',' ',' ',' '],\n",
    "                [' ',' ',' ',' ',' '],\n",
    "                [' ',' ',' ',' ',' '],\n",
    "                [' ',' ',' ',' ',+1]]\n",
    "n_epochs, lr = 20, 1.\n",
    "n_traj, max_traj_len = 100, 20\n",
    "R, gw, trajectories, feature_matrix = \\\n",
    "                    run_max_ent_gridworld_experiment(grid,\n",
    "                                     n_traj=n_traj, \n",
    "                                     max_traj_len=max_traj_len, \n",
    "                                     n_epochs=n_epochs,\n",
    "                                     learning_rate=lr,\n",
    "                                     action_noise_dist=action_noise_dist,\n",
    "                                     terminal_state_potential_fn=terminal_state_potential_fn,\n",
    "                                     linear_features=True,\n",
    "                                     init_state_idx=\"random\",\n",
    "                                     vi_eps=1e-6,\n",
    "                                     living_reward=-0.04, \n",
    "                                     obstacle_reward=-0.5, \n",
    "                                     avoid_obstacles=True,\n",
    "                                     gamma=0.99,\n",
    "                                     silent=False)\n",
    "plot_results(gw, grid, R, n_epochs, lr)"
   ]
  },
  {
   "cell_type": "markdown",
   "metadata": {},
   "source": [
    "### Grid with obstacles"
   ]
  },
  {
   "cell_type": "code",
   "execution_count": 7,
   "metadata": {},
   "outputs": [
    {
     "name": "stdout",
     "output_type": "stream",
     "text": [
      " Epoch 0, sum|grad|: 17.530824352728885\n",
      " Epoch 1, sum|grad|: 10.359309358969773\n",
      " Epoch 2, sum|grad|: 1.9797926690931207\n",
      " Epoch 3, sum|grad|: 1.4481911437864932\n",
      " Epoch 4, sum|grad|: 1.224148382390526\n",
      " Epoch 5, sum|grad|: 1.0814855097282865\n",
      " Epoch 6, sum|grad|: 0.9802769958201822\n",
      " Epoch 7, sum|grad|: 0.904884278036114\n",
      " Epoch 8, sum|grad|: 0.8470555382734138\n",
      " Epoch 9, sum|grad|: 0.79684054038251\n",
      " Epoch 10, sum|grad|: 0.7527328327413846\n",
      " Epoch 11, sum|grad|: 0.7136171538459538\n",
      " Epoch 12, sum|grad|: 0.6786555053449754\n",
      " Epoch 13, sum|grad|: 0.6476006997113327\n",
      " Epoch 14, sum|grad|: 0.6201936249276274\n",
      " Epoch 15, sum|grad|: 0.5951841977613284\n",
      " Epoch 16, sum|grad|: 0.5722806609207891\n",
      " Epoch 17, sum|grad|: 0.5512361272909702\n",
      " Epoch 18, sum|grad|: 0.531839794993685\n",
      " Epoch 19, sum|grad|: 0.5139103997017455\n",
      "Epochs:20 Total Time: 19.8835289478302 sec\n",
      "Expert Policy\n",
      "East\tEast\tEast\tEast\tSouth\t\n",
      "South\tNorth\tEast\tEast\tSouth\t\n",
      "East\tSouth\tNorth\tEast\tSouth\t\n",
      "East\tEast\tSouth\tNorth\tSouth\t\n",
      "East\tEast\tEast\tEast\tNorth\t\n",
      "Absorbing state: North\n",
      "Recovered Policy\n",
      "East\tEast\tEast\tEast\tSouth\t\n",
      "South\tNorth\tNorth\tEast\tSouth\t\n",
      "East\tSouth\tNorth\tEast\tSouth\t\n",
      "East\tEast\tSouth\tNorth\tSouth\t\n",
      "East\tEast\tEast\tEast\tNorth\t\n",
      "Absorbing state: North\n",
      "Groundtruth R\n",
      "-0.040\t-0.040\t-0.040\t-0.040\t-0.040\t\n",
      "-0.040\t-0.500\t-0.040\t-0.040\t-0.040\t\n",
      "-0.040\t-0.040\t-0.500\t-0.040\t-0.040\t\n",
      "-0.040\t-0.040\t-0.040\t-0.500\t-0.040\t\n",
      "-0.040\t-0.040\t-0.040\t-0.040\t1.000\t\n",
      "Absorbing state: 0.000\n",
      "Recovered R\n",
      "-1.268\t-0.738\t-0.640\t-0.532\t-0.396\t\n",
      "-1.461\t0.200\t-1.131\t-1.796\t-0.428\t\n",
      "-1.548\t-1.481\t0.927\t-1.739\t-1.660\t\n",
      "-2.141\t-0.557\t-0.546\t0.987\t-2.685\t\n",
      "-0.985\t-2.080\t-1.163\t-1.631\t1.632\t\n",
      "Absorbing state: 0.000\n"
     ]
    },
    {
     "data": {
      "image/png": "[encoded data removed]",
      "text/plain": [
       "<matplotlib.figure.Figure at 0x107d46550>"
      ]
     },
     "metadata": {},
     "output_type": "display_data"
    }
   ],
   "source": [
    "np.random.seed(0)\n",
    "grid = [[' ',' ',' ',' ',' '],\n",
    "                [' ','#',' ',' ',' '],\n",
    "                [' ',' ','#',' ',' '],\n",
    "                [' ',' ',' ','#',' '],\n",
    "                [' ',' ',' ',' ',+1]]\n",
    "n_epochs, lr = 20, 1.\n",
    "n_traj, max_traj_len = 100, 20\n",
    "R, gw, trajectories, feature_matrix = \\\n",
    "                    run_max_ent_gridworld_experiment(grid,\n",
    "                                     n_traj=n_traj, \n",
    "                                     max_traj_len=max_traj_len, \n",
    "                                     n_epochs=n_epochs,\n",
    "                                     learning_rate=lr,\n",
    "                                     action_noise_dist=action_noise_dist,\n",
    "                                     terminal_state_potential_fn=terminal_state_potential_fn,\n",
    "                                     linear_features=True,\n",
    "                                     init_state_idx=\"random\",\n",
    "                                     vi_eps=1e-6,\n",
    "                                     living_reward=-0.04, \n",
    "                                     obstacle_reward=-0.5, \n",
    "                                     avoid_obstacles=True,\n",
    "                                     gamma=0.99,\n",
    "                                     silent=False)\n",
    "plot_results(gw, grid, R, n_epochs, lr)"
   ]
  },
  {
   "cell_type": "markdown",
   "metadata": {},
   "source": [
    "### R&N Chap. 17 Grid World"
   ]
  },
  {
   "cell_type": "code",
   "execution_count": 8,
   "metadata": {},
   "outputs": [
    {
     "name": "stdout",
     "output_type": "stream",
     "text": [
      " Epoch 0, sum|grad|: 12.339620050453485\n",
      " Epoch 1, sum|grad|: 2.5727959128235582\n",
      " Epoch 2, sum|grad|: 1.2105940334848282\n",
      " Epoch 3, sum|grad|: 0.9161723981080909\n",
      " Epoch 4, sum|grad|: 0.824060899449448\n",
      " Epoch 5, sum|grad|: 0.7429272762373428\n",
      " Epoch 6, sum|grad|: 0.6739495344973397\n",
      " Epoch 7, sum|grad|: 0.6156367644771696\n",
      " Epoch 8, sum|grad|: 0.5659992920960992\n",
      " Epoch 9, sum|grad|: 0.5233609917248397\n",
      " Epoch 10, sum|grad|: 0.48643735216216033\n",
      " Epoch 11, sum|grad|: 0.4542496860018784\n",
      " Epoch 12, sum|grad|: 0.4260354445862816\n",
      " Epoch 13, sum|grad|: 0.40118389630717327\n",
      " Epoch 14, sum|grad|: 0.3791946030601322\n",
      " Epoch 15, sum|grad|: 0.35965114615286026\n",
      " Epoch 16, sum|grad|: 0.34220394739924737\n",
      " Epoch 17, sum|grad|: 0.32655825583222403\n",
      " Epoch 18, sum|grad|: 0.31308269071270234\n",
      " Epoch 19, sum|grad|: 0.3036507152828814\n",
      "Epochs:20 Total Time: 9.76924204826355 sec\n",
      "Expert Policy\n",
      "East\tEast\tEast\tNorth\t\n",
      "North\tNorth\tNorth\tNorth\t\n",
      "North\tEast\tNorth\tWest\t\n",
      "Absorbing state: North\n",
      "Recovered Policy\n",
      "East\tEast\tEast\tNorth\t\n",
      "North\tNorth\tNorth\tNorth\t\n",
      "North\tEast\tNorth\tWest\t\n",
      "Absorbing state: North\n",
      "Groundtruth R\n",
      "-0.040\t-0.040\t-0.040\t1.000\t\n",
      "-0.040\t-0.500\t-0.040\t-1.000\t\n",
      "-0.040\t-0.040\t-0.040\t-0.040\t\n",
      "Absorbing state: 0.000\n",
      "Recovered R\n",
      "-1.224\t-1.547\t-0.724\t3.618\t\n",
      "-1.019\t0.817\t-0.506\t-2.541\t\n",
      "-1.916\t-3.675\t-0.639\t-1.147\t\n",
      "Absorbing state: 0.000\n"
     ]
    },
    {
     "data": {
      "image/png": "[encoded data removed]",
      "text/plain": [
       "<matplotlib.figure.Figure at 0x105d5c898>"
      ]
     },
     "metadata": {},
     "output_type": "display_data"
    }
   ],
   "source": [
    "np.random.seed(0)\n",
    "grid = [[' ',' ',' ',+1],\n",
    "            [' ','#',' ',-1],\n",
    "            ['@',' ',' ',' ']]\n",
    "n_epochs, lr = 20, 1.\n",
    "n_traj, max_traj_len = 400, 15\n",
    "R, gw, trajectories, feature_matrix = \\\n",
    "                    run_max_ent_gridworld_experiment(grid,\n",
    "                                     n_traj=n_traj, \n",
    "                                     max_traj_len=max_traj_len, \n",
    "                                     n_epochs=n_epochs,\n",
    "                                     learning_rate=lr,\n",
    "                                     action_noise_dist=action_noise_dist,\n",
    "                                     terminal_state_potential_fn=terminal_state_potential_fn,\n",
    "                                     linear_features=True,\n",
    "                                     init_state_idx=\"random\",\n",
    "                                     vi_eps=1e-6,\n",
    "                                     living_reward=-0.04, \n",
    "                                     obstacle_reward=-0.5, \n",
    "                                     avoid_obstacles=True,\n",
    "                                     gamma=0.99,\n",
    "                                     silent=False)\n",
    "plot_results(gw, grid, R, n_epochs, lr)"
   ]
  },
  {
   "cell_type": "markdown",
   "metadata": {},
   "source": [
    "## Stochastic Dynamics & Linear Rewards (True R = w.dot(fs))"
   ]
  },
  {
   "cell_type": "code",
   "execution_count": 9,
   "metadata": {},
   "outputs": [],
   "source": [
    "action_noise_dist = [0.1, 0.8, 0.1]"
   ]
  },
  {
   "cell_type": "markdown",
   "metadata": {},
   "source": [
    "### Simple Grid"
   ]
  },
  {
   "cell_type": "code",
   "execution_count": 20,
   "metadata": {},
   "outputs": [
    {
     "name": "stdout",
     "output_type": "stream",
     "text": [
      " Epoch 0, sum|grad|: 12.206361609747576\n",
      " Epoch 1, sum|grad|: 2.5225591577815636\n",
      " Epoch 2, sum|grad|: 1.8168448266298176\n",
      " Epoch 3, sum|grad|: 1.580150235668847\n",
      " Epoch 4, sum|grad|: 1.413811523052707\n",
      " Epoch 5, sum|grad|: 1.2855222644338875\n",
      " Epoch 6, sum|grad|: 1.1867767905392046\n",
      " Epoch 7, sum|grad|: 1.1048958917024694\n",
      " Epoch 8, sum|grad|: 1.0354279821841654\n",
      " Epoch 9, sum|grad|: 0.9755771669391774\n",
      " Epoch 10, sum|grad|: 0.9233546499678167\n",
      " Epoch 11, sum|grad|: 0.8773022954971492\n",
      " Epoch 12, sum|grad|: 0.8371984232089242\n",
      " Epoch 13, sum|grad|: 0.8033682137500178\n",
      " Epoch 14, sum|grad|: 0.7725266290377848\n",
      " Epoch 15, sum|grad|: 0.7442697386732648\n",
      " Epoch 16, sum|grad|: 0.7182667033095151\n",
      " Epoch 17, sum|grad|: 0.6942433573430304\n",
      " Epoch 18, sum|grad|: 0.6719701257660002\n",
      " Epoch 19, sum|grad|: 0.6512529851937643\n",
      " Epoch 20, sum|grad|: 0.6319265987792837\n",
      " Epoch 21, sum|grad|: 0.613849028479234\n",
      " Epoch 22, sum|grad|: 0.5968976092680387\n",
      " Epoch 23, sum|grad|: 0.580965691572938\n",
      " Epoch 24, sum|grad|: 0.5659600411267187\n",
      " Epoch 25, sum|grad|: 0.5517987428419269\n",
      " Epoch 26, sum|grad|: 0.538409495573819\n",
      " Epoch 27, sum|grad|: 0.5257282132843022\n",
      " Epoch 28, sum|grad|: 0.5139233482817392\n",
      " Epoch 29, sum|grad|: 0.5031964456314351\n",
      " Epoch 30, sum|grad|: 0.4929660858806152\n",
      " Epoch 31, sum|grad|: 0.4831962672976234\n",
      " Epoch 32, sum|grad|: 0.47385456271985316\n",
      " Epoch 33, sum|grad|: 0.46491166869732986\n",
      " Epoch 34, sum|grad|: 0.45634102320865155\n",
      " Epoch 35, sum|grad|: 0.44811847985728254\n",
      " Epoch 36, sum|grad|: 0.44022202886583467\n",
      " Epoch 37, sum|grad|: 0.4326315570413692\n",
      " Epoch 38, sum|grad|: 0.4253286403795099\n",
      " Epoch 39, sum|grad|: 0.41829636412288723\n",
      " Epoch 40, sum|grad|: 0.41151916603161465\n",
      " Epoch 41, sum|grad|: 0.4049826993671727\n",
      " Epoch 42, sum|grad|: 0.3986737126828901\n",
      " Epoch 43, sum|grad|: 0.39257994401317564\n",
      " Epoch 44, sum|grad|: 0.3866900274359353\n",
      " Epoch 45, sum|grad|: 0.3809934103156622\n",
      " Epoch 46, sum|grad|: 0.37548027979257714\n",
      " Epoch 47, sum|grad|: 0.37014149731198887\n",
      " Epoch 48, sum|grad|: 0.36496854015493385\n",
      " Epoch 49, sum|grad|: 0.35995344909860916\n",
      " Epoch 50, sum|grad|: 0.35520290213150585\n",
      " Epoch 51, sum|grad|: 0.3506543140910548\n",
      " Epoch 52, sum|grad|: 0.34623566949518353\n",
      " Epoch 53, sum|grad|: 0.3419411315998071\n",
      " Epoch 54, sum|grad|: 0.3377652224517457\n",
      " Epoch 55, sum|grad|: 0.3337027948995401\n",
      " Epoch 56, sum|grad|: 0.32974900724558004\n",
      " Epoch 57, sum|grad|: 0.32589930024985747\n",
      " Epoch 58, sum|grad|: 0.32214937623039797\n",
      " Epoch 59, sum|grad|: 0.31849518003361577\n",
      " Epoch 60, sum|grad|: 0.3149328816826017\n",
      " Epoch 61, sum|grad|: 0.31145886052512567\n",
      " Epoch 62, sum|grad|: 0.3080696907346543\n",
      " Epoch 63, sum|grad|: 0.3047621280239939\n",
      " Epoch 64, sum|grad|: 0.301533097457359\n",
      " Epoch 65, sum|grad|: 0.2983796822508069\n",
      " Epoch 66, sum|grad|: 0.2952991134685797\n",
      " Epoch 67, sum|grad|: 0.29228876053313185\n",
      " Epoch 68, sum|grad|: 0.2893461224678986\n",
      " Epoch 69, sum|grad|: 0.28646881981553685\n",
      " Epoch 70, sum|grad|: 0.2836545871599129\n",
      " Epoch 71, sum|grad|: 0.28090126620922173\n",
      " Epoch 72, sum|grad|: 0.27820679938295745\n",
      " Epoch 73, sum|grad|: 0.27556922386391186\n",
      " Epoch 74, sum|grad|: 0.2729866660757486\n",
      " Epoch 75, sum|grad|: 0.2704573365474208\n",
      " Epoch 76, sum|grad|: 0.26797952513603784\n",
      " Epoch 77, sum|grad|: 0.2655515965780971\n",
      " Epoch 78, sum|grad|: 0.2631719863405672\n",
      " Epoch 79, sum|grad|: 0.26083919675037204\n",
      "Epochs:80 Total Time: 46.48269200325012 sec\n",
      "Expert Policy\n",
      "East\tEast\tEast\tSouth\tSouth\t\n",
      "South\tSouth\tSouth\tSouth\tSouth\t\n",
      "South\tEast\tEast\tSouth\tSouth\t\n",
      "East\tEast\tEast\tEast\tSouth\t\n",
      "East\tEast\tEast\tEast\tNorth\t\n",
      "Absorbing state: North\n",
      "Recovered Policy\n",
      "East\tEast\tEast\tSouth\tWest\t\n",
      "South\tSouth\tSouth\tSouth\tSouth\t\n",
      "South\tEast\tEast\tSouth\tSouth\t\n",
      "East\tEast\tEast\tEast\tSouth\t\n",
      "North\tNorth\tEast\tEast\tNorth\t\n",
      "Absorbing state: North\n",
      "Groundtruth R\n",
      "-0.040\t-0.040\t-0.040\t-0.040\t-0.040\t\n",
      "-0.040\t-0.040\t-0.040\t-0.040\t-0.040\t\n",
      "-0.040\t-0.040\t-0.040\t-0.040\t-0.040\t\n",
      "-0.040\t-0.040\t-0.040\t-0.040\t-0.040\t\n",
      "-0.040\t-0.040\t-0.040\t-0.040\t1.000\t\n",
      "Absorbing state: 0.000\n",
      "Recovered R\n",
      "-1.556\t-0.932\t-0.673\t-0.141\t-1.806\t\n",
      "-1.917\t-2.440\t-4.291\t-2.593\t-1.809\t\n",
      "-1.028\t-2.712\t-0.955\t0.240\t-4.040\t\n",
      "0.097\t-0.681\t-3.318\t0.266\t-1.251\t\n",
      "-1.677\t-1.618\t-1.835\t-4.983\t0.226\t\n",
      "Absorbing state: 0.000\n"
     ]
    },
    {
     "data": {
      "image/png": "[encoded data removed]",
      "text/plain": [
       "<matplotlib.figure.Figure at 0x108bbff28>"
      ]
     },
     "metadata": {},
     "output_type": "display_data"
    }
   ],
   "source": [
    "np.random.seed(0)\n",
    "grid = [[' ',' ',' ',' ',' '],\n",
    "                [' ',' ',' ',' ',' '],\n",
    "                [' ',' ',' ',' ',' '],\n",
    "                [' ',' ',' ',' ',' '],\n",
    "                [' ',' ',' ',' ',+1]]\n",
    "n_epochs, lr = 80, 1.\n",
    "n_traj, max_traj_len = 20000, 40\n",
    "R, gw, trajectories, feature_matrix = \\\n",
    "                    run_max_ent_gridworld_experiment(grid,\n",
    "                                     n_traj=n_traj, \n",
    "                                     max_traj_len=max_traj_len, \n",
    "                                     n_epochs=n_epochs,\n",
    "                                     learning_rate=lr,\n",
    "                                     action_noise_dist=action_noise_dist,\n",
    "                                     terminal_state_potential_fn=terminal_state_potential_fn,\n",
    "                                     linear_features=True,\n",
    "                                     init_state_idx=\"random\",\n",
    "                                     vi_eps=1e-3,\n",
    "                                     living_reward=-0.04, \n",
    "                                     obstacle_reward=-0.5, \n",
    "                                     avoid_obstacles=True,\n",
    "                                     gamma=0.99,\n",
    "                                     silent=False)\n",
    "plot_results(gw, grid, R, n_epochs, lr)"
   ]
  },
  {
   "cell_type": "markdown",
   "metadata": {},
   "source": [
    "### Grid with obstacles"
   ]
  },
  {
   "cell_type": "code",
   "execution_count": 21,
   "metadata": {},
   "outputs": [
    {
     "name": "stdout",
     "output_type": "stream",
     "text": [
      " Epoch 0, sum|grad|: 36.45320546603284\n",
      " Epoch 1, sum|grad|: 5.220857199109523\n",
      " Epoch 2, sum|grad|: 2.332758579644362\n",
      " Epoch 3, sum|grad|: 1.8920557145197618\n",
      " Epoch 4, sum|grad|: 1.6048166921960425\n",
      " Epoch 5, sum|grad|: 1.3964869536801692\n",
      " Epoch 6, sum|grad|: 1.2378413487093183\n",
      " Epoch 7, sum|grad|: 1.1132619314207377\n",
      " Epoch 8, sum|grad|: 1.0131415253594824\n",
      " Epoch 9, sum|grad|: 0.9311345607372351\n",
      " Epoch 10, sum|grad|: 0.8628699567356362\n",
      " Epoch 11, sum|grad|: 0.8052466205604938\n",
      " Epoch 12, sum|grad|: 0.7560118221682515\n",
      " Epoch 13, sum|grad|: 0.7134953172235827\n",
      " Epoch 14, sum|grad|: 0.6767364554971241\n",
      " Epoch 15, sum|grad|: 0.6491582386938101\n",
      " Epoch 16, sum|grad|: 0.6244137445514176\n",
      " Epoch 17, sum|grad|: 0.6020667511766274\n",
      " Epoch 18, sum|grad|: 0.5817687563753299\n",
      " Epoch 19, sum|grad|: 0.5632378521709849\n",
      "Epochs:20 Total Time: 20.89884305000305 sec\n",
      "Expert Policy\n",
      "East\tEast\tEast\tEast\tSouth\t\n",
      "South\tNorth\tEast\tEast\tSouth\t\n",
      "South\tSouth\tNorth\tEast\tSouth\t\n",
      "South\tSouth\tSouth\tNorth\tSouth\t\n",
      "East\tEast\tEast\tEast\tNorth\t\n",
      "Absorbing state: North\n",
      "Recovered Policy\n",
      "East\tEast\tEast\tEast\tSouth\t\n",
      "South\tNorth\tEast\tEast\tSouth\t\n",
      "South\tSouth\tNorth\tEast\tSouth\t\n",
      "South\tSouth\tSouth\tNorth\tSouth\t\n",
      "East\tEast\tEast\tEast\tNorth\t\n",
      "Absorbing state: North\n",
      "Groundtruth R\n",
      "-0.040\t-0.040\t-0.040\t-0.040\t-0.040\t\n",
      "-0.040\t-0.500\t-0.040\t-0.040\t-0.040\t\n",
      "-0.040\t-0.040\t-0.500\t-0.040\t-0.040\t\n",
      "-0.040\t-0.040\t-0.040\t-0.500\t-0.040\t\n",
      "-0.040\t-0.040\t-0.040\t-0.040\t1.000\t\n",
      "Absorbing state: 0.000\n",
      "Recovered R\n",
      "-3.275\t-2.172\t-1.596\t-0.662\t-0.599\t\n",
      "-4.484\t0.999\t-1.316\t-1.951\t-0.506\t\n",
      "-3.142\t-2.479\t0.874\t-2.064\t-1.569\t\n",
      "-2.364\t-3.173\t-2.733\t0.707\t-0.819\t\n",
      "-1.195\t-0.399\t-1.501\t-1.652\t1.491\t\n",
      "Absorbing state: 0.000\n"
     ]
    },
    {
     "data": {
      "image/png": "[encoded data removed]",
      "text/plain": [
       "<matplotlib.figure.Figure at 0x107a15a58>"
      ]
     },
     "metadata": {},
     "output_type": "display_data"
    }
   ],
   "source": [
    "np.random.seed(0)\n",
    "grid = [[' ',' ',' ',' ',' '],\n",
    "                [' ','#',' ',' ',' '],\n",
    "                [' ',' ','#',' ',' '],\n",
    "                [' ',' ',' ','#',' '],\n",
    "                [' ',' ',' ',' ',+1]]\n",
    "n_epochs, lr = 20, 1.\n",
    "n_traj, max_traj_len = 400, 40\n",
    "R, gw, trajectories, feature_matrix = \\\n",
    "                    run_max_ent_gridworld_experiment(grid,\n",
    "                                     n_traj=n_traj, \n",
    "                                     max_traj_len=max_traj_len, \n",
    "                                     n_epochs=n_epochs,\n",
    "                                     learning_rate=lr,\n",
    "                                     action_noise_dist=action_noise_dist,\n",
    "                                     terminal_state_potential_fn=terminal_state_potential_fn,\n",
    "                                     linear_features=True,\n",
    "                                     init_state_idx=\"random\",\n",
    "                                     vi_eps=1e-6,\n",
    "                                     living_reward=-0.04, \n",
    "                                     obstacle_reward=-0.5, \n",
    "                                     avoid_obstacles=True,\n",
    "                                     gamma=0.99,\n",
    "                                     silent=False)\n",
    "plot_results(gw, grid, R, n_epochs, lr)"
   ]
  },
  {
   "cell_type": "markdown",
   "metadata": {},
   "source": [
    "### R&N Chap. 17 Grid World"
   ]
  },
  {
   "cell_type": "code",
   "execution_count": 24,
   "metadata": {},
   "outputs": [
    {
     "name": "stdout",
     "output_type": "stream",
     "text": [
      " Epoch 0, sum|grad|: 22.551566710592148\n",
      " Epoch 1, sum|grad|: 3.498570446029298\n",
      " Epoch 2, sum|grad|: 2.125418931313898\n",
      " Epoch 3, sum|grad|: 1.9337095853830046\n",
      " Epoch 4, sum|grad|: 1.8241472522497422\n",
      " Epoch 5, sum|grad|: 1.7398972966770108\n",
      " Epoch 6, sum|grad|: 1.6569729363432\n",
      " Epoch 7, sum|grad|: 1.55490530051165\n",
      " Epoch 8, sum|grad|: 1.4227130670033399\n",
      " Epoch 9, sum|grad|: 1.277391554716635\n",
      " Epoch 10, sum|grad|: 1.1494019808255653\n",
      " Epoch 11, sum|grad|: 1.064734055408376\n",
      " Epoch 12, sum|grad|: 1.0024761934422253\n",
      " Epoch 13, sum|grad|: 0.9502060345727523\n",
      " Epoch 14, sum|grad|: 0.9032796538567589\n",
      " Epoch 15, sum|grad|: 0.8581043209909369\n",
      " Epoch 16, sum|grad|: 0.8117197104950877\n",
      " Epoch 17, sum|grad|: 0.7615534930149108\n",
      " Epoch 18, sum|grad|: 0.7055888968378045\n",
      " Epoch 19, sum|grad|: 0.6430632595844215\n",
      "Epochs:20 Total Time: 10.092535018920898 sec\n",
      "Expert Policy\n",
      "East\tEast\tEast\tNorth\t\n",
      "North\tNorth\tNorth\tNorth\t\n",
      "North\tWest\tNorth\tWest\t\n",
      "Absorbing state: North\n",
      "Recovered Policy\n",
      "East\tEast\tEast\tNorth\t\n",
      "North\tNorth\tNorth\tNorth\t\n",
      "North\tWest\tNorth\tWest\t\n",
      "Absorbing state: North\n",
      "Groundtruth R\n",
      "-0.040\t-0.040\t-0.040\t1.000\t\n",
      "-0.040\t-0.500\t-0.040\t-1.000\t\n",
      "-0.040\t-0.040\t-0.040\t-0.040\t\n",
      "Absorbing state: 0.000\n",
      "Recovered R\n",
      "-0.955\t-0.916\t-0.269\t4.693\t\n",
      "-0.422\t0.067\t-1.397\t-2.561\t\n",
      "-1.522\t-2.850\t-2.549\t-1.802\t\n",
      "Absorbing state: 0.000\n"
     ]
    },
    {
     "data": {
      "image/png": "[encoded data removed]",
      "text/plain": [
       "<matplotlib.figure.Figure at 0x108994160>"
      ]
     },
     "metadata": {},
     "output_type": "display_data"
    }
   ],
   "source": [
    "np.random.seed(0)\n",
    "grid = [[' ',' ',' ',+1],\n",
    "            [' ','#',' ',-1],\n",
    "            ['@',' ',' ',' ']]\n",
    "n_epochs, lr = 20, 1.\n",
    "n_traj, max_traj_len = 1200, 30\n",
    "R, gw, trajectories, feature_matrix = \\\n",
    "                    run_max_ent_gridworld_experiment(grid,\n",
    "                                     n_traj=n_traj, \n",
    "                                     max_traj_len=max_traj_len, \n",
    "                                     n_epochs=n_epochs,\n",
    "                                     learning_rate=lr,\n",
    "                                     action_noise_dist=action_noise_dist,\n",
    "                                     terminal_state_potential_fn=terminal_state_potential_fn,\n",
    "                                     linear_features=True,\n",
    "                                     init_state_idx=\"random\",\n",
    "                                     vi_eps=1e-6,\n",
    "                                     living_reward=-0.04, \n",
    "                                     obstacle_reward=-0.5, \n",
    "                                     avoid_obstacles=True,\n",
    "                                     gamma=0.99,\n",
    "                                     silent=False)\n",
    "plot_results(gw, grid, R, n_epochs, lr)"
   ]
  }
 ],
 "metadata": {
  "kernelspec": {
   "display_name": "littman_irl_python3",
   "language": "python",
   "name": "littman_irl_python3"
  },
  "language_info": {
   "codemirror_mode": {
    "name": "ipython",
    "version": 3
   },
   "file_extension": ".py",
   "mimetype": "text/x-python",
   "name": "python",
   "nbconvert_exporter": "python",
   "pygments_lexer": "ipython3",
   "version": "3.6.1"
  }
 },
 "nbformat": 4,
 "nbformat_minor": 2
}
