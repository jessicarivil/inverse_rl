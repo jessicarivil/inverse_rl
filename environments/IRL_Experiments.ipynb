{
 "cells": [
  {
   "cell_type": "code",
   "execution_count": 1,
   "metadata": {},
   "outputs": [],
   "source": [
    "import time\n",
    "import math\n",
    "import numpy as np\n",
    "from MDPGridWorld import *\n",
    "from maxent_irl import *\n",
    "from plotting import *\n",
    "\n",
    "%load_ext autoreload\n",
    "%autoreload 2"
   ]
  },
  {
   "cell_type": "markdown",
   "metadata": {},
   "source": [
    "# Stochastic Dynamics\n",
    "## Simulate Expert Demonstrations"
   ]
  },
  {
   "cell_type": "code",
   "execution_count": 2,
   "metadata": {},
   "outputs": [],
   "source": [
    "book_grid = [[' ',' ',' ',+1],\n",
    "            [' ','#',' ',-1],\n",
    "            ['@',' ',' ',' ']]\n",
    "\n",
    "np.random.seed(0)\n",
    "gw = MDPGridWorld(book_grid, gamma=0.99, action_noise_dist=[0.2, 0.6, 0.2], living_reward=-0.04, obstacle_reward=-0.5)\n",
    "trajectories = np.asarray(gw.sample_trajectories(1000, init_state_idx=\"random\", max_length=15, avoid_obtacles=False), dtype=np.int)"
   ]
  },
  {
   "cell_type": "markdown",
   "metadata": {},
   "source": [
    "# Linear MaxEnt"
   ]
  },
  {
   "cell_type": "code",
   "execution_count": 3,
   "metadata": {},
   "outputs": [],
   "source": [
    "def terminal_state_potential_fn(s_idx, terminal_state_idx):\n",
    "    \n",
    "    if s_idx == terminal_state_idx:\n",
    "        return 0\n",
    "    else:\n",
    "        return -1e20\n",
    "phi=lambda x: terminal_state_potential_fn(x, gw.absorbing_state_idx)"
   ]
  },
  {
   "cell_type": "code",
   "execution_count": 4,
   "metadata": {},
   "outputs": [],
   "source": [
    "# compute_feature_expectations(trajectories, gw.get_state_grid_features_matrix(), gw.gamma)\n",
    "# svf = compute_state_visitation_frequency(trajectories, gw.nS, gw.nA, gw.T, gw.R, gw.gamma, phi, vi_eps=1e-3, silent=True)"
   ]
  },
  {
   "cell_type": "code",
   "execution_count": 4,
   "metadata": {},
   "outputs": [
    {
     "name": "stdout",
     "output_type": "stream",
     "text": [
      " grad: [-0.7929, -0.369, 0.4706, 0.544, -0.9832, 0.0, 0.329, -0.1252, -1.3098, -0.5888, -0.349, -0.0338, 0.0]  sum|grad|:  5.895148994906241\n",
      " grad: [0.341, 0.0629, 0.0923, 0.3175, 0.5445, 0.0, 0.051, -0.3705, 0.3576, 0.2154, -0.4291, -0.4821, 0.0]  sum|grad|:  3.263882117072621\n",
      " grad: [0.0831, -0.1599, -0.0392, 0.2998, 0.3036, 0.0, 0.0833, -0.3069, 0.2289, 0.1938, -0.1925, -0.1127, 0.0]  sum|grad|:  2.003644107938486\n",
      " grad: [0.0061, -0.087, 0.0273, 0.3004, 0.0816, 0.0, 0.1145, -0.2698, 0.0209, 0.098, -0.1377, -0.0272, 0.0]  sum|grad|:  1.1703007056585115\n",
      " grad: [-0.0016, -0.0561, 0.0249, 0.2912, 0.0152, 0.0, 0.1024, -0.2487, -0.0472, 0.061, -0.1157, 0.0054, 0.0]  sum|grad|:  0.9693935813113538\n",
      " grad: [0.0088, -0.0411, 0.0027, 0.2765, 0.0208, 0.0, 0.0795, -0.2368, -0.0381, 0.057, -0.1059, 0.0176, 0.0]  sum|grad|:  0.8849254860288356\n",
      " grad: [0.0072, -0.0288, -0.008, 0.2658, 0.0137, 0.0, 0.0658, -0.2262, -0.0379, 0.0516, -0.0968, 0.0266, 0.0]  sum|grad|:  0.8285397215945897\n",
      " grad: [0.006, -0.0183, -0.0158, 0.2562, 0.0113, 0.0, 0.0551, -0.2174, -0.034, 0.0483, -0.0901, 0.0319, 0.0]  sum|grad|:  0.7843255596984813\n",
      " grad: [0.0036, -0.0097, -0.0207, 0.248, 0.0086, 0.0, 0.0472, -0.2098, -0.0312, 0.0451, -0.0844, 0.0352, 0.0]  sum|grad|:  0.7434105185235393\n",
      " grad: [0.0013, -0.0029, -0.0241, 0.2407, 0.0069, 0.0, 0.0412, -0.2031, -0.0283, 0.0422, -0.0798, 0.037, 0.0]  sum|grad|:  0.7073089809676848\n",
      " grad: [-0.0009, 0.0026, -0.0265, 0.2342, 0.0056, 0.0, 0.0365, -0.1971, -0.0259, 0.0395, -0.0758, 0.0377, 0.0]  sum|grad|:  0.6822332199016841\n",
      " grad: [-0.0028, 0.0069, -0.0281, 0.2283, 0.0047, 0.0, 0.0329, -0.1916, -0.0239, 0.037, -0.0724, 0.0376, 0.0]  sum|grad|:  0.6661417603043933\n",
      " grad: [-0.0045, 0.0102, -0.0292, 0.2229, 0.0041, 0.0, 0.0299, -0.1867, -0.0221, 0.0347, -0.0694, 0.0369, 0.0]  sum|grad|:  0.6506618460927971\n",
      " grad: [-0.0059, 0.0128, -0.0299, 0.218, 0.0036, 0.0, 0.0276, -0.1822, -0.0206, 0.0325, -0.0668, 0.0358, 0.0]  sum|grad|:  0.6357183813639513\n",
      " grad: [-0.007, 0.0148, -0.0303, 0.2135, 0.0033, 0.0, 0.0256, -0.178, -0.0192, 0.0306, -0.0644, 0.0345, 0.0]  sum|grad|:  0.6212673045615447\n",
      " grad: [-0.008, 0.0163, -0.0305, 0.2093, 0.0031, 0.0, 0.024, -0.1741, -0.0181, 0.0288, -0.0622, 0.0329, 0.0]  sum|grad|:  0.6072839837957832\n",
      " grad: [-0.0088, 0.0173, -0.0304, 0.2053, 0.003, 0.0, 0.0227, -0.1705, -0.0171, 0.0272, -0.0602, 0.0312, 0.0]  sum|grad|:  0.5937555961035286\n",
      " grad: [-0.0094, 0.0181, -0.0302, 0.2016, 0.0029, 0.0, 0.0215, -0.1671, -0.0162, 0.0257, -0.0584, 0.0294, 0.0]  sum|grad|:  0.5806757779445566\n",
      " grad: [-0.0099, 0.0186, -0.0299, 0.1982, 0.0028, 0.0, 0.0205, -0.1639, -0.0155, 0.0244, -0.0567, 0.0277, 0.0]  sum|grad|:  0.5680410225896674\n",
      " grad: [-0.0103, 0.0188, -0.0295, 0.1949, 0.0027, 0.0, 0.0196, -0.1609, -0.0148, 0.0232, -0.0552, 0.0259, 0.0]  sum|grad|:  0.5558483410722881\n",
      " grad: [-0.0106, 0.0189, -0.0291, 0.1918, 0.0026, 0.0, 0.0188, -0.1581, -0.0142, 0.0221, -0.0537, 0.0242, 0.0]  sum|grad|:  0.5440938531329973\n",
      " grad: [-0.0108, 0.0189, -0.0285, 0.1888, 0.0026, 0.0, 0.0181, -0.1554, -0.0137, 0.0211, -0.0524, 0.0226, 0.0]  sum|grad|:  0.5327720445085069\n",
      " grad: [-0.0109, 0.0188, -0.0279, 0.186, 0.0025, 0.0, 0.0174, -0.1528, -0.0132, 0.0202, -0.0511, 0.021, 0.0]  sum|grad|:  0.5218754852298906\n",
      " grad: [-0.011, 0.0186, -0.0273, 0.1833, 0.0024, 0.0, 0.0168, -0.1504, -0.0127, 0.0194, -0.0499, 0.0195, 0.0]  sum|grad|:  0.5113948498929506\n",
      " grad: [-0.011, 0.0183, -0.0267, 0.1807, 0.0024, 0.0, 0.0162, -0.148, -0.0123, 0.0186, -0.0488, 0.0182, 0.0]  sum|grad|:  0.5013191200091841\n",
      " grad: [-0.011, 0.018, -0.026, 0.1782, 0.0023, 0.0, 0.0157, -0.1458, -0.012, 0.0179, -0.0478, 0.0169, 0.0]  sum|grad|:  0.49163588128956787\n",
      " grad: [-0.011, 0.0176, -0.0253, 0.1758, 0.0023, 0.0, 0.0152, -0.1437, -0.0116, 0.0173, -0.0468, 0.0157, 0.0]  sum|grad|:  0.4823316554758782\n",
      " grad: [-0.0109, 0.0172, -0.0246, 0.1735, 0.0022, 0.0, 0.0147, -0.1416, -0.0113, 0.0167, -0.0459, 0.0146, 0.0]  sum|grad|:  0.4733922274197811\n",
      " grad: [-0.0109, 0.0168, -0.024, 0.1713, 0.0021, 0.0, 0.0143, -0.1396, -0.011, 0.0162, -0.045, 0.0135, 0.0]  sum|grad|:  0.4648029440193022\n",
      " grad: [-0.0108, 0.0164, -0.0233, 0.1692, 0.0021, 0.0, 0.0138, -0.1377, -0.0108, 0.0157, -0.0442, 0.0126, 0.0]  sum|grad|:  0.45654897308701464\n",
      " grad: [-0.0106, 0.0159, -0.0226, 0.1672, 0.002, 0.0, 0.0134, -0.1359, -0.0105, 0.0152, -0.0435, 0.0117, 0.0]  sum|grad|:  0.4486155180028195\n",
      " grad: [-0.0105, 0.0155, -0.0219, 0.1652, 0.002, 0.0, 0.013, -0.1342, -0.0103, 0.0148, -0.0427, 0.0109, 0.0]  sum|grad|:  0.4409879889684197\n",
      " grad: [-0.0104, 0.0151, -0.0213, 0.1633, 0.0019, 0.0, 0.0126, -0.1325, -0.0101, 0.0144, -0.042, 0.0102, 0.0]  sum|grad|:  0.4336521345281821\n",
      " grad: [-0.0102, 0.0146, -0.0206, 0.1614, 0.0018, 0.0, 0.0123, -0.1308, -0.0099, 0.0141, -0.0414, 0.0095, 0.0]  sum|grad|:  0.4265941384199748\n",
      " grad: [-0.0101, 0.0142, -0.02, 0.1596, 0.0018, 0.0, 0.0119, -0.1293, -0.0097, 0.0137, -0.0408, 0.0089, 0.0]  sum|grad|:  0.4198006872434488\n",
      " grad: [-0.0099, 0.0137, -0.0194, 0.1579, 0.0017, 0.0, 0.0116, -0.1277, -0.0095, 0.0134, -0.0402, 0.0083, 0.0]  sum|grad|:  0.41325901427753786\n",
      " grad: [-0.0097, 0.0133, -0.0188, 0.1562, 0.0016, 0.0, 0.0112, -0.1263, -0.0093, 0.0131, -0.0396, 0.0077, 0.0]  sum|grad|:  0.40695692428899166\n",
      " grad: [-0.0096, 0.0129, -0.0182, 0.1546, 0.0016, 0.0, 0.0109, -0.1248, -0.0092, 0.0129, -0.0391, 0.0072, 0.0]  sum|grad|:  0.400882803547702\n",
      " grad: [-0.0094, 0.0125, -0.0176, 0.153, 0.0015, 0.0, 0.0106, -0.1235, -0.009, 0.0126, -0.0386, 0.0068, 0.0]  sum|grad|:  0.39502561859061047\n",
      " grad: [-0.0092, 0.0121, -0.017, 0.1514, 0.0015, 0.0, 0.0103, -0.1221, -0.0089, 0.0124, -0.0381, 0.0063, 0.0]  sum|grad|:  0.3893749066511568\n",
      " grad: [-0.0091, 0.0117, -0.0165, 0.1499, 0.0014, 0.0, 0.01, -0.1208, -0.0087, 0.0122, -0.0376, 0.0059, 0.0]  sum|grad|:  0.38392076009325893\n",
      " grad: [-0.0089, 0.0113, -0.016, 0.1485, 0.0014, 0.0, 0.0098, -0.1196, -0.0086, 0.012, -0.0372, 0.0055, 0.0]  sum|grad|:  0.3786538067023879\n",
      " grad: [-0.0087, 0.0109, -0.0155, 0.1471, 0.0013, 0.0, 0.0095, -0.1183, -0.0085, 0.0118, -0.0368, 0.0052, 0.0]  sum|grad|:  0.37356518727455457\n",
      " grad: [-0.0086, 0.0106, -0.015, 0.1457, 0.0013, 0.0, 0.0092, -0.1171, -0.0084, 0.0116, -0.0364, 0.0049, 0.0]  sum|grad|:  0.36864653160923494\n",
      " grad: [-0.0084, 0.0102, -0.0145, 0.1444, 0.0012, 0.0, 0.009, -0.116, -0.0083, 0.0114, -0.036, 0.0045, 0.0]  sum|grad|:  0.3638899337374095\n",
      " grad: [-0.0083, 0.0099, -0.0141, 0.1431, 0.0012, 0.0, 0.0087, -0.1149, -0.0082, 0.0112, -0.0356, 0.0043, 0.0]  sum|grad|:  0.35928792700557655\n",
      " grad: [-0.0081, 0.0095, -0.0136, 0.1418, 0.0011, 0.0, 0.0085, -0.1138, -0.0081, 0.0111, -0.0352, 0.004, 0.0]  sum|grad|:  0.3548334594662235\n",
      " grad: [-0.0079, 0.0092, -0.0132, 0.1406, 0.0011, 0.0, 0.0083, -0.1127, -0.008, 0.0109, -0.0349, 0.0037, 0.0]  sum|grad|:  0.35051986989410583\n",
      " grad: [-0.0078, 0.0089, -0.0128, 0.1394, 0.0011, 0.0, 0.0081, -0.1117, -0.0079, 0.0108, -0.0345, 0.0035, 0.0]  sum|grad|:  0.34634086464946134\n",
      " grad: [-0.0076, 0.0086, -0.0124, 0.1382, 0.001, 0.0, 0.0078, -0.1107, -0.0078, 0.0107, -0.0342, 0.0032, 0.0]  sum|grad|:  0.34229049552899393\n",
      " grad: [-0.0075, 0.0083, -0.012, 0.137, 0.001, 0.0, 0.0076, -0.1097, -0.0077, 0.0105, -0.0339, 0.003, 0.0]  sum|grad|:  0.33836313869470575\n",
      " grad: [-0.0074, 0.0081, -0.0117, 0.1359, 0.0009, 0.0, 0.0074, -0.1087, -0.0076, 0.0104, -0.0336, 0.0028, 0.0]  sum|grad|:  0.3345534747192741\n",
      " grad: [-0.0072, 0.0078, -0.0113, 0.1348, 0.0009, 0.0, 0.0073, -0.1078, -0.0076, 0.0103, -0.0333, 0.0026, 0.0]  sum|grad|:  0.3308564697626529\n",
      " grad: [-0.0071, 0.0075, -0.011, 0.1338, 0.0009, 0.0, 0.0071, -0.1069, -0.0075, 0.0102, -0.033, 0.0024, 0.0]  sum|grad|:  0.3272673578688037\n",
      " grad: [-0.007, 0.0073, -0.0107, 0.1327, 0.0008, 0.0, 0.0069, -0.106, -0.0074, 0.0101, -0.0327, 0.0022, 0.0]  sum|grad|:  0.3237816243524318\n",
      " grad: [-0.0068, 0.007, -0.0104, 0.1317, 0.0008, 0.0, 0.0067, -0.1051, -0.0074, 0.01, -0.0324, 0.0021, 0.0]  sum|grad|:  0.3203949902420731\n",
      " grad: [-0.0067, 0.0068, -0.0101, 0.1307, 0.0008, 0.0, 0.0066, -0.1043, -0.0073, 0.0099, -0.0321, 0.0019, 0.0]  sum|grad|:  0.3171033977295419\n",
      " grad: [-0.0066, 0.0066, -0.0098, 0.1298, 0.0007, 0.0, 0.0064, -0.1035, -0.0072, 0.0098, -0.0319, 0.0017, 0.0]  sum|grad|:  0.3139029965782131\n",
      " grad: [-0.0065, 0.0064, -0.0095, 0.1288, 0.0007, 0.0, 0.0063, -0.1027, -0.0072, 0.0097, -0.0316, 0.0016, 0.0]  sum|grad|:  0.3107901314380887\n",
      " grad: [-0.0064, 0.0061, -0.0092, 0.1279, 0.0007, 0.0, 0.0061, -0.1019, -0.0071, 0.0096, -0.0314, 0.0014, 0.0]  sum|grad|:  0.3077613300128067\n",
      " grad: [-0.0063, 0.0059, -0.009, 0.127, 0.0007, 0.0, 0.006, -0.1011, -0.0071, 0.0095, -0.0311, 0.0013, 0.0]  sum|grad|:  0.3048132920282109\n",
      " grad: [-0.0062, 0.0057, -0.0088, 0.1261, 0.0006, 0.0, 0.0058, -0.1003, -0.007, 0.0094, -0.0309, 0.0012, 0.0]  sum|grad|:  0.30194287894827115\n",
      " grad: [-0.0061, 0.0055, -0.0085, 0.1252, 0.0006, 0.0, 0.0057, -0.0996, -0.0069, 0.0093, -0.0307, 0.001, 0.0]  sum|grad|:  0.2991471043922652\n",
      " grad: [-0.006, 0.0054, -0.0083, 0.1243, 0.0006, 0.0, 0.0056, -0.0989, -0.0069, 0.0092, -0.0304, 0.0009, 0.0]  sum|grad|:  0.29642312520157915\n",
      " grad: [-0.0059, 0.0052, -0.0081, 0.1235, 0.0006, 0.0, 0.0054, -0.0982, -0.0068, 0.0091, -0.0302, 0.0008, 0.0]  sum|grad|:  0.2937682331145559\n",
      " grad: [-0.0058, 0.005, -0.0079, 0.1227, 0.0005, 0.0, 0.0053, -0.0975, -0.0068, 0.009, -0.03, 0.0007, 0.0]  sum|grad|:  0.2911798470035293\n",
      " grad: [-0.0057, 0.0049, -0.0077, 0.1219, 0.0005, 0.0, 0.0052, -0.0968, -0.0067, 0.009, -0.0298, 0.0005, 0.0]  sum|grad|:  0.2886555056364278\n",
      " grad: [-0.0056, 0.0047, -0.0075, 0.1211, 0.0005, 0.0, 0.0051, -0.0961, -0.0067, 0.0089, -0.0296, 0.0004, 0.0]  sum|grad|:  0.2861928609226826\n",
      " grad: [-0.0055, 0.0045, -0.0074, 0.1203, 0.0005, 0.0, 0.005, -0.0955, -0.0067, 0.0088, -0.0294, 0.0003, 0.0]  sum|grad|:  0.28378967161051305\n",
      " grad: [-0.0054, 0.0044, -0.0072, 0.1195, 0.0004, 0.0, 0.0048, -0.0949, -0.0066, 0.0087, -0.0292, 0.0002, 0.0]  sum|grad|:  0.28144379740098263\n",
      " grad: [-0.0053, 0.0042, -0.007, 0.1188, 0.0004, 0.0, 0.0047, -0.0942, -0.0066, 0.0086, -0.029, 0.0001, 0.0]  sum|grad|:  0.279153193448645\n",
      " grad: [-0.0053, 0.0041, -0.0069, 0.1181, 0.0004, 0.0, 0.0046, -0.0936, -0.0065, 0.0086, -0.0288, 0.0, 0.0]  sum|grad|:  0.27691590522107606\n",
      " grad: [-0.0052, 0.004, -0.0067, 0.1173, 0.0004, 0.0, 0.0045, -0.093, -0.0065, 0.0085, -0.0286, -0.0001, 0.0]  sum|grad|:  0.2748397926412778\n",
      " grad: [-0.0051, 0.0038, -0.0066, 0.1166, 0.0004, 0.0, 0.0044, -0.0924, -0.0064, 0.0084, -0.0284, -0.0001, 0.0]  sum|grad|:  0.2728813869222575\n",
      " grad: [-0.005, 0.0037, -0.0065, 0.1159, 0.0004, 0.0, 0.0044, -0.0919, -0.0064, 0.0084, -0.0283, -0.0002, 0.0]  sum|grad|:  0.2709650343789495\n",
      " grad: [-0.005, 0.0036, -0.0063, 0.1153, 0.0003, 0.0, 0.0043, -0.0913, -0.0064, 0.0083, -0.0281, -0.0003, 0.0]  sum|grad|:  0.2690893145810028\n",
      " grad: [-0.0049, 0.0035, -0.0062, 0.1146, 0.0003, 0.0, 0.0042, -0.0907, -0.0063, 0.0082, -0.0279, -0.0004, 0.0]  sum|grad|:  0.2672528636030942\n",
      " grad: [-0.0048, 0.0034, -0.0061, 0.1139, 0.0003, 0.0, 0.0041, -0.0902, -0.0063, 0.0082, -0.0277, -0.0005, 0.0]  sum|grad|:  0.2654543717494818\n",
      " grad: [-0.0048, 0.0033, -0.006, 0.1133, 0.0003, 0.0, 0.004, -0.0896, -0.0063, 0.0081, -0.0276, -0.0005, 0.0]  sum|grad|:  0.26369258134894474\n",
      " grad: [-0.0047, 0.0031, -0.0059, 0.1126, 0.0003, 0.0, 0.0039, -0.0891, -0.0062, 0.008, -0.0274, -0.0006, 0.0]  sum|grad|:  0.26196628462512594\n",
      " grad: [-0.0046, 0.003, -0.0058, 0.112, 0.0003, 0.0, 0.0039, -0.0886, -0.0062, 0.008, -0.0272, -0.0007, 0.0]  sum|grad|:  0.2602743216386016\n",
      " grad: [-0.0046, 0.0029, -0.0057, 0.1114, 0.0002, 0.0, 0.0038, -0.0881, -0.0062, 0.0079, -0.0271, -0.0008, 0.0]  sum|grad|:  0.2586155783037054\n",
      " grad: [-0.0045, 0.0028, -0.0056, 0.1108, 0.0002, 0.0, 0.0037, -0.0876, -0.0061, 0.0078, -0.0269, -0.0008, 0.0]  sum|grad|:  0.2569889844779565\n",
      " grad: [-0.0045, 0.0028, -0.0055, 0.1102, 0.0002, 0.0, 0.0036, -0.0871, -0.0061, 0.0078, -0.0268, -0.0009, 0.0]  sum|grad|:  0.2553935121242988\n",
      " grad: [-0.0044, 0.0027, -0.0054, 0.1096, 0.0002, 0.0, 0.0036, -0.0866, -0.0061, 0.0077, -0.0266, -0.0009, 0.0]  sum|grad|:  0.25382817354244736\n",
      " grad: [-0.0044, 0.0026, -0.0053, 0.109, 0.0002, 0.0, 0.0035, -0.0861, -0.006, 0.0077, -0.0265, -0.001, 0.0]  sum|grad|:  0.252292019672441\n",
      " grad: [-0.0043, 0.0025, -0.0053, 0.1085, 0.0002, 0.0, 0.0034, -0.0856, -0.006, 0.0076, -0.0263, -0.0011, 0.0]  sum|grad|:  0.25078413846237124\n",
      " grad: [-0.0043, 0.0024, -0.0052, 0.1079, 0.0002, 0.0, 0.0034, -0.0852, -0.006, 0.0075, -0.0262, -0.0011, 0.0]  sum|grad|:  0.24930365330640264\n",
      " grad: [-0.0042, 0.0023, -0.0051, 0.1073, 0.0002, 0.0, 0.0033, -0.0847, -0.0059, 0.0075, -0.026, -0.0012, 0.0]  sum|grad|:  0.24784972154260604\n",
      " grad: [-0.0042, 0.0023, -0.0051, 0.1068, 0.0001, 0.0, 0.0032, -0.0843, -0.0059, 0.0074, -0.0259, -0.0012, 0.0]  sum|grad|:  0.2464215330165061\n",
      " grad: [-0.0041, 0.0022, -0.005, 0.1063, 0.0001, 0.0, 0.0032, -0.0838, -0.0059, 0.0074, -0.0258, -0.0013, 0.0]  sum|grad|:  0.2450183087023003\n",
      " grad: [-0.0041, 0.0021, -0.0049, 0.1057, 0.0001, 0.0, 0.0031, -0.0834, -0.0059, 0.0073, -0.0256, -0.0013, 0.0]  sum|grad|:  0.2436392993845331\n",
      " grad: [-0.004, 0.002, -0.0049, 0.1052, 0.0001, 0.0, 0.0031, -0.083, -0.0058, 0.0073, -0.0255, -0.0014, 0.0]  sum|grad|:  0.24228378439327597\n",
      " grad: [-0.004, 0.002, -0.0048, 0.1047, 0.0001, 0.0, 0.003, -0.0826, -0.0058, 0.0072, -0.0254, -0.0014, 0.0]  sum|grad|:  0.2409510703957663\n",
      " grad: [-0.004, 0.0019, -0.0048, 0.1042, 0.0001, 0.0, 0.003, -0.0821, -0.0058, 0.0071, -0.0252, -0.0015, 0.0]  sum|grad|:  0.23964049023921574\n",
      " grad: [-0.0039, 0.0018, -0.0047, 0.1037, 0.0001, 0.0, 0.0029, -0.0817, -0.0057, 0.0071, -0.0251, -0.0015, 0.0]  sum|grad|:  0.23835140184298947\n",
      " grad: [-0.0039, 0.0018, -0.0047, 0.1032, 0.0001, 0.0, 0.0029, -0.0813, -0.0057, 0.007, -0.025, -0.0015, 0.0]  sum|grad|:  0.23708318714003718\n",
      " grad: [-0.0039, 0.0017, -0.0047, 0.1027, 0.0, 0.0, 0.0028, -0.0809, -0.0057, 0.007, -0.0249, -0.0016, 0.0]  sum|grad|:  0.23583525106437714\n",
      " grad: [-0.0038, 0.0017, -0.0046, 0.1022, 0.0, 0.0, 0.0028, -0.0805, -0.0057, 0.0069, -0.0247, -0.0016, 0.0]  sum|grad|:  0.23460702058187016\n",
      " grad: [-0.0038, 0.0016, -0.0046, 0.1017, 0.0, 0.0, 0.0027, -0.0801, -0.0056, 0.0069, -0.0246, -0.0017, 0.0]  sum|grad|:  0.23339794376498063\n",
      "Epochs:100 Total Time: 50.491235971450806 sec\n"
     ]
    }
   ],
   "source": [
    "start = time.time()\n",
    "epochs, lr = 100, 1.\n",
    "R = max_ent_irl(trajectories, gw.get_state_grid_features_matrix(), \n",
    "                gw.gamma, gw.nA, gw.T, \n",
    "                epochs, lr, \n",
    "                phi, vi_eps=1e-6, silent=False)\n",
    "print(\"Epochs:{} Total Time: {} sec\".format(epochs, time.time()-start))"
   ]
  },
  {
   "cell_type": "code",
   "execution_count": 5,
   "metadata": {},
   "outputs": [
    {
     "data": {
      "image/png": "[encoded data removed]",
      "text/plain": [
       "<matplotlib.figure.Figure at 0x10b8b80f0>"
      ]
     },
     "metadata": {},
     "output_type": "display_data"
    }
   ],
   "source": [
    "compare_grid_data(gw.R, R, gw.height, gw.width, suffix=\"reward \", title2=\"MaxEnt inferred. \\nIter={}, lr={}\".format(epochs, lr), grid=book_grid)"
   ]
  },
  {
   "cell_type": "code",
   "execution_count": 6,
   "metadata": {},
   "outputs": [
    {
     "name": "stdout",
     "output_type": "stream",
     "text": [
      "-0.04\t-0.04\t-0.04\t1.00\t\n",
      "-0.04\t-0.50\t-0.04\t-1.00\t\n",
      "-0.04\t-0.04\t-0.04\t-0.04\t\n",
      "Absorbing state: 0.00\n"
     ]
    }
   ],
   "source": [
    "gw.disp_custom_grid(gw.R, formatting=lambda x: \"{:.2f}\".format(x))"
   ]
  },
  {
   "cell_type": "code",
   "execution_count": 7,
   "metadata": {},
   "outputs": [
    {
     "name": "stdout",
     "output_type": "stream",
     "text": [
      "-0.75\t0.96\t-0.69\t16.05\t\n",
      "0.99\t0.93\t2.58\t-12.07\t\n",
      "-1.21\t1.81\t-4.56\t0.88\t\n",
      "Absorbing state: 0.00\n"
     ]
    }
   ],
   "source": [
    "gw.disp_custom_grid(R, formatting=lambda x: \"{:.2f}\".format(x))"
   ]
  }
 ],
 "metadata": {
  "kernelspec": {
   "display_name": "littman_irl_python3",
   "language": "python",
   "name": "littman_irl_python3"
  },
  "language_info": {
   "codemirror_mode": {
    "name": "ipython",
    "version": 3
   },
   "file_extension": ".py",
   "mimetype": "text/x-python",
   "name": "python",
   "nbconvert_exporter": "python",
   "pygments_lexer": "ipython3",
   "version": "3.6.1"
  }
 },
 "nbformat": 4,
 "nbformat_minor": 2
}
