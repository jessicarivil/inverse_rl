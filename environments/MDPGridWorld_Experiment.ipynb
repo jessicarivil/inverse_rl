{
 "cells": [
  {
   "cell_type": "code",
   "execution_count": 1,
   "metadata": {},
   "outputs": [],
   "source": [
    "import math\n",
    "import numpy as np\n",
    "from MDPGridWorld import *"
   ]
  },
  {
   "cell_type": "code",
   "execution_count": 2,
   "metadata": {},
   "outputs": [
    {
     "name": "stdout",
     "output_type": "stream",
     "text": [
      "_____\t_____\t_____\t+100_\t\n",
      "_____\t__#__\t_____\t-100_\t\n",
      "__@__\t_____\t_____\t_____\t\n",
      "\n"
     ]
    }
   ],
   "source": [
    "book_grid = [[' ',' ',' ',+100],\n",
    "            [' ','#',' ',-100],\n",
    "            ['@',' ',' ',' ']]\n",
    "\n",
    "gw = MDPGridWorld(book_grid, silent=False)"
   ]
  },
  {
   "cell_type": "code",
   "execution_count": 3,
   "metadata": {},
   "outputs": [
    {
     "name": "stdout",
     "output_type": "stream",
     "text": [
      "_____\t_____\t_____\t+100_\t\n",
      "__@__\t__#__\t_____\t-100_\t\n",
      "_____\t_____\t_____\t_____\t\n",
      "\n"
     ]
    }
   ],
   "source": [
    "gw.curr_state_idx = gw.sample_next_state(gw.curr_state_idx, MDPGridWorld.North)\n",
    "print(gw)"
   ]
  },
  {
   "cell_type": "code",
   "execution_count": 4,
   "metadata": {},
   "outputs": [
    {
     "name": "stdout",
     "output_type": "stream",
     "text": [
      "States (fused into a single grid-bc it's possible to do so here):\n",
      "0\t1\t2\t3\t\n",
      "4\t5\t6\t7\t\n",
      "8\t9\t10\t11\t\n",
      "Absorbing state: 12\n"
     ]
    }
   ],
   "source": [
    "print(\"States (fused into a single grid-bc it's possible to do so here):\")\n",
    "gw.disp_custom_grid(range(gw.nS), formatting=lambda x: str(x))"
   ]
  },
  {
   "cell_type": "code",
   "execution_count": 5,
   "metadata": {},
   "outputs": [
    {
     "name": "stdout",
     "output_type": "stream",
     "text": [
      "Optimal Value:\n",
      "95.118\t96.481\t97.712\t100.000\t\n",
      "93.919\t-9999999905.440\t89.378\t-100.000\t\n",
      "92.592\t91.425\t90.174\t81.809\t\n",
      "Absorbing state: 0.000\n",
      "\n",
      "Optimal Policy:\n",
      "East\tEast\tEast\tNorth\t\n",
      "North\tNorth\tWest\tNorth\t\n",
      "North\tWest\tWest\tSouth\t\n",
      "Absorbing state: North\n"
     ]
    }
   ],
   "source": [
    "vi = run_value_iteration(gw.T, gw.R, gw.gamma)\n",
    "print(\"Optimal Value:\")\n",
    "gw.disp_custom_grid(vi.V, formatting=lambda x: \"{:.3f}\".format(x))\n",
    "print(\"\\nOptimal Policy:\")\n",
    "gw.disp_custom_grid(vi.policy, lambda x: \"{:}\".format(gw.actions_name[x]))"
   ]
  },
  {
   "cell_type": "markdown",
   "metadata": {},
   "source": [
    "## Sampling Trajectories"
   ]
  },
  {
   "cell_type": "code",
   "execution_count": 6,
   "metadata": {},
   "outputs": [
    {
     "name": "stdout",
     "output_type": "stream",
     "text": [
      "[(6, 3, -0.01), (6, 3, -0.01), (10, 3, -0.01), (9, 3, -0.01), (8, 0, -0.01), (4, 0, -0.01)]\n",
      "s:\n",
      "_____\t_____\t_____\t+100_\t\n",
      "_____\t__#__\t__@__\t-100_\t\n",
      "_____\t_____\t_____\t_____\t\n",
      "\n",
      "a:  West\n",
      "r:  -0.01\n",
      "s:\n",
      "_____\t_____\t_____\t+100_\t\n",
      "_____\t__#__\t__@__\t-100_\t\n",
      "_____\t_____\t_____\t_____\t\n",
      "\n",
      "a:  West\n",
      "r:  -0.01\n",
      "s:\n",
      "_____\t_____\t_____\t+100_\t\n",
      "_____\t__#__\t_____\t-100_\t\n",
      "_____\t_____\t__@__\t_____\t\n",
      "\n",
      "a:  West\n",
      "r:  -0.01\n",
      "s:\n",
      "_____\t_____\t_____\t+100_\t\n",
      "_____\t__#__\t_____\t-100_\t\n",
      "_____\t__@__\t_____\t_____\t\n",
      "\n",
      "a:  West\n",
      "r:  -0.01\n",
      "s:\n",
      "_____\t_____\t_____\t+100_\t\n",
      "_____\t__#__\t_____\t-100_\t\n",
      "__@__\t_____\t_____\t_____\t\n",
      "\n",
      "a:  North\n",
      "r:  -0.01\n",
      "s:\n",
      "_____\t_____\t_____\t+100_\t\n",
      "__@__\t__#__\t_____\t-100_\t\n",
      "_____\t_____\t_____\t_____\t\n",
      "\n",
      "a:  North\n",
      "r:  -0.01\n"
     ]
    }
   ],
   "source": [
    "tau = gw.sample_trajectory(init_state_idx=\"random\", max_length=5)\n",
    "print(tau)\n",
    "gw.interpret_trajectory(tau)"
   ]
  },
  {
   "cell_type": "code",
   "execution_count": 7,
   "metadata": {},
   "outputs": [
    {
     "name": "stdout",
     "output_type": "stream",
     "text": [
      "T000: [(6, 3, -0.01), (6, 3, -0.01), (2, 1, 100.0), (3, 0, 0.0), (12, 0, 0.0), (12, 0, 0.0), (12, 0, 0.0), (12, 0, 0.0), (12, 0, 0.0), (12, 0, 0.0), (12, 0, 0.0)]\n",
      "T001: [(11, 2, -0.01), (11, 2, -0.01), (10, 3, -0.01), (9, 3, -0.01), (8, 0, -0.01), (9, 3, -0.01), (9, 3, -0.01), (8, 0, -0.01), (4, 0, -0.01), (0, 1, -0.01), (1, 1, -0.01)]\n",
      "T002: [(6, 3, -0.01), (6, 3, -0.01), (6, 3, -0.01), (6, 3, -0.01), (6, 3, -0.01), (6, 3, -0.01), (6, 3, -0.01), (2, 1, 100.0), (3, 0, 0.0), (12, 0, 0.0), (12, 0, 0.0)]\n",
      "T003: [(0, 1, -0.01), (1, 1, -0.01), (2, 1, -0.01), (6, 3, -0.01), (2, 1, 100.0), (3, 0, 0.0), (12, 0, 0.0), (12, 0, 0.0), (12, 0, 0.0), (12, 0, 0.0), (12, 0, 0.0)]\n",
      "T004: [(6, 3, -0.01), (6, 3, -0.01), (6, 3, -0.01), (6, 3, -0.01), (6, 3, -0.01), (6, 3, -0.01), (6, 3, -0.01), (6, 3, -0.01), (10, 3, -0.01), (6, 3, -0.01), (10, 3, -0.01)]\n",
      "T005: [(1, 1, -0.01), (2, 1, -0.01), (2, 1, 100.0), (3, 0, 0.0), (12, 0, 0.0), (12, 0, 0.0), (12, 0, 0.0), (12, 0, 0.0), (12, 0, 0.0), (12, 0, 0.0), (12, 0, 0.0)]\n",
      "T006: [(0, 1, -0.01), (1, 1, -0.01), (2, 1, 100.0), (3, 0, 0.0), (12, 0, 0.0), (12, 0, 0.0), (12, 0, 0.0), (12, 0, 0.0), (12, 0, 0.0), (12, 0, 0.0), (12, 0, 0.0)]\n",
      "T007: [(4, 0, -0.01), (0, 1, -0.01), (1, 1, -0.01), (1, 1, -0.01), (1, 1, -0.01), (2, 1, -0.01), (2, 1, -0.01), (2, 1, 100.0), (3, 0, 0.0), (12, 0, 0.0), (12, 0, 0.0)]\n",
      "T008: [(7, 0, 0.0), (12, 0, 0.0), (12, 0, 0.0), (12, 0, 0.0), (12, 0, 0.0), (12, 0, 0.0), (12, 0, 0.0), (12, 0, 0.0), (12, 0, 0.0), (12, 0, 0.0), (12, 0, 0.0)]\n",
      "T009: [(3, 0, 0.0), (12, 0, 0.0), (12, 0, 0.0), (12, 0, 0.0), (12, 0, 0.0), (12, 0, 0.0), (12, 0, 0.0), (12, 0, 0.0), (12, 0, 0.0), (12, 0, 0.0), (12, 0, 0.0)]\n"
     ]
    }
   ],
   "source": [
    "tau_list = gw.sample_trajectories(10, max_length=10)\n",
    "for i, tau in enumerate(tau_list): print(\"T{:03d}: {}\".format(i, tau))"
   ]
  },
  {
   "cell_type": "code",
   "execution_count": null,
   "metadata": {},
   "outputs": [],
   "source": []
  }
 ],
 "metadata": {
  "kernelspec": {
   "display_name": "littman_irl_python3",
   "language": "python",
   "name": "littman_irl_python3"
  },
  "language_info": {
   "codemirror_mode": {
    "name": "ipython",
    "version": 3
   },
   "file_extension": ".py",
   "mimetype": "text/x-python",
   "name": "python",
   "nbconvert_exporter": "python",
   "pygments_lexer": "ipython3",
   "version": "3.6.1"
  }
 },
 "nbformat": 4,
 "nbformat_minor": 2
}
