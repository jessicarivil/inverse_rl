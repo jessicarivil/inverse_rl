{
 "cells": [
  {
   "cell_type": "markdown",
   "metadata": {},
   "source": [
    "# RHIRL [1]"
   ]
  },
  {
   "cell_type": "code",
   "execution_count": 1,
   "metadata": {},
   "outputs": [
    {
     "name": "stdout",
     "output_type": "stream",
     "text": [
      "Warning: OpenAI gym not installed.\n"
     ]
    }
   ],
   "source": [
    "import time\n",
    "import numpy as np\n",
    "import tensorflow as tf\n",
    "from collections import defaultdict\n",
    "\n",
    "from simple_rl.tasks import NavigationMDP\n",
    "from simple_rl.agents import QLearningAgent\n",
    "from simple_rl.planning import ValueIteration\n",
    "from simple_rl.tasks.grid_world.GridWorldStateClass import GridWorldState\n",
    "\n",
    "import matplotlib.pyplot as plt\n",
    "%matplotlib inline\n",
    "%load_ext autoreload\n",
    "%autoreload 2"
   ]
  },
  {
   "cell_type": "markdown",
   "metadata": {},
   "source": [
    "## Experiment 5.1\n",
    "\n",
    "### Navigation MDP\n",
    "\n",
    "It's defined using simple rl framework [3]"
   ]
  },
  {
   "cell_type": "code",
   "execution_count": 2,
   "metadata": {},
   "outputs": [],
   "source": [
    "np.random.seed(0)\n",
    "tf.set_random_seed(0)\n",
    "nvmdp = NavigationMDP(width=30, \n",
    "                        height=30, \n",
    "                        goal_locs=[(21,21)], \n",
    "                        init_loc=(1,1), \n",
    "                        rand_init=True,\n",
    "                        cell_types=[\"empty\", \"yellow\", \"red\", \"green\", \"purple\"],\n",
    "                        cell_type_rewards=[0, 0, -10, -10, -10],\n",
    "                        goal_reward=1.,\n",
    "                        slip_prob=0.00,\n",
    "                        step_cost=0.0,\n",
    "                        gamma=.99)\n",
    "\n",
    "value_iter = ValueIteration(nvmdp, sample_rate=100)\n",
    "_ = value_iter.run_vi()"
   ]
  },
  {
   "cell_type": "code",
   "execution_count": 3,
   "metadata": {},
   "outputs": [
    {
     "data": {
      "image/png": "[encoded data removed]",
      "text/plain": [
       "<Figure size 504x504 with 2 Axes>"
      ]
     },
     "metadata": {},
     "output_type": "display_data"
    }
   ],
   "source": [
    "nvmdp.visualize_grid(nvmdp.cells, show_rewards_cbar=True)"
   ]
  },
  {
   "cell_type": "code",
   "execution_count": 4,
   "metadata": {},
   "outputs": [],
   "source": [
    "def sample_data(nvmdp, n_trajectory):\n",
    "    \"\"\"\n",
    "    Args:\n",
    "        n_trajectory: number of trajectories to sample\n",
    "\n",
    "    Returns:\n",
    "        [[phi(s1), phi(s3), ...], [phi(s1), phi(s3), ...], ...], where phi is one-hot encoded vector \n",
    "                of the cell type of a given state  \n",
    "    \"\"\"\n",
    "    A_s = []\n",
    "    D_mdp_states = []\n",
    "    \n",
    "    action_to_idx = {a:i for i,a in enumerate(nvmdp.actions)}\n",
    "    \n",
    "    for _ in range(n_trajectory):\n",
    "        action_seq, state_seq = value_iter.plan(nvmdp.get_random_init_state())\n",
    "        #print(len(action_seq), len(state_seq))\n",
    "        D_mdp_states.append(state_seq)\n",
    "        A_s.append([action_to_idx[a] for a in action_seq])\n",
    "    return D_mdp_states, A_s\n",
    "\n",
    "def feature_long_horizon(nvmdp, x, y):\n",
    "    \n",
    "    row,col = nvmdp._xy_to_rowcol(x,y)\n",
    "    if (x, y) in nvmdp.goal_locs:\n",
    "        return np.zeros(len(nvmdp.cell_types), dtype=np.float32)\n",
    "    else:\n",
    "        return np.eye(len(nvmdp.cell_types))[nvmdp.cells[row, col]]\n",
    "    \n",
    "def feature_short_horizon(nvmdp, x, y):\n",
    "    row,col = nvmdp._xy_to_rowcol(x,y)\n",
    "    return np.hstack((feature_long_horizon(nvmdp, x, y), nvmdp.get_cell_distance_features()[row, col]))"
   ]
  },
  {
   "cell_type": "markdown",
   "metadata": {},
   "source": [
    "### Training Data: \n",
    "Set of trajectories D = $\\{\\tau_0, \\tau_1, ..., \\tau_N\\}$  where  $\\tau = [(s_0,a_0), (s_1,a_1), ..., (s_T,a_T)]$"
   ]
  },
  {
   "cell_type": "code",
   "execution_count": 5,
   "metadata": {},
   "outputs": [],
   "source": [
    "np.random.seed(0)\n",
    "N_tau = 8\n",
    "phi_long=lambda mdp_state: feature_long_horizon(nvmdp, mdp_state.x, mdp_state.y)\n",
    "phi_short=lambda mdp_state: feature_short_horizon(nvmdp, mdp_state.x, mdp_state.y)\n",
    "D_mdp_states, A_s = sample_data(nvmdp, N_tau)"
   ]
  },
  {
   "cell_type": "code",
   "execution_count": 6,
   "metadata": {},
   "outputs": [
    {
     "data": {
      "image/png": "[encoded data removed]",
      "text/plain": [
       "<Figure size 504x504 with 2 Axes>"
      ]
     },
     "metadata": {},
     "output_type": "display_data"
    }
   ],
   "source": [
    "nvmdp.visualize_grid(trajectories=D_mdp_states, show_rewards_cbar=True)"
   ]
  },
  {
   "cell_type": "markdown",
   "metadata": {},
   "source": [
    "### Features"
   ]
  },
  {
   "cell_type": "code",
   "execution_count": 7,
   "metadata": {},
   "outputs": [],
   "source": [
    "def states_to_features(states, phi):\n",
    "    return np.asarray([phi(s) for s in states], dtype=np.float32)\n",
    "\n",
    "def states_to_coord(states, phi):\n",
    "    return np.asarray([(s.x, s.y) for s in states], dtype=np.float32)\n",
    "\n",
    "def get_h_transitions_heap(state, phi, T, actions, h):\n",
    "    \n",
    "    frontier = [(state, 0, 0)] # for i, a in enumerate(range(len(actions)))] # BFS frontier: [(state, heap_idx, depth), ...]\n",
    "    heap = [state] # for a in range(len(actions))]\n",
    "    parents = [None]\n",
    "    parent_idx = [-1]\n",
    "    depths = [0] # for a in range(len(actions))]\n",
    "    idx = 0\n",
    "    \n",
    "    while len(frontier) != 0:\n",
    "        \n",
    "        state, heap_idx, d = frontier.pop(0)\n",
    "        \n",
    "        if d >= h:\n",
    "            break\n",
    "            \n",
    "        for a in actions:\n",
    "            state_prime = T(state, a)\n",
    "            frontier.append((state_prime, idx+1, d+1))\n",
    "            heap.append(state_prime)\n",
    "            depths.append(d+1)\n",
    "            parents.append(state)\n",
    "            parent_idx.append(heap_idx)\n",
    "            idx += 1\n",
    "            \n",
    "    return states_to_features(heap, phi), np.array(depths, np.int32), parents, np.asarray(parent_idx)\n",
    "\n",
    "def get_training_data(state, phi, T, actions, h):\n",
    "    \n",
    "    state_feature_tree, state_depths, _, parent_idx = get_h_transitions_heap(state, phi, T, actions, h)\n",
    "    next_state_marker = np.asarray([parent_idx==i for i in range(len(state_feature_tree))], dtype=np.float32)\n",
    "    tf_sft = np.array([np.where(state_depths.reshape(-1,1) == i, state_feature_tree, np.zeros_like(state_feature_tree)) for i in range(h)][::-1])\n",
    "    return tf_sft, state_feature_tree, state_depths, next_state_marker"
   ]
  },
  {
   "cell_type": "markdown",
   "metadata": {},
   "source": [
    "### Horizon limited State Feature Tree\n",
    "\n",
    "- Represent tree of depth h as a heap, where tree is rooted at each (s,a) of D and generated by known dynamics function. We assume R is linearly related to the features of a state so $R=f(\\phi(S),W_r)$. For each visited state in the tree, we use features of that state in building the heap (called sft here)."
   ]
  },
  {
   "cell_type": "code",
   "execution_count": 19,
   "metadata": {},
   "outputs": [],
   "source": [
    "gamma = 0.9999\n",
    "h = 3\n",
    "nA = len(nvmdp.actions)\n",
    "phi = phi_short if h < 45 else phi_long\n",
    "phi_s_dim = len(phi(nvmdp.get_random_init_state()))\n",
    "sft, state_feature_tree, state_depths, next_state_marker = get_training_data(D_mdp_states[0][0], phi, nvmdp.transition_func, nvmdp.actions, h)\n",
    "heap_size = len(state_depths)"
   ]
  },
  {
   "cell_type": "markdown",
   "metadata": {},
   "source": [
    "### RHIRL using TensorFlow Static Graph\n",
    "This is inspired from [2]"
   ]
  },
  {
   "cell_type": "code",
   "execution_count": 20,
   "metadata": {},
   "outputs": [],
   "source": [
    "def compute_cell_rewards(nvmdp, w_r):\n",
    "    r_map = np.zeros((nvmdp.height, nvmdp.width), dtype=np.float32)\n",
    "    for row in range(nvmdp.height):\n",
    "        for col in range(nvmdp.width):\n",
    "            x, y = nvmdp._rowcol_to_xy(row, col)\n",
    "            r_map[row, col] = feature_short_horizon(nvmdp, x, y).dot(w)[0]\n",
    "    return r_map"
   ]
  },
  {
   "cell_type": "code",
   "execution_count": 21,
   "metadata": {},
   "outputs": [],
   "source": [
    "tf.reset_default_graph()\n",
    "\n",
    "def ComputeValue(W_r, V, Pi, V_pad, tf_sft, i):\n",
    "\n",
    "        Phi_S = tf.gather(tf_sft, i) # For i=0, this should give h-1 step features\n",
    "        R = tf.matmul(Phi_S, W_r, name=\"R\")\n",
    "        V_prev = tf.expand_dims(V.read(i, name=\"V_prev\"), -1) # For i=0, this will read hth step values which are 0\n",
    "        Q_h = tf.squeeze(tf.add(R, tf.multiply(gamma, V_prev), name=\"Q\"))\n",
    "        Q_h = tf.reshape(Q_h[1:], (-1, nA), \"Q_sa_reshaped\")\n",
    "        Pi_h = tf.nn.softmax(Q_h, axis=-1, name=\"Pi_h\")\n",
    "        V_h = tf.reduce_sum(tf.multiply(Q_h, Pi_h), axis=-1, name=\"V\")\n",
    "        V_h = tf.squeeze(tf.pad(tf.reshape(V_h, [-1,1]), [[0, V_pad], [0, 0]], 'CONSTANT'))\n",
    "        V = V.write(tf.add(i,1), V_h, name=\"V_update\")\n",
    "        #Pi = Pi.write(tf.add(i,1), Pi_h, name=\"Pi_update\")\n",
    "        i = tf.add(i, 1)\n",
    "        return W_r, V, Pi_h, V_pad, sft, i\n",
    "\n",
    "def run_RHC(heap_size, W_r, Pi, tf_sft, h):\n",
    "\n",
    "    V = tf.TensorArray(tf.float32, size=0, dynamic_size=True,\n",
    "                             clear_after_read=False, infer_shape=False, name=\"V_array\")\n",
    "    V = V.write(0,  np.zeros(heap_size, dtype=np.float32), name=\"V_array_0\")\n",
    "    V_pad = tf.constant( int(( nA * (1-nA**(h))/(1-nA) ) - ( nA * (1-nA**(h-1))/(1-nA) )), dtype=tf.int32)\n",
    "\n",
    "    loop_cond = lambda W_r, V, Pi, V_pad, sft, i: tf.less(i, h-1, name=\"compute_value_end\")\n",
    "    W_r, V, Pi, V_pad, sft, i = tf.while_loop(loop_cond, ComputeValue, [W_r, V, Pi, V_pad, tf_sft, 0], \n",
    "                                              parallel_iterations=1, name=\"compute_value_loop\")\n",
    "    return V, Pi\n",
    "\n",
    "def build_rhirl_graph(heap_size):\n",
    "    \n",
    "    g = tf.Graph()\n",
    "    with g.as_default():\n",
    "        tf.set_random_seed(0)\n",
    "        Pi_ = tf.placeholder(dtype=tf.float32, name=\"Pi_init\")\n",
    "        tf_sft = tf.placeholder(tf.float32, name=\"state_feature_tree\")\n",
    "        action_idx = tf.placeholder(tf.int32, name=\"action_idx\")\n",
    "        lr = tf.placeholder(tf.float32, name=\"learning_rate\")\n",
    "        # W_r = tf.get_variable(\"W_r\", dtype=tf.float32, initializer=tf.fill((phi_s_dim, 1), 0.)) # good prior\n",
    "        W_r = tf.get_variable(\"W_r\", dtype=tf.float32, initializer=tf.random_uniform((phi_s_dim, 1), 0, 0.1)) # better?\n",
    "        V, Pi_r = run_RHC(heap_size, W_r, Pi_, tf_sft, h)\n",
    "        log_likelihood = -tf.log(Pi_r[0, action_idx])\n",
    "        W_grad = tf.gradients(log_likelihood, W_r, name=\"gradients_w_r\")\n",
    "        sgd = tf.train.GradientDescentOptimizer(learning_rate=lr)\n",
    "        adam = tf.train.AdamOptimizer(learning_rate=lr)\n",
    "        updateWeights = adam.apply_gradients(zip(W_grad, [W_r]), name=\"update_w_r\")\n",
    "        prob_summary = tf.summary.scalar('P_s_a', Pi_r[0, action_idx])\n",
    "    return g, Pi_r, W_r, W_grad, updateWeights"
   ]
  },
  {
   "cell_type": "code",
   "execution_count": 22,
   "metadata": {},
   "outputs": [],
   "source": [
    "tf.set_random_seed(0)"
   ]
  },
  {
   "cell_type": "code",
   "execution_count": 23,
   "metadata": {},
   "outputs": [
    {
     "data": {
      "text/plain": [
       "415"
      ]
     },
     "execution_count": 23,
     "metadata": {},
     "output_type": "execute_result"
    }
   ],
   "source": [
    "g1, Pi_r, W_r, W_grad, updateWeights = build_rhirl_graph(heap_size)\n",
    "len(g1.get_operations())"
   ]
  },
  {
   "cell_type": "markdown",
   "metadata": {},
   "source": [
    "### Check gradients\n",
    "Try to overfit the model: provide single sample and optimize over Pi(s_0, a_0)"
   ]
  },
  {
   "cell_type": "code",
   "execution_count": 24,
   "metadata": {},
   "outputs": [
    {
     "data": {
      "text/plain": [
       "([<matplotlib.lines.Line2D at 0x132b622b0>],\n",
       " Text(0.5,1,'p(s_0,a)'),\n",
       " Text(0.5,0,'iter'),\n",
       " Text(0,0.5,'P'))"
      ]
     },
     "execution_count": 24,
     "metadata": {},
     "output_type": "execute_result"
    },
    {
     "data": {
      "image/png": "[encoded data removed]",
      "text/plain": [
       "<Figure size 432x288 with 1 Axes>"
      ]
     },
     "metadata": {},
     "output_type": "display_data"
    }
   ],
   "source": [
    "with tf.Session(graph=g1) as sess:\n",
    "    sess.run(tf.global_variables_initializer())\n",
    "    writer = tf.summary.FileWriter('./graphs', sess.graph)\n",
    "    sft, _, __, ___ = get_training_data(D_mdp_states[0][0], phi, nvmdp.transition_func, nvmdp.actions, h)\n",
    "    feed_dict = {\"state_feature_tree:0\": sft, \"action_idx:0\": 0, \n",
    "                 \"learning_rate:0\":0.5, \"Pi_init:0\": np.zeros((heap_size, nA), np.float32)}\n",
    "    p_vals = []\n",
    "    for i in range(10):\n",
    "        pi, grad, ugrad = sess.run(fetches=[Pi_r, W_grad, updateWeights], feed_dict=feed_dict)\n",
    "        p_vals.append(pi[0, 0])\n",
    "\n",
    "writer.close()\n",
    "plt.plot(p_vals), plt.title(\"p(s_0,a)\"), plt.xlabel(\"iter\"), plt.ylabel(\"P\")"
   ]
  },
  {
   "cell_type": "markdown",
   "metadata": {},
   "source": [
    "### RHIRL training H = 3"
   ]
  },
  {
   "cell_type": "code",
   "execution_count": 25,
   "metadata": {},
   "outputs": [
    {
     "data": {
      "text/plain": [
       "415"
      ]
     },
     "execution_count": 25,
     "metadata": {},
     "output_type": "execute_result"
    }
   ],
   "source": [
    "gamma = 0.9999\n",
    "h = 3\n",
    "nA = len(nvmdp.actions)\n",
    "phi = phi_short if h < 45 else phi_long\n",
    "phi_s_dim = len(phi(nvmdp.get_random_init_state()))\n",
    "sft, state_feature_tree, state_depths, next_state_marker = get_training_data(D_mdp_states[0][0], phi, nvmdp.transition_func, nvmdp.actions, h)\n",
    "heap_size = len(state_depths)\n",
    "g1, Pi_r, W_r, W_grad, updateWeights = build_rhirl_graph(heap_size)\n",
    "len(g1.get_operations())"
   ]
  },
  {
   "cell_type": "code",
   "execution_count": 27,
   "metadata": {},
   "outputs": [
    {
     "name": "stdout",
     "output_type": "stream",
     "text": [
      "Epoch 0:\n",
      "\t P(s: (18,2), a: 2): 0.25862112641334534\n",
      "\t P(s: (3,20), a: 3): 0.007068939972668886\n",
      "\t P(s: (13,12), a: 3): 0.00519985007122159\n",
      "\t P(s: (16,30), a: 3): 0.013576441444456577\n",
      "\t P(s: (5,16), a: 3): 0.14442503452301025\n",
      "\t P(s: (16,27), a: 3): 0.07559795677661896\n",
      "\t P(s: (3,6), a: 3): 0.23555774986743927\n",
      "\t P(s: (11,10), a: 3): 0.04074372723698616\n",
      "Epoch 1:\n",
      "\t P(s: (18,2), a: 2): 0.3225021958351135\n",
      "\t P(s: (3,20), a: 3): 0.07955275475978851\n",
      "\t P(s: (13,12), a: 3): 0.020805468782782555\n",
      "\t P(s: (16,30), a: 3): 0.047145672142505646\n",
      "\t P(s: (5,16), a: 3): 0.051870301365852356\n",
      "\t P(s: (16,27), a: 3): 0.07243788987398148\n",
      "\t P(s: (3,6), a: 3): 0.26803529262542725\n",
      "\t P(s: (11,10), a: 3): 0.03918195888400078\n",
      "Epoch 2:\n",
      "\t P(s: (18,2), a: 2): 0.2855533957481384\n",
      "\t P(s: (3,20), a: 3): 0.12710276246070862\n",
      "\t P(s: (13,12), a: 3): 0.03134727478027344\n",
      "\t P(s: (16,30), a: 3): 0.04766957461833954\n",
      "\t P(s: (5,16), a: 3): 0.03428151085972786\n",
      "\t P(s: (16,27), a: 3): 0.059428226202726364\n",
      "\t P(s: (3,6), a: 3): 0.34492936730384827\n",
      "\t P(s: (11,10), a: 3): 0.03969530388712883\n",
      "Epoch 3:\n",
      "\t P(s: (18,2), a: 2): 0.26294219493865967\n",
      "\t P(s: (3,20), a: 3): 0.17800192534923553\n",
      "\t P(s: (13,12), a: 3): 0.039622556418180466\n",
      "\t P(s: (16,30), a: 3): 0.04512700438499451\n",
      "\t P(s: (5,16), a: 3): 0.030112940818071365\n",
      "\t P(s: (16,27), a: 3): 0.05176050588488579\n",
      "\t P(s: (3,6), a: 3): 0.37791356444358826\n",
      "\t P(s: (11,10), a: 3): 0.047191228717565536\n",
      "Epoch 4:\n",
      "\t P(s: (18,2), a: 2): 0.24924634397029877\n",
      "\t P(s: (3,20), a: 3): 0.22050327062606812\n",
      "\t P(s: (13,12), a: 3): 0.04677817225456238\n",
      "\t P(s: (16,30), a: 3): 0.04148668795824051\n",
      "\t P(s: (5,16), a: 3): 0.02869100123643875\n",
      "\t P(s: (16,27), a: 3): 0.04716605693101883\n",
      "\t P(s: (3,6), a: 3): 0.3984535038471222\n",
      "\t P(s: (11,10), a: 3): 0.054938919842243195\n",
      "Epoch 5:\n",
      "\t P(s: (18,2), a: 2): 0.24027803540229797\n",
      "\t P(s: (3,20), a: 3): 0.24742881953716278\n",
      "\t P(s: (13,12), a: 3): 0.05190008878707886\n",
      "\t P(s: (16,30), a: 3): 0.03775658458471298\n",
      "\t P(s: (5,16), a: 3): 0.028386685997247696\n",
      "\t P(s: (16,27), a: 3): 0.044445715844631195\n",
      "\t P(s: (3,6), a: 3): 0.4147668182849884\n",
      "\t P(s: (11,10), a: 3): 0.06125898286700249\n",
      "Epoch 6:\n",
      "\t P(s: (18,2), a: 2): 0.23467382788658142\n",
      "\t P(s: (3,20), a: 3): 0.262734979391098\n",
      "\t P(s: (13,12), a: 3): 0.05474425479769707\n",
      "\t P(s: (16,30), a: 3): 0.03450463339686394\n",
      "\t P(s: (5,16), a: 3): 0.028785936534404755\n",
      "\t P(s: (16,27), a: 3): 0.04294651001691818\n",
      "\t P(s: (3,6), a: 3): 0.42864716053009033\n",
      "\t P(s: (11,10), a: 3): 0.06628182530403137\n",
      "Epoch 7:\n",
      "\t P(s: (18,2), a: 2): 0.23134095966815948\n",
      "\t P(s: (3,20), a: 3): 0.27088165283203125\n",
      "\t P(s: (13,12), a: 3): 0.05579577013850212\n",
      "\t P(s: (16,30), a: 3): 0.0318840928375721\n",
      "\t P(s: (5,16), a: 3): 0.029658986255526543\n",
      "\t P(s: (16,27), a: 3): 0.04222162812948227\n",
      "\t P(s: (3,6), a: 3): 0.44059494137763977\n",
      "\t P(s: (11,10), a: 3): 0.07027628272771835\n",
      "Epoch 8:\n",
      "\t P(s: (18,2), a: 2): 0.22945430874824524\n",
      "\t P(s: (3,20), a: 3): 0.2748420834541321\n",
      "\t P(s: (13,12), a: 3): 0.05570622533559799\n",
      "\t P(s: (16,30), a: 3): 0.02982112020254135\n",
      "\t P(s: (5,16), a: 3): 0.03082450106739998\n",
      "\t P(s: (16,27), a: 3): 0.041965533047914505\n",
      "\t P(s: (3,6), a: 3): 0.45081037282943726\n",
      "\t P(s: (11,10), a: 3): 0.07345903664827347\n",
      "Epoch 9:\n",
      "\t P(s: (18,2), a: 2): 0.22847066819667816\n",
      "\t P(s: (3,20), a: 3): 0.27641573548316956\n",
      "\t P(s: (13,12), a: 3): 0.05500340834259987\n",
      "\t P(s: (16,30), a: 3): 0.0281947311013937\n",
      "\t P(s: (5,16), a: 3): 0.03214157372713089\n",
      "\t P(s: (16,27), a: 3): 0.0419800765812397\n",
      "\t P(s: (3,6), a: 3): 0.459429532289505\n",
      "\t P(s: (11,10), a: 3): 0.07601817697286606\n"
     ]
    }
   ],
   "source": [
    "with tf.Session(graph=g1) as sess:\n",
    "    \n",
    "    sess.run(tf.global_variables_initializer())\n",
    "    # merged_summary = tf.summary.merge([prob_summary])\n",
    "    p_vals = defaultdict(lambda: [])\n",
    "    sft_time = 0.\n",
    "    sft_ticks = 0.\n",
    "    ep_time = 0.\n",
    "    n_epochs = 10\n",
    "    \n",
    "    cnt = 0\n",
    "    for i in range(n_epochs):\n",
    "        ep_start = time.time()\n",
    "        print(\"Epoch {}:\".format(i))\n",
    "        for t_i, traj in enumerate(D_mdp_states):\n",
    "\n",
    "            # train_writer = tf.summary.FileWriter(\"./rhirl/summaries/train\", sess.graph)\n",
    "            for s_i, state in enumerate(traj[:-1]): # in last state no action is taken, so ignore\n",
    "\n",
    "                sft, _, __, ___ = get_training_data(state, phi, nvmdp.transition_func, nvmdp.actions, h)\n",
    "                feed_dict = {\"state_feature_tree:0\": sft, \"action_idx:0\": A_s[t_i][s_i], \n",
    "                                     \"learning_rate:0\":0.1, \"Pi_init:0\": np.zeros((heap_size, nA), np.float32)}\n",
    "                \n",
    "                start = time.time()\n",
    "                pi, w, grad, ugrad = sess.run(\n",
    "                            fetches=[Pi_r, W_r, W_grad, updateWeights], feed_dict=feed_dict)\n",
    "                sft_time += (time.time()-start)*1000\n",
    "                sft_ticks += 1\n",
    "                # print(\"Compute time per SFT: \", (time.time()-start)*1000)\n",
    "                t_s_a_key = str(state) + \", a: \" + str(A_s[t_i][s_i])\n",
    "                p_vals[t_s_a_key].append(pi[0, A_s[t_i][s_i]])\n",
    "                #print(\"\\t P({}, a: {}): {}\".format(state, A_s[t_i][s_i], p_vals[t_s_a_key][-1]))\n",
    "            # train_writer.add_summary(summary, cnt)\n",
    "            # train_writer.close()\n",
    "            cnt += 1\n",
    "            first_state_key = str(traj[0]) + \", a: \" + str(A_s[t_i][0])\n",
    "            # Note: this only prints P(first state, first action) of each trajectory \n",
    "            print(\"\\t P({}, a: {}): {}\".format(traj[0], A_s[t_i][s_i], p_vals[first_state_key][-1]))\n",
    "        ep_time += (time.time()-ep_start)*1000\n",
    "        # print(\"Epoch time: \", (time.time()-ep_start)*1000)"
   ]
  },
  {
   "cell_type": "code",
   "execution_count": 31,
   "metadata": {},
   "outputs": [
    {
     "data": {
      "text/plain": [
       "415"
      ]
     },
     "execution_count": 31,
     "metadata": {},
     "output_type": "execute_result"
    }
   ],
   "source": [
    "len([n.name for n in g1.as_graph_def().node])"
   ]
  },
  {
   "cell_type": "code",
   "execution_count": 28,
   "metadata": {},
   "outputs": [
    {
     "name": "stdout",
     "output_type": "stream",
     "text": [
      "SFT compute: 1.6068543916867104 ms, Epoch time: 559.7959280014038 ms\n"
     ]
    }
   ],
   "source": [
    "print(\"SFT compute: {} ms, Epoch time: {} ms\".format(sft_time / sft_ticks, ep_time / n_epochs))"
   ]
  },
  {
   "cell_type": "markdown",
   "metadata": {},
   "source": [
    "## H = 6"
   ]
  },
  {
   "cell_type": "code",
   "execution_count": 29,
   "metadata": {},
   "outputs": [
    {
     "data": {
      "text/plain": [
       "415"
      ]
     },
     "execution_count": 29,
     "metadata": {},
     "output_type": "execute_result"
    }
   ],
   "source": [
    "gamma = 0.9999\n",
    "h = 6\n",
    "nA = len(nvmdp.actions)\n",
    "phi = phi_short if h < 45 else phi_long\n",
    "phi_s_dim = len(phi(nvmdp.get_random_init_state()))\n",
    "sft, state_feature_tree, state_depths, next_state_marker = get_training_data(D_mdp_states[0][0], phi, nvmdp.transition_func, nvmdp.actions, h)\n",
    "heap_size = len(state_depths)\n",
    "g1, Pi_r, W_r, W_grad, updateWeights = build_rhirl_graph(heap_size)\n",
    "len(g1.get_operations())"
   ]
  },
  {
   "cell_type": "code",
   "execution_count": 33,
   "metadata": {},
   "outputs": [
    {
     "name": "stdout",
     "output_type": "stream",
     "text": [
      "Epoch 0:\n",
      "\t P(s: (18,2), a: 2): 0.26471203565597534\n",
      "\t P(s: (3,20), a: 3): 0.04485030844807625\n",
      "\t P(s: (13,12), a: 3): 0.021658191457390785\n",
      "\t P(s: (16,30), a: 3): 0.00010938374180113897\n",
      "\t P(s: (5,16), a: 3): 0.11050661653280258\n",
      "\t P(s: (16,27), a: 3): 0.04760590195655823\n",
      "\t P(s: (3,6), a: 3): 0.03702908754348755\n",
      "\t P(s: (11,10), a: 3): 0.2603759765625\n",
      "Epoch 1:\n",
      "\t P(s: (18,2), a: 2): 0.7195804715156555\n",
      "\t P(s: (3,20), a: 3): 0.1127159520983696\n",
      "\t P(s: (13,12), a: 3): 0.05210944637656212\n",
      "\t P(s: (16,30), a: 3): 0.018847249448299408\n",
      "\t P(s: (5,16), a: 3): 0.10291731357574463\n",
      "\t P(s: (16,27), a: 3): 0.052931103855371475\n",
      "\t P(s: (3,6), a: 3): 0.06890533119440079\n",
      "\t P(s: (11,10), a: 3): 0.22967396676540375\n",
      "Epoch 2:\n",
      "\t P(s: (18,2), a: 2): 0.6598824858665466\n",
      "\t P(s: (3,20), a: 3): 0.1269514411687851\n",
      "\t P(s: (13,12), a: 3): 0.16070963442325592\n",
      "\t P(s: (16,30), a: 3): 0.00952309649437666\n",
      "\t P(s: (5,16), a: 3): 0.3208635449409485\n",
      "\t P(s: (16,27), a: 3): 0.0022036456502974033\n",
      "\t P(s: (3,6), a: 3): 0.09709447622299194\n",
      "\t P(s: (11,10), a: 3): 0.27447816729545593\n",
      "Epoch 3:\n",
      "\t P(s: (18,2), a: 2): 0.8006094694137573\n",
      "\t P(s: (3,20), a: 3): 0.06259556859731674\n",
      "\t P(s: (13,12), a: 3): 0.7718823552131653\n",
      "\t P(s: (16,30), a: 3): 0.003084709867835045\n",
      "\t P(s: (5,16), a: 3): 0.0710008516907692\n",
      "\t P(s: (16,27), a: 3): 0.014083431102335453\n",
      "\t P(s: (3,6), a: 3): 0.04418003186583519\n",
      "\t P(s: (11,10), a: 3): 0.20540867745876312\n",
      "Epoch 4:\n",
      "\t P(s: (18,2), a: 2): 0.6193743944168091\n",
      "\t P(s: (3,20), a: 3): 0.12202145159244537\n",
      "\t P(s: (13,12), a: 3): 0.058772359043359756\n",
      "\t P(s: (16,30), a: 3): 0.0681815966963768\n",
      "\t P(s: (5,16), a: 3): 0.1213986873626709\n",
      "\t P(s: (16,27), a: 3): 0.056863706558942795\n",
      "\t P(s: (3,6), a: 3): 0.05386919900774956\n",
      "\t P(s: (11,10), a: 3): 0.23244711756706238\n",
      "Epoch 5:\n",
      "\t P(s: (18,2), a: 2): 0.6374164819717407\n",
      "\t P(s: (3,20), a: 3): 0.12469394505023956\n",
      "\t P(s: (13,12), a: 3): 0.42439502477645874\n",
      "\t P(s: (16,30), a: 3): 0.008552076295018196\n",
      "\t P(s: (5,16), a: 3): 0.12713782489299774\n",
      "\t P(s: (16,27), a: 3): 0.0010732152732089162\n",
      "\t P(s: (3,6), a: 3): 0.14821216464042664\n",
      "\t P(s: (11,10), a: 3): 0.6124159693717957\n",
      "Epoch 6:\n",
      "\t P(s: (18,2), a: 2): 0.6367576122283936\n",
      "\t P(s: (3,20), a: 3): 0.25312307476997375\n",
      "\t P(s: (13,12), a: 3): 0.8774176836013794\n",
      "\t P(s: (16,30), a: 3): 0.007706935983151197\n",
      "\t P(s: (5,16), a: 3): 0.11739794909954071\n",
      "\t P(s: (16,27), a: 3): 0.007574138231575489\n",
      "\t P(s: (3,6), a: 3): 0.12468279153108597\n",
      "\t P(s: (11,10), a: 3): 0.20155316591262817\n",
      "Epoch 7:\n",
      "\t P(s: (18,2), a: 2): 0.4772588610649109\n",
      "\t P(s: (3,20), a: 3): 0.5501594543457031\n",
      "\t P(s: (13,12), a: 3): 0.6858182549476624\n",
      "\t P(s: (16,30), a: 3): 0.00031268352176994085\n",
      "\t P(s: (5,16), a: 3): 0.03430158644914627\n",
      "\t P(s: (16,27), a: 3): 0.034864939749240875\n",
      "\t P(s: (3,6), a: 3): 0.03597024455666542\n",
      "\t P(s: (11,10), a: 3): 0.24138011038303375\n",
      "Epoch 8:\n",
      "\t P(s: (18,2), a: 2): 0.14216721057891846\n",
      "\t P(s: (3,20), a: 3): 0.15902142226696014\n",
      "\t P(s: (13,12), a: 3): 0.3945256471633911\n",
      "\t P(s: (16,30), a: 3): 0.00497152516618371\n",
      "\t P(s: (5,16), a: 3): 0.07371299713850021\n",
      "\t P(s: (16,27), a: 3): 0.030744515359401703\n",
      "\t P(s: (3,6), a: 3): 0.03437433019280434\n",
      "\t P(s: (11,10), a: 3): 0.46238061785697937\n",
      "Epoch 9:\n",
      "\t P(s: (18,2), a: 2): 0.8136258721351624\n",
      "\t P(s: (3,20), a: 3): 0.22428812086582184\n",
      "\t P(s: (13,12), a: 3): 0.5441495776176453\n",
      "\t P(s: (16,30), a: 3): 0.004305623471736908\n",
      "\t P(s: (5,16), a: 3): 0.05896324664354324\n",
      "\t P(s: (16,27), a: 3): 0.02363838069140911\n",
      "\t P(s: (3,6), a: 3): 0.05527492240071297\n",
      "\t P(s: (11,10), a: 3): 0.40505170822143555\n"
     ]
    }
   ],
   "source": [
    "with tf.Session(graph=g1) as sess:\n",
    "    \n",
    "    sess.run(tf.global_variables_initializer())\n",
    "    # merged_summary = tf.summary.merge([prob_summary])\n",
    "    p_vals = defaultdict(lambda: [])\n",
    "    sft_time = 0.\n",
    "    sft_ticks = 0.\n",
    "    ep_time = 0.\n",
    "    n_epochs = 10\n",
    "    \n",
    "    cnt = 0\n",
    "    for i in range(n_epochs):\n",
    "        ep_start = time.time()\n",
    "        print(\"Epoch {}:\".format(i))\n",
    "        for t_i, traj in enumerate(D_mdp_states):\n",
    "\n",
    "            # train_writer = tf.summary.FileWriter(\"./rhirl/summaries/train\", sess.graph)\n",
    "            for s_i, state in enumerate(traj[:-1]): # in last state no action is taken, so ignore\n",
    "\n",
    "                sft, _, __, ___ = get_training_data(state, phi, nvmdp.transition_func, nvmdp.actions, h)\n",
    "                feed_dict = {\"state_feature_tree:0\": sft, \"action_idx:0\": A_s[t_i][s_i], \n",
    "                                     \"learning_rate:0\":0.1, \"Pi_init:0\": np.zeros((heap_size, nA), np.float32)}\n",
    "                \n",
    "                start = time.time()\n",
    "                pi, w, grad, ugrad = sess.run(\n",
    "                            fetches=[Pi_r, W_r, W_grad, updateWeights], feed_dict=feed_dict)\n",
    "                sft_time += (time.time()-start)*1000\n",
    "                sft_ticks += 1\n",
    "                # print(\"Compute time per SFT: \", (time.time()-start)*1000)\n",
    "                t_s_a_key = str(state) + \", a: \" + str(A_s[t_i][s_i])\n",
    "                p_vals[t_s_a_key].append(pi[0, A_s[t_i][s_i]])\n",
    "                #print(\"\\t P({}, a: {}): {}\".format(state, A_s[t_i][s_i], p_vals[t_s_a_key][-1]))\n",
    "            # train_writer.add_summary(summary, cnt)\n",
    "            # train_writer.close()\n",
    "            cnt += 1\n",
    "            first_state_key = str(traj[0]) + \", a: \" + str(A_s[t_i][0])\n",
    "            # Note: this only prints P(first state, first action) of each trajectory \n",
    "            print(\"\\t P({}, a: {}): {}\".format(traj[0], A_s[t_i][s_i], p_vals[first_state_key][-1]))\n",
    "        ep_time += (time.time()-ep_start)*1000\n",
    "        # print(\"Epoch time: \", (time.time()-ep_start)*1000)"
   ]
  },
  {
   "cell_type": "code",
   "execution_count": 41,
   "metadata": {},
   "outputs": [
    {
     "name": "stdout",
     "output_type": "stream",
     "text": [
      "SFT compute: 5.340848587177418 ms, Epoch time: 29259.249353408813 ms\n"
     ]
    }
   ],
   "source": [
    "print(\"SFT compute: {} ms, Epoch time: {} ms\".format(sft_time / sft_ticks, ep_time / n_epochs))"
   ]
  },
  {
   "cell_type": "code",
   "execution_count": 36,
   "metadata": {},
   "outputs": [
    {
     "data": {
      "text/plain": [
       "416"
      ]
     },
     "execution_count": 36,
     "metadata": {},
     "output_type": "execute_result"
    }
   ],
   "source": [
    "len([n.name for n in g1.as_graph_def().node])"
   ]
  },
  {
   "cell_type": "code",
   "execution_count": 34,
   "metadata": {},
   "outputs": [],
   "source": [
    "plt.figure(figsize=(20,8))\n",
    "for i, (k,v) in enumerate(p_vals.items()):\n",
    "    plt.plot(v, label= r\"$\\tau_{}$: \".format(i) + k)\n",
    "    plt.xlabel(\"Training Epochs\")\n",
    "    plt.ylabel(\"P\")\n",
    "plt.title(r\"P($s_0$,$a_0$)\")\n",
    "plt.legend()"
   ]
  },
  {
   "cell_type": "code",
   "execution_count": 37,
   "metadata": {},
   "outputs": [
    {
     "data": {
      "text/plain": [
       "array([[-1.1558628 ],\n",
       "       [-2.5886438 ],\n",
       "       [-0.84165484],\n",
       "       [-4.7745733 ],\n",
       "       [-6.3460503 ],\n",
       "       [ 1.3276817 ],\n",
       "       [ 0.73844916],\n",
       "       [ 0.30986354],\n",
       "       [ 0.08767495],\n",
       "       [-1.8568572 ]], dtype=float32)"
      ]
     },
     "execution_count": 37,
     "metadata": {},
     "output_type": "execute_result"
    }
   ],
   "source": [
    "w"
   ]
  },
  {
   "cell_type": "code",
   "execution_count": 38,
   "metadata": {},
   "outputs": [],
   "source": [
    "cell_rewards = compute_cell_rewards(nvmdp, w)"
   ]
  },
  {
   "cell_type": "code",
   "execution_count": 39,
   "metadata": {},
   "outputs": [
    {
     "name": "stdout",
     "output_type": "stream",
     "text": [
      "cell, true, obtained\n"
     ]
    },
    {
     "data": {
      "text/plain": [
       "[('empty', 0, -1.16),\n",
       " ('yellow', 0, -2.59),\n",
       " ('red', -10, -0.84),\n",
       " ('green', -10, -4.77),\n",
       " ('purple', -10, -6.35)]"
      ]
     },
     "execution_count": 39,
     "metadata": {},
     "output_type": "execute_result"
    }
   ],
   "source": [
    "print(\"cell, true, obtained\")\n",
    "list(zip([\"empty\", \"yellow\", \"red\", \"green\", \"purple\"],[0, 0, -10, -10, -10], \n",
    "         [round(n,2) for n in np.hstack((np.eye(len(nvmdp.cell_types)), np.zeros((5,5)))).dot(w)[:,0]]))"
   ]
  },
  {
   "cell_type": "markdown",
   "metadata": {},
   "source": [
    "### Recovered Rewards"
   ]
  },
  {
   "cell_type": "code",
   "execution_count": 40,
   "metadata": {},
   "outputs": [
    {
     "data": {
      "image/png": "[encoded data removed]",
      "text/plain": [
       "<Figure size 1440x864 with 6 Axes>"
      ]
     },
     "metadata": {},
     "output_type": "display_data"
    }
   ],
   "source": [
    "plt.figure(figsize=(20,12)) \n",
    "# cmap=colors.ListedColormap(['white','yellow','red','green','purple', 'blue'])\n",
    "nvmdp.visualize_grid(nvmdp.cells, trajectories=D_mdp_states, \n",
    "                     subplot_str=\"131\", new_fig=False, show_rewards_cbar=True)\n",
    "nvmdp.visualize_grid(nvmdp.cell_rewards, trajectories=D_mdp_states, \n",
    "               cmap=plt.cm.gray, subplot_str=\"132\", title=\"True Rewards\", new_fig=False)\n",
    "nvmdp.visualize_grid(cell_rewards, trajectories=D_mdp_states, \n",
    "               cmap=plt.cm.gray, subplot_str=\"133\", new_fig=False, title=\"RHIRL: Recovered Rewards (h={})\".format(h))"
   ]
  }
 ],
 "metadata": {
  "kernelspec": {
   "display_name": "irl_python3",
   "language": "python",
   "name": "irl_python3"
  },
  "language_info": {
   "codemirror_mode": {
    "name": "ipython",
    "version": 3
   },
   "file_extension": ".py",
   "mimetype": "text/x-python",
   "name": "python",
   "nbconvert_exporter": "python",
   "pygments_lexer": "ipython3",
   "version": "3.6.1"
  }
 },
 "nbformat": 4,
 "nbformat_minor": 2
}
