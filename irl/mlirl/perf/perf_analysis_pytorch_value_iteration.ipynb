{
 "cells": [
  {
   "cell_type": "code",
   "execution_count": 1,
   "metadata": {},
   "outputs": [
    {
     "name": "stdout",
     "output_type": "stream",
     "text": [
      "Warning: OpenAI gym not installed.\n"
     ]
    }
   ],
   "source": [
    "import time\n",
    "import copy\n",
    "from IPython import display\n",
    "from collections import defaultdict\n",
    "import numpy as np\n",
    "\n",
    "# Simple RL\n",
    "from simple_rl.tasks import GridWorldMDP, NavigationWorldMDP\n",
    "from simple_rl.tasks.navigation.NavigationStateClass import NavigationWorldState\n",
    "from simple_rl.planning import ValueIteration\n",
    "\n",
    "# Torch\n",
    "import torch\n",
    "import torch.optim as optim\n",
    "from torch import FloatTensor\n",
    "from torch.autograd import Variable\n",
    "import torch.multiprocessing as mp\n",
    "mp.set_start_method('fork')\n",
    "\n",
    "# https://github.com/pandas-profiling/pandas-profiling/issues/68\n",
    "import matplotlib.pyplot as plt\n",
    "%matplotlib inline\n",
    "%load_ext autoreload\n",
    "%autoreload 2"
   ]
  },
  {
   "cell_type": "code",
   "execution_count": 2,
   "metadata": {},
   "outputs": [],
   "source": [
    "import sys\n",
    "sys.path.append(\"../../../utils/\")\n",
    "import plotting_wrapper as Plotting"
   ]
  },
  {
   "cell_type": "code",
   "execution_count": 3,
   "metadata": {},
   "outputs": [
    {
     "name": "stdout",
     "output_type": "stream",
     "text": [
      "start\n",
      "start\n",
      "start\n",
      "start\n",
      "start\n",
      "start\n",
      "start\n",
      "start\n"
     ]
    }
   ],
   "source": [
    "def test(phi_S, w):\n",
    "    print(\"start\")\n",
    "    phi_S.mm(w)\n",
    "    print(\"end\")\n",
    "    \n",
    "dtype = torch.float\n",
    "phi_dim = 10\n",
    "phi_S = torch.rand(10000, phi_dim).type(dtype)\n",
    "w = Variable(-0.001 * torch.ones(phi_dim, 1).type(dtype), requires_grad=True)\n",
    "processes = []\n",
    "for p_idx in range(8):\n",
    "    p = mp.Process(target=test, args=(phi_S, w))\n",
    "    p.start()\n",
    "    processes.append(p)\n",
    "for p in processes:\n",
    "    p.join()"
   ]
  },
  {
   "cell_type": "code",
   "execution_count": null,
   "metadata": {},
   "outputs": [],
   "source": []
  },
  {
   "cell_type": "code",
   "execution_count": null,
   "metadata": {},
   "outputs": [],
   "source": []
  },
  {
   "cell_type": "code",
   "execution_count": 3,
   "metadata": {},
   "outputs": [],
   "source": [
    "def run_value_iteration(S, A, R, T, s_to_idx, expl_policy, gamma, n_iters,\n",
    "                        dtype, given_goal_idx=None, verbose=False):\n",
    "\n",
    "    nS, nA = len(S), len(A)\n",
    "    \n",
    "    # Initialize Pi, V, & Q.\n",
    "    Pi = torch.ones(nS, nA, dtype=dtype) / nA\n",
    "#     V = torch.zeros(nS, dtype=dtype)\n",
    "#     Q = torch.zeros(nS, nA, dtype=dtype)\n",
    "    V = R.clone() # trick to initialize terminal states' value without running VI on it (no need for absorbing state).\n",
    "    Q = R.reshape(nS, 1).repeat(1, nA).clone()\n",
    "    \n",
    "    # Force given goals to have 0 value\n",
    "    if given_goal_idx is not None:\n",
    "        V[given_goal_idx] = 0\n",
    "        \n",
    "    # Value iteration\n",
    "    for _ in range(n_iters):\n",
    "        for si, s in enumerate(S):\n",
    "            \n",
    "            # No need to compute value for terminal and given goal states.\n",
    "            if s.is_terminal() or si == given_goal_idx:\n",
    "                continue \n",
    "                \n",
    "            for ai, a in enumerate(A):\n",
    "                for sp in T[s][a]:\n",
    "                    if verbose: print(s, \"-\", \"{:5s}\".format(a), \"->\", sp, \"R: \", int(R[si]), \"V_sp: \", int(V[s_to_idx[sp]]))\n",
    "                    Q[si, ai] = R[si].clone() + \\\n",
    "                        gamma * T[s][a][sp] * V[s_to_idx[sp]].clone()\n",
    "            Pi[si, :] = expl_policy(Q[si, :].clone())\n",
    "            V[si] = Pi[si, :].clone().dot(Q[si, :].clone())\n",
    "    return Pi, V, Q"
   ]
  },
  {
   "cell_type": "code",
   "execution_count": 4,
   "metadata": {},
   "outputs": [],
   "source": [
    "def get_toy_irl_problem(width, height, goal_loc):\n",
    "    \n",
    "    nvmdp = NavigationWorldMDP(width, height, \n",
    "                               nav_cell_types=list(range(int(width*height-1))),\n",
    "                               nav_cell_p_or_locs=[[(x,y)] for y in range(height, 0, -1)\n",
    "                                                   for x in range(1, width+1) if not (x,y) == goal_loc],\n",
    "                               nav_cell_rewards=[0.]*(int(width*height-1)),\n",
    "                               goal_cell_types=['green'], \n",
    "                               goal_cell_rewards=[1.0], \n",
    "                               goal_cell_locs=[[goal_loc]])\n",
    "    \n",
    "    def phi(s): return nvmdp.feature_at_state(s,\n",
    "                        feature_type=\"indicator\",\n",
    "                        incl_cell_distances=False,\n",
    "                        incl_goal_indicator=True,\n",
    "                        incl_goal_distances=False,\n",
    "                        normalize_distance=False, dtype=np.float)\n",
    "    \n",
    "    S = nvmdp.get_all_states()\n",
    "    T = nvmdp.get_trans_dict()\n",
    "    A = nvmdp.get_actions()\n",
    "    s_to_idx = {s:idx for idx,s in enumerate(S)}\n",
    "    return nvmdp, S, A, T, phi, s_to_idx\n",
    "\n",
    "def get_toy_irl_problem_no_goal(width, height):\n",
    "    \n",
    "    nvmdp = NavigationWorldMDP(width, height, \n",
    "                               nav_cell_types=list(range(int(width*height))),\n",
    "                               nav_cell_p_or_locs=[[(x,y)] for y in range(height, 0, -1) \n",
    "                                                   for x in range(1, width+1)], #  if not (x,y) == goal_loc],\n",
    "                               nav_cell_rewards=[0.]*(int(width*height)),\n",
    "                               goal_cell_types=[], #['green'], \n",
    "                               goal_cell_rewards=[], #[1.0], \n",
    "                               goal_cell_locs=[]) #[[goal_loc]])\n",
    "    \n",
    "    def phi(s): return nvmdp.feature_at_state(s,\n",
    "                        feature_type=\"indicator\",\n",
    "                        incl_cell_distances=False,\n",
    "                        incl_goal_indicator=True,\n",
    "                        incl_goal_distances=False,\n",
    "                        normalize_distance=False, dtype=np.float)\n",
    "    \n",
    "    S = nvmdp.get_all_states()\n",
    "    T = nvmdp.get_trans_dict()\n",
    "    A = nvmdp.get_actions()\n",
    "    s_to_idx = {s:idx for idx,s in enumerate(S)}\n",
    "    return nvmdp, S, A, T, phi, s_to_idx"
   ]
  },
  {
   "cell_type": "code",
   "execution_count": 5,
   "metadata": {},
   "outputs": [
    {
     "data": {
      "image/png": "[encoded data removed]",
      "text/plain": [
       "<Figure size 432x432 with 2 Axes>"
      ]
     },
     "metadata": {
      "needs_background": "light"
     },
     "output_type": "display_data"
    }
   ],
   "source": [
    "nvmdp, S, A, T, phi, s_to_idx = get_toy_irl_problem(7, 7, (5,5))\n",
    "nvmdp.visualize_grid(show_colorbar=True, show_rewards_colorbar=True)\n",
    "\n",
    "gamma = 0.80\n",
    "dtype = torch.float\n",
    "phi_dim = len(phi(S[0]))\n",
    "boltzmann_beta = 10.\n",
    "boltzmann_expl_policy = lambda Q, beta=boltzmann_beta: (beta*Q).softmax(dim=0)\n",
    "argmax_expl_policy = lambda Q: torch.eye(len(Q))[Q.argmax()]\n",
    "\n",
    "phi_S = torch.Tensor([phi(s) for s in S]).type(dtype)\n",
    "w = Variable(torch.Tensor(phi_dim, 1).normal_(0, 0.01).type(dtype), requires_grad=True)\n",
    "R_diff = torch.mm(phi_S, w)\n",
    "R_const = torch.Tensor(len(S), 1).normal_(0, 0.01).type(dtype)\n",
    "R_true = torch.Tensor([nvmdp.cell_type_rewards[cell_id] for cell_id in np.nditer(nvmdp.map_state_cell_id)]).type(dtype)\n",
    "\n",
    "vi_params = dict(S=S, A=A, R=R_true, T=T, s_to_idx=s_to_idx,\n",
    "                 expl_policy=argmax_expl_policy, gamma=gamma, dtype=dtype, n_iters=1)"
   ]
  },
  {
   "cell_type": "code",
   "execution_count": 6,
   "metadata": {},
   "outputs": [],
   "source": [
    "def exp_vi(vi_params, R, n_iters):\n",
    "    \n",
    "    vi_params[\"n_iters\"] = n_iters\n",
    "    vi_params[\"R\"] = R\n",
    "    \n",
    "    t_ = time.time()\n",
    "    Pi, V, Q = run_value_iteration(**vi_params)\n",
    "    return time.time()-t_, Pi, V, Q"
   ]
  },
  {
   "cell_type": "code",
   "execution_count": 7,
   "metadata": {},
   "outputs": [
    {
     "data": {
      "image/png": "[encoded data removed]",
      "text/plain": [
       "<Figure size 432x432 with 2 Axes>"
      ]
     },
     "metadata": {
      "needs_background": "light"
     },
     "output_type": "display_data"
    },
    {
     "data": {
      "text/plain": [
       "tensor([[0.2618, 0.3276, 0.4096, 0.5120, 0.6400, 0.5120, 0.4096],\n",
       "        [0.3276, 0.4096, 0.5120, 0.6400, 0.8000, 0.6400, 0.5120],\n",
       "        [0.4096, 0.5120, 0.6400, 0.8000, 1.0000, 0.8000, 0.6400],\n",
       "        [0.3276, 0.4096, 0.5120, 0.6400, 0.8000, 0.6400, 0.5120],\n",
       "        [0.2620, 0.3277, 0.4096, 0.5120, 0.6400, 0.5120, 0.4096],\n",
       "        [0.2093, 0.2621, 0.3277, 0.4096, 0.5120, 0.4096, 0.3276],\n",
       "        [0.1664, 0.2093, 0.2620, 0.3276, 0.4096, 0.3276, 0.2618]])"
      ]
     },
     "execution_count": 7,
     "metadata": {},
     "output_type": "execute_result"
    }
   ],
   "source": [
    "vi_params[\"expl_policy\"] = lambda Q: boltzmann_expl_policy(Q, 100)\n",
    "tdiff, Pi, V, Q = exp_vi(vi_params, R_true, 10)\n",
    "nvmdp.visualize_grid(V.reshape(7,7), cmap=None, show_colorbar=True, title=\"Value\")\n",
    "V.reshape(7,7)"
   ]
  },
  {
   "cell_type": "code",
   "execution_count": 8,
   "metadata": {},
   "outputs": [
    {
     "data": {
      "image/png": "[encoded data removed]",
      "text/plain": [
       "<Figure size 432x432 with 2 Axes>"
      ]
     },
     "metadata": {
      "needs_background": "light"
     },
     "output_type": "display_data"
    },
    {
     "data": {
      "text/plain": [
       "tensor([[0.2621, 0.3277, 0.4096, 0.5120, 0.6400, 0.5120, 0.4096],\n",
       "        [0.3277, 0.4096, 0.5120, 0.6400, 0.8000, 0.6400, 0.5120],\n",
       "        [0.4096, 0.5120, 0.6400, 0.8000, 1.0000, 0.8000, 0.6400],\n",
       "        [0.3277, 0.4096, 0.5120, 0.6400, 0.8000, 0.6400, 0.5120],\n",
       "        [0.2621, 0.3277, 0.4096, 0.5120, 0.6400, 0.5120, 0.4096],\n",
       "        [0.2097, 0.2621, 0.3277, 0.4096, 0.5120, 0.4096, 0.3277],\n",
       "        [0.1678, 0.2097, 0.2621, 0.3277, 0.4096, 0.3277, 0.2621]])"
      ]
     },
     "execution_count": 8,
     "metadata": {},
     "output_type": "execute_result"
    }
   ],
   "source": [
    "vi_params[\"expl_policy\"] = argmax_expl_policy\n",
    "tdiff, Pi, V, Q = exp_vi(vi_params, R_true, 10)\n",
    "nvmdp.visualize_grid(V.reshape(7,7), cmap=None, show_colorbar=True, title=\"Value\")\n",
    "V.reshape(7,7)"
   ]
  },
  {
   "cell_type": "code",
   "execution_count": null,
   "metadata": {},
   "outputs": [],
   "source": []
  },
  {
   "cell_type": "code",
   "execution_count": null,
   "metadata": {},
   "outputs": [],
   "source": []
  },
  {
   "cell_type": "code",
   "execution_count": null,
   "metadata": {},
   "outputs": [],
   "source": []
  },
  {
   "cell_type": "code",
   "execution_count": null,
   "metadata": {},
   "outputs": [],
   "source": []
  },
  {
   "cell_type": "code",
   "execution_count": 9,
   "metadata": {},
   "outputs": [
    {
     "data": {
      "image/png": "[encoded data removed]",
      "text/plain": [
       "<Figure size 432x432 with 2 Axes>"
      ]
     },
     "metadata": {
      "needs_background": "light"
     },
     "output_type": "display_data"
    }
   ],
   "source": [
    "nvmdp, S, A, T, phi, s_to_idx = get_toy_irl_problem_no_goal(7, 7)\n",
    "nvmdp.visualize_grid(show_colorbar=True, show_rewards_colorbar=True)\n",
    "\n",
    "gamma = 0.80\n",
    "dtype = torch.float\n",
    "phi_dim = len(phi(S[0]))\n",
    "boltzmann_beta = 10.\n",
    "boltzmann_expl_policy = lambda Q, beta=boltzmann_beta: (beta*Q).softmax(dim=0)\n",
    "argmax_expl_policy = lambda Q: torch.eye(len(Q))[Q.argmax()]\n",
    "\n",
    "phi_S = torch.Tensor([phi(s) for s in S]).type(dtype)\n",
    "w = Variable(torch.Tensor(phi_dim, 1).normal_(0, 0.01).type(dtype), requires_grad=True)\n",
    "R_diff = torch.mm(phi_S, w)\n",
    "R_const = torch.Tensor(len(S), 1).normal_(0, 0.01).type(dtype)\n",
    "R_true = torch.Tensor([nvmdp.cell_type_rewards[cell_id] for cell_id in np.nditer(nvmdp.map_state_cell_id)]).type(dtype)\n",
    "\n",
    "vi_params = dict(S=S, A=A, R=R_true, T=T, s_to_idx=s_to_idx,\n",
    "                 expl_policy=argmax_expl_policy, gamma=gamma, dtype=dtype, n_iters=1)"
   ]
  },
  {
   "cell_type": "code",
   "execution_count": 10,
   "metadata": {},
   "outputs": [
    {
     "data": {
      "text/plain": [
       "tensor([[5.0000, 5.0000, 5.0000, 5.0000, 5.0000, 5.0000, 5.0000],\n",
       "        [5.0000, 5.0000, 5.0000, 5.0000, 5.0000, 5.0000, 5.0000],\n",
       "        [5.0000, 5.0000, 5.0000, 5.0000, 5.0000, 5.0000, 5.0000],\n",
       "        [5.0000, 5.0000, 5.0000, 5.0000, 5.0000, 5.0000, 5.0000],\n",
       "        [5.0000, 5.0000, 5.0000, 5.0000, 5.0000, 5.0000, 5.0000],\n",
       "        [5.0000, 5.0000, 5.0000, 5.0000, 5.0000, 5.0000, 5.0000],\n",
       "        [5.0000, 5.0000, 5.0000, 5.0000, 5.0000, 5.0000, 5.0000]],\n",
       "       grad_fn=<AsStridedBackward>)"
      ]
     },
     "execution_count": 10,
     "metadata": {},
     "output_type": "execute_result"
    }
   ],
   "source": [
    "vi_params[\"expl_policy\"] = lambda Q: boltzmann_expl_policy(Q, 1)\n",
    "# w = Variable(torch.Tensor(phi_dim, 1).normal_(0, 0.01).type(dtype), requires_grad=True)\n",
    "w = Variable(torch.ones(phi_dim, 1).type(dtype), requires_grad=True)\n",
    "# w = Variable(torch.zeros(phi_dim, 1).type(dtype), requires_grad=True)\n",
    "\n",
    "optimizer_fn = lambda params: optim.SGD(params, lr=0.1, weight_decay=0.)\n",
    "optimizer = optimizer_fn([w])\n",
    "\n",
    "R_diff = torch.mm(phi_S, w)\n",
    "tdiff, Pi, V, Q = exp_vi(vi_params, R_diff, 100)\n",
    "V.reshape(7,7)"
   ]
  },
  {
   "cell_type": "code",
   "execution_count": 11,
   "metadata": {},
   "outputs": [],
   "source": [
    "loss = -torch.log(Pi[24,2])\n",
    "loss.backward()"
   ]
  },
  {
   "cell_type": "code",
   "execution_count": 12,
   "metadata": {},
   "outputs": [
    {
     "data": {
      "text/plain": [
       "array([[-0.01, -0.01, -0.  ,  0.02,  0.02,  0.01,  0.01],\n",
       "       [-0.02, -0.02, -0.02,  0.05,  0.04,  0.02,  0.01],\n",
       "       [-0.04, -0.07, -0.11,  0.21,  0.11,  0.05,  0.02],\n",
       "       [-0.06, -0.18, -0.68,  0.  ,  0.26,  0.08,  0.03],\n",
       "       [-0.04, -0.07, -0.11,  0.21,  0.11,  0.05,  0.02],\n",
       "       [-0.02, -0.02, -0.02,  0.05,  0.04,  0.02,  0.01],\n",
       "       [-0.01, -0.01, -0.  ,  0.02,  0.02,  0.01,  0.01]], dtype=float32)"
      ]
     },
     "execution_count": 12,
     "metadata": {},
     "output_type": "execute_result"
    }
   ],
   "source": [
    "w.grad.reshape(7,7).data.numpy().round(2)"
   ]
  },
  {
   "cell_type": "code",
   "execution_count": 13,
   "metadata": {},
   "outputs": [],
   "source": [
    "optimizer.zero_grad()\n",
    "R_diff = torch.mm(phi_S, w)\n",
    "tdiff, Pi, V, Q = exp_vi(vi_params, R_diff, 100)\n",
    "loss = -torch.log(Pi[24,3])\n",
    "loss.backward()"
   ]
  },
  {
   "cell_type": "code",
   "execution_count": 14,
   "metadata": {},
   "outputs": [
    {
     "data": {
      "text/plain": [
       "array([[ 0.01,  0.01,  0.02,  0.02, -0.  , -0.01, -0.01],\n",
       "       [ 0.01,  0.02,  0.04,  0.05, -0.02, -0.02, -0.02],\n",
       "       [ 0.02,  0.05,  0.11,  0.21, -0.11, -0.07, -0.04],\n",
       "       [ 0.03,  0.08,  0.26, -0.  , -0.68, -0.18, -0.06],\n",
       "       [ 0.02,  0.05,  0.11,  0.21, -0.11, -0.07, -0.04],\n",
       "       [ 0.01,  0.02,  0.04,  0.05, -0.02, -0.02, -0.02],\n",
       "       [ 0.01,  0.01,  0.02,  0.02, -0.  , -0.01, -0.01]], dtype=float32)"
      ]
     },
     "execution_count": 14,
     "metadata": {},
     "output_type": "execute_result"
    }
   ],
   "source": [
    "w.grad.reshape(7,7).data.numpy().round(2)"
   ]
  },
  {
   "cell_type": "code",
   "execution_count": 15,
   "metadata": {},
   "outputs": [],
   "source": [
    "optimizer.zero_grad()\n",
    "R_diff = torch.mm(phi_S, w)\n",
    "tdiff, Pi, V, Q = exp_vi(vi_params, R_diff, 1)\n",
    "loss = -torch.log(Pi[24,2])\n",
    "loss.backward()"
   ]
  },
  {
   "cell_type": "code",
   "execution_count": 16,
   "metadata": {},
   "outputs": [
    {
     "data": {
      "text/plain": [
       "array([[-0.02,  0.  ,  0.03,  0.04,  0.  ,  0.  ,  0.  ],\n",
       "       [-0.05, -0.04,  0.03,  0.13,  0.  ,  0.  ,  0.  ],\n",
       "       [-0.07, -0.12, -0.07,  0.33, -0.  ,  0.  ,  0.  ],\n",
       "       [-0.06, -0.18, -0.47,  0.  ,  0.07,  0.  ,  0.  ],\n",
       "       [-0.  , -0.  ,  0.  ,  0.07,  0.  ,  0.  ,  0.  ],\n",
       "       [ 0.  ,  0.  ,  0.  ,  0.  ,  0.  ,  0.  ,  0.  ],\n",
       "       [ 0.  ,  0.  ,  0.  ,  0.  ,  0.  ,  0.  ,  0.  ]], dtype=float32)"
      ]
     },
     "execution_count": 16,
     "metadata": {},
     "output_type": "execute_result"
    }
   ],
   "source": [
    "w.grad.reshape(7,7).data.numpy().round(2)"
   ]
  },
  {
   "cell_type": "code",
   "execution_count": 17,
   "metadata": {},
   "outputs": [
    {
     "data": {
      "text/plain": [
       "tensor([[-0.0241,  0.0012,  0.0339,  0.0423,  0.0030,  0.0000,  0.0000],\n",
       "        [-0.0529, -0.0379,  0.0343,  0.1266,  0.0018,  0.0000,  0.0000],\n",
       "        [-0.0748, -0.1169, -0.0655,  0.3294, -0.0024,  0.0000,  0.0000],\n",
       "        [-0.0627, -0.1840, -0.4749,  0.0011,  0.0722,  0.0000,  0.0000],\n",
       "        [-0.0043, -0.0026,  0.0035,  0.0722,  0.0000,  0.0000,  0.0000],\n",
       "        [ 0.0000,  0.0000,  0.0000,  0.0000,  0.0000,  0.0000,  0.0000],\n",
       "        [ 0.0000,  0.0000,  0.0000,  0.0000,  0.0000,  0.0000,  0.0000]])"
      ]
     },
     "execution_count": 17,
     "metadata": {},
     "output_type": "execute_result"
    }
   ],
   "source": [
    "w.grad.reshape(7,7)"
   ]
  },
  {
   "cell_type": "code",
   "execution_count": 18,
   "metadata": {},
   "outputs": [
    {
     "data": {
      "text/plain": [
       "tensor([[1., 1., 1., 1., 1., 1., 1.],\n",
       "        [1., 1., 1., 1., 1., 1., 1.],\n",
       "        [1., 1., 1., 1., 1., 1., 1.],\n",
       "        [1., 1., 1., 1., 1., 1., 1.],\n",
       "        [1., 1., 1., 1., 1., 1., 1.],\n",
       "        [1., 1., 1., 1., 1., 1., 1.],\n",
       "        [1., 1., 1., 1., 1., 1., 1.]], grad_fn=<AsStridedBackward>)"
      ]
     },
     "execution_count": 18,
     "metadata": {},
     "output_type": "execute_result"
    }
   ],
   "source": [
    "w.reshape(7,7)"
   ]
  },
  {
   "cell_type": "code",
   "execution_count": 19,
   "metadata": {},
   "outputs": [],
   "source": [
    "optimizer.step()"
   ]
  },
  {
   "cell_type": "code",
   "execution_count": 20,
   "metadata": {},
   "outputs": [
    {
     "data": {
      "text/plain": [
       "tensor([[1.0024, 0.9999, 0.9966, 0.9958, 0.9997, 1.0000, 1.0000],\n",
       "        [1.0053, 1.0038, 0.9966, 0.9873, 0.9998, 1.0000, 1.0000],\n",
       "        [1.0075, 1.0117, 1.0066, 0.9671, 1.0002, 1.0000, 1.0000],\n",
       "        [1.0063, 1.0184, 1.0475, 0.9999, 0.9928, 1.0000, 1.0000],\n",
       "        [1.0004, 1.0003, 0.9996, 0.9928, 1.0000, 1.0000, 1.0000],\n",
       "        [1.0000, 1.0000, 1.0000, 1.0000, 1.0000, 1.0000, 1.0000],\n",
       "        [1.0000, 1.0000, 1.0000, 1.0000, 1.0000, 1.0000, 1.0000]],\n",
       "       grad_fn=<AsStridedBackward>)"
      ]
     },
     "execution_count": 20,
     "metadata": {},
     "output_type": "execute_result"
    }
   ],
   "source": [
    "w.reshape(7,7)"
   ]
  },
  {
   "cell_type": "code",
   "execution_count": 25,
   "metadata": {
    "scrolled": false
   },
   "outputs": [
    {
     "data": {
      "image/png": "[encoded data removed]",
      "text/plain": [
       "<Figure size 432x288 with 1 Axes>"
      ]
     },
     "metadata": {},
     "output_type": "display_data"
    },
    {
     "data": {
      "text/plain": [
       "<Figure size 432x288 with 0 Axes>"
      ]
     },
     "metadata": {},
     "output_type": "display_data"
    }
   ],
   "source": [
    "import matplotlib as mpl\n",
    "norm = mpl.colors.Normalize(vmin=-2.,vmax=2.)\n",
    "gif_images = []\n",
    "for i in range(20):\n",
    "    print(i,)\n",
    "    optimizer.step()\n",
    "#     nvmdp.visualize_grid(torch.mm(phi_S, w).reshape(7,7).data.numpy(), state_space_cmap=False, \n",
    "#                          cmap=plt.cm.viridis, show_colorbar=True, title=\"Value\")\n",
    "    ax = plt.gca()\n",
    "    \n",
    "    plt.imshow(torch.mm(phi_S, w).reshape(7,7).data.numpy(), cmap=plt.cm.viridis, norm=norm)\n",
    "    plt.title(\"R @ step {}: w -= 1. * d(-log(Pi_20((4,4), \\\"left\\\")))/dw, \".format(i+1))\n",
    "    plt.axis(\"off\")\n",
    "    \n",
    "    display.clear_output(wait=True)\n",
    "    display.display(plt.gcf())\n",
    "    \n",
    "    gif_images.append(Plotting.read_pil_image_from_plt(plt))\n",
    "plt.clf()"
   ]
  },
  {
   "cell_type": "code",
   "execution_count": 199,
   "metadata": {},
   "outputs": [
    {
     "data": {
      "image/png": "[encoded data removed]",
      "text/plain": [
       "<Figure size 720x720 with 1 Axes>"
      ]
     },
     "metadata": {},
     "output_type": "display_data"
    },
    {
     "data": {
      "text/plain": [
       "<Figure size 720x720 with 0 Axes>"
      ]
     },
     "metadata": {},
     "output_type": "display_data"
    }
   ],
   "source": [
    "Plotting.create_gif(lambda: gif_images, \"./mlirl_gradient_effect_r_vi_20.gif\", figsize=(10,10), fps=2)"
   ]
  },
  {
   "cell_type": "markdown",
   "metadata": {},
   "source": [
    "<img src=\"./mlirl_gradient_effect_r.gif\">"
   ]
  },
  {
   "cell_type": "code",
   "execution_count": 22,
   "metadata": {},
   "outputs": [],
   "source": [
    "vi_params[\"given_goal_idx\"] = 23\n",
    "optimizer.zero_grad()\n",
    "R_diff = torch.mm(phi_S, w)\n",
    "tdiff, Pi, V, Q = exp_vi(vi_params, R_diff, 1)\n",
    "loss = -torch.log(Pi[24,2])\n",
    "loss.backward()"
   ]
  },
  {
   "cell_type": "code",
   "execution_count": 23,
   "metadata": {},
   "outputs": [
    {
     "data": {
      "text/plain": [
       "array([[ 0.09,  0.09,  0.06,  0.03,  0.  ,  0.  ,  0.  ],\n",
       "       [ 0.11,  0.15,  0.14,  0.09,  0.  ,  0.  ,  0.  ],\n",
       "       [ 0.07,  0.18,  0.3 ,  0.44, -0.01,  0.  ,  0.  ],\n",
       "       [ 0.  ,  0.01,  0.  , -0.01,  0.14,  0.  ,  0.  ],\n",
       "       [ 0.  ,  0.  ,  0.  ,  0.14,  0.  ,  0.  ,  0.  ],\n",
       "       [ 0.  ,  0.  ,  0.  ,  0.  ,  0.  ,  0.  ,  0.  ],\n",
       "       [ 0.  ,  0.  ,  0.  ,  0.  ,  0.  ,  0.  ,  0.  ]], dtype=float32)"
      ]
     },
     "execution_count": 23,
     "metadata": {},
     "output_type": "execute_result"
    }
   ],
   "source": [
    "w.grad.reshape(7,7).data.numpy().round(2)"
   ]
  },
  {
   "cell_type": "code",
   "execution_count": null,
   "metadata": {},
   "outputs": [],
   "source": []
  },
  {
   "cell_type": "code",
   "execution_count": null,
   "metadata": {},
   "outputs": [],
   "source": []
  },
  {
   "cell_type": "code",
   "execution_count": null,
   "metadata": {},
   "outputs": [],
   "source": []
  },
  {
   "cell_type": "code",
   "execution_count": null,
   "metadata": {},
   "outputs": [],
   "source": []
  },
  {
   "cell_type": "code",
   "execution_count": 21,
   "metadata": {},
   "outputs": [],
   "source": [
    "def run_value_iteration(S, A, R, T, s_to_idx, expl_policy, gamma, n_iters,\n",
    "                        dtype, given_goal_idx=None, verbose=False):\n",
    "\n",
    "    nS, nA = len(S), len(A)\n",
    "    \n",
    "    # Initialize Pi, V, & Q.\n",
    "    Pi = torch.ones(nS, nA, dtype=dtype) / nA\n",
    "    V = R.clone() # trick to initialize terminal states' value without running VI on it (no need for absorbing state).\n",
    "    Q = R.reshape(nS, 1).repeat(1, nA).clone()\n",
    "    \n",
    "    # Force given goals to have 0 value\n",
    "    if given_goal_idx is not None:\n",
    "        V[given_goal_idx] = 0\n",
    "        \n",
    "    # Value iteration\n",
    "    for _ in range(n_iters):\n",
    "        for si, s in enumerate(S):\n",
    "            \n",
    "            # No need to compute value for terminal and given goal states.\n",
    "            if s.is_terminal() or si == given_goal_idx:\n",
    "                continue \n",
    "                \n",
    "            for ai, a in enumerate(A):\n",
    "                for sp in T[s][a]:\n",
    "                    if verbose: print(s, \"-\", \"{:5s}\".format(a), \"->\", sp, \"R: \", int(R[si]), \"V_sp: \", int(V[s_to_idx[sp]]))\n",
    "                    Q[si, ai] = R[si].clone() + \\\n",
    "                        gamma * T[s][a][sp] * V[s_to_idx[sp]].clone()\n",
    "            Pi[si, :] = expl_policy(Q[si, :].clone())\n",
    "            V[si] = Pi[si, :].clone().dot(Q[si, :].clone())\n",
    "    return Pi, V, Q"
   ]
  },
  {
   "cell_type": "code",
   "execution_count": 22,
   "metadata": {},
   "outputs": [],
   "source": [
    "def run_mlirl_step(tau_s_list, tau_a_list, S, phi_S, s_to_idx, A, a_to_idx, \n",
    "                   w, T, expl_policy, gamma, n_vi_iter, dtype, given_goal_idx):\n",
    "    \n",
    "    \n",
    "    R = torch.mm(phi_S, w)\n",
    "    Pi, V, Q = run_value_iteration(S, A, R, T, s_to_idx, expl_policy, gamma, n_vi_iter, dtype, given_goal_idx)\n",
    "    loss = 0\n",
    "    for tau_idx, tau_s in enumerate(tau_s_list):\n",
    "        for sample_idx, s in enumerate(tau_s[:-1]):\n",
    "            a_idx = a_to_idx[tau_a_list[tau_idx][sample_idx]]\n",
    "            loss -= torch.log(Pi[s_to_idx[s], a_idx])\n",
    "    loss.backward()\n",
    "    return loss, w.grad\n",
    "\n",
    "def run_mlirl_step_shared(tau_s_list, tau_a_list, S, phi_S, s_to_idx, A, a_to_idx,\n",
    "                          w, T, expl_policy, gamma, n_vi_iter, dtype, given_goal_idx,\n",
    "                          w_grad_queue):\n",
    "    \n",
    "    R = torch.mm(phi_S, w)\n",
    "    Pi, V, Q = run_value_iteration(S, A, R, T, s_to_idx, expl_policy, gamma, n_vi_iter, dtype, given_goal_idx)\n",
    "    \n",
    "    loss = 0\n",
    "    for tau_idx, tau_s in enumerate(tau_s_list):\n",
    "        for sample_idx, s in enumerate(tau_s[:-1]):\n",
    "            a_idx = a_to_idx[tau_a_list[tau_idx][sample_idx]]\n",
    "            loss -= torch.log(Pi[s_to_idx[s], a_idx])\n",
    "    loss.backward()\n",
    "    w_grad_queue.put(w.grad)\n",
    "    return loss, w.grad"
   ]
  },
  {
   "cell_type": "code",
   "execution_count": 23,
   "metadata": {},
   "outputs": [],
   "source": [
    "def group_by_goals(traj_states_list, traj_actions_list):\n",
    "    \n",
    "    goal_to_traj_idx = defaultdict(lambda: defaultdict(lambda: []))\n",
    "    \n",
    "    for traj_idx, traj_states in enumerate(traj_states_list):\n",
    "        goal_to_traj_idx[traj_states[-1]][\"tau_s_list\"].append(traj_states)\n",
    "        goal_to_traj_idx[traj_states[-1]][\"tau_a_list\"].append(traj_actions_list[traj_idx])\n",
    "    return goal_to_traj_idx"
   ]
  },
  {
   "cell_type": "code",
   "execution_count": 24,
   "metadata": {},
   "outputs": [
    {
     "data": {
      "text/plain": [
       "tensor([[-0.0010, -0.0010, -0.0010, -0.0010, -0.0010, -0.0010, -0.0010],\n",
       "        [-0.0010, -0.0010, -0.0010, -0.0010, -0.0010, -0.0010, -0.0010],\n",
       "        [-0.0010, -0.0010, -0.0010, -0.0010, -0.0010, -0.0010, -0.0010],\n",
       "        [-0.0010, -0.0010, -0.0010, -0.0010, -0.0010, -0.0010, -0.0010],\n",
       "        [-0.0010, -0.0010, -0.0010, -0.0010, -0.0010, -0.0010, -0.0010],\n",
       "        [-0.0010, -0.0010, -0.0010, -0.0010, -0.0010, -0.0010, -0.0010],\n",
       "        [-0.0010, -0.0010, -0.0010, -0.0010, -0.0010, -0.0010, -0.0010]],\n",
       "       grad_fn=<AsStridedBackward>)"
      ]
     },
     "execution_count": 24,
     "metadata": {},
     "output_type": "execute_result"
    }
   ],
   "source": [
    "optimizer_fn = lambda params: optim.SGD(params, lr=0.001, weight_decay=1.)\n",
    "\n",
    "# nvmdp, S, A, T, phi, s_to_idx = get_toy_irl_problem_no_goal(7, 7)\n",
    "nvmdp, S, A, T, phi, s_to_idx = get_toy_irl_problem(7, 7, (5,5))\n",
    "# nvmdp.visualize_grid(show_colorbar=True, show_rewards_colorbar=True)\n",
    "\n",
    "a_to_idx = {a:ai for ai, a in enumerate(A)}\n",
    "\n",
    "gamma = 0.80\n",
    "dtype = torch.float\n",
    "phi_dim = len(phi(S[0]))\n",
    "boltzmann_beta = 10.\n",
    "boltzmann_expl_policy = lambda Q, beta=boltzmann_beta: (beta*Q).softmax(dim=0)\n",
    "argmax_expl_policy = lambda Q: torch.eye(len(Q))[Q.argmax()]\n",
    "\n",
    "expl_policy = boltzmann_expl_policy\n",
    "\n",
    "phi_S = torch.Tensor([phi(s) for s in S]).type(dtype)\n",
    "# w = Variable(torch.Tensor(phi_dim, 1).normal_(0, 0.01).type(dtype), requires_grad=True)\n",
    "w = Variable(-0.001 * torch.ones(phi_dim, 1).type(dtype), requires_grad=True)\n",
    "optimizer = optimizer_fn([w])\n",
    "\n",
    "tau_s_list, tau_a_list = nvmdp.sample_trajectories(20, 3, init_cell_types=nvmdp.nav_cell_types)\n",
    "                                                   #policy=lambda s: np.random.choice(A))\n",
    "goal_to_trajectories = group_by_goals(tau_s_list, tau_a_list)\n",
    "goal_tau_list = list(goal_to_trajectories.items())\n",
    "\n",
    "R = torch.mm(phi_S, w)\n",
    "R.reshape(7,7)"
   ]
  },
  {
   "cell_type": "code",
   "execution_count": 25,
   "metadata": {},
   "outputs": [],
   "source": [
    "w = Variable(-0.001 * torch.ones(phi_dim, 1).type(dtype), requires_grad=True)\n",
    "optimizer = optimizer_fn([w])"
   ]
  },
  {
   "cell_type": "code",
   "execution_count": 26,
   "metadata": {},
   "outputs": [
    {
     "name": "stdout",
     "output_type": "stream",
     "text": [
      "tensor([[-0.0056, -0.0117, -0.0137, -0.0092, -0.0032, -0.0016, -0.0012],\n",
      "        [-0.0040, -0.0067,  0.0070,  0.0013, -0.0010, -0.0012, -0.0011],\n",
      "        [-0.0029, -0.0039,  0.0251,  0.0310,  0.0056, -0.0011, -0.0011],\n",
      "        [-0.0027, -0.0041,  0.0028,  0.0103, -0.0014, -0.0013, -0.0012],\n",
      "        [-0.0030, -0.0057, -0.0063,  0.0006, -0.0038, -0.0020, -0.0014],\n",
      "        [-0.0026, -0.0041, -0.0084, -0.0061, -0.0054, -0.0024, -0.0016],\n",
      "        [-0.0022, -0.0030, -0.0047, -0.0064, -0.0037, -0.0021, -0.0015]],\n",
      "       grad_fn=<AsStridedBackward>)\n"
     ]
    },
    {
     "data": {
      "image/png": "[encoded data removed]",
      "text/plain": [
       "<Figure size 1440x1008 with 3 Axes>"
      ]
     },
     "metadata": {
      "needs_background": "light"
     },
     "output_type": "display_data"
    }
   ],
   "source": [
    "plt.figure(figsize=(20,14))\n",
    "traj_idx = 0\n",
    "\n",
    "optimizer.zero_grad()\n",
    "tau_s_list, tau_a_list = goal_tau_list[traj_idx][1][\"tau_s_list\"], goal_tau_list[traj_idx][1][\"tau_a_list\"]\n",
    "loss, w_grad = run_mlirl_step(tau_s_list, tau_a_list, S, phi_S, s_to_idx, A, a_to_idx, \n",
    "                               w, T, expl_policy, gamma, 10, dtype, None)\n",
    "\n",
    "optimizer.step()\n",
    "R = torch.mm(phi_S, w)\n",
    "print(R.reshape(7,7))\n",
    "Pi, V, Q = run_value_iteration(S, A, R, T, s_to_idx, expl_policy, gamma, 100,\n",
    "                        dtype, given_goal_idx=None, verbose=False)\n",
    "nvmdp.visualize_grid(trajectories=tau_s_list, end_marker=\"x\", title=\"traj {}\".format(traj_idx+1), \n",
    "                     new_fig=False, subplot_str=\"131\")\n",
    "nvmdp.visualize_grid(R.reshape(7,7).data.numpy(), title=\"R\", new_fig=False, subplot_str=\"132\")\n",
    "nvmdp.visualize_grid(V.reshape(7,7).data.numpy(), title=\"Value\", new_fig=False, subplot_str=\"133\")\n",
    "# plt.imshow()"
   ]
  },
  {
   "cell_type": "code",
   "execution_count": 27,
   "metadata": {},
   "outputs": [
    {
     "name": "stdout",
     "output_type": "stream",
     "text": [
      "tensor([[-0.0101, -0.0224, -0.0264, -0.0172, -0.0052, -0.0018, -0.0014],\n",
      "        [-0.0071, -0.0125,  0.0150,  0.0037, -0.0006,  0.0002, -0.0015],\n",
      "        [-0.0048, -0.0069,  0.0510,  0.0628,  0.0138,  0.0063,  0.0061],\n",
      "        [-0.0045, -0.0073,  0.0064,  0.0213, -0.0023, -0.0027,  0.0008],\n",
      "        [-0.0050, -0.0104, -0.0118,  0.0018, -0.0078, -0.0072, -0.0087],\n",
      "        [-0.0041, -0.0073, -0.0160, -0.0115, -0.0105, -0.0060, -0.0074],\n",
      "        [-0.0033, -0.0050, -0.0084, -0.0119, -0.0069, -0.0045, -0.0042]],\n",
      "       grad_fn=<AsStridedBackward>)\n"
     ]
    },
    {
     "data": {
      "image/png": "[encoded data removed]",
      "text/plain": [
       "<Figure size 1440x1008 with 3 Axes>"
      ]
     },
     "metadata": {
      "needs_background": "light"
     },
     "output_type": "display_data"
    }
   ],
   "source": [
    "plt.figure(figsize=(20,14))\n",
    "traj_idx = 1\n",
    "\n",
    "# w = Variable(-0.01 * torch.ones(phi_dim, 1).type(dtype), requires_grad=True)\n",
    "# optimizer.zero_grad()\n",
    "# optimizer = optimizer_fn([w])\n",
    "\n",
    "tau_s_list, tau_a_list = goal_tau_list[1][1][\"tau_s_list\"], goal_tau_list[1][1][\"tau_a_list\"]\n",
    "loss, w_grad = run_mlirl_step(tau_s_list, tau_a_list, S, phi_S, s_to_idx, A, a_to_idx, \n",
    "                               w, T, expl_policy, gamma, 10, dtype, None)\n",
    "\n",
    "optimizer.step()\n",
    "R = torch.mm(phi_S, w)\n",
    "print(R.reshape(7,7))\n",
    "Pi, V, Q = run_value_iteration(S, A, R, T, s_to_idx, expl_policy, gamma, 100,\n",
    "                        dtype, given_goal_idx=None, verbose=False)\n",
    "\n",
    "nvmdp.visualize_grid(trajectories=tau_s_list, end_marker=\"x\", title=\"traj {}\".format(traj_idx+1), \n",
    "                     new_fig=False, subplot_str=\"131\")\n",
    "nvmdp.visualize_grid(R.reshape(7,7).data.numpy(), title=\"R\", new_fig=False, subplot_str=\"132\")\n",
    "nvmdp.visualize_grid(V.reshape(7,7).data.numpy(), title=\"Value\", new_fig=False, subplot_str=\"133\")\n"
   ]
  },
  {
   "cell_type": "code",
   "execution_count": 28,
   "metadata": {
    "scrolled": false
   },
   "outputs": [
    {
     "name": "stdout",
     "output_type": "stream",
     "text": [
      "1.3407349586486816\n",
      "1.4647512435913086\n",
      "1.5815868377685547\n",
      "1.3454620838165283\n"
     ]
    }
   ],
   "source": [
    "w = Variable(-0.001 * torch.ones(phi_dim, 1).type(dtype), requires_grad=True)\n",
    "optimizer_fn = lambda params: optim.SGD(params, lr=0.0001, weight_decay=1.)\n",
    "optimizer = optimizer_fn([w])\n",
    "\n",
    "w_grad_queue = mp.Queue()\n",
    "\n",
    "for i in range(4):\n",
    "    \n",
    "    optimizer.zero_grad()\n",
    "    processes = []\n",
    "    t_ = time.time()\n",
    "    for idx in range(5):\n",
    "        tau_s_list, tau_a_list = goal_tau_list[idx][1][\"tau_s_list\"], goal_tau_list[idx][1][\"tau_a_list\"]\n",
    "        p = mp.Process(target=run_mlirl_step_shared, args=(tau_s_list, tau_a_list, S, phi_S, s_to_idx, A, a_to_idx, \n",
    "                                                    w, T, expl_policy, gamma, 20, dtype, None, w_grad_queue))\n",
    "        p.start()\n",
    "        processes.append(p)\n",
    "    for p in processes:\n",
    "        p.join()\n",
    "    print(time.time()-t_)\n",
    "    while not w_grad_queue.empty():\n",
    "        if w.grad is not None:\n",
    "            w.grad += w_grad_queue.get_nowait()\n",
    "        else:\n",
    "            w.grad = w_grad_queue.get_nowait()\n",
    "    optimizer.step()"
   ]
  },
  {
   "cell_type": "code",
   "execution_count": 29,
   "metadata": {},
   "outputs": [
    {
     "name": "stdout",
     "output_type": "stream",
     "text": [
      "tensor([[-0.0264, -0.0608, -0.0900, -0.0980, -0.0850, -0.0781, -0.0643],\n",
      "        [-0.0247, -0.0612, -0.0258, -0.1215, -0.0399, -0.0600, -0.0733],\n",
      "        [-0.0320, -0.0647,  0.0216,  0.1245,  0.3999,  0.1113,  0.0285],\n",
      "        [-0.0198, -0.0436, -0.0486, -0.0304, -0.0778, -0.0632, -0.0161],\n",
      "        [-0.0168, -0.0355, -0.0650, -0.0084, -0.0839, -0.0847, -0.0667],\n",
      "        [-0.0147, -0.0252, -0.0679, -0.0313, -0.0681, -0.0701, -0.0809],\n",
      "        [-0.0144, -0.0238, -0.0520, -0.0769, -0.0537, -0.0390, -0.0534]],\n",
      "       grad_fn=<AsStridedBackward>)\n"
     ]
    },
    {
     "name": "stderr",
     "output_type": "stream",
     "text": [
      "/Users/yrevar/.pyenv/versions/irl_python3/lib/python3.6/site-packages/matplotlib/cbook/deprecation.py:107: MatplotlibDeprecationWarning: Adding an axes using the same arguments as a previous axes currently reuses the earlier instance.  In a future version, a new instance will always be created and returned.  Meanwhile, this warning can be suppressed, and the future behavior ensured, by passing a unique label to each axes instance.\n",
      "  warnings.warn(message, mplDeprecation, stacklevel=1)\n"
     ]
    },
    {
     "data": {
      "image/png": "[encoded data removed]",
      "text/plain": [
       "<Figure size 1440x1008 with 5 Axes>"
      ]
     },
     "metadata": {
      "needs_background": "light"
     },
     "output_type": "display_data"
    }
   ],
   "source": [
    "plt.figure(figsize=(20,14))\n",
    "R = torch.mm(phi_S, w)\n",
    "print(R.reshape(7,7))\n",
    "Pi, V, Q = run_value_iteration(S, A, R, T, s_to_idx, expl_policy, gamma, 100,\n",
    "                        dtype, given_goal_idx=None, verbose=False)\n",
    "\n",
    "# sum([goal_tau_list[i][1][\"tau_s_list\"] for i in range(5)], [])\n",
    "marker_colors = [\"r\", \"g\", \"b\", \"y\", \"k\"]\n",
    "for i in range(5):\n",
    "    nvmdp.visualize_grid(trajectories=goal_tau_list[i][1][\"tau_s_list\"],\n",
    "                         end_marker=\"x\", title=\"Navigation MDP\",\n",
    "                         new_fig=False, subplot_str=\"131\", traj_marker=marker_colors[i])\n",
    "    \n",
    "nvmdp.visualize_grid(R.reshape(7,7).data.numpy(), title=\"R\", new_fig=False, subplot_str=\"132\", \n",
    "                     show_colorbar=True, goal_marker=\"\")\n",
    "nvmdp.visualize_grid(V.reshape(7,7).data.numpy(), title=\"Value\", new_fig=False, subplot_str=\"133\",\n",
    "                    show_colorbar=True, goal_marker=\"\")"
   ]
  },
  {
   "cell_type": "code",
   "execution_count": null,
   "metadata": {},
   "outputs": [],
   "source": []
  },
  {
   "cell_type": "code",
   "execution_count": null,
   "metadata": {},
   "outputs": [],
   "source": []
  },
  {
   "cell_type": "code",
   "execution_count": null,
   "metadata": {},
   "outputs": [],
   "source": []
  },
  {
   "cell_type": "code",
   "execution_count": null,
   "metadata": {},
   "outputs": [],
   "source": []
  },
  {
   "cell_type": "code",
   "execution_count": null,
   "metadata": {},
   "outputs": [],
   "source": []
  },
  {
   "cell_type": "code",
   "execution_count": null,
   "metadata": {},
   "outputs": [],
   "source": []
  },
  {
   "cell_type": "code",
   "execution_count": 30,
   "metadata": {},
   "outputs": [],
   "source": [
    "def run_value_iteration(S, A, R, T, s_to_idx, expl_policy, gamma, n_iters,\n",
    "                        dtype, given_goal_idx=None, verbose=False):\n",
    "\n",
    "    nS, nA = len(S), len(A)\n",
    "    \n",
    "    # Initialize Pi, V, & Q.\n",
    "    Pi = torch.ones(nS, nA, dtype=dtype) / nA\n",
    "    V = R.clone() # trick to initialize terminal states' value without running VI on it (no need for absorbing state).\n",
    "    Q = R.reshape(nS, 1).repeat(1, nA).clone()\n",
    "    \n",
    "    # Force given goals to have 0 value\n",
    "    if given_goal_idx is not None:\n",
    "        V[given_goal_idx] = 0\n",
    "        \n",
    "    # Value iteration\n",
    "    for _ in range(n_iters):\n",
    "        for si, s in enumerate(S):\n",
    "            \n",
    "            # No need to compute value for terminal and given goal states.\n",
    "            if s.is_terminal() or si == given_goal_idx:\n",
    "                continue \n",
    "                \n",
    "            for ai, a in enumerate(A):\n",
    "                for sp in T[s][a]:\n",
    "                    if verbose: print(s, \"-\", \"{:5s}\".format(a), \"->\", sp, \"R: \", int(R[si]), \"V_sp: \", int(V[s_to_idx[sp]]))\n",
    "                    Q[si, ai] = R[si].clone() + \\\n",
    "                        gamma * T[s][a][sp] * V[s_to_idx[sp]].clone()\n",
    "            Pi[si, :] = expl_policy(Q[si, :].clone())\n",
    "            V[si] = Pi[si, :].clone().dot(Q[si, :].clone())\n",
    "    return Pi, V, Q\n",
    "\n",
    "def compute_gradient(tau_s_list, tau_a_list, S, phi_S, s_to_idx, A, a_to_idx,\n",
    "                          w, T, expl_policy, gamma, n_vi_iter, dtype, given_goal_idx,\n",
    "                          w_grad_queue):\n",
    "    print(\"called... wtf\")\n",
    "    R = torch.mm(phi_S, w)\n",
    "    print(\"hmm\")\n",
    "    \n",
    "    Pi, V, Q = run_value_iteration(S, A, R, T, s_to_idx, expl_policy, gamma, n_vi_iter, dtype, given_goal_idx)\n",
    "    print(\"ran vi...\", flush=True)\n",
    "    \n",
    "    loss = 0\n",
    "    for tau_idx, tau_s in enumerate(tau_s_list):\n",
    "        for sample_idx, s in enumerate(tau_s[:-1]):\n",
    "            a_idx = a_to_idx[tau_a_list[tau_idx][sample_idx]]\n",
    "            loss -= torch.log(Pi[s_to_idx[s], a_idx])\n",
    "    print(loss)\n",
    "    loss.backward()\n",
    "    w_grad_queue.put(w.grad)\n",
    "    return loss, w.grad\n",
    "\n",
    "\n",
    "def run_mlirl_step_by_goals(tau_by_goals, S, s_to_idx, phi_S, A, a_to_idx, w, T, \n",
    "                            expl_policy, gamma, vi_iters, dtype, given_goal):\n",
    "\n",
    "    w_grad_queue = mp.Queue()\n",
    "    processes = []\n",
    "\n",
    "    for goal in tau_by_goals.keys():\n",
    "        \n",
    "        tau_s_list = tau_by_goals[goal][\"tau_s_list\"]\n",
    "        tau_a_list = tau_by_goals[goal][\"tau_a_list\"]\n",
    "#         compute_gradient(tau_s_list, tau_a_list, S, phi_S, s_to_idx, \n",
    "#                            A, a_to_idx, w, T, expl_policy, gamma, \n",
    "#                            vi_iters, dtype, s_to_idx[goal] if given_goal else None, \n",
    "#                            w_grad_queue)\n",
    "        p = mp.Process(target=compute_gradient, args=(tau_s_list, tau_a_list, S, phi_S, s_to_idx, \n",
    "                                                           A, a_to_idx, w, T, expl_policy, gamma, \n",
    "                                                           vi_iters, dtype, s_to_idx[goal] if given_goal else None, \n",
    "                                                           w_grad_queue))\n",
    "        p.start()\n",
    "        processes.append(p)\n",
    "    for p in processes:\n",
    "        p.join()\n",
    "        \n",
    "    while not w_grad_queue.empty():\n",
    "        if w.grad is not None:\n",
    "            w.grad += w_grad_queue.get_nowait()\n",
    "        else:\n",
    "            w.grad = w_grad_queue.get_nowait()\n",
    "    return w.grad"
   ]
  },
  {
   "cell_type": "code",
   "execution_count": 3,
   "metadata": {},
   "outputs": [
    {
     "ename": "NameError",
     "evalue": "name 'run_mlirl_step_by_goals' is not defined",
     "output_type": "error",
     "traceback": [
      "\u001b[0;31m---------------------------------------------------------------------------\u001b[0m",
      "\u001b[0;31mNameError\u001b[0m                                 Traceback (most recent call last)",
      "\u001b[0;32m<ipython-input-3-a2b915e98eca>\u001b[0m in \u001b[0;36m<module>\u001b[0;34m()\u001b[0m\n\u001b[1;32m      2\u001b[0m \u001b[0moptimizer_fn\u001b[0m \u001b[0;34m=\u001b[0m \u001b[0;32mlambda\u001b[0m \u001b[0mparams\u001b[0m\u001b[0;34m:\u001b[0m \u001b[0moptim\u001b[0m\u001b[0;34m.\u001b[0m\u001b[0mSGD\u001b[0m\u001b[0;34m(\u001b[0m\u001b[0mparams\u001b[0m\u001b[0;34m,\u001b[0m \u001b[0mlr\u001b[0m\u001b[0;34m=\u001b[0m\u001b[0;36m0.0001\u001b[0m\u001b[0;34m,\u001b[0m \u001b[0mweight_decay\u001b[0m\u001b[0;34m=\u001b[0m\u001b[0;36m1.\u001b[0m\u001b[0;34m)\u001b[0m\u001b[0;34m\u001b[0m\u001b[0m\n\u001b[1;32m      3\u001b[0m \u001b[0moptimizer\u001b[0m \u001b[0;34m=\u001b[0m \u001b[0moptimizer_fn\u001b[0m\u001b[0;34m(\u001b[0m\u001b[0;34m[\u001b[0m\u001b[0mw\u001b[0m\u001b[0;34m]\u001b[0m\u001b[0;34m)\u001b[0m\u001b[0;34m\u001b[0m\u001b[0m\n\u001b[0;32m----> 4\u001b[0;31m run_mlirl_step_by_goals(goal_to_trajectories, S, s_to_idx, phi_S, A, a_to_idx, w, T,\n\u001b[0m\u001b[1;32m      5\u001b[0m                         expl_policy, gamma, 20, dtype, False)\n\u001b[1;32m      6\u001b[0m \u001b[0moptimizer\u001b[0m\u001b[0;34m.\u001b[0m\u001b[0mstep\u001b[0m\u001b[0;34m(\u001b[0m\u001b[0;34m)\u001b[0m\u001b[0;34m\u001b[0m\u001b[0m\n",
      "\u001b[0;31mNameError\u001b[0m: name 'run_mlirl_step_by_goals' is not defined"
     ]
    }
   ],
   "source": [
    "w = Variable(-0.001 * torch.ones(phi_dim, 1).type(dtype), requires_grad=True)\n",
    "optimizer_fn = lambda params: optim.SGD(params, lr=0.0001, weight_decay=1.)\n",
    "optimizer = optimizer_fn([w])\n",
    "run_mlirl_step_by_goals(goal_to_trajectories, S, s_to_idx, phi_S, A, a_to_idx, w, T,\n",
    "                        expl_policy, gamma, 20, dtype, False)\n",
    "optimizer.step()"
   ]
  },
  {
   "cell_type": "code",
   "execution_count": 32,
   "metadata": {},
   "outputs": [
    {
     "name": "stdout",
     "output_type": "stream",
     "text": [
      "tensor([[-0.0018, -0.0024, -0.0027, -0.0030, -0.0028, -0.0027, -0.0026],\n",
      "        [-0.0019, -0.0020, -0.0004, -0.0015, -0.0013, -0.0015, -0.0022],\n",
      "        [-0.0009,  0.0016,  0.0043,  0.0045,  0.0047,  0.0017,  0.0005],\n",
      "        [-0.0023, -0.0006, -0.0009,  0.0004, -0.0015, -0.0004, -0.0006],\n",
      "        [-0.0036, -0.0023, -0.0028, -0.0009, -0.0023, -0.0017, -0.0023],\n",
      "        [-0.0029, -0.0024, -0.0030, -0.0019, -0.0027, -0.0022, -0.0031],\n",
      "        [-0.0025, -0.0027, -0.0029, -0.0029, -0.0028, -0.0028, -0.0030]],\n",
      "       grad_fn=<AsStridedBackward>)\n"
     ]
    },
    {
     "name": "stderr",
     "output_type": "stream",
     "text": [
      "/Users/yrevar/.pyenv/versions/irl_python3/lib/python3.6/site-packages/matplotlib/cbook/deprecation.py:107: MatplotlibDeprecationWarning: Adding an axes using the same arguments as a previous axes currently reuses the earlier instance.  In a future version, a new instance will always be created and returned.  Meanwhile, this warning can be suppressed, and the future behavior ensured, by passing a unique label to each axes instance.\n",
      "  warnings.warn(message, mplDeprecation, stacklevel=1)\n"
     ]
    },
    {
     "data": {
      "image/png": "[encoded data removed]",
      "text/plain": [
       "<Figure size 1440x1008 with 5 Axes>"
      ]
     },
     "metadata": {
      "needs_background": "light"
     },
     "output_type": "display_data"
    }
   ],
   "source": [
    "plt.figure(figsize=(20,14))\n",
    "R = torch.mm(phi_S, w)\n",
    "print(R.reshape(7,7))\n",
    "Pi, V, Q = run_value_iteration(S, A, R, T, s_to_idx, expl_policy, gamma, 100,\n",
    "                        dtype, given_goal_idx=None, verbose=False)\n",
    "\n",
    "# sum([goal_tau_list[i][1][\"tau_s_list\"] for i in range(5)], [])\n",
    "marker_colors = [\"r\", \"g\", \"b\", \"y\", \"k\"]\n",
    "for i in range(5):\n",
    "    nvmdp.visualize_grid(trajectories=goal_tau_list[i][1][\"tau_s_list\"],\n",
    "                         end_marker=\"x\", title=\"Navigation MDP\",\n",
    "                         new_fig=False, subplot_str=\"131\", traj_marker=marker_colors[i])\n",
    "    \n",
    "nvmdp.visualize_grid(R.reshape(7,7).data.numpy(), title=\"R\", new_fig=False, subplot_str=\"132\", \n",
    "                     show_colorbar=True, goal_marker=\"\")\n",
    "nvmdp.visualize_grid(V.reshape(7,7).data.numpy(), title=\"Value\", new_fig=False, subplot_str=\"133\",\n",
    "                    show_colorbar=True, goal_marker=\"\")"
   ]
  },
  {
   "cell_type": "code",
   "execution_count": 41,
   "metadata": {},
   "outputs": [],
   "source": []
  },
  {
   "cell_type": "code",
   "execution_count": 42,
   "metadata": {},
   "outputs": [
    {
     "data": {
      "text/plain": [
       "torch.float32"
      ]
     },
     "execution_count": 42,
     "metadata": {},
     "output_type": "execute_result"
    }
   ],
   "source": [
    "phi_S.dtype"
   ]
  },
  {
   "cell_type": "code",
   "execution_count": 50,
   "metadata": {},
   "outputs": [],
   "source": []
  },
  {
   "cell_type": "code",
   "execution_count": 58,
   "metadata": {},
   "outputs": [
    {
     "name": "stdout",
     "output_type": "stream",
     "text": [
      "start\n",
      "end\n",
      "start\n",
      "start\n",
      "end\n",
      "end\n",
      "start\n",
      "end\n",
      "start\n",
      "end\n",
      "start\n",
      "end\n",
      "start\n",
      "end\n",
      "start\n",
      "end\n"
     ]
    }
   ],
   "source": [
    "def test(phi_S, w):\n",
    "    print(\"start\")\n",
    "    phi_S.mm(w)\n",
    "    print(\"end\")\n",
    "    \n",
    "dtype = torch.float\n",
    "phi_dim = 10\n",
    "phi_S = torch.rand(10000, phi_dim).type(dtype)\n",
    "w = Variable(-0.001 * torch.ones(phi_dim, 1).type(dtype), requires_grad=True)\n",
    "processes = []\n",
    "for p_idx in range(8):\n",
    "    p = mp.Process(target=test, args=(phi_S, w))\n",
    "    p.start()\n",
    "    processes.append(p)\n",
    "for p in processes:\n",
    "    p.join()"
   ]
  },
  {
   "cell_type": "code",
   "execution_count": null,
   "metadata": {},
   "outputs": [],
   "source": []
  },
  {
   "cell_type": "code",
   "execution_count": null,
   "metadata": {},
   "outputs": [],
   "source": []
  },
  {
   "cell_type": "code",
   "execution_count": null,
   "metadata": {},
   "outputs": [],
   "source": []
  },
  {
   "cell_type": "code",
   "execution_count": null,
   "metadata": {},
   "outputs": [],
   "source": []
  },
  {
   "cell_type": "code",
   "execution_count": 18,
   "metadata": {},
   "outputs": [],
   "source": [
    "def test(q):\n",
    "    var = q.get()\n",
    "    print(var)\n",
    "    var.append(1)\n",
    "    q.put(var)"
   ]
  },
  {
   "cell_type": "code",
   "execution_count": 19,
   "metadata": {},
   "outputs": [
    {
     "name": "stdout",
     "output_type": "stream",
     "text": [
      "[1]\n",
      "[1, 1]\n"
     ]
    }
   ],
   "source": [
    "v = [1]\n",
    "# mp.set_start_method('fork')\n",
    "processes = []\n",
    "q = mp.Queue()\n",
    "q.put(v)\n",
    "for idx in range(2):\n",
    "    p = mp.Process(target=test, args=(q,))\n",
    "    p.start()\n",
    "    processes.append(p)\n",
    "    \n",
    "for p in processes:\n",
    "    p.join()"
   ]
  },
  {
   "cell_type": "code",
   "execution_count": 20,
   "metadata": {},
   "outputs": [
    {
     "data": {
      "text/plain": [
       "[1, 1, 1]"
      ]
     },
     "execution_count": 20,
     "metadata": {},
     "output_type": "execute_result"
    }
   ],
   "source": [
    "q.get()"
   ]
  },
  {
   "cell_type": "code",
   "execution_count": 21,
   "metadata": {},
   "outputs": [
    {
     "name": "stdout",
     "output_type": "stream",
     "text": [
      "[1, 4, 9]\n"
     ]
    }
   ],
   "source": [
    "from multiprocessing import Pool\n",
    "\n",
    "def f(x):\n",
    "    return x*x\n",
    "\n",
    "if __name__ == '__main__':\n",
    "    with Pool(4) as p:\n",
    "        print(p.map(f, [1, 2, 3]))"
   ]
  },
  {
   "cell_type": "code",
   "execution_count": null,
   "metadata": {},
   "outputs": [],
   "source": []
  },
  {
   "cell_type": "code",
   "execution_count": 301,
   "metadata": {},
   "outputs": [
    {
     "name": "stdout",
     "output_type": "stream",
     "text": [
      "tensor([[-0.0010, -0.0010, -0.0010, -0.0010, -0.0010, -0.0010, -0.0010],\n",
      "        [-0.0010, -0.0010, -0.0010, -0.0010, -0.0010, -0.0010, -0.0010],\n",
      "        [-0.0010, -0.0010, -0.0010, -0.0010, -0.0010, -0.0010, -0.0010],\n",
      "        [-0.0010, -0.0010, -0.0010, -0.0010, -0.0010, -0.0010, -0.0010],\n",
      "        [-0.0010, -0.0010, -0.0010, -0.0010, -0.0010, -0.0010, -0.0010],\n",
      "        [-0.0010, -0.0010, -0.0010, -0.0010, -0.0010, -0.0010, -0.0010],\n",
      "        [-0.0010, -0.0010, -0.0010, -0.0010, -0.0010, -0.0010, -0.0010]],\n",
      "       grad_fn=<AsStridedBackward>)\n"
     ]
    },
    {
     "data": {
      "image/png": "[encoded data removed]",
      "text/plain": [
       "<Figure size 432x288 with 3 Axes>"
      ]
     },
     "metadata": {
      "needs_background": "light"
     },
     "output_type": "display_data"
    }
   ],
   "source": [
    "R = torch.mm(phi_S, w)\n",
    "print(R.reshape(7,7))\n",
    "Pi, V, Q = run_value_iteration(S, A, R, T, s_to_idx, expl_policy, gamma, 100,\n",
    "                        dtype, given_goal_idx=None, verbose=False)\n",
    "\n",
    "nvmdp.visualize_grid(trajectories=tau_s_list, end_marker=\"x\", title=\"traj {}\".format(traj_idx+1), \n",
    "                     new_fig=False, subplot_str=\"131\")\n",
    "nvmdp.visualize_grid(R.reshape(7,7).data.numpy(), title=\"R\", new_fig=False, subplot_str=\"132\")\n",
    "nvmdp.visualize_grid(V.reshape(7,7).data.numpy(), title=\"Value\", new_fig=False, subplot_str=\"133\")"
   ]
  },
  {
   "cell_type": "code",
   "execution_count": null,
   "metadata": {},
   "outputs": [],
   "source": []
  },
  {
   "cell_type": "code",
   "execution_count": null,
   "metadata": {},
   "outputs": [],
   "source": []
  },
  {
   "cell_type": "code",
   "execution_count": null,
   "metadata": {},
   "outputs": [],
   "source": []
  },
  {
   "cell_type": "code",
   "execution_count": null,
   "metadata": {},
   "outputs": [],
   "source": []
  },
  {
   "cell_type": "code",
   "execution_count": null,
   "metadata": {},
   "outputs": [],
   "source": [
    "def compute_policy(S, A, R, T, idx_to_s, gamma, n_iters,\n",
    "                   expl_policy, dtype, given_goal_idx=None):\n",
    "\n",
    "    nS, nA = len(S), len(A)\n",
    "    # Policy\n",
    "    Pi = torch.ones(nS, nA, dtype=dtype) / nA\n",
    "    # Value\n",
    "    V = R[:, 0].clone()\n",
    "    # Q value\n",
    "    Q = R.repeat(1, nA).clone()\n",
    "\n",
    "    # Check if state is terminal (stop leaking values back to\n",
    "    # non-goal state space)\n",
    "    # Done here so as to impro.ve performance.\n",
    "    S_ = [si for si in S if not (\n",
    "        idx_to_s[si].is_terminal() or given_goal_idx == si)]\n",
    "\n",
    "    if given_goal_idx:\n",
    "        V[given_goal_idx] = 0\n",
    "\n",
    "    # Value iteration\n",
    "    for _vi_iter in range(n_iters):\n",
    "        for si in S_:\n",
    "            for ai in A:\n",
    "                Q[si, ai] = R[si].clone() + gamma * T[si][ai].dot(V.clone())\n",
    "            Pi[si, :] = expl_policy(Q[si, :].clone())\n",
    "            V[si] = Pi[si, :].clone().dot(Q[si, :].clone())\n",
    "    return Pi, V, Q"
   ]
  },
  {
   "cell_type": "code",
   "execution_count": 2,
   "metadata": {},
   "outputs": [],
   "source": [
    "def run_value_iteration(S, A, R, trans_dict, s_to_idx, gamma, n_iters, expl_policy, dtype, \n",
    "                        given_goal_idx=None, perf_debug=False):\n",
    "    \n",
    "    _vi_start = time.time()\n",
    "    \n",
    "    nS, nA = len(S), len(A)\n",
    "    # Policy\n",
    "    Pi = torch.ones(nS, nA, dtype=dtype) / nA\n",
    "    # Value\n",
    "    V = R[:,0].clone()\n",
    "    # Q value\n",
    "    Q = R.repeat(1,nA).clone()\n",
    "    \n",
    "    if given_goal_idx:\n",
    "        V[given_goal_idx] = 0\n",
    "            \n",
    "    # Value iteration\n",
    "    for _vi_iter in range(n_iters):\n",
    "\n",
    "        for s_idx, s in enumerate(S):\n",
    "            # Check if state is terminal (stop leaking values back to non-goal state space)\n",
    "            if s.is_terminal() or (given_goal_idx and s_idx == given_goal_idx):\n",
    "                continue\n",
    "            for a_idx, a in enumerate(A):\n",
    "                Q[s_idx, a_idx] = R[s_idx]\n",
    "                for s_prime in trans_dict[s][a]:\n",
    "                    Q[s_idx, a_idx] += gamma * trans_dict[s][a][s_prime] * V[s_to_idx[s_prime]].clone()\n",
    "            Pi[s_idx, :] = expl_policy(Q[s_idx,:].clone())\n",
    "            V[s_idx] = Pi[s_idx, :].clone().dot(Q[s_idx,:].clone())\n",
    "    return time.time()-_vi_start, Pi, V, Q\n",
    "\n",
    "def compute_loss(Pi, traj_S, traj_A):\n",
    "    \n",
    "    nS, nA = Pi.shape\n",
    "    loss = 0.\n",
    "    for i in range(len(traj_S)):\n",
    "        loss -= torch.log(Pi[traj_S[i], traj_A[i]])\n",
    "    return loss\n",
    "\n",
    "def dummy_max_likelihood_gradient_step(Pi, n_samples):\n",
    "    \n",
    "    nS, nA = Pi.shape\n",
    "    traj_S = [np.random.choice(nS) for _ in range(n_samples)]\n",
    "    traj_A = [np.random.choice(nA) for _ in range(n_samples)]\n",
    "    loss = compute_loss(Pi, traj_S, traj_A)\n",
    "    loss.backward()\n",
    "    \n",
    "def run_dummy_mlirl(phi_S, w, vi_vars, n_iters, n_traj_points, optimizer):\n",
    "    \n",
    "    optimizer.zero_grad()\n",
    "    vi_vars[\"R\"] = torch.mm(phi_S, w)\n",
    "    t, Pi, V, Q = run_value_iteration(**vi_vars, n_iters=n_iters)\n",
    "    _t = time.time()\n",
    "    dummy_max_likelihood_gradient_step(Pi, n_traj_points)\n",
    "    return (time.time() - _t + t, )\n",
    "\n",
    "def compute_perf(fn, var_values, n_rep):\n",
    "    \n",
    "    run_times = []\n",
    "    for var_value in var_values:\n",
    "        \n",
    "        #ts = time.time()\n",
    "        ts = 0\n",
    "        for _ in range(n_rep):\n",
    "            ts += fn(var_value)[0]\n",
    "        run_times.append(ts/n_rep)\n",
    "        \n",
    "    return run_times"
   ]
  },
  {
   "cell_type": "markdown",
   "metadata": {},
   "source": [
    "### GridWorld MDP (3x5)"
   ]
  },
  {
   "cell_type": "code",
   "execution_count": null,
   "metadata": {},
   "outputs": [],
   "source": []
  },
  {
   "cell_type": "code",
   "execution_count": 6,
   "metadata": {},
   "outputs": [],
   "source": [
    "gamma = 0.95\n",
    "dtype = torch.float\n",
    "optimizer_fn = lambda params: optim.SGD(params, lr=1., weight_decay=0.)\n",
    "\n",
    "mdp = GridWorldMDP(width=5, height=2)\n",
    "value_iter = ValueIteration(mdp)\n",
    "value_iter._compute_matrix_from_trans_func()\n",
    "\n",
    "S = value_iter.get_states()\n",
    "trans_dict = value_iter.trans_dict\n",
    "A = mdp.get_actions()\n",
    "s_to_idx = {s:idx for idx,s in enumerate(S)}\n",
    "\n",
    "phi_S = torch.Tensor([(s.x, s.y) for s in S]).type(dtype)\n",
    "phi_dim = phi_S.shape[1]\n",
    "\n",
    "w = Variable(torch.Tensor(phi_dim, 1).normal_(0, 0.01).type(dtype), requires_grad=True)\n",
    "R = torch.mm(phi_S, w)\n",
    "R_const = torch.Tensor(len(S), 1).normal_(0, 0.01).type(dtype)\n",
    "\n",
    "# Optimization params\n",
    "optimizer = optimizer_fn([w])\n",
    "\n",
    "# Exploration policy\n",
    "boltzmann_beta = 1.\n",
    "expl_policy = lambda Q: (boltzmann_beta*Q).softmax(dim=0)\n",
    "given_goal_idx = None\n",
    "vi_vars = dict(S=S, A=A, trans_dict=trans_dict, s_to_idx=s_to_idx, \n",
    "               gamma=gamma, expl_policy=expl_policy, dtype=dtype, given_goal_idx=given_goal_idx)"
   ]
  },
  {
   "cell_type": "code",
   "execution_count": 19,
   "metadata": {},
   "outputs": [],
   "source": [
    "vi_vars[\"R\"] = R_const"
   ]
  },
  {
   "cell_type": "code",
   "execution_count": 55,
   "metadata": {},
   "outputs": [],
   "source": [
    "times = []\n",
    "for num_processes in range(1,20):\n",
    "    # model = MyModel()\n",
    "    # NOTE: this is required for the ``fork`` method to work\n",
    "    # model.share_memory()\n",
    "    processes = []\n",
    "    s = time.time()\n",
    "\n",
    "    for rank in range(num_processes):\n",
    "        p = mp.Process(target=lambda: run_value_iteration(**vi_vars, n_iters=100), args=())\n",
    "        p.start()\n",
    "        processes.append(p)\n",
    "    for p in processes:\n",
    "        p.join()\n",
    "\n",
    "    times.append(time.time()-s)"
   ]
  },
  {
   "cell_type": "code",
   "execution_count": 63,
   "metadata": {},
   "outputs": [],
   "source": [
    "means = np.arange(10)\n",
    "stds = np.random.normal(size=10)"
   ]
  },
  {
   "cell_type": "code",
   "execution_count": 58,
   "metadata": {},
   "outputs": [
    {
     "data": {
      "text/plain": [
       "[<matplotlib.lines.Line2D at 0x123da4e80>]"
      ]
     },
     "execution_count": 58,
     "metadata": {},
     "output_type": "execute_result"
    },
    {
     "data": {
      "image/png": "[encoded data removed]",
      "text/plain": [
       "<Figure size 432x288 with 1 Axes>"
      ]
     },
     "metadata": {
      "needs_background": "light"
     },
     "output_type": "display_data"
    }
   ],
   "source": [
    "plt.plot(times[:8])"
   ]
  },
  {
   "cell_type": "code",
   "execution_count": 51,
   "metadata": {},
   "outputs": [
    {
     "name": "stdout",
     "output_type": "stream",
     "text": [
      "0.880897045135498\n"
     ]
    }
   ],
   "source": [
    "s = time.time()\n",
    "for i in range(4):\n",
    "    run_value_iteration(**vi_vars, n_iters=100)\n",
    "print(time.time()-s)"
   ]
  },
  {
   "cell_type": "markdown",
   "metadata": {},
   "source": [
    "## VI Runtime by # of iterations (fixed states)"
   ]
  },
  {
   "cell_type": "code",
   "execution_count": 4,
   "metadata": {},
   "outputs": [],
   "source": [
    "iter_range = list(range(1,11)) #+ list(range(20,110,10)) #+ [150,200,250,300,350,400,500]\n",
    "n_rep = 10\n",
    "n_traj_points = 10\n",
    "vi_vars[\"R\"] = R_const\n",
    "rt_vi_no_diff_param = compute_perf(lambda n_iters: run_value_iteration(**vi_vars, n_iters=n_iters), \n",
    "                          iter_range, n_rep)\n",
    "vi_vars[\"R\"] = R\n",
    "rt_vi_diff_param = compute_perf(lambda n_iters: run_value_iteration(**vi_vars, n_iters=n_iters), \n",
    "                       iter_range, n_rep)\n",
    "rt_vi_backward = compute_perf(lambda n_iters: run_dummy_mlirl(phi_S, w, vi_vars, n_iters=n_iters, \n",
    "                                                                n_traj_points=n_traj_points,\n",
    "                                                                optimizer=optimizer),\n",
    "                                iter_range, n_rep)\n",
    "mean_iter = lambda x: (np.array(x) / iter_range).mean()\n",
    "mean_rt_vi_no_diff_param = mean_iter(rt_vi_no_diff_param)\n",
    "mean_rt_vi_diff_param = mean_iter(rt_vi_diff_param)\n",
    "mean_rt_vi_backward = mean_iter(rt_vi_backward)"
   ]
  },
  {
   "cell_type": "code",
   "execution_count": 5,
   "metadata": {},
   "outputs": [
    {
     "data": {
      "text/plain": [
       "<matplotlib.legend.Legend at 0x11c0466d8>"
      ]
     },
     "execution_count": 5,
     "metadata": {},
     "output_type": "execute_result"
    },
    {
     "data": {
      "image/png": "[encoded data removed]",
      "text/plain": [
       "<Figure size 720x720 with 1 Axes>"
      ]
     },
     "metadata": {
      "needs_background": "light"
     },
     "output_type": "display_data"
    }
   ],
   "source": [
    "plt.figure(figsize=(10,10))\n",
    "plt.plot(iter_range, rt_vi_no_diff_param, label=\"VI\")\n",
    "plt.plot(iter_range, rt_vi_diff_param, label=\"VI with R differentiable: {:.3f}x VI\".format(\n",
    "                                                                        mean_rt_vi_diff_param/mean_rt_vi_no_diff_param))\n",
    "plt.plot(iter_range, rt_vi_backward, label=\"VI with R differentiable + Backprop {:.3f}x VI\".format(\n",
    "                                                                        mean_rt_vi_backward/mean_rt_vi_no_diff_param))\n",
    "plt.title(\"Value Iteration (# states={})\".format(mdp.width*mdp.height))\n",
    "plt.xlabel(\"# of iterations\")\n",
    "plt.ylabel(\"Running time (sec)\")\n",
    "plt.legend()"
   ]
  },
  {
   "cell_type": "code",
   "execution_count": 6,
   "metadata": {},
   "outputs": [],
   "source": [
    "n_rep = 10\n",
    "n_traj_point_range = list(range(1,11)) + list(range(20,110,10))\n",
    "rt_vi_backward_ = compute_perf(lambda n_traj_points: run_dummy_mlirl(phi_S, w, vi_vars, n_iters=10,\n",
    "                                                                n_traj_points=n_traj_points,\n",
    "                                                                optimizer=optimizer),\n",
    "                                n_traj_point_range, n_rep)"
   ]
  },
  {
   "cell_type": "code",
   "execution_count": 7,
   "metadata": {},
   "outputs": [
    {
     "data": {
      "text/plain": [
       "Text(0,0.5,'Running time (sec)')"
      ]
     },
     "execution_count": 7,
     "metadata": {},
     "output_type": "execute_result"
    },
    {
     "data": {
      "image/png": "[encoded data removed]",
      "text/plain": [
       "<Figure size 720x720 with 1 Axes>"
      ]
     },
     "metadata": {
      "needs_background": "light"
     },
     "output_type": "display_data"
    }
   ],
   "source": [
    "plt.figure(figsize=(10,10))\n",
    "plt.plot(n_traj_point_range, rt_vi_backward_)\n",
    "plt.title(\"Value Iteration + Backward\")\n",
    "plt.xlabel(\"# of (s,a) pairs\")\n",
    "plt.ylabel(\"Running time (sec)\")"
   ]
  },
  {
   "cell_type": "markdown",
   "metadata": {},
   "source": [
    "## VI Runtime by # of states (fixed iterations)"
   ]
  },
  {
   "cell_type": "code",
   "execution_count": 8,
   "metadata": {},
   "outputs": [],
   "source": [
    "def run_vi_by_grid_size(w, h, Rdiff=False, vi_iters=10):\n",
    "    \n",
    "    mdp = GridWorldMDP(width=w, height=h)\n",
    "    value_iter = ValueIteration(mdp)\n",
    "    value_iter._compute_matrix_from_trans_func()\n",
    "\n",
    "    S = value_iter.get_states()\n",
    "    trans_dict = value_iter.trans_dict\n",
    "    A = mdp.get_actions()\n",
    "    s_to_idx = {s:idx for idx,s in enumerate(S)}\n",
    "\n",
    "    phi_S = torch.Tensor([(s.x, s.y) for s in S]).type(dtype)\n",
    "    phi_dim = phi_S.shape[1]\n",
    "\n",
    "    w = Variable(torch.Tensor(phi_dim, 1).normal_(0, 0.01).type(dtype), requires_grad=True)\n",
    "    R = torch.mm(phi_S, w)\n",
    "    R_const = torch.Tensor(len(S), 1).normal_(0, 0.01).type(dtype)\n",
    "\n",
    "    # Optimization params\n",
    "    optimizer = optimizer_fn([w])\n",
    "\n",
    "    vi_vars = dict(S=S, A=A, trans_dict=trans_dict, s_to_idx=s_to_idx, \n",
    "                   gamma=gamma, expl_policy=expl_policy, dtype=dtype, given_goal_idx=given_goal_idx)\n",
    "    \n",
    "    if Rdiff:\n",
    "        vi_vars[\"R\"] = R\n",
    "    else:\n",
    "        vi_vars[\"R\"] = R_const\n",
    "        \n",
    "    return run_value_iteration(**vi_vars, n_iters=vi_iters)\n",
    "    \n",
    "def run_dummy_mlirl_by_grid_size(w, h, vi_iters=10, n_traj_points=10):\n",
    "    \n",
    "    mdp = GridWorldMDP(width=w, height=h)\n",
    "    value_iter = ValueIteration(mdp)\n",
    "    value_iter._compute_matrix_from_trans_func()\n",
    "\n",
    "    S = value_iter.get_states()\n",
    "    trans_dict = value_iter.trans_dict\n",
    "    A = mdp.get_actions()\n",
    "    s_to_idx = {s:idx for idx,s in enumerate(S)}\n",
    "\n",
    "    phi_S = torch.Tensor([(s.x, s.y) for s in S]).type(dtype)\n",
    "    phi_dim = phi_S.shape[1]\n",
    "\n",
    "    w = Variable(torch.Tensor(phi_dim, 1).normal_(0, 0.01).type(dtype), requires_grad=True)\n",
    "\n",
    "    # Optimization params\n",
    "    optimizer = optimizer_fn([w])\n",
    "\n",
    "    vi_vars = dict(S=S, A=A, trans_dict=trans_dict, s_to_idx=s_to_idx, \n",
    "                   gamma=gamma, expl_policy=expl_policy, dtype=dtype, given_goal_idx=given_goal_idx)\n",
    "    \n",
    "    optimizer.zero_grad()\n",
    "    vi_vars[\"R\"] = torch.mm(phi_S, w)\n",
    "    t, Pi, V, Q = run_value_iteration(**vi_vars, n_iters=vi_iters)\n",
    "    _t = time.time()\n",
    "    dummy_max_likelihood_gradient_step(Pi, n_traj_points)\n",
    "    return (time.time() - _t + t, )"
   ]
  },
  {
   "cell_type": "code",
   "execution_count": 9,
   "metadata": {},
   "outputs": [],
   "source": [
    "grid_nodes_range = list(range(1,11)) + list(range(20,110,10))\n",
    "n_rep = 3\n",
    "n_traj_points = 10\n",
    "nH = 2\n",
    "\n",
    "rt_vi_no_diff_param = compute_perf(lambda w: run_vi_by_grid_size(w,h=nH,Rdiff=False,vi_iters=10), \n",
    "                                   grid_nodes_range, n_rep)\n",
    "\n",
    "rt_vi_diff_param = compute_perf(lambda w: run_vi_by_grid_size(w,h=nH,Rdiff=True,vi_iters=10), \n",
    "                                   grid_nodes_range, n_rep)\n",
    "\n",
    "rt_vi_backward = compute_perf(lambda w: run_dummy_mlirl_by_grid_size(w,h=nH,vi_iters=10,n_traj_points=n_traj_points), \n",
    "                                   grid_nodes_range, n_rep)\n",
    "\n",
    "states = nH*np.array(grid_nodes_range)\n",
    "mean_iter = lambda x: (np.array(x) / states).mean()\n",
    "mean_rt_vi_no_diff_param = mean_iter(rt_vi_no_diff_param)\n",
    "mean_rt_vi_diff_param = mean_iter(rt_vi_diff_param)\n",
    "mean_rt_vi_backward = mean_iter(rt_vi_backward)"
   ]
  },
  {
   "cell_type": "code",
   "execution_count": 10,
   "metadata": {},
   "outputs": [
    {
     "data": {
      "text/plain": [
       "<matplotlib.legend.Legend at 0x11c4a95c0>"
      ]
     },
     "execution_count": 10,
     "metadata": {},
     "output_type": "execute_result"
    },
    {
     "data": {
      "image/png": "[encoded data removed]",
      "text/plain": [
       "<Figure size 720x720 with 1 Axes>"
      ]
     },
     "metadata": {
      "needs_background": "light"
     },
     "output_type": "display_data"
    }
   ],
   "source": [
    "plt.figure(figsize=(10,10))\n",
    "plt.plot(states, rt_vi_no_diff_param, label=\"VI\")\n",
    "plt.plot(states, rt_vi_diff_param, \n",
    "         label=\"VI with R differentiable: {:.3f}x VI\".format(\n",
    "                mean_rt_vi_diff_param/mean_rt_vi_no_diff_param))\n",
    "plt.plot(states, rt_vi_backward, \n",
    "         label=\"VI with R differentiable + Backprop {:.3f}x VI\".format(\n",
    "                mean_rt_vi_backward/mean_rt_vi_no_diff_param))\n",
    "plt.title(\"Value Iteration (#iter={})\".format(10))\n",
    "plt.xlabel(\"# of states\")\n",
    "plt.ylabel(\"Running time (sec)\")\n",
    "plt.legend()"
   ]
  },
  {
   "cell_type": "code",
   "execution_count": 11,
   "metadata": {},
   "outputs": [],
   "source": [
    "def run_vi_by_phi_dim(phi_dim, w=5, h=2, Rdiff=False, vi_iters=10):\n",
    "    mdp = GridWorldMDP(width=w, height=h)\n",
    "    value_iter = ValueIteration(mdp)\n",
    "    value_iter._compute_matrix_from_trans_func()\n",
    "\n",
    "    S = value_iter.get_states()\n",
    "    trans_dict = value_iter.trans_dict\n",
    "    A = mdp.get_actions()\n",
    "    s_to_idx = {s:idx for idx,s in enumerate(S)}\n",
    "\n",
    "    phi_S = torch.Tensor(len(S), phi_dim).normal_(0, 0.01).type(dtype)\n",
    "\n",
    "    w = Variable(torch.Tensor(phi_dim, 1).normal_(0, 0.01).type(dtype), requires_grad=True)\n",
    "    R = torch.mm(phi_S, w)\n",
    "    R_const = torch.Tensor(len(S), 1).normal_(0, 0.01).type(dtype)\n",
    "\n",
    "    # Optimization params\n",
    "    optimizer = optimizer_fn([w])\n",
    "\n",
    "    vi_vars = dict(S=S, A=A, trans_dict=trans_dict, s_to_idx=s_to_idx, \n",
    "                   gamma=gamma, expl_policy=expl_policy, dtype=dtype, given_goal_idx=given_goal_idx)\n",
    "    if Rdiff:\n",
    "        vi_vars[\"R\"] = R\n",
    "    else:\n",
    "        vi_vars[\"R\"] = R_const\n",
    "    return run_value_iteration(**vi_vars, n_iters=vi_iters)\n",
    "    \n",
    "def run_dummy_mlirl_by_grid_size(phi_dim, w=5, h=2, vi_iters=10, n_traj_points=10):\n",
    "    \n",
    "    mdp = GridWorldMDP(width=w, height=h)\n",
    "    value_iter = ValueIteration(mdp)\n",
    "    value_iter._compute_matrix_from_trans_func()\n",
    "\n",
    "    S = value_iter.get_states()\n",
    "    trans_dict = value_iter.trans_dict\n",
    "    A = mdp.get_actions()\n",
    "    s_to_idx = {s:idx for idx,s in enumerate(S)}\n",
    "\n",
    "    phi_S = torch.Tensor([(s.x, s.y) for s in S]).type(dtype)\n",
    "    phi_dim = phi_S.shape[1]\n",
    "\n",
    "    w = Variable(torch.Tensor(phi_dim, 1).normal_(0, 0.01).type(dtype), requires_grad=True)\n",
    "    R = torch.mm(phi_S, w)\n",
    "    R_const = torch.Tensor(len(S), 1).normal_(0, 0.01).type(dtype)\n",
    "\n",
    "    # Optimization params\n",
    "    optimizer = optimizer_fn([w])\n",
    "\n",
    "    vi_vars = dict(S=S, A=A, trans_dict=trans_dict, s_to_idx=s_to_idx, \n",
    "                   gamma=gamma, expl_policy=expl_policy, dtype=dtype, given_goal_idx=given_goal_idx)\n",
    "    \n",
    "    optimizer.zero_grad()\n",
    "    vi_vars[\"R\"] = torch.mm(phi_S, w)\n",
    "    t, Pi, V, Q = run_value_iteration(**vi_vars, n_iters=vi_iters)\n",
    "    _t = time.time()\n",
    "    dummy_max_likelihood_gradient_step(Pi, n_traj_points)\n",
    "    return (time.time() - _t + t, )"
   ]
  },
  {
   "cell_type": "code",
   "execution_count": 12,
   "metadata": {},
   "outputs": [],
   "source": [
    "phi_dim_range = list(range(1,11)) + list(range(20,110,10)) + [128,160,192,256]\n",
    "n_rep = 3\n",
    "n_traj_points = 10\n",
    "nH = 2\n",
    "nW = 5\n",
    "\n",
    "rt_vi_no_diff_param = compute_perf(lambda phi_dim: run_vi_by_phi_dim(phi_dim,nW,nH,Rdiff=False,vi_iters=10), \n",
    "                                   phi_dim_range, n_rep)\n",
    "\n",
    "rt_vi_diff_param = compute_perf(lambda w: run_vi_by_phi_dim(phi_dim,nW,nH,Rdiff=True,vi_iters=10), \n",
    "                                   phi_dim_range, n_rep)\n",
    "\n",
    "rt_vi_backward = compute_perf(lambda w: run_dummy_mlirl_by_grid_size(phi_dim,nW,nH,vi_iters=10,n_traj_points=n_traj_points),\n",
    "                                   phi_dim_range, n_rep)\n",
    "\n",
    "\n",
    "mean_iter = lambda x: (np.array(x) / phi_dim_range).mean()\n",
    "mean_rt_vi_no_diff_param = mean_iter(rt_vi_no_diff_param)\n",
    "mean_rt_vi_diff_param = mean_iter(rt_vi_diff_param)\n",
    "mean_rt_vi_backward = mean_iter(rt_vi_backward)"
   ]
  },
  {
   "cell_type": "code",
   "execution_count": 13,
   "metadata": {},
   "outputs": [
    {
     "data": {
      "text/plain": [
       "<matplotlib.legend.Legend at 0x11c8b5e48>"
      ]
     },
     "execution_count": 13,
     "metadata": {},
     "output_type": "execute_result"
    },
    {
     "data": {
      "image/png": "[encoded data removed]",
      "text/plain": [
       "<Figure size 720x720 with 1 Axes>"
      ]
     },
     "metadata": {
      "needs_background": "light"
     },
     "output_type": "display_data"
    }
   ],
   "source": [
    "plt.figure(figsize=(10,10))\n",
    "plt.plot(phi_dim_range, rt_vi_no_diff_param, label=\"VI\")\n",
    "plt.plot(phi_dim_range, rt_vi_diff_param, \n",
    "         label=\"VI with R differentiable: {:.3f}x VI\".format(\n",
    "                mean_rt_vi_diff_param/mean_rt_vi_no_diff_param))\n",
    "plt.plot(phi_dim_range, rt_vi_backward, \n",
    "         label=\"VI with R differentiable + Backprop {:.3f}x VI\".format(\n",
    "                mean_rt_vi_backward/mean_rt_vi_no_diff_param))\n",
    "plt.title(\"Value Iteration (#iter={}, #states={})\".format(10,nH*nW))\n",
    "plt.xlabel(\"Phi(S) dim\")\n",
    "plt.ylabel(\"Running time (sec)\")\n",
    "plt.legend()"
   ]
  },
  {
   "cell_type": "code",
   "execution_count": null,
   "metadata": {},
   "outputs": [],
   "source": []
  }
 ],
 "metadata": {
  "kernelspec": {
   "display_name": "irl_python3",
   "language": "python",
   "name": "irl_python3"
  },
  "language_info": {
   "codemirror_mode": {
    "name": "ipython",
    "version": 3
   },
   "file_extension": ".py",
   "mimetype": "text/x-python",
   "name": "python",
   "nbconvert_exporter": "python",
   "pygments_lexer": "ipython3",
   "version": "3.6.1"
  }
 },
 "nbformat": 4,
 "nbformat_minor": 2
}
