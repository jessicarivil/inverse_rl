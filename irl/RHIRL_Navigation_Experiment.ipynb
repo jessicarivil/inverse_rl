{
 "cells": [
  {
   "cell_type": "markdown",
   "metadata": {},
   "source": [
    "# RHIRL [1]"
   ]
  },
  {
   "cell_type": "code",
   "execution_count": 1,
   "metadata": {},
   "outputs": [
    {
     "name": "stdout",
     "output_type": "stream",
     "text": [
      "Warning: OpenAI gym not installed.\n"
     ]
    }
   ],
   "source": [
    "import numpy as np\n",
    "import tensorflow as tf\n",
    "from collections import defaultdict\n",
    "\n",
    "from simple_rl.tasks import NavigationMDP\n",
    "from simple_rl.agents import QLearningAgent\n",
    "from simple_rl.planning import ValueIteration\n",
    "from simple_rl.tasks.grid_world.GridWorldStateClass import GridWorldState\n",
    "\n",
    "import matplotlib.pyplot as plt\n",
    "%matplotlib inline\n",
    "%load_ext autoreload\n",
    "%autoreload 2"
   ]
  },
  {
   "cell_type": "markdown",
   "metadata": {},
   "source": [
    "## Experiment 5.1\n",
    "\n",
    "### Navigation MDP\n",
    "\n",
    "It's defined using simple rl framework [3]. Currently available at fork: https://github.com/yrevar/simple_rl"
   ]
  },
  {
   "cell_type": "code",
   "execution_count": 2,
   "metadata": {},
   "outputs": [],
   "source": [
    "np.random.seed(0)\n",
    "tf.set_random_seed(0)\n",
    "nvmdp = NavigationMDP(width=7, \n",
    "                        height=7, \n",
    "                        goal_locs=[(5,4)], \n",
    "                        init_loc=(1,1), \n",
    "                        rand_init=True,\n",
    "                        cell_types=[\"empty\", \"yellow\", \"red\", \"green\", \"purple\"],\n",
    "                        cell_type_rewards=[0, 0, -10, -10, -10],\n",
    "                        goal_reward=1.,\n",
    "                        slip_prob=0.00,\n",
    "                        step_cost=0.0,\n",
    "                        gamma=.99)\n",
    "\n",
    "value_iter = ValueIteration(nvmdp, sample_rate=100)\n",
    "_ = value_iter.run_vi()"
   ]
  },
  {
   "cell_type": "code",
   "execution_count": 3,
   "metadata": {},
   "outputs": [
    {
     "data": {
      "image/png": "[encoded data removed]",
      "text/plain": [
       "<Figure size 432x432 with 2 Axes>"
      ]
     },
     "metadata": {},
     "output_type": "display_data"
    }
   ],
   "source": [
    "nvmdp.visualize_grid(nvmdp.cells)"
   ]
  },
  {
   "cell_type": "code",
   "execution_count": 4,
   "metadata": {},
   "outputs": [],
   "source": [
    "def sample_data(nvmdp, n_trajectory, phi):\n",
    "    \"\"\"\n",
    "    Args:\n",
    "        n_trajectory: number of trajectories to sample\n",
    "\n",
    "    Returns:\n",
    "        [[phi(s1), phi(s3), ...], [phi(s1), phi(s3), ...], ...], where phi is one-hot encoded vector \n",
    "                of the cell type of a given state  \n",
    "    \"\"\"\n",
    "    A_s = []\n",
    "    D_mdp_states = []\n",
    "    \n",
    "    action_to_idx = {a:i for i,a in enumerate(nvmdp.actions)}\n",
    "    \n",
    "    for _ in range(n_trajectory):\n",
    "        action_seq, state_seq = value_iter.plan(nvmdp.get_random_init_state())\n",
    "        #print(len(action_seq), len(state_seq))\n",
    "        D_mdp_states.append(state_seq)\n",
    "        A_s.append([action_to_idx[a] for a in action_seq])\n",
    "    return D_mdp_states, A_s\n",
    "\n",
    "def feature_long_horizon(nvmdp, x, y):\n",
    "    \n",
    "    row,col = nvmdp._xy_to_rowcol(x,y)\n",
    "    if (x, y) in nvmdp.goal_locs:\n",
    "        return np.zeros(len(nvmdp.cell_types), dtype=np.float32)\n",
    "    else:\n",
    "        return np.eye(len(nvmdp.cell_types))[nvmdp.cells[row, col]]\n",
    "    \n",
    "def feature_short_horizon(nvmdp, x, y):\n",
    "    row,col = nvmdp._xy_to_rowcol(x,y)\n",
    "    return np.hstack((feature_long_horizon(nvmdp, x, y), nvmdp.feature_cell_dist[row, col]))"
   ]
  },
  {
   "cell_type": "markdown",
   "metadata": {},
   "source": [
    "### Training Data: \n",
    "Set of trajectories D = $\\{\\tau_0, \\tau_1, ..., \\tau_N\\}$  where  $\\tau = [(s_0,a_0), (s_1,a_1), ..., (s_T,a_T)]$"
   ]
  },
  {
   "cell_type": "code",
   "execution_count": 5,
   "metadata": {},
   "outputs": [],
   "source": [
    "np.random.seed(0)\n",
    "N_tau = 8\n",
    "phi_long=lambda mdp_state: feature_long_horizon(nvmdp, mdp_state.x, mdp_state.y)\n",
    "phi_short=lambda mdp_state: feature_short_horizon(nvmdp, mdp_state.x, mdp_state.y)\n",
    "D_mdp_states, A_s = sample_data(nvmdp, N_tau, phi=phi_short)"
   ]
  },
  {
   "cell_type": "code",
   "execution_count": 6,
   "metadata": {},
   "outputs": [
    {
     "data": {
      "image/png": "[encoded data removed]",
      "text/plain": [
       "<Figure size 432x432 with 2 Axes>"
      ]
     },
     "metadata": {},
     "output_type": "display_data"
    }
   ],
   "source": [
    "nvmdp.visualize_grid(trajectories=D_mdp_states)"
   ]
  },
  {
   "cell_type": "markdown",
   "metadata": {},
   "source": [
    "### Features"
   ]
  },
  {
   "cell_type": "code",
   "execution_count": 7,
   "metadata": {},
   "outputs": [],
   "source": [
    "def states_to_features(states, phi):\n",
    "    return np.asarray([phi(s) for s in states], dtype=np.float32)\n",
    "\n",
    "def get_h_transitions_heap(state, phi, T, actions, h):\n",
    "    \n",
    "    frontier = [(state, 0, 0)] # for i, a in enumerate(range(len(actions)))] # BFS frontier: [(state, heap_idx, depth), ...]\n",
    "    heap = [state] # for a in range(len(actions))]\n",
    "    parents = [None]\n",
    "    parent_idx = [-1]\n",
    "    depths = [0] # for a in range(len(actions))]\n",
    "    idx = 0\n",
    "    \n",
    "    while len(frontier) != 0:\n",
    "        \n",
    "        state, heap_idx, d = frontier.pop(0)\n",
    "        \n",
    "        if d >= h:\n",
    "            break\n",
    "            \n",
    "        for a in actions:\n",
    "            state_prime = T(state, a)\n",
    "            frontier.append((state_prime, idx+1, d+1))\n",
    "            heap.append(state_prime)\n",
    "            depths.append(d+1)\n",
    "            parents.append(state)\n",
    "            parent_idx.append(heap_idx)\n",
    "            idx += 1\n",
    "            \n",
    "    return states_to_features(heap, phi), np.array(depths, np.int32), parents, np.asarray(parent_idx)\n",
    "\n",
    "def get_training_data(state, phi, T, actions, h):\n",
    "    \n",
    "    state_feature_tree, state_depths, _, parent_idx = get_h_transitions_heap(state, phi, T, actions, h)\n",
    "    next_state_marker = np.asarray([parent_idx==i for i in range(len(state_feature_tree))], dtype=np.float32)\n",
    "    tf_sft = np.array([np.where(state_depths.reshape(-1,1) == i, state_feature_tree, np.zeros_like(state_feature_tree)) for i in range(h)][::-1])\n",
    "    return tf_sft, state_feature_tree, state_depths, next_state_marker"
   ]
  },
  {
   "cell_type": "markdown",
   "metadata": {},
   "source": [
    "### Horizon limited State Feature Tree\n",
    "\n",
    "- Represent tree of depth h as a heap, where tree is rooted at each (s,a) of D and generated by known dynamics function. We assume R is linearly related to the features of a state so $R=f(\\phi(S),W_r)$. For each visited state in the tree, we use features of that state in building the heap (called sft here)."
   ]
  },
  {
   "cell_type": "code",
   "execution_count": 8,
   "metadata": {},
   "outputs": [],
   "source": [
    "gamma = 0.9999\n",
    "h = 6\n",
    "nA = len(nvmdp.actions)\n",
    "phi = phi_short if h < 45 else phi_long\n",
    "phi_s_dim = len(phi(GridWorldState(1,1)))\n",
    "sft, state_feature_tree, state_depths, next_state_marker = get_training_data(D_mdp_states[0][0], phi, nvmdp.transition_func, nvmdp.actions, h)\n",
    "heap_size = len(state_depths)"
   ]
  },
  {
   "cell_type": "markdown",
   "metadata": {},
   "source": [
    "### RHIRL using TensorFlow Static Graph\n",
    "This is inspired from [2]"
   ]
  },
  {
   "cell_type": "code",
   "execution_count": 9,
   "metadata": {},
   "outputs": [],
   "source": [
    "tf.reset_default_graph()\n",
    "\n",
    "def ComputeValue(W_r, V, Q, Pi, V_pad, sft, i):\n",
    "    \n",
    "    Phi_S = tf.gather(sft, i) # For i=0, this should give h-1 step features\n",
    "    R = tf.matmul(Phi_S, W_r, name=\"R\")\n",
    "    V_prev = gamma * tf.expand_dims(V.read(i, name=\"V_prev\"), -1) # For i=0, this will read hth step values which are 0\n",
    "    Q_h = tf.squeeze(tf.add(R, tf.multiply(gamma, V_prev), name=\"Q\"))\n",
    "    Q_h = tf.reshape(Q_h[1:], (-1, nA), \"Q_sa_reshaped\")\n",
    "    Pi_h = tf.nn.softmax(Q_h, axis=-1)\n",
    "    V_h = tf.reduce_sum(tf.multiply(Q_h, Pi_h), axis=-1, name=\"V\")\n",
    "    V_h = tf.squeeze(tf.pad(tf.reshape(V_h, [-1,1]), [[0, V_pad], [0, 0]], 'CONSTANT'))\n",
    "    V = V.write(tf.add(i,1), V_h, name=\"V_update\")\n",
    "    Q = Q.write(tf.add(i,1), Q_h, name=\"Q_update\")\n",
    "    Pi = Pi.write(tf.add(i,1), Pi_h, name=\"Pi_update\")\n",
    "    i = tf.add(i, 1)\n",
    "    return W_r, V, Q, Pi, V_pad, sft, i\n",
    "\n",
    "def run_RHC(W_r, sft, h):\n",
    "    \n",
    "    V = tf.TensorArray(tf.float32, size=0, dynamic_size=True,\n",
    "                             clear_after_read=False, infer_shape=False, name=\"V_array\")\n",
    "    V = V.write(0,  np.zeros(heap_size, dtype=np.float32), name=\"V_array_0\")\n",
    "    Q = tf.TensorArray(tf.float32, size=0, dynamic_size=True,\n",
    "                                 clear_after_read=False, infer_shape=False, name=\"Q_array\")\n",
    "    Q = Q.write(0,  np.zeros((int(heap_size//nA), nA), dtype=np.float32), name=\"Q_array_0\")\n",
    "    Pi = tf.TensorArray(tf.float32, size=0, dynamic_size=True,\n",
    "                                 clear_after_read=False, infer_shape=False, name=\"Pi_array\")\n",
    "    Pi = Pi.write(0,  np.ones((int(heap_size//nA), nA), dtype=np.float32)/nA, name=\"Pi_array_0\")\n",
    "    V_pad = tf.constant( int(( nA * (1-nA**(h))/(1-nA) ) - ( nA * (1-nA**(h-1))/(1-nA) )), dtype=tf.int32)\n",
    "\n",
    "    loop_cond = lambda W_r, V, Q, Pi, V_pad, sft, i: tf.less(i, h-1, name=\"compute_value_end\")\n",
    "    W_r, V, Q, Pi, V_pad, sft, i = tf.while_loop(loop_cond, ComputeValue, [W_r, V, Q, Pi, V_pad, sft, 0], parallel_iterations=1, name=\"compute_value_loop\")\n",
    "    return V, Q, Pi\n",
    "\n",
    "tf.set_random_seed(0)\n",
    "tf_sft = tf.placeholder(tf.float32, name=\"state_feature_tree\")\n",
    "action_idx = tf.placeholder(tf.int32, name=\"action_idx\")\n",
    "lr = tf.placeholder(tf.float32, name=\"learning_rate\")\n",
    "# W_r = tf.get_variable(\"W_r\", dtype=tf.float32, initializer=tf.fill((phi_s_dim, 1), 0.)) # good prior\n",
    "W_r = tf.get_variable(\"W_r\", dtype=tf.float32, initializer=tf.random_uniform((phi_s_dim, 1), 0, 0.1)) # better?\n",
    "V, Q, Pi = run_RHC(W_r, tf_sft, h)\n",
    "log_likelihood = -tf.log(Pi.read(h-1)[0, action_idx])\n",
    "W_grad = tf.gradients(log_likelihood, W_r)\n",
    "sgd = tf.train.GradientDescentOptimizer(learning_rate=lr)\n",
    "adam = tf.train.AdamOptimizer(learning_rate=lr)\n",
    "updateGrads = adam.apply_gradients(zip(W_grad, [W_r]))\n",
    "prob_summary = tf.summary.scalar('P_s_a', Pi.read(h-1)[0, action_idx])"
   ]
  },
  {
   "cell_type": "markdown",
   "metadata": {},
   "source": [
    "### Check gradients\n",
    "Try to overfit the model: provide single sample and optimize over Pi(s_0, a_0)"
   ]
  },
  {
   "cell_type": "code",
   "execution_count": 10,
   "metadata": {},
   "outputs": [
    {
     "data": {
      "text/plain": [
       "([<matplotlib.lines.Line2D at 0x1270b09e8>],\n",
       " Text(0.5,1,'p(s_0,a)'),\n",
       " Text(0.5,0,'iter'),\n",
       " Text(0,0.5,'P'))"
      ]
     },
     "execution_count": 10,
     "metadata": {},
     "output_type": "execute_result"
    },
    {
     "data": {
      "image/png": "[encoded data removed]",
      "text/plain": [
       "<Figure size 432x288 with 1 Axes>"
      ]
     },
     "metadata": {},
     "output_type": "display_data"
    }
   ],
   "source": [
    "with tf.Session() as sess:\n",
    "    sess.run(tf.global_variables_initializer())\n",
    "    state_feature_tree, _, __, ___ = get_training_data(D_mdp_states[0][0], phi, nvmdp.transition_func, nvmdp.actions, h)\n",
    "    feed_dict = {tf_sft: sft, action_idx: 0, lr:0.5}\n",
    "    p_vals = []\n",
    "    for i in range(10):\n",
    "        v, q, pi, grad, ugrad = sess.run(fetches=[V.stack(), Q.stack(), Pi.stack(), W_grad, updateGrads], feed_dict=feed_dict)\n",
    "        p_vals.append(pi[-1, 0, 0])\n",
    "        # print(p_vals[-1])\n",
    "        \n",
    "plt.plot(p_vals), plt.title(\"p(s_0,a)\"), plt.xlabel(\"iter\"), plt.ylabel(\"P\")"
   ]
  },
  {
   "cell_type": "markdown",
   "metadata": {},
   "source": [
    "### RHIRL training"
   ]
  },
  {
   "cell_type": "code",
   "execution_count": 11,
   "metadata": {},
   "outputs": [],
   "source": [
    "def compute_cell_rewards(nvmdp, w_r):\n",
    "    r_map = np.zeros((nvmdp.height, nvmdp.width), dtype=np.float32)\n",
    "    for row in range(nvmdp.height):\n",
    "        for col in range(nvmdp.width):\n",
    "            x, y = nvmdp._rowcol_to_xy(row, col)\n",
    "            r_map[row, col] = feature_short_horizon(nvmdp, x, y).dot(w)[0]\n",
    "    return r_map"
   ]
  },
  {
   "cell_type": "code",
   "execution_count": 12,
   "metadata": {},
   "outputs": [
    {
     "name": "stdout",
     "output_type": "stream",
     "text": [
      "Epoch 0:\n",
      "\t P(s: (4,4), a: 3): 0.1896396428346634\n",
      "\t P(s: (2,3), a: 3): 0.3230018615722656\n",
      "\t P(s: (2,2), a: 3): 0.7559819221496582\n",
      "\t P(s: (1,7), a: 3): 0.10702642053365707\n",
      "\t P(s: (5,7), a: 1): 0.8050296902656555\n",
      "\t P(s: (6,1), a: 2): 0.8871426582336426\n",
      "\t P(s: (5,7), a: 1): 0.8346546292304993\n",
      "\t P(s: (6,6), a: 1): 0.6410008072853088\n",
      "Epoch 1:\n",
      "\t P(s: (4,4), a: 3): 0.837389349937439\n",
      "\t P(s: (2,3), a: 3): 0.7596489787101746\n",
      "\t P(s: (2,2), a: 3): 0.9501492977142334\n",
      "\t P(s: (1,7), a: 3): 0.2866899371147156\n",
      "\t P(s: (5,7), a: 1): 0.8322182893753052\n",
      "\t P(s: (6,1), a: 2): 0.9560826420783997\n",
      "\t P(s: (5,7), a: 1): 0.7928951382637024\n",
      "\t P(s: (6,6), a: 1): 0.8279565572738647\n",
      "Epoch 2:\n",
      "\t P(s: (4,4), a: 3): 0.8970786929130554\n",
      "\t P(s: (2,3), a: 3): 0.7782283425331116\n",
      "\t P(s: (2,2), a: 3): 0.9351659417152405\n",
      "\t P(s: (1,7), a: 3): 0.5895177721977234\n",
      "\t P(s: (5,7), a: 1): 0.8605589270591736\n",
      "\t P(s: (6,1), a: 2): 0.9581037163734436\n",
      "\t P(s: (5,7), a: 1): 0.8620996475219727\n",
      "\t P(s: (6,6), a: 1): 0.8549984097480774\n",
      "Epoch 3:\n",
      "\t P(s: (4,4), a: 3): 0.9296284317970276\n",
      "\t P(s: (2,3), a: 3): 0.7786942720413208\n",
      "\t P(s: (2,2), a: 3): 0.9517698287963867\n",
      "\t P(s: (1,7), a: 3): 0.5890474319458008\n",
      "\t P(s: (5,7), a: 1): 0.8722949028015137\n",
      "\t P(s: (6,1), a: 2): 0.9659684300422668\n",
      "\t P(s: (5,7), a: 1): 0.8729625344276428\n",
      "\t P(s: (6,6), a: 1): 0.8840862512588501\n",
      "Epoch 4:\n",
      "\t P(s: (4,4), a: 3): 0.9427402019500732\n",
      "\t P(s: (2,3), a: 3): 0.7648292779922485\n",
      "\t P(s: (2,2), a: 3): 0.9524317979812622\n",
      "\t P(s: (1,7), a: 3): 0.6207652688026428\n",
      "\t P(s: (5,7), a: 1): 0.8821584582328796\n",
      "\t P(s: (6,1), a: 2): 0.9692860841751099\n",
      "\t P(s: (5,7), a: 1): 0.8842849135398865\n",
      "\t P(s: (6,6), a: 1): 0.9032476544380188\n",
      "Epoch 5:\n",
      "\t P(s: (4,4), a: 3): 0.9532251358032227\n",
      "\t P(s: (2,3), a: 3): 0.7493047714233398\n",
      "\t P(s: (2,2), a: 3): 0.9514071345329285\n",
      "\t P(s: (1,7), a: 3): 0.6207751631736755\n",
      "\t P(s: (5,7), a: 1): 0.8876217007637024\n",
      "\t P(s: (6,1), a: 2): 0.971036434173584\n",
      "\t P(s: (5,7), a: 1): 0.8864808678627014\n",
      "\t P(s: (6,6), a: 1): 0.9274734854698181\n",
      "Epoch 6:\n",
      "\t P(s: (4,4), a: 3): 0.9569986462593079\n",
      "\t P(s: (2,3), a: 3): 0.7288728356361389\n",
      "\t P(s: (2,2), a: 3): 0.9451963305473328\n",
      "\t P(s: (1,7), a: 3): 0.7017006874084473\n",
      "\t P(s: (5,7), a: 1): 0.8973423838615417\n",
      "\t P(s: (6,1), a: 2): 0.9732841849327087\n",
      "\t P(s: (5,7), a: 1): 0.9019758105278015\n",
      "\t P(s: (6,6), a: 1): 0.9308153986930847\n",
      "Epoch 7:\n",
      "\t P(s: (4,4), a: 3): 0.9679402709007263\n",
      "\t P(s: (2,3), a: 3): 0.7194473743438721\n",
      "\t P(s: (2,2), a: 3): 0.944918155670166\n",
      "\t P(s: (1,7), a: 3): 0.6192948818206787\n",
      "\t P(s: (5,7), a: 1): 0.8972489833831787\n",
      "\t P(s: (6,1), a: 2): 0.9738760590553284\n",
      "\t P(s: (5,7), a: 1): 0.8873716592788696\n",
      "\t P(s: (6,6), a: 1): 0.9588047862052917\n",
      "Epoch 8:\n",
      "\t P(s: (4,4), a: 3): 0.9600028991699219\n",
      "\t P(s: (2,3), a: 3): 0.6911495327949524\n",
      "\t P(s: (2,2), a: 3): 0.9341001510620117\n",
      "\t P(s: (1,7), a: 3): 0.8159928321838379\n",
      "\t P(s: (5,7), a: 1): 0.9134841561317444\n",
      "\t P(s: (6,1), a: 2): 0.975665271282196\n",
      "\t P(s: (5,7), a: 1): 0.9321310520172119\n",
      "\t P(s: (6,6), a: 1): 0.9342687129974365\n",
      "Epoch 9:\n",
      "\t P(s: (4,4), a: 3): 0.9812223315238953\n",
      "\t P(s: (2,3), a: 3): 0.7084070444107056\n",
      "\t P(s: (2,2), a: 3): 0.9421954154968262\n",
      "\t P(s: (1,7), a: 3): 0.5737820267677307\n",
      "\t P(s: (5,7), a: 1): 0.9289765357971191\n",
      "\t P(s: (6,1), a: 2): 0.9751367568969727\n",
      "\t P(s: (5,7), a: 1): 0.9135567545890808\n",
      "\t P(s: (6,6), a: 1): 0.9741767644882202\n",
      "Epoch 10:\n",
      "\t P(s: (4,4), a: 3): 0.9635701775550842\n",
      "\t P(s: (2,3), a: 3): 0.6614987254142761\n",
      "\t P(s: (2,2), a: 3): 0.9240034818649292\n",
      "\t P(s: (1,7), a: 3): 0.8086445331573486\n",
      "\t P(s: (5,7), a: 1): 0.9112910032272339\n",
      "\t P(s: (6,1), a: 2): 0.9822989106178284\n",
      "\t P(s: (5,7), a: 1): 0.9104724526405334\n",
      "\t P(s: (6,6), a: 1): 0.9768198132514954\n",
      "Epoch 11:\n",
      "\t P(s: (4,4), a: 3): 0.9725077748298645\n",
      "\t P(s: (2,3), a: 3): 0.67581707239151\n",
      "\t P(s: (2,2), a: 3): 0.9345511794090271\n",
      "\t P(s: (1,7), a: 3): 0.774353563785553\n",
      "\t P(s: (5,7), a: 1): 0.9148445129394531\n",
      "\t P(s: (6,1), a: 2): 0.984584391117096\n",
      "\t P(s: (5,7), a: 1): 0.9130697250366211\n",
      "\t P(s: (6,6), a: 1): 0.9802974462509155\n",
      "Epoch 12:\n",
      "\t P(s: (4,4), a: 3): 0.9761777520179749\n",
      "\t P(s: (2,3), a: 3): 0.6708980798721313\n",
      "\t P(s: (2,2), a: 3): 0.9358842968940735\n",
      "\t P(s: (1,7), a: 3): 0.7992075085639954\n",
      "\t P(s: (5,7), a: 1): 0.917815625667572\n",
      "\t P(s: (6,1), a: 2): 0.9858243465423584\n",
      "\t P(s: (5,7), a: 1): 0.9169161319732666\n",
      "\t P(s: (6,6), a: 1): 0.9830445051193237\n",
      "Epoch 13:\n",
      "\t P(s: (4,4), a: 3): 0.9796704053878784\n",
      "\t P(s: (2,3), a: 3): 0.6679226756095886\n",
      "\t P(s: (2,2), a: 3): 0.9381322860717773\n",
      "\t P(s: (1,7), a: 3): 0.8108198046684265\n",
      "\t P(s: (5,7), a: 1): 0.9209080934524536\n",
      "\t P(s: (6,1), a: 2): 0.9872521162033081\n",
      "\t P(s: (5,7), a: 1): 0.9190130829811096\n",
      "\t P(s: (6,6), a: 1): 0.9857453107833862\n",
      "Epoch 14:\n",
      "\t P(s: (4,4), a: 3): 0.9813879728317261\n",
      "\t P(s: (2,3), a: 3): 0.6622943878173828\n",
      "\t P(s: (2,2), a: 3): 0.9392674565315247\n",
      "\t P(s: (1,7), a: 3): 0.822401762008667\n",
      "\t P(s: (5,7), a: 1): 0.9234285950660706\n",
      "\t P(s: (6,1), a: 2): 0.9885801672935486\n",
      "\t P(s: (5,7), a: 1): 0.9224299192428589\n",
      "\t P(s: (6,6), a: 1): 0.9876750707626343\n",
      "Epoch 15:\n",
      "\t P(s: (4,4), a: 3): 0.9838755130767822\n",
      "\t P(s: (2,3), a: 3): 0.663444459438324\n",
      "\t P(s: (2,2), a: 3): 0.9429521560668945\n",
      "\t P(s: (1,7), a: 3): 0.8324388861656189\n",
      "\t P(s: (5,7), a: 1): 0.9259585738182068\n",
      "\t P(s: (6,1), a: 2): 0.98995041847229\n",
      "\t P(s: (5,7), a: 1): 0.9237172603607178\n",
      "\t P(s: (6,6), a: 1): 0.989672064781189\n",
      "Epoch 16:\n",
      "\t P(s: (4,4), a: 3): 0.9847207069396973\n",
      "\t P(s: (2,3), a: 3): 0.658637523651123\n",
      "\t P(s: (2,2), a: 3): 0.9442257285118103\n",
      "\t P(s: (1,7), a: 3): 0.8394721746444702\n",
      "\t P(s: (5,7), a: 1): 0.9280486106872559\n",
      "\t P(s: (6,1), a: 2): 0.9911571741104126\n",
      "\t P(s: (5,7), a: 1): 0.9271110892295837\n",
      "\t P(s: (6,6), a: 1): 0.9910297393798828\n",
      "Epoch 17:\n",
      "\t P(s: (4,4), a: 3): 0.9867573976516724\n",
      "\t P(s: (2,3), a: 3): 0.6632494926452637\n",
      "\t P(s: (2,2), a: 3): 0.9488601684570312\n",
      "\t P(s: (1,7), a: 3): 0.8487672805786133\n",
      "\t P(s: (5,7), a: 1): 0.9304085373878479\n",
      "\t P(s: (6,1), a: 2): 0.9923507571220398\n",
      "\t P(s: (5,7), a: 1): 0.927813708782196\n",
      "\t P(s: (6,6), a: 1): 0.992506206035614\n",
      "Epoch 18:\n",
      "\t P(s: (4,4), a: 3): 0.9870913028717041\n",
      "\t P(s: (2,3), a: 3): 0.658259928226471\n",
      "\t P(s: (2,2), a: 3): 0.9498679637908936\n",
      "\t P(s: (1,7), a: 3): 0.8518968820571899\n",
      "\t P(s: (5,7), a: 1): 0.9321446418762207\n",
      "\t P(s: (6,1), a: 2): 0.9933652281761169\n",
      "\t P(s: (5,7), a: 1): 0.9312798976898193\n",
      "\t P(s: (6,6), a: 1): 0.9934741854667664\n",
      "Epoch 19:\n",
      "\t P(s: (4,4), a: 3): 0.9888677000999451\n",
      "\t P(s: (2,3), a: 3): 0.6660157442092896\n",
      "\t P(s: (2,2), a: 3): 0.9550856351852417\n",
      "\t P(s: (1,7), a: 3): 0.8618157505989075\n",
      "\t P(s: (5,7), a: 1): 0.9345002770423889\n",
      "\t P(s: (6,1), a: 2): 0.9943291544914246\n",
      "\t P(s: (5,7), a: 1): 0.9316228628158569\n",
      "\t P(s: (6,6), a: 1): 0.994550883769989\n"
     ]
    }
   ],
   "source": [
    "with tf.Session() as sess:\n",
    "    \n",
    "    sess.run(tf.global_variables_initializer())\n",
    "    merged_summary = tf.summary.merge([prob_summary])\n",
    "    p_vals = defaultdict(lambda: [])\n",
    "    \n",
    "    cnt = 0\n",
    "    for i in range(20):\n",
    "        \n",
    "        print(\"Epoch {}:\".format(i))\n",
    "        for t_i, traj in enumerate(D_mdp_states):\n",
    "\n",
    "            train_writer = tf.summary.FileWriter(\"./rhirl/summaries/train\", sess.graph)\n",
    "            first_state_key = str(traj[0]) + \", a: \" + str(A_s[t_i][0])\n",
    "            for s_i, state in enumerate(traj[:-1]): # in last state no action is taken, so ignore\n",
    "\n",
    "                sft, _, __, ___ = get_training_data(state, phi, nvmdp.transition_func, nvmdp.actions, h)\n",
    "                feed_dict = {tf_sft: sft, action_idx: A_s[t_i][s_i], lr: 0.1}\n",
    "                v, q, pi, w, grad, ugrad, summary = sess.run(\n",
    "                            fetches=[V.stack(), Q.stack(), Pi.stack(), W_r, W_grad, updateGrads, merged_summary], feed_dict=feed_dict)\n",
    "                if s_i == 0: p_vals[first_state_key].append(pi[-1, 0, A_s[t_i][0]])\n",
    "            train_writer.add_summary(summary, cnt)\n",
    "            train_writer.close()\n",
    "            cnt += 1\n",
    "            # Note: this only prints P(first state, first action) of each trajectory \n",
    "            print(\"\\t P({}, a: {}): {}\".format(traj[0], A_s[t_i][s_i], p_vals[first_state_key][-1]))"
   ]
  },
  {
   "cell_type": "code",
   "execution_count": 14,
   "metadata": {},
   "outputs": [
    {
     "data": {
      "text/plain": [
       "<matplotlib.legend.Legend at 0x130a2eef0>"
      ]
     },
     "execution_count": 14,
     "metadata": {},
     "output_type": "execute_result"
    },
    {
     "data": {
      "image/png": "[encoded data removed]",
      "text/plain": [
       "<Figure size 1440x576 with 1 Axes>"
      ]
     },
     "metadata": {},
     "output_type": "display_data"
    }
   ],
   "source": [
    "plt.figure(figsize=(20,8))\n",
    "for k,v in p_vals.items():\n",
    "    plt.plot(v, label=k)\n",
    "    plt.xlabel(\"training iter (1 trajectory per step)\")\n",
    "    plt.ylabel(\"P\")\n",
    "plt.title(\"P(s,a)\")\n",
    "plt.legend()"
   ]
  },
  {
   "cell_type": "code",
   "execution_count": 15,
   "metadata": {},
   "outputs": [
    {
     "data": {
      "text/plain": [
       "9631"
      ]
     },
     "execution_count": 15,
     "metadata": {},
     "output_type": "execute_result"
    }
   ],
   "source": [
    "len([n.name for n in tf.get_default_graph().as_graph_def().node])"
   ]
  },
  {
   "cell_type": "code",
   "execution_count": 16,
   "metadata": {},
   "outputs": [
    {
     "data": {
      "text/plain": [
       "array([[-0.82044095],\n",
       "       [-2.215041  ],\n",
       "       [-7.8849077 ],\n",
       "       [-4.4921627 ],\n",
       "       [-4.052388  ],\n",
       "       [ 0.9214518 ],\n",
       "       [ 1.888573  ],\n",
       "       [-1.8412327 ],\n",
       "       [ 0.06379797],\n",
       "       [ 1.0068028 ]], dtype=float32)"
      ]
     },
     "execution_count": 16,
     "metadata": {},
     "output_type": "execute_result"
    }
   ],
   "source": [
    "w"
   ]
  },
  {
   "cell_type": "code",
   "execution_count": 17,
   "metadata": {},
   "outputs": [],
   "source": [
    "cell_rewards = compute_cell_rewards(nvmdp, w)"
   ]
  },
  {
   "cell_type": "code",
   "execution_count": 18,
   "metadata": {},
   "outputs": [
    {
     "name": "stdout",
     "output_type": "stream",
     "text": [
      "cell, true, obtained\n"
     ]
    },
    {
     "data": {
      "text/plain": [
       "[('empty', 0, -0.82),\n",
       " ('yellow', 0, -2.22),\n",
       " ('red', -10, -7.88),\n",
       " ('green', -10, -4.49),\n",
       " ('purple', -10, -4.05)]"
      ]
     },
     "execution_count": 18,
     "metadata": {},
     "output_type": "execute_result"
    }
   ],
   "source": [
    "print(\"cell, true, obtained\")\n",
    "list(zip([\"empty\", \"yellow\", \"red\", \"green\", \"purple\"],[0, 0, -10, -10, -10], \n",
    "         [round(n,2) for n in np.hstack((np.eye(len(nvmdp.cell_types)), np.zeros((5,5)))).dot(w)[:,0]]))"
   ]
  },
  {
   "cell_type": "markdown",
   "metadata": {},
   "source": [
    "### Recovered Rewards"
   ]
  },
  {
   "cell_type": "code",
   "execution_count": 22,
   "metadata": {},
   "outputs": [
    {
     "data": {
      "image/png": "[encoded data removed]",
      "text/plain": [
       "<Figure size 1440x864 with 6 Axes>"
      ]
     },
     "metadata": {},
     "output_type": "display_data"
    }
   ],
   "source": [
    "plt.figure(figsize=(20,12)) \n",
    "# cmap=colors.ListedColormap(['white','yellow','red','green','purple', 'blue'])\n",
    "nvmdp.visualize_grid(nvmdp.cells, trajectories=D_mdp_states, \n",
    "                     subplot_str=\"131\", new_fig=False, show_rewards_cbar=True)\n",
    "nvmdp.visualize_grid(nvmdp.cell_rewards, trajectories=D_mdp_states, \n",
    "               cmap=plt.cm.gray, subplot_str=\"132\", title=\"True Rewards\", new_fig=False)\n",
    "nvmdp.visualize_grid(cell_rewards, trajectories=D_mdp_states, \n",
    "               cmap=plt.cm.gray, subplot_str=\"133\", new_fig=False, title=\"RHIRL: Recovered Rewards (h={})\".format(h))"
   ]
  },
  {
   "cell_type": "markdown",
   "metadata": {},
   "source": [
    "### Issues:\n",
    "\n",
    "- Current approach adds exponential many nodes in the graph! This is disastrous for large values of h. \n",
    "- The reward function recovered is discontinuous, which is contradictory to finding. Needs further investigation.    "
   ]
  },
  {
   "cell_type": "markdown",
   "metadata": {},
   "source": [
    "## Reference  \n",
    "[1] MacGlashan, James, and Michael L. Littman. \"Between Imitation and Intention Learning.\" IJCAI. 2015.  \n",
    "[2] Ivan Bogatyy. A tutorial on \"Efficient recursive (tree-structured) neural networks in TensorFlow.\" Received from: https://github.com/bogatyy/cs224d/tree/master/assignment3.  \n",
    "[3] David Abel. Simple RL: \"A simple framework for experimenting with Reinforcement Learning in Python.\" Received from: https://github.com/david-abel/simple_rl. \n",
    "\n",
    "## Credits  \n",
    "- Prof. Michael Littman, David Abel, Jun Ki Lee, and Monica Vroman for their invaluable inputs.  \n",
    "- The TF implementation is inspired from Ivan Bogatyy's recursive neural network design [2].  "
   ]
  }
 ],
 "metadata": {
  "kernelspec": {
   "display_name": "irl_python3",
   "language": "python",
   "name": "irl_python3"
  },
  "language_info": {
   "codemirror_mode": {
    "name": "ipython",
    "version": 3
   },
   "file_extension": ".py",
   "mimetype": "text/x-python",
   "name": "python",
   "nbconvert_exporter": "python",
   "pygments_lexer": "ipython3",
   "version": "3.6.1"
  }
 },
 "nbformat": 4,
 "nbformat_minor": 2
}
