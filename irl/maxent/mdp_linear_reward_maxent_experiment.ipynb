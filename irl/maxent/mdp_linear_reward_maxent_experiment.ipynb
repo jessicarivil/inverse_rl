{
 "cells": [
  {
   "cell_type": "code",
   "execution_count": 1,
   "metadata": {},
   "outputs": [],
   "source": [
    "import math\n",
    "\n",
    "import sys\n",
    "sys.path.append(\"../../environments/mdp_gridworld/\")\n",
    "from mdptoolbox_wrapper import *\n",
    "import mdptoolbox\n",
    "import numpy as np\n",
    "\n",
    "import matplotlib.pyplot as plt\n",
    "%matplotlib inline"
   ]
  },
  {
   "cell_type": "code",
   "execution_count": 2,
   "metadata": {},
   "outputs": [],
   "source": [
    "book_grid = [[' ',' ',' ',+100],\n",
    "            [' ','#',' ',-100],\n",
    "            ['@',' ',' ',' ']]\n",
    "\n",
    "def run_value_iteration(T, R, gamma, *args, **kwarg):\n",
    "    T = T.transpose(1,0,2)\n",
    "    vi = mdptoolbox.mdp.ValueIteration(T, R, gamma, *args, **kwarg)\n",
    "    vi.run()\n",
    "    return vi\n",
    "\n",
    "class GridWorld(object):\n",
    "    \"\"\"\n",
    "    This is a nice approximation for all the complexity of the entire universe \n",
    "        –Charles Isbell\n",
    "    \"\"\"\n",
    "    MARKER_WALL = '#'\n",
    "    MARKER_CURR_STATE = '@'\n",
    "    MARKER_FREE_SPACE = ' '\n",
    "    \n",
    "    def __init__(self, grid, living_reward=-0.01, gamma=0.99, action_noise_dist=[0.1, 0.8, 0.1], use_linear_reward=False, silent=True):\n",
    "        \n",
    "        \"\"\"\n",
    "        Returns a grid world with input specifications. \n",
    "        \n",
    "        Grid spec: '#' walls, '<int>' terminal state, 'S' initial position, ' ' free space\n",
    "        \"\"\"\n",
    "        \n",
    "        assert(len(grid) != 0 and len(grid[0]) != 0)\n",
    "        \n",
    "        self.grid = grid.copy()\n",
    "        self.width = len(grid[0])\n",
    "        self.height = len(grid)\n",
    "        self.living_reward = living_reward\n",
    "        self.action_noise_dist = action_noise_dist\n",
    "        self.actions_name = [\"North\", \"East\", \"South\", \"West\"]\n",
    "        self.actions = [(-1, 0), (0, 1), (1, 0), (0, -1)]\n",
    "        self.curr_state, self.states = self._compute_states(grid)\n",
    "        self.nS = len(self.states)\n",
    "        self.absorbing_state_idx = self.nS-1\n",
    "        # states_to_idx: Maps state feature (dim=K) to its index(0-N) in the self.states list\n",
    "        # For reverse mapping we can simply use self.states as it gives state features at a given index\n",
    "        self.states_to_idx = dict(zip(self.states, range(self.nS)))\n",
    "        self.nA = len(self.actions)\n",
    "        self.gamma = gamma\n",
    "        if use_linear_reward:\n",
    "            self.R = np.asarray([self.reward_linear(s_idx) for s_idx in range(self.nS)]) # R = f(S)\n",
    "        else:\n",
    "            self.R = np.asarray([self.reward(s_idx) for s_idx in range(self.nS)])\n",
    "        self.T = self.compute_dynamics(self.nS, self.nA, self.R) # f(S, A, S')\n",
    "        self.mdp_transitions = self.compute_mdp_transitions(self.nS, self.nA, self.R)\n",
    "        \n",
    "        # Add class attribute for action strings which evaluates to action index\n",
    "        for i, a_name in enumerate(self.actions_name):\n",
    "            setattr(type(self), a_name, i)\n",
    "            \n",
    "        # For visualization purpose\n",
    "        self.silent = silent\n",
    "        if not self.silent: print(self.get_state_representation_2d(self.curr_state))\n",
    "            \n",
    "    def _compute_states(self, grid, feature_type='2d_loc'):\n",
    "        \"\"\"\n",
    "        Returns: Computes number of states in the grid world.\n",
    "        Input: \n",
    "            grid: grid description as python 2d array of strings (Ref: book_grid)\n",
    "        \"\"\"\n",
    "        states = []\n",
    "        init_state = (0, 0)\n",
    "        for row in range(self.height): #[::-1]: # all rows, reverse order so that 0th state is (0,0)\n",
    "            for col in range(self.width): # all cols\n",
    "                \n",
    "                # State feature is simply (row#, col#)\n",
    "                state_feat1, state_feat2 = row, col\n",
    "                # Walls act like obstacles, and bumping into them won't change state (for now)\n",
    "                if grid[row][col] != self.MARKER_WALL:\n",
    "                    if feature_type == '2d_loc':\n",
    "                        state = (state_feat1, state_feat2)\n",
    "                    else:\n",
    "                        raise ValueError(\"Not Supported feature_type={}!\".format(feature_type))\n",
    "\n",
    "                    states.append(state)\n",
    "\n",
    "                    if grid[row][col] == self.MARKER_CURR_STATE:\n",
    "                        init_state = state\n",
    "        # The absorbing state\n",
    "        states.append((-1,-1))\n",
    "        return init_state, states\n",
    "    \n",
    "    def _is_terminal(self, s_idx):\n",
    "        \"\"\"\n",
    "        Returns: boolean representing whether a state represented by its index is a terminal\n",
    "            As per current model, this will be True for grid cells with integer reward value\n",
    "        \"\"\"\n",
    "        r, c = self.states[s_idx]\n",
    "        return isinstance(self.grid[r][c], int) or isinstance(self.grid[r][c], float)\n",
    "    \n",
    "    def reward_linear(self, s_idx):\n",
    "        \n",
    "        if s_idx == self.nS-1:\n",
    "            return 0\n",
    "        \n",
    "        r, c = self.states[s_idx]\n",
    "        return r*10 + c*5\n",
    "        \n",
    "    def reward(self, s_idx):\n",
    "        \n",
    "        if s_idx == self.nS-1:\n",
    "            return 0\n",
    "        \n",
    "        r, c = self.states[s_idx]\n",
    "        if isinstance(self.grid[r][c], int) or isinstance(self.grid[r][c], float):\n",
    "            return float(self.grid[r][c])\n",
    "        elif self.grid[r][c] == self.MARKER_WALL:\n",
    "            return -1\n",
    "        else:\n",
    "            return self.living_reward\n",
    "    \n",
    "    def next_states_with_probs(self, s_idx, a_idx):\n",
    "        \"\"\"\n",
    "        Returns: Returns [(s_prime, p(s_prime)), ...] for given state and stochastic action\n",
    "        \"\"\"\n",
    "        assert(len(self.action_noise_dist) == 3)\n",
    "        \n",
    "        state_primes_to_probs = {}\n",
    "        r, c = self.states[s_idx]\n",
    "        \n",
    "        if self.grid[r][c] == self.MARKER_WALL:\n",
    "            return [(self.nS-1, 1.)]\n",
    "        \n",
    "        for j, noisy_a_idx in enumerate([a_idx-1, a_idx, (a_idx+1)%self.nA]): # hard coded for len(self.action_noise_dist) == 3\n",
    "            \n",
    "            dr, dc = self.actions[noisy_a_idx]\n",
    "            p = self.action_noise_dist[j]\n",
    "            new_r, new_c = r+dr, c+dc\n",
    "            if new_r < 0 or new_r >= self.height \\\n",
    "                or new_c < 0 or new_c >= self.width \\\n",
    "                or self.grid[new_r][new_c] == self.MARKER_WALL:\n",
    "                    new_r, new_c = r, c\n",
    "                    \n",
    "            if self.states_to_idx[(new_r, new_c)] in state_primes_to_probs:\n",
    "                state_primes_to_probs[self.states_to_idx[(new_r, new_c)]] += p\n",
    "            else:\n",
    "                state_primes_to_probs[self.states_to_idx[(new_r, new_c)]] = p\n",
    "            \n",
    "        return state_primes_to_probs.items()\n",
    "    \n",
    "    def compute_dynamics(self, nS, nA, R):\n",
    "        \n",
    "        absorbing_state_idx = nS-1\n",
    "        T = np.zeros((nS, nA, nS))\n",
    "        \n",
    "        for s_idx in range(nS): # no transitions from absorbing state\n",
    "            for a_idx in range(nA):\n",
    "                \n",
    "                if s_idx == absorbing_state_idx:\n",
    "                    T[s_idx, a_idx, absorbing_state_idx] = 1.\n",
    "                elif self._is_terminal(s_idx):\n",
    "                    T[s_idx, a_idx, absorbing_state_idx] = 1.\n",
    "                else:\n",
    "                    for k, (s_prime_idx, next_p) in enumerate(self.next_states_with_probs(s_idx, a_idx)):\n",
    "                        T[s_idx, a_idx][s_prime_idx] = next_p\n",
    "        return T\n",
    "    \n",
    "    def compute_mdp_transitions(self, nS, nA, R):\n",
    "        \"\"\"\n",
    "        Computes and Returns: MDP Transitions T{s}{a} = (p, s_prime, r, done) for all s, a, s_prime\n",
    "        \"\"\"\n",
    "        mdp = {}\n",
    "        absorbing_state_idx = nS-1\n",
    "        \n",
    "        for s_idx in range(nS-1): # no transitions from absorbing state\n",
    "        \n",
    "            mdp[s_idx] = {}\n",
    "            for a_idx in range(nA):\n",
    "                if self._is_terminal(s_idx):\n",
    "                    # Terminal state reward is achieved on transitioning to absorbing state\n",
    "                    mdp[s_idx][a_idx] = [(1., absorbing_state_idx, 0., False)] \n",
    "                else:\n",
    "                    mdp[s_idx][a_idx] = []\n",
    "                    for k, (s_prime_idx, next_p) in enumerate(self.next_states_with_probs(s_idx, a_idx)):\n",
    "                        mdp[s_idx][a_idx].append((next_p, s_prime_idx, R[s_prime_idx], False))\n",
    "        \n",
    "        # Absorbing state\n",
    "        mdp[absorbing_state_idx] = {a_idx: [(1., absorbing_state_idx, 0., True)] for a_idx in range(nA)}\n",
    "        return mdp\n",
    "    \n",
    "    def get_transition_dynamics_T(self):\n",
    "        \"\"\"\n",
    "        Returns: 3D MDP transition dynamics T[s, a, s']\n",
    "        \"\"\"\n",
    "        return self.T.copy()\n",
    "        \n",
    "    def __get_optimal_policy(self):\n",
    "        \"\"\"\n",
    "        Returns: Optimal Policy Pi(s) for all s\n",
    "        \"\"\"\n",
    "        if 'vi_results' not in dir(self):\n",
    "            self.vi_results = run_value_iteration(self.T, self.R, self.gamma)\n",
    "            \n",
    "        return np.asarray(self.vi_results.policy).copy()\n",
    "        \n",
    "    def get_possible_actions(self, s_idx):\n",
    "        \n",
    "        if self._is_terminal(s_idx):\n",
    "            return None\n",
    "        \n",
    "        return self.actions.copy()\n",
    "    \n",
    "    def get_state_2d_features_matrix(self):\n",
    "        \"\"\"\n",
    "        Returns: State feature matrix of size N x K, N is number of states and K is dimensionality of state features\n",
    "        \"\"\"\n",
    "        return np.asarray(self.states).copy()\n",
    "    \n",
    "    def get_state_grid_features_matrix(self):\n",
    "        \"\"\"\n",
    "        Returns: State feature matrix of size N x K, N is number of states and K is dimensionality of state features\n",
    "        \"\"\"\n",
    "        return np.asarray([self.state_idx_to_feature(s) for s in range(self.nS)])\n",
    "    \n",
    "    def move(self, a_idx):\n",
    "        \"\"\"\n",
    "        Takes stochastic action speified by a_idx in curr_state of the object and modifies curr_state with the resulting state\n",
    "        \"\"\"\n",
    "        s_idx = self.states_to_idx[self.curr_state]\n",
    "        s_prime_idx = self.act(s_idx, a_idx)\n",
    "        self.curr_state = self.states[s_prime_idx]\n",
    "        if not self.silent: print(self.get_state_representation_2d(self.curr_state))\n",
    "\n",
    "    def act(self, s_idx, a_idx):\n",
    "        \"\"\"\n",
    "        Returns: the next state (index) from executing stochastic a_idx in s_idx\n",
    "        \"\"\"\n",
    "        return np.random.choice(range(self.nS), p=self.T[s_idx, a_idx])\n",
    "    \n",
    "    def sample_trajectories(self, M, init_state_idx=\"random\", max_length=100, Pi=\"optimal\", padding=True):\n",
    "        \"\"\"\n",
    "        Samples and returns T trajectories of the form \n",
    "            [ [(s0_0, a0_0, r0_0), ..., (s0_T, a0_T, r0_T)], [(s1_0, a1_0, r1_0), ..., (s1_T, a1_T, r1_T)], \n",
    "                                                ... [(sM_0, aM_0, rM_0), ..., (sM_T, aM_T, rM_T)]]\n",
    "        Input:\n",
    "            M: # of trajectories to be sampled\n",
    "            init_state_idx: initial state s0, if assigned \"random\" it'll randomly sample starting state\n",
    "            max_length: maximum length of the trajectory\n",
    "            padding: If trajectory (walk over DAG) terminates before encountering max_length states, it'll pad the last (s,a,r)\n",
    "            Pi: Policy. Mapping of state_idx to action_idx of size N, where N is number of states.\n",
    "            \n",
    "        \"\"\"\n",
    "        tau_list = []\n",
    "        \n",
    "        for _ in range(M):\n",
    "            tau_list.append(self.sample_trajectory(init_state_idx, max_length, Pi, padding))\n",
    "        return tau_list\n",
    "    \n",
    "    def state_idx_to_feature(self, s_idx):\n",
    "        return np.eye((self.nS))[s_idx].tolist()\n",
    "    \n",
    "    def get_valid_random_state(self):\n",
    "        \n",
    "        s_idx = np.random.randint(self.nS-1)\n",
    "        r, c = self.states[s_idx]\n",
    "        while self.grid[r][c] == self.MARKER_WALL:\n",
    "            return self.get_valid_random_state()\n",
    "        return s_idx\n",
    "    \n",
    "    def sample_trajectory(self, init_state_idx=\"random\", max_length=100, Pi=\"optimal\", behavior_optimality=0.8, padding=True):\n",
    "        \"\"\"\n",
    "        Samples a trajectory of the form [(s0, a0, r0), ..., (sT, aT, rT)]\n",
    "        Input:\n",
    "            init_state_idx: initial state s0, if assigned \"random\" it'll randomly sample starting state\n",
    "            max_length: maximum length of the trajectory\n",
    "            padding: If trajectory (walk over DAG) terminates before encountering max_length states, it'll pad the last (s,a,r)\n",
    "            Pi: Policy. Mapping of state_idx to action_idx of size N, where N is number of states.\n",
    "                Two special values:\n",
    "                    - \"random\" will initialize a random policy\n",
    "                    - \"optimal\" will use the optimal policy for the given MDP (currently using policy iteration)\n",
    "        \"\"\"\n",
    "        tau = []\n",
    "        absorbing_state_idx = self.nS-1\n",
    "        \n",
    "        if init_state_idx == \"random\":\n",
    "            s_idx = self.get_valid_random_state() #np.random.randint(self.nS-1)\n",
    "        else:\n",
    "            s_idx = init_state_idx\n",
    "            \n",
    "        if Pi == \"random\":    \n",
    "            Pi = np.random.choice(self.nA, size=self.nS-1)\n",
    "        elif Pi == \"optimal\":\n",
    "            Pi = self.__get_optimal_policy()\n",
    "        else:\n",
    "            pass\n",
    "        \n",
    "        for i in range(max_length):\n",
    "            \n",
    "            if behavior_optimality < 1:\n",
    "                if np.random.random() <= behavior_optimality:\n",
    "                    a_idx = Pi[s_idx]\n",
    "                else:\n",
    "                    a_idx = np.random.choice(self.nA)\n",
    "            else:\n",
    "                a_idx = Pi[s_idx]\n",
    "                \n",
    "            s_prime_idx = self.act(s_idx, a_idx)\n",
    "            tau.append((s_idx, a_idx, self.R[s_prime_idx]))\n",
    "            if s_idx == self.nS-1: #self._is_terminal(s_idx):\n",
    "                # Reached terminal state, terminate trajectory here\n",
    "                break\n",
    "            s_idx = s_prime_idx\n",
    "        \n",
    "        if padding:\n",
    "            for j in range(i, max_length):\n",
    "                tau.append((s_idx, a_idx, self.R[s_prime_idx]))\n",
    "        return tau\n",
    "    \n",
    "    def interpret_trajectory(self, tau):\n",
    "        \n",
    "        for (s_idx, a_idx, r) in tau:\n",
    "            print(\"s:\")\n",
    "            print(self.get_state_representation_2d(self.states[s_idx]))\n",
    "            print(\"a: \", self.actions_name[a_idx])\n",
    "            print(\"r: \", r) # Note: this is current state reward\n",
    "    \n",
    "    def disp_custom_grid(self, state_values, formatting=lambda x: \"{:+.3f}\".format(x), display_absorbing=True):\n",
    "        \n",
    "        \"\"\"\n",
    "        Returns: state_values representation of states\n",
    "        Input: state_values associated with each state\n",
    "        \"\"\"\n",
    "        self.state_values_dict = {self.states[i]: state_values[i] for i in range(len(state_values))}\n",
    "        \n",
    "        msg = ''\n",
    "        cell_filler = \"_\"\n",
    "        grid = self.grid\n",
    "        for r in range(self.height):\n",
    "            for c in range(self.width):\n",
    "                if grid[r][c] != self.MARKER_WALL:\n",
    "                    tt = formatting(self.state_values_dict[(r,c)])\n",
    "                else: # Show unreachable states (such as Walls) with -inf\n",
    "                    tt = str(np.float(\"-inf\"))\n",
    "                msg += tt + \"\\t\" #\"{txt:{fill}^5s}\".format(txt=tt, fill=cell_filler)\n",
    "            msg += \"\\n\"\n",
    "        \n",
    "        if display_absorbing and len(state_values) == self.nS:\n",
    "            msg += \"Absorbing state: \" + formatting(state_values[-1])\n",
    "        print(msg)\n",
    "        \n",
    "    def get_state_representation_2d(self, state):\n",
    "        \n",
    "        msg = ''\n",
    "        cell_filler = \"_\"\n",
    "        grid = self.grid\n",
    "        curr_r, curr_c = state\n",
    "        for r in range(self.height):\n",
    "            for c in range(self.width):\n",
    "                if r == curr_r and c == curr_c:\n",
    "                    tt = self.MARKER_CURR_STATE\n",
    "                elif grid[r][c] == self.MARKER_FREE_SPACE\\\n",
    "                    or (grid[r][c] == self.MARKER_CURR_STATE and (r != curr_r or c != curr_c)):\n",
    "                    tt = cell_filler\n",
    "                else:\n",
    "                    if isinstance(grid[r][c], int) or isinstance(grid[r][c], float):\n",
    "                        tt = \"{:+d}\".format(grid[r][c])\n",
    "                    else:\n",
    "                        tt = grid[r][c]\n",
    "                msg += \"{txt:{fill}^5s}\\t\".format(txt=tt, fill=cell_filler)\n",
    "            msg += \"\\n\"\n",
    "        return msg\n",
    "    \n",
    "    def __str__(self):\n",
    "        return self.get_state_representation_2d(self.curr_state)"
   ]
  },
  {
   "cell_type": "code",
   "execution_count": 3,
   "metadata": {},
   "outputs": [
    {
     "name": "stdout",
     "output_type": "stream",
     "text": [
      "_____\t_____\t_____\t+100_\t\n",
      "_____\t__#__\t_____\t-100_\t\n",
      "__@__\t_____\t_____\t_____\t\n",
      "\n"
     ]
    }
   ],
   "source": [
    "gw = GridWorld(book_grid, action_noise_dist=[0.1,0.8,0.1], silent=False, gamma=0.99)"
   ]
  },
  {
   "cell_type": "code",
   "execution_count": 4,
   "metadata": {},
   "outputs": [
    {
     "name": "stdout",
     "output_type": "stream",
     "text": [
      "_____\t_____\t_____\t+100_\t\n",
      "__@__\t__#__\t_____\t-100_\t\n",
      "_____\t_____\t_____\t_____\t\n",
      "\n"
     ]
    }
   ],
   "source": [
    "gw.move(GridWorld.North)"
   ]
  },
  {
   "cell_type": "code",
   "execution_count": 5,
   "metadata": {},
   "outputs": [
    {
     "data": {
      "text/plain": [
       "array([[0.9, 0.1, 0. , 0. , 0. , 0. , 0. , 0. , 0. , 0. , 0. , 0. ],\n",
       "       [0.1, 0.8, 0. , 0. , 0.1, 0. , 0. , 0. , 0. , 0. , 0. , 0. ],\n",
       "       [0.1, 0.1, 0. , 0. , 0.8, 0. , 0. , 0. , 0. , 0. , 0. , 0. ],\n",
       "       [0.9, 0. , 0. , 0. , 0.1, 0. , 0. , 0. , 0. , 0. , 0. , 0. ]])"
      ]
     },
     "execution_count": 5,
     "metadata": {},
     "output_type": "execute_result"
    }
   ],
   "source": [
    "# print(gw.mdp.transitions[:, :, :]) # A x S x S'\n",
    "# print(gw.T)\n",
    "gw.T[0] # S X A X (P(s'), s', R(s'), Done)"
   ]
  },
  {
   "cell_type": "code",
   "execution_count": 6,
   "metadata": {},
   "outputs": [
    {
     "name": "stdout",
     "output_type": "stream",
     "text": [
      "States (fused into a single grid-bc it's possible to do so here):\n",
      "0\t1\t2\t3\t\n",
      "4\t-inf\t5\t6\t\n",
      "7\t8\t9\t10\t\n",
      "Absorbing state: 11\n"
     ]
    }
   ],
   "source": [
    "print(\"States (fused into a single grid-bc it's possible to do so here):\")\n",
    "gw.disp_custom_grid(range(gw.nS), formatting=lambda x: str(x))"
   ]
  },
  {
   "cell_type": "code",
   "execution_count": 7,
   "metadata": {},
   "outputs": [],
   "source": [
    "vi = run_value_iteration(gw.get_transition_dynamics_T(), gw.R, gw.gamma)"
   ]
  },
  {
   "cell_type": "code",
   "execution_count": 8,
   "metadata": {},
   "outputs": [
    {
     "name": "stdout",
     "output_type": "stream",
     "text": [
      "95.12\t96.48\t97.71\t100.00\t\n",
      "93.92\t-inf\t89.38\t-100.00\t\n",
      "92.59\t91.42\t90.17\t81.81\t\n",
      "Absorbing state: 0.00\n"
     ]
    }
   ],
   "source": [
    "gw.disp_custom_grid(vi.V, formatting=lambda x: \"{:.2f}\".format(x))"
   ]
  },
  {
   "cell_type": "code",
   "execution_count": 9,
   "metadata": {},
   "outputs": [
    {
     "name": "stdout",
     "output_type": "stream",
     "text": [
      "Policy:\n",
      "East\tEast\tEast\tNorth\t\n",
      "North\t-inf\tWest\tNorth\t\n",
      "North\tWest\tWest\tSouth\t\n",
      "Absorbing state: North\n"
     ]
    }
   ],
   "source": [
    "print(\"Policy:\")\n",
    "gw.disp_custom_grid(vi.policy, lambda x: \"{:}\".format(gw.actions_name[x]))"
   ]
  },
  {
   "cell_type": "markdown",
   "metadata": {},
   "source": [
    "## Sampling Trajectories"
   ]
  },
  {
   "cell_type": "code",
   "execution_count": 10,
   "metadata": {},
   "outputs": [
    {
     "name": "stdout",
     "output_type": "stream",
     "text": [
      "[(7, 0, -0.01), (4, 1, -0.01), (4, 0, -0.01), (4, 0, -0.01), (0, 1, -0.01), (4, 1, -0.01)]\n"
     ]
    }
   ],
   "source": [
    "tau = gw.sample_trajectory(init_state_idx=7, max_length=5)\n",
    "print(tau)"
   ]
  },
  {
   "cell_type": "code",
   "execution_count": 11,
   "metadata": {},
   "outputs": [
    {
     "name": "stdout",
     "output_type": "stream",
     "text": [
      "s:\n",
      "_____\t_____\t_____\t+100_\t\n",
      "_____\t__#__\t_____\t-100_\t\n",
      "__@__\t_____\t_____\t_____\t\n",
      "\n",
      "a:  North\n",
      "r:  -0.01\n",
      "s:\n",
      "_____\t_____\t_____\t+100_\t\n",
      "__@__\t__#__\t_____\t-100_\t\n",
      "_____\t_____\t_____\t_____\t\n",
      "\n",
      "a:  East\n",
      "r:  -0.01\n",
      "s:\n",
      "_____\t_____\t_____\t+100_\t\n",
      "__@__\t__#__\t_____\t-100_\t\n",
      "_____\t_____\t_____\t_____\t\n",
      "\n",
      "a:  North\n",
      "r:  -0.01\n",
      "s:\n",
      "_____\t_____\t_____\t+100_\t\n",
      "__@__\t__#__\t_____\t-100_\t\n",
      "_____\t_____\t_____\t_____\t\n",
      "\n",
      "a:  North\n",
      "r:  -0.01\n",
      "s:\n",
      "__@__\t_____\t_____\t+100_\t\n",
      "_____\t__#__\t_____\t-100_\t\n",
      "_____\t_____\t_____\t_____\t\n",
      "\n",
      "a:  East\n",
      "r:  -0.01\n",
      "s:\n",
      "_____\t_____\t_____\t+100_\t\n",
      "__@__\t__#__\t_____\t-100_\t\n",
      "_____\t_____\t_____\t_____\t\n",
      "\n",
      "a:  East\n",
      "r:  -0.01\n"
     ]
    }
   ],
   "source": [
    "gw.interpret_trajectory(tau)"
   ]
  },
  {
   "cell_type": "code",
   "execution_count": 12,
   "metadata": {},
   "outputs": [
    {
     "name": "stdout",
     "output_type": "stream",
     "text": [
      "T000: [(5, 3, -0.01), (9, 3, -0.01), (9, 3, -0.01), (8, 3, -0.01), (7, 0, -0.01), (4, 0, -0.01), (0, 1, -0.01), (0, 1, -0.01), (1, 1, -0.01), (2, 1, -0.01), (2, 1, -0.01)]\n",
      "T001: [(3, 0, 0.0), (11, 0, 0.0), (11, 0, 0.0), (11, 0, 0.0), (11, 0, 0.0), (11, 0, 0.0), (11, 0, 0.0), (11, 0, 0.0), (11, 0, 0.0), (11, 0, 0.0), (11, 0, 0.0)]\n",
      "T002: [(5, 3, -0.01), (5, 3, -0.01), (5, 3, -0.01), (5, 3, -0.01), (5, 3, -0.01), (5, 3, -0.01), (2, 1, 100.0), (3, 0, 0.0), (11, 0, 0.0), (11, 0, 0.0), (11, 0, 0.0)]\n",
      "T003: [(4, 0, -0.01), (4, 0, -0.01), (0, 1, -0.01), (0, 1, -0.01), (1, 1, -0.01), (2, 1, 100.0), (3, 0, 0.0), (11, 0, 0.0), (11, 0, 0.0), (11, 0, 0.0), (11, 0, 0.0)]\n",
      "T004: [(1, 1, -0.01), (1, 1, -0.01), (1, 1, -0.01), (2, 1, 100.0), (3, 0, 0.0), (11, 0, 0.0), (11, 0, 0.0), (11, 0, 0.0), (11, 0, 0.0), (11, 0, 0.0), (11, 0, 0.0)]\n",
      "T005: [(5, 3, -0.01), (9, 3, -0.01), (8, 3, -0.01), (8, 3, -0.01), (7, 0, -0.01), (4, 0, -0.01), (0, 1, -0.01), (1, 1, -0.01), (2, 1, -0.01), (2, 1, 100.0), (3, 1, 100.0)]\n",
      "T006: [(7, 0, -0.01), (8, 3, -0.01), (7, 0, -0.01), (4, 0, -0.01), (4, 0, -0.01), (0, 1, -0.01), (1, 1, -0.01), (2, 1, 100.0), (3, 0, 0.0), (11, 0, 0.0), (11, 0, 0.0)]\n",
      "T007: [(10, 2, -0.01), (10, 2, -0.01), (10, 2, -0.01), (9, 3, -0.01), (8, 3, -0.01), (7, 0, -0.01), (4, 0, -0.01), (0, 1, -0.01), (4, 0, -0.01), (0, 1, -0.01), (0, 1, -0.01)]\n",
      "T008: [(0, 1, -0.01), (1, 1, -0.01), (2, 1, -0.01), (2, 1, 100.0), (3, 0, 0.0), (11, 0, 0.0), (11, 0, 0.0), (11, 0, 0.0), (11, 0, 0.0), (11, 0, 0.0), (11, 0, 0.0)]\n",
      "T009: [(9, 3, -0.01), (8, 3, -0.01), (7, 0, -0.01), (8, 3, -0.01), (7, 0, -0.01), (4, 0, -0.01), (0, 1, -0.01), (4, 0, -0.01), (0, 1, -0.01), (1, 1, -0.01), (1, 1, -0.01)]\n"
     ]
    }
   ],
   "source": [
    "tau_list = gw.sample_trajectories(10, max_length=10)\n",
    "for i, tau in enumerate(tau_list): print(\"T{:03d}: {}\".format(i, tau))"
   ]
  },
  {
   "cell_type": "markdown",
   "metadata": {},
   "source": [
    "## MDP ToolBox"
   ]
  },
  {
   "cell_type": "code",
   "execution_count": 13,
   "metadata": {},
   "outputs": [],
   "source": [
    "gw = GridWorld(book_grid, action_noise_dist=[0.1,0.8,0.1])\n",
    "initial_policy = np.random.choice(gw.nA, size=gw.nS)\n",
    "pi = mdptoolbox.mdp.ValueIteration(\n",
    "    gw.T.copy().transpose(1,0,2),\n",
    "    gw.R,\n",
    "    gw.gamma\n",
    ")\n",
    "# pi.setSilent()\n",
    "pi.run()"
   ]
  },
  {
   "cell_type": "code",
   "execution_count": 14,
   "metadata": {},
   "outputs": [
    {
     "name": "stdout",
     "output_type": "stream",
     "text": [
      "95.12\t96.48\t97.71\t100.00\t\n",
      "93.92\t-inf\t89.38\t-100.00\t\n",
      "92.59\t91.42\t90.17\t81.81\t\n",
      "Absorbing state: 0.00\n"
     ]
    }
   ],
   "source": [
    "gw.disp_custom_grid(pi.V, lambda x: \"{:.2f}\".format(x))"
   ]
  },
  {
   "cell_type": "code",
   "execution_count": 15,
   "metadata": {},
   "outputs": [
    {
     "name": "stdout",
     "output_type": "stream",
     "text": [
      "East\tEast\tEast\tNorth\t\n",
      "North\t-inf\tWest\tNorth\t\n",
      "North\tWest\tWest\tSouth\t\n",
      "Absorbing state: North\n"
     ]
    }
   ],
   "source": [
    "gw.disp_custom_grid(pi.policy, lambda x: \"{:}\".format(gw.actions_name[x]))"
   ]
  },
  {
   "cell_type": "markdown",
   "metadata": {},
   "source": [
    "## MDP Visualization"
   ]
  },
  {
   "cell_type": "code",
   "execution_count": 16,
   "metadata": {},
   "outputs": [],
   "source": [
    "import pydot\n",
    "import networkx as nx\n",
    "from networkx.drawing.nx_agraph import write_dot\n",
    "import tempfile\n",
    "\n",
    "def disp_mdp(mdp_js, V):\n",
    "    \n",
    "    tmp_img = tempfile.mktemp()\n",
    "    G=nx.DiGraph()\n",
    "    for s in mdp_js['states']:\n",
    "        for a in s['actions']:\n",
    "            for t in a['transitions']:\n",
    "                ecolor='red' if a['id'] else 'green'\n",
    "                elabel='p={}, r={}'.format(round(t['probability'],4), t['reward'])\n",
    "                G.add_edge(s['id'], t['to'],\n",
    "                        color=ecolor,\n",
    "                        label=elabel)\n",
    "    \n",
    "    mapping = {g: str(g) + \", \" + str(g) for g in G}\n",
    "    # print(mapping)\n",
    "    G = nx.relabel_nodes(G,  mapping)\n",
    "    # print(G.nodes())\n",
    "    pos=nx.fruchterman_reingold_layout(G)\n",
    "    # nx.draw_networkx_edges(G,pos,width=8,alpha=0.5,edge_color='b')\n",
    "    # nx.draw(G,with_labels=True)\n",
    "    write_dot(G, tmp_img)\n",
    "    g = pydot.graph_from_dot_file(tmp_img)[0]\n",
    "    g.write_png(tmp_img)\n",
    "    img = plt.imread(tmp_img)\n",
    "\n",
    "    plt.figure(figsize=(30,20))\n",
    "    plt.imshow(img)\n",
    "    plt.axis(\"off\")"
   ]
  },
  {
   "cell_type": "code",
   "execution_count": 17,
   "metadata": {},
   "outputs": [
    {
     "data": {
      "image/png": "[encoded data removed]",
      "text/plain": [
       "<matplotlib.figure.Figure at 0x114fe23c8>"
      ]
     },
     "metadata": {},
     "output_type": "display_data"
    }
   ],
   "source": [
    "disp_mdp(create_MDP(gw.compute_mdp_transitions(gw.nS, gw.nA, gw.R), gw.gamma), pi.V)"
   ]
  },
  {
   "cell_type": "markdown",
   "metadata": {},
   "source": [
    "# Inferring rewards from suboptimal expert demonstrations\n",
    "\n",
    "**Inverse Reinfrocement Learning:**  \n",
    "In RL framework, reward is the most succinct representation of the state that governs the animal behavior. Once we know the reward for each state as well as dynamics, we can recover optimal behavior (policy) easily.  \n",
    "\n",
    "The key problem that inverse reinforcement learning tries to address is to infer reward function from the demonstrations. Once it is recovered (inferred), a machine can optimize over it and produce the desired behavior and hopefully transfer that knowledge efficiently to the new domains. To do this efficiently, we would ideally need optimal demonstrations performed by some expert, however, we cannot ignore suboptimality in the expert behavior. There are solid reasons why we must not ignore it. First, the ultimate objective is to help machine infer rewards and intentions of the people or species they are interacting with, so that they can not only clone the behavior but also transfer that knowledge and behave approximately similarly in different situations (domains). Most demonstrations will be performed by humans/animals who don't act optimally in every scenario (Add citations). Second, we have not yet succeeded in determining laws that govern all physical processes, so there's always inherent randomness and noise in any system that we must account for, the expectation of suboptimality also helps us sweep our ignorance under the rug for the time being while we are making progress towards being less ignorant.\n"
   ]
  },
  {
   "cell_type": "code",
   "execution_count": 18,
   "metadata": {},
   "outputs": [],
   "source": [
    "def q_values(v, nA, reward, T, gamma):\n",
    "    \n",
    "    nS = len(v)\n",
    "    Q = np.zeros((nS, nA))\n",
    "    for si in range(nS):\n",
    "        for ai in range(nA):\n",
    "            # Better stochastic model (Ziebart et al., 2010). Received from: https://youtu.be/iOYiPhu5GEk?t=33m56s.\n",
    "            # Q = expectation of (reward(next_state) + value(next_state)) over next_state\n",
    "            Q[si, ai] =  T[si, ai].dot(reward[si] + gamma*v)\n",
    "    Q -= Q.max(axis=1).reshape((nS,1)) # We'll use exp of this value for Beta (backward message) so for numeric stability we lower it's scale\n",
    "    return Q\n",
    "\n",
    "def get_v_from_q(Q, nS, nA):\n",
    "    \n",
    "    V = np.zeros((nS))\n",
    "    for si in range(nS):\n",
    "        for ai in range(nA):\n",
    "            V[si] += np.exp(Q[si, ai])\n",
    "    return np.log(V)"
   ]
  },
  {
   "cell_type": "code",
   "execution_count": 19,
   "metadata": {},
   "outputs": [],
   "source": [
    "vi = run_value_iteration(gw.T, gw.R, gw.gamma)\n",
    "Q = q_values(np.asarray(vi.V), gw.nA, gw.R, gw.T, gw.gamma)\n",
    "V = get_v_from_q(Q, gw.nS, gw.nA)"
   ]
  },
  {
   "cell_type": "code",
   "execution_count": 20,
   "metadata": {},
   "outputs": [],
   "source": [
    "def s_a_backward_message(Q,s,a):\n",
    "    return np.exp(Q[s,a])"
   ]
  },
  {
   "cell_type": "code",
   "execution_count": 21,
   "metadata": {},
   "outputs": [],
   "source": [
    "def s_only_backward_message(V,s):\n",
    "    return np.exp(V[s])"
   ]
  },
  {
   "cell_type": "code",
   "execution_count": 22,
   "metadata": {},
   "outputs": [
    {
     "data": {
      "text/plain": [
       "0.4377098995324904"
      ]
     },
     "execution_count": 22,
     "metadata": {},
     "output_type": "execute_result"
    }
   ],
   "source": [
    "s_a_backward_message(Q, 0, 0)"
   ]
  },
  {
   "cell_type": "code",
   "execution_count": 23,
   "metadata": {},
   "outputs": [
    {
     "data": {
      "text/plain": [
       "1.946781559623239"
      ]
     },
     "execution_count": 23,
     "metadata": {},
     "output_type": "execute_result"
    }
   ],
   "source": [
    "s_only_backward_message(V, 0)"
   ]
  },
  {
   "cell_type": "code",
   "execution_count": 24,
   "metadata": {},
   "outputs": [],
   "source": [
    "stochastic_policy = lambda a, s: s_a_backward_message(Q, s, a) / s_only_backward_message(V, s)\n",
    "pi = np.zeros((gw.nS, gw.nA))\n",
    "for s in range(gw.nS):\n",
    "    for a in range(gw.nA):\n",
    "        pi[s][a] = stochastic_policy(a,s)\n",
    "#         print(s, a, stochastic_policy(a,s))"
   ]
  },
  {
   "cell_type": "code",
   "execution_count": 25,
   "metadata": {},
   "outputs": [
    {
     "data": {
      "text/plain": [
       "array([1, 1, 1, 0, 0, 3, 0, 0, 3, 3, 2, 0])"
      ]
     },
     "execution_count": 25,
     "metadata": {},
     "output_type": "execute_result"
    }
   ],
   "source": [
    "pi.argmax(axis=1)"
   ]
  },
  {
   "cell_type": "code",
   "execution_count": 26,
   "metadata": {},
   "outputs": [
    {
     "data": {
      "text/plain": [
       "array([0.51366831, 0.5339523 , 0.67753521, 0.25      , 0.52644767,\n",
       "       0.99999785, 0.25      , 0.50651923, 0.51693151, 0.76630496,\n",
       "       0.99999497, 0.25      ])"
      ]
     },
     "execution_count": 26,
     "metadata": {},
     "output_type": "execute_result"
    }
   ],
   "source": [
    "pi.max(axis=1)"
   ]
  },
  {
   "cell_type": "code",
   "execution_count": 27,
   "metadata": {},
   "outputs": [
    {
     "name": "stdout",
     "output_type": "stream",
     "text": [
      "0\t1\t2\t3\t\n",
      "4\t-inf\t5\t6\t\n",
      "7\t8\t9\t10\t\n",
      "Absorbing state: 11\n"
     ]
    }
   ],
   "source": [
    "gw.disp_custom_grid(range(gw.nS), formatting=lambda x: str(x))"
   ]
  },
  {
   "cell_type": "code",
   "execution_count": 28,
   "metadata": {},
   "outputs": [
    {
     "name": "stdout",
     "output_type": "stream",
     "text": [
      "East\tEast\tEast\tNorth\t\n",
      "North\t-inf\tWest\tNorth\t\n",
      "North\tWest\tWest\tSouth\t\n",
      "Absorbing state: North\n"
     ]
    }
   ],
   "source": [
    "gw.disp_custom_grid([gw.actions_name[a] for a in pi.argmax(axis=1)], formatting=lambda x: str(x))"
   ]
  },
  {
   "cell_type": "code",
   "execution_count": 29,
   "metadata": {},
   "outputs": [
    {
     "name": "stdout",
     "output_type": "stream",
     "text": [
      "Probability of optimal action:\n",
      "0.51\t0.53\t0.68\t0.25\t\n",
      "0.53\t-inf\t1.00\t0.25\t\n",
      "0.51\t0.52\t0.77\t1.00\t\n",
      "Absorbing state: 0.25\n"
     ]
    }
   ],
   "source": [
    "print(\"Probability of optimal action:\")\n",
    "gw.disp_custom_grid(pi.max(axis=1), formatting=lambda x: \"{:.2f}\".format(x))"
   ]
  },
  {
   "cell_type": "code",
   "execution_count": 30,
   "metadata": {},
   "outputs": [],
   "source": [
    "def compute_stochastic_policy(nS, nA, R, T, gamma):\n",
    "    \n",
    "    vi = run_value_iteration(T, R, gamma)\n",
    "    Q = q_values(np.asarray(vi.V), nA, R, T, gamma)\n",
    "    V = get_v_from_q(Q, gw.nS, gw.nA)\n",
    "    pi = np.zeros((gw.nS, gw.nA))\n",
    "    \n",
    "    for s in range(gw.nS):\n",
    "        for a in range(gw.nA):\n",
    "            pi[s][a] = s_a_backward_message(Q, s, a) / s_only_backward_message(V, s)\n",
    "    return pi"
   ]
  },
  {
   "cell_type": "code",
   "execution_count": 31,
   "metadata": {},
   "outputs": [],
   "source": [
    "pi_s = compute_stochastic_policy(gw.nS, gw.nA, gw.R, gw.T, gw.gamma)"
   ]
  },
  {
   "cell_type": "code",
   "execution_count": 32,
   "metadata": {},
   "outputs": [
    {
     "data": {
      "text/plain": [
       "array([1., 1., 1., 1., 1., 1., 1., 1., 1., 1., 1., 1.])"
      ]
     },
     "execution_count": 32,
     "metadata": {},
     "output_type": "execute_result"
    }
   ],
   "source": [
    "pi_s.sum(axis=1)"
   ]
  },
  {
   "cell_type": "markdown",
   "metadata": {},
   "source": [
    "# MaxEntropy IRL"
   ]
  },
  {
   "cell_type": "markdown",
   "metadata": {},
   "source": [
    "## Feature Expectations"
   ]
  },
  {
   "cell_type": "code",
   "execution_count": 33,
   "metadata": {},
   "outputs": [],
   "source": [
    "def compute_feature_expectations(trajectories, state_idx_to_features, gamma, exclude_absorbing_state=True):\n",
    "    \n",
    "    \"\"\"\n",
    "    Computes and returns: μ(π) from trajectories\n",
    "    The expectation is taken with respect to the random state sequence s0, s1, ... drawn by starting from a state s0 ∼ D, \n",
    "    and picking actions according to unknown π.\n",
    "    \n",
    "    Input:\n",
    "        trajectories: 3D numpy matrix of size M x T x 3, where M is number of trajectories, \n",
    "                        T is fixed length of the trajectory (padded with last state if terminated early), 3 is for (s, a, r)\n",
    "        state_idx_to_features: 2D numpy matrix mapping state index to its features of size N x K, \n",
    "                        N is total # of known states and K is its feature dimensionality\n",
    "    \"\"\"\n",
    "    nS, dimS = state_idx_to_features.shape\n",
    "    feature_expectations = np.zeros((dimS,))\n",
    "    \n",
    "    for trajectory in trajectories:\n",
    "        for i, (s_idx, a_idx, _) in enumerate(trajectory): # we ignore rewards because that's assumed to be unknown\n",
    "            if exclude_absorbing_state and s_idx == nS-1:\n",
    "                break\n",
    "            feature_i = state_idx_to_features[s_idx]\n",
    "            # Assuming R is a linear combination of known features of the state s, R(s) = w . Phi(s)\n",
    "            feature_expectations += feature_i #* (gamma**i)\n",
    "    return feature_expectations / trajectories.shape[0]"
   ]
  },
  {
   "cell_type": "code",
   "execution_count": 34,
   "metadata": {},
   "outputs": [],
   "source": [
    "gw = GridWorld(book_grid, gamma=0.95, action_noise_dist=[0., 1., 0.])\n",
    "trajectories_mat = np.asarray(gw.sample_trajectories(5000, init_state_idx=\"random\", max_length=15), dtype=np.int)"
   ]
  },
  {
   "cell_type": "code",
   "execution_count": 35,
   "metadata": {},
   "outputs": [],
   "source": [
    "# for i, tau in enumerate(gw.sample_trajectories(10, init_state_idx=0, max_length=20)): print(\"T{:03d}: {}\".format(i, tau))"
   ]
  },
  {
   "cell_type": "code",
   "execution_count": 36,
   "metadata": {},
   "outputs": [
    {
     "data": {
      "text/plain": [
       "array([0.2708, 0.367 , 0.8142, 0.9012, 0.1778, 0.362 , 0.0988, 0.0912,\n",
       "       0.089 , 0.2744, 0.0958, 0.    ])"
      ]
     },
     "execution_count": 36,
     "metadata": {},
     "output_type": "execute_result"
    }
   ],
   "source": [
    "compute_feature_expectations(trajectories_mat, gw.get_state_grid_features_matrix(), gw.gamma, gw._is_terminal)"
   ]
  },
  {
   "cell_type": "markdown",
   "metadata": {},
   "source": [
    "## State Visitation Frequency\n",
    "Forward pass"
   ]
  },
  {
   "cell_type": "code",
   "execution_count": 37,
   "metadata": {},
   "outputs": [],
   "source": [
    "def compute_state_visitation_frequency(trajectories, nS, nA, dynamics_T, R, gamma, silent=True):\n",
    "    \"\"\"\n",
    "    Computes state visitation frequency using forward algorithm, uses DP algorithm from Zeibart et. al (2008).\n",
    "    \n",
    "    p(s, t+1) = sum_s' sum_a ( p(s', t-1) * p(a|s') * p(s|s', a))\n",
    "    i.e., Prob. of being in state at time t+1 = sum over all prev state and actions ( \n",
    "                                            probability of being in prev state at time t-1 * probability of taking action a in prev state \n",
    "                                            * transition dynamics (state | prev state, action))\n",
    "    The problem is we don't know p(s) at any time, so we start from p(s0) which can be easily computed from seeing first state of trajectories\n",
    "    and dividing by number of trajectories (M). Once we have p(s,0) for all s, we can build up p(s,t) using DP. Iteratively compute p(s,t+1) \n",
    "    from previously computed p(s, t-1), all we need is policy that affects the state evolution along with dynamics for stochastic actions.  \n",
    "    \n",
    "    Ref: DPV chapter 7 on DP\n",
    "    \"\"\"\n",
    "    \n",
    "    M, T, _ = trajectories.shape\n",
    "    state_idxs = range(nS)\n",
    "    action_idxs = range(nA)\n",
    "    \n",
    "    # compute stochastic policy\n",
    "    policy = compute_stochastic_policy(nS, nA, R, dynamics_T, gamma)\n",
    "    if not silent: print(\"Stochastic Pi[a|s]: \\n [N, E, S, W]\"), print(policy), gw.disp_custom_grid([gw.actions_name[a] for a in policy.argmax(axis=1)], formatting=lambda x: str(x))\n",
    "    \n",
    "    init_state_idxs = trajectories[:,0,0] # take first visited state from all trajectories\n",
    "    t0_visitation_count, _ = np.histogram(init_state_idxs, bins=range(nS+1)) # n bins will get counts for n-1 states\n",
    "    mu_0_s = t0_visitation_count / float(M) # mu_0_s = p(s0 = s), consider s1 and mu_1 if you're a 1 based indexing fan\n",
    "    mu_t_s = np.zeros((T, nS))\n",
    "    mu_t_s[0, :] = mu_0_s\n",
    "    \n",
    "    for t in range(1,T):\n",
    "        if not silent: print(\"Prob of being in states at t =\", t-1)\n",
    "        if not silent: gw.disp_custom_grid(mu_t_s[t-1, :], formatting=lambda x: \"{:.3f}\".format(x))\n",
    "        for s_idx in state_idxs[:-1]:  # don't include absorbing state\n",
    "            for a_idx in action_idxs:\n",
    "                for s_prev_idx in state_idxs[:-1]: # don't include absorbing state\n",
    "                    # print(s_prev_idx, \"-\", a_idx, \"->\", s_idx,  \":\", mu_t_s[t-1, s_prev_idx], \"-\", policy[s_prev_idx][a_idx], \"->\", dynamics_T[s_prev_idx, a_idx, s_idx])\n",
    "                    # visitation freq of s = sum over all s' and a (\n",
    "                    # prob of being in prev state P(s') * action prob under given policy P(a|s') * probability of transitioning to s P(s',a,s))\n",
    "                    mu_t_s[t, s_idx] += mu_t_s[t-1, s_prev_idx] * policy[s_prev_idx][a_idx] * dynamics_T[s_prev_idx, a_idx, s_idx]\n",
    "            \n",
    "    # Each t represents the probability of reaching a particular state at time step t in a trajectory\n",
    "    # We can expect it to drop for states that are less rewarding, and stay stable or steadily increase\n",
    "    # summing up along t gives us total state visitation frequency for max length of trajetory\n",
    "    return mu_t_s.sum(axis=0) "
   ]
  },
  {
   "cell_type": "code",
   "execution_count": 38,
   "metadata": {},
   "outputs": [],
   "source": [
    "# policy = compute_stochastic_policy(gw.nS, gw.nA, gw.R, gw.get_transition_dynamics_T(), gw.gamma)"
   ]
  },
  {
   "cell_type": "code",
   "execution_count": 39,
   "metadata": {},
   "outputs": [
    {
     "name": "stdout",
     "output_type": "stream",
     "text": [
      "0.23\t0.33\t0.82\t0.90\t\n",
      "0.14\t-inf\t0.41\t0.10\t\n",
      "0.09\t0.14\t0.32\t0.10\t\n",
      "Absorbing state: 0.00\n"
     ]
    }
   ],
   "source": [
    "svf = compute_state_visitation_frequency(trajectories_mat, gw.nS, gw.nA, gw.get_transition_dynamics_T(), gw.R, gw.gamma)\n",
    "gw.disp_custom_grid(svf, formatting=lambda x: \"{:.2f}\".format(x))"
   ]
  },
  {
   "cell_type": "code",
   "execution_count": 40,
   "metadata": {},
   "outputs": [],
   "source": [
    "def max_ent_irl(trajectories, state_idx_to_features, gamma, nA, dynamics_T, n_epochs, alpha, silent=True):\n",
    "    \n",
    "    augmented_feature_matrix = state_idx_to_features\n",
    "    \n",
    "    M, T, _ = trajectories.shape\n",
    "    nS, dimS = augmented_feature_matrix.shape\n",
    "    \n",
    "    # initialize weights\n",
    "    theta = np.random.uniform(size=(dimS,)) #np.random.normal(size=(dimS,))\n",
    "        \n",
    "    # calculate expert feature expectations\n",
    "    feature_expectations = compute_feature_expectations(trajectories, augmented_feature_matrix, gamma)\n",
    "    \n",
    "    # run gradient descent on theta to minimize difference between observed feature expectations and \n",
    "    # state visitation frequency for current (evolving) reward (parameterized by theta and T) function\n",
    "    for i in range(n_epochs):\n",
    "        \n",
    "        curr_R = augmented_feature_matrix.dot(theta)\n",
    "        svf = compute_state_visitation_frequency(trajectories, nS, nA, dynamics_T, curr_R, gamma, silent=True)\n",
    "        grad = feature_expectations - augmented_feature_matrix.T.dot(svf)\n",
    "#         if not silent: print(\" theta:\", [round(t,4) for t in theta])\n",
    "#         if not silent: print(\" grad:\", [round(t,4) for t in grad],)\n",
    "        theta += alpha * grad\n",
    "    \n",
    "    R = augmented_feature_matrix.dot(theta).reshape((nS,))\n",
    "    R[-1] = 0 # ignore absorbing state reward\n",
    "    return R"
   ]
  },
  {
   "cell_type": "code",
   "execution_count": 41,
   "metadata": {},
   "outputs": [],
   "source": [
    "R = max_ent_irl(trajectories_mat, gw.get_state_grid_features_matrix(), gw.gamma, gw.nA, gw.T, 200, 0.1, silent=False)"
   ]
  },
  {
   "cell_type": "code",
   "execution_count": 42,
   "metadata": {},
   "outputs": [
    {
     "name": "stdout",
     "output_type": "stream",
     "text": [
      "Recovered R:\n",
      "-1.53\t-1.86\t-1.29\t3.50\t\n",
      "-1.20\t-inf\t-1.35\t-2.49\t\n",
      "-1.14\t-2.31\t-1.34\t-1.44\t\n",
      "Absorbing state: 0.00\n"
     ]
    }
   ],
   "source": [
    "print(\"Recovered R:\")\n",
    "gw.disp_custom_grid(R, formatting=lambda x: \"{:.2f}\".format(x))"
   ]
  },
  {
   "cell_type": "code",
   "execution_count": 43,
   "metadata": {},
   "outputs": [
    {
     "name": "stdout",
     "output_type": "stream",
     "text": [
      "Recovered Policy:\n",
      "East\tEast\tEast\tNorth\t\n",
      "North\t-inf\tNorth\tNorth\t\n",
      "North\tEast\tNorth\tWest\t\n",
      "Absorbing state: North\n"
     ]
    }
   ],
   "source": [
    "print(\"Recovered Policy:\") \n",
    "vi = run_value_iteration(gw.T, R, gw.gamma)\n",
    "gw.disp_custom_grid(vi.policy, lambda x: \"{:}\".format(gw.actions_name[x]))"
   ]
  },
  {
   "cell_type": "code",
   "execution_count": 44,
   "metadata": {},
   "outputs": [
    {
     "name": "stdout",
     "output_type": "stream",
     "text": [
      "Recovered Value:\n",
      "-1.46\t0.07\t2.03\t3.50\t\n",
      "-2.58\t-inf\t0.59\t-2.49\t\n",
      "-3.59\t-3.06\t-0.78\t-2.18\t\n",
      "Absorbing state: 0.00\n"
     ]
    }
   ],
   "source": [
    "print(\"Recovered Value:\")\n",
    "vi = run_value_iteration(gw.T, R, gw.gamma)\n",
    "gw.disp_custom_grid(vi.V, lambda x: \"{:.2f}\".format(x))"
   ]
  },
  {
   "cell_type": "code",
   "execution_count": 45,
   "metadata": {},
   "outputs": [
    {
     "name": "stdout",
     "output_type": "stream",
     "text": [
      "True R:\n",
      "-0.01\t-0.01\t-0.01\t100.00\t\n",
      "-0.01\t-inf\t-0.01\t-100.00\t\n",
      "-0.01\t-0.01\t-0.01\t-0.01\t\n",
      "Absorbing state: 0.00\n"
     ]
    }
   ],
   "source": [
    "print(\"True R:\")\n",
    "gw.disp_custom_grid(gw.R, formatting=lambda x: \"{:.2f}\".format(x))"
   ]
  },
  {
   "cell_type": "code",
   "execution_count": 46,
   "metadata": {},
   "outputs": [
    {
     "name": "stdout",
     "output_type": "stream",
     "text": [
      "Optimal Value:\n",
      "85.71\t90.23\t94.99\t100.00\t\n",
      "81.41\t-inf\t90.23\t-100.00\t\n",
      "77.33\t81.41\t85.71\t81.41\t\n",
      "Absorbing state: 0.00\n"
     ]
    }
   ],
   "source": [
    "print(\"Optimal Value:\")\n",
    "vi = run_value_iteration(gw.T, gw.R, gw.gamma)\n",
    "gw.disp_custom_grid(vi.V, lambda x: \"{:.2f}\".format(x))"
   ]
  },
  {
   "cell_type": "code",
   "execution_count": 47,
   "metadata": {},
   "outputs": [
    {
     "name": "stdout",
     "output_type": "stream",
     "text": [
      "Optimal Policy:\n",
      "East\tEast\tEast\tNorth\t\n",
      "North\t-inf\tNorth\tNorth\t\n",
      "North\tEast\tNorth\tWest\t\n",
      "Absorbing state: North\n"
     ]
    }
   ],
   "source": [
    "print(\"Optimal Policy:\")\n",
    "vi = run_value_iteration(gw.T, gw.R, gw.gamma)\n",
    "gw.disp_custom_grid(vi.policy, lambda x: \"{:}\".format(gw.actions_name[x]))"
   ]
  },
  {
   "cell_type": "code",
   "execution_count": 48,
   "metadata": {},
   "outputs": [
    {
     "name": "stdout",
     "output_type": "stream",
     "text": [
      "0\t1\t2\t3\t\n",
      "4\t-inf\t5\t6\t\n",
      "7\t8\t9\t10\t\n",
      "Absorbing state: 11\n"
     ]
    }
   ],
   "source": [
    "gw.disp_custom_grid(range(gw.nS), formatting=lambda x: str(x))"
   ]
  },
  {
   "cell_type": "markdown",
   "metadata": {},
   "source": [
    "## Testing"
   ]
  },
  {
   "cell_type": "markdown",
   "metadata": {},
   "source": [
    "### Simple Test"
   ]
  },
  {
   "cell_type": "code",
   "execution_count": 49,
   "metadata": {},
   "outputs": [],
   "source": [
    "test_grid2 = [[' ',' ',' ',' ',+100, ' ',' ',' ',' ']]\n",
    "gw = GridWorld(test_grid2, gamma=0.99, action_noise_dist=[0., 1., 0.], living_reward=0)\n",
    "trajectories_mat = np.asarray(gw.sample_trajectories(10000, init_state_idx=\"random\", max_length=10), dtype=np.int)"
   ]
  },
  {
   "cell_type": "code",
   "execution_count": 50,
   "metadata": {},
   "outputs": [
    {
     "name": "stdout",
     "output_type": "stream",
     "text": [
      "0.113\t0.226\t0.335\t0.440\t1.000\t0.455\t0.342\t0.223\t0.115\t\n",
      "Absorbing state: 0.000\n"
     ]
    }
   ],
   "source": [
    "f_exp = compute_feature_expectations(trajectories_mat, gw.get_state_grid_features_matrix(), gw.gamma)\n",
    "# print(list(zip(range(gw.nS), f_exp)))\n",
    "gw.disp_custom_grid(f_exp, formatting=lambda x: \"{:.3f}\".format(x))"
   ]
  },
  {
   "cell_type": "code",
   "execution_count": 51,
   "metadata": {},
   "outputs": [
    {
     "name": "stdout",
     "output_type": "stream",
     "text": [
      "Stochastic Pi[a|s]: \n",
      " [N, E, S, W]\n",
      "[[0.1781498  0.4655506  0.1781498  0.1781498 ]\n",
      " [0.19914772 0.52549774 0.19914772 0.07620681]\n",
      " [0.19826744 0.52832776 0.19826744 0.07513736]\n",
      " [0.1973746  0.53118133 0.1973746  0.07406947]\n",
      " [0.25       0.25       0.25       0.25      ]\n",
      " [0.1973746  0.07406947 0.1973746  0.53118133]\n",
      " [0.19826744 0.07513736 0.19826744 0.52832776]\n",
      " [0.19914772 0.07620681 0.19914772 0.52549774]\n",
      " [0.1781498  0.1781498  0.1781498  0.4655506 ]\n",
      " [0.25       0.25       0.25       0.25      ]]\n",
      "East\tEast\tEast\tEast\tNorth\tWest\tWest\tWest\tWest\t\n",
      "Absorbing state: North\n",
      "Prob of being in states at t = 0\n",
      "0.113\t0.113\t0.110\t0.104\t0.105\t0.113\t0.119\t0.108\t0.115\t\n",
      "Absorbing state: 0.000\n",
      "Prob of being in states at t = 1\n",
      "0.069\t0.106\t0.111\t0.099\t0.116\t0.107\t0.112\t0.106\t0.070\t\n",
      "Absorbing state: 0.000\n",
      "Prob of being in states at t = 2\n",
      "0.045\t0.082\t0.107\t0.098\t0.110\t0.102\t0.108\t0.083\t0.045\t\n",
      "Absorbing state: 0.000\n",
      "Prob of being in states at t = 3\n",
      "0.030\t0.062\t0.093\t0.095\t0.106\t0.097\t0.094\t0.062\t0.031\t\n",
      "Absorbing state: 0.000\n",
      "Prob of being in states at t = 4\n",
      "0.021\t0.046\t0.076\t0.087\t0.102\t0.088\t0.077\t0.046\t0.021\t\n",
      "Absorbing state: 0.000\n",
      "Prob of being in states at t = 5\n",
      "0.015\t0.034\t0.061\t0.074\t0.093\t0.075\t0.061\t0.034\t0.015\t\n",
      "Absorbing state: 0.000\n",
      "Prob of being in states at t = 6\n",
      "0.010\t0.025\t0.047\t0.061\t0.080\t0.062\t0.048\t0.025\t0.010\t\n",
      "Absorbing state: 0.000\n",
      "Prob of being in states at t = 7\n",
      "0.007\t0.018\t0.036\t0.049\t0.066\t0.050\t0.037\t0.018\t0.008\t\n",
      "Absorbing state: 0.000\n",
      "Prob of being in states at t = 8\n",
      "0.005\t0.013\t0.028\t0.039\t0.053\t0.039\t0.028\t0.014\t0.005\t\n",
      "Absorbing state: 0.000\n",
      "Prob of being in states at t = 9\n",
      "0.004\t0.010\t0.021\t0.030\t0.041\t0.030\t0.021\t0.010\t0.004\t\n",
      "Absorbing state: 0.000\n",
      "SVF: \n",
      "0.322\t0.516\t0.705\t0.759\t0.902\t0.787\t0.720\t0.513\t0.327\t\n",
      "Absorbing state: 0.000\n"
     ]
    }
   ],
   "source": [
    "svf = compute_state_visitation_frequency(trajectories_mat, gw.nS, gw.nA, gw.get_transition_dynamics_T(), gw.R, gw.gamma, False)\n",
    "print(\"SVF: \"), \n",
    "gw.disp_custom_grid(svf, formatting=lambda x: \"{:.3f}\".format(x))"
   ]
  },
  {
   "cell_type": "code",
   "execution_count": 52,
   "metadata": {},
   "outputs": [
    {
     "name": "stdout",
     "output_type": "stream",
     "text": [
      "Recovered R:\n",
      "-0.836\t-1.218\t-1.340\t-1.436\t1.119\t-1.483\t-1.468\t-1.171\t-0.874\t\n",
      "Absorbing state: 0.000\n"
     ]
    }
   ],
   "source": [
    "R = max_ent_irl(trajectories_mat, gw.get_state_grid_features_matrix(), gw.gamma, gw.nA, gw.T, 100, 0.1, silent=True)\n",
    "print(\"Recovered R:\")\n",
    "gw.disp_custom_grid(R, formatting=lambda x: \"{:.3f}\".format(x))"
   ]
  },
  {
   "cell_type": "code",
   "execution_count": 53,
   "metadata": {},
   "outputs": [
    {
     "name": "stdout",
     "output_type": "stream",
     "text": [
      "Recovered Policy:\n",
      "East\tEast\tEast\tEast\tNorth\tWest\tWest\tWest\tWest\t\n",
      "Absorbing state: North\n"
     ]
    }
   ],
   "source": [
    "print(\"Recovered Policy:\")\n",
    "vi = run_value_iteration(gw.T, R, gw.gamma)\n",
    "gw.disp_custom_grid(vi.policy, lambda x: \"{:}\".format(gw.actions_name[x]))"
   ]
  },
  {
   "cell_type": "code",
   "execution_count": 54,
   "metadata": {},
   "outputs": [
    {
     "name": "stdout",
     "output_type": "stream",
     "text": [
      "True R:\n",
      "0.00\t0.00\t0.00\t0.00\t100.00\t0.00\t0.00\t0.00\t0.00\t\n",
      "Absorbing state: 0.00\n"
     ]
    }
   ],
   "source": [
    "print(\"True R:\")\n",
    "gw.disp_custom_grid(gw.R, formatting=lambda x: \"{:.2f}\".format(x))"
   ]
  },
  {
   "cell_type": "code",
   "execution_count": 55,
   "metadata": {},
   "outputs": [
    {
     "name": "stdout",
     "output_type": "stream",
     "text": [
      "Optimal Policy:\n",
      "East\tEast\tEast\tEast\tNorth\tWest\tWest\tWest\tWest\t\n",
      "Absorbing state: North\n"
     ]
    }
   ],
   "source": [
    "print(\"Optimal Policy:\")\n",
    "vi = run_value_iteration(gw.T, gw.R, gw.gamma)\n",
    "gw.disp_custom_grid(vi.policy, lambda x: \"{:}\".format(gw.actions_name[x]))"
   ]
  },
  {
   "cell_type": "markdown",
   "metadata": {},
   "source": [
    "### Check matplotlib imshow"
   ]
  },
  {
   "cell_type": "code",
   "execution_count": 56,
   "metadata": {},
   "outputs": [
    {
     "data": {
      "text/plain": [
       "<matplotlib.image.AxesImage at 0x114f64908>"
      ]
     },
     "execution_count": 56,
     "metadata": {},
     "output_type": "execute_result"
    },
    {
     "data": {
      "image/png": "[encoded data removed]",
      "text/plain": [
       "<matplotlib.figure.Figure at 0x114f4be10>"
      ]
     },
     "metadata": {},
     "output_type": "display_data"
    }
   ],
   "source": [
    "# pick a range\n",
    "plt.imshow(np.arange(25).reshape(5,5))"
   ]
  },
  {
   "cell_type": "code",
   "execution_count": 57,
   "metadata": {},
   "outputs": [
    {
     "data": {
      "text/plain": [
       "<matplotlib.image.AxesImage at 0x1168f1390>"
      ]
     },
     "execution_count": 57,
     "metadata": {},
     "output_type": "execute_result"
    },
    {
     "data": {
      "image/png": "[encoded data removed]",
      "text/plain": [
       "<matplotlib.figure.Figure at 0x114f5d390>"
      ]
     },
     "metadata": {},
     "output_type": "display_data"
    }
   ],
   "source": [
    "# shift it\n",
    "plt.imshow(np.arange(25,50).reshape(5,5))"
   ]
  },
  {
   "cell_type": "code",
   "execution_count": 58,
   "metadata": {},
   "outputs": [
    {
     "data": {
      "text/plain": [
       "<matplotlib.image.AxesImage at 0x1174c6748>"
      ]
     },
     "execution_count": 58,
     "metadata": {},
     "output_type": "execute_result"
    },
    {
     "data": {
      "image/png": "[encoded data removed]",
      "text/plain": [
       "<matplotlib.figure.Figure at 0x114f96cf8>"
      ]
     },
     "metadata": {},
     "output_type": "display_data"
    }
   ],
   "source": [
    "# scale it\n",
    "plt.imshow(100*np.arange(25,50).reshape(5,5))"
   ]
  },
  {
   "cell_type": "code",
   "execution_count": 59,
   "metadata": {},
   "outputs": [
    {
     "data": {
      "text/plain": [
       "<matplotlib.image.AxesImage at 0x114f0b4a8>"
      ]
     },
     "execution_count": 59,
     "metadata": {},
     "output_type": "execute_result"
    },
    {
     "data": {
      "image/png": "[encoded data removed]",
      "text/plain": [
       "<matplotlib.figure.Figure at 0x1174dbb38>"
      ]
     },
     "metadata": {},
     "output_type": "display_data"
    }
   ],
   "source": [
    "# fractions\n",
    "plt.imshow(np.linspace(0,1,25).reshape(5,5))"
   ]
  },
  {
   "cell_type": "markdown",
   "metadata": {},
   "source": [
    "It seems we can use this to plot our reward function. "
   ]
  },
  {
   "cell_type": "code",
   "execution_count": 103,
   "metadata": {},
   "outputs": [],
   "source": [
    "def plotR(R, h, w, title=\"\", grid=None):\n",
    "    \n",
    "    R = np.asarray(R[:-1])\n",
    "    R_max = R.max()\n",
    "    R_min = R.min()\n",
    "    \n",
    "    if grid:\n",
    "        R2 = []\n",
    "        i = 0\n",
    "        for r in range(len(grid)):\n",
    "            for c in range(len(grid[0])):\n",
    "                if grid[r][c] != GridWorld.MARKER_WALL:\n",
    "                    R2.append(R[i])\n",
    "                    i += 1\n",
    "                else:\n",
    "                    R2.append(-(R_max-R_min))\n",
    "        R = np.asarray(R2)\n",
    "    \n",
    "    plt.imshow(R.reshape(h,w))\n",
    "    plt.title(title)\n",
    "    \n",
    "def compare_grid_data(R1, R2, h, w, title1=\"Original\", title2=\"Recovered\", suffix=\"Reward\", grid=None):\n",
    "    \n",
    "    plt.subplot(1,2,1)\n",
    "    plotR(R1, h, w, title1+\" \"+suffix, grid)\n",
    "    plt.subplot(1,2,2)\n",
    "    plotR(R2, h, w, title2+\" \"+suffix, grid)"
   ]
  },
  {
   "cell_type": "markdown",
   "metadata": {},
   "source": [
    "### Linear Rewards (Uses state features so that R = w.dot(fs))"
   ]
  },
  {
   "cell_type": "code",
   "execution_count": 80,
   "metadata": {},
   "outputs": [],
   "source": [
    "test_grid2 = [[' ',' ',' ',' ',' '],\n",
    "                [' ',' ',' ',' ',' '],\n",
    "                [' ',' ',' ',' ',' '],\n",
    "                [' ',' ',' ',' ',' '],\n",
    "                [' ',' ',' ',' ',+100]]\n",
    "\n",
    "gw = GridWorld(test_grid2, gamma=0.99, action_noise_dist=[0., 1., 0.], living_reward=-0.1)\n",
    "trajectories_mat = np.asarray(gw.sample_trajectories(1000, init_state_idx=\"random\", max_length=15), dtype=np.int)\n",
    "R = max_ent_irl(trajectories_mat, gw.get_state_grid_features_matrix(), gw.gamma, gw.nA, gw.T, 100, 0.1, silent=True)\n",
    "vi = run_value_iteration(gw.T, R, gw.gamma)"
   ]
  },
  {
   "cell_type": "code",
   "execution_count": 81,
   "metadata": {},
   "outputs": [
    {
     "data": {
      "image/png": "[encoded data removed]",
      "text/plain": [
       "<matplotlib.figure.Figure at 0x117aa12b0>"
      ]
     },
     "metadata": {},
     "output_type": "display_data"
    }
   ],
   "source": [
    "compare_grid_data(gw.R, R, gw.width, gw.height, suffix=\"reward:\")"
   ]
  },
  {
   "cell_type": "code",
   "execution_count": 82,
   "metadata": {},
   "outputs": [
    {
     "data": {
      "image/png": "[encoded data removed]",
      "text/plain": [
       "<matplotlib.figure.Figure at 0x1178d3c18>"
      ]
     },
     "metadata": {},
     "output_type": "display_data"
    }
   ],
   "source": [
    "compare_grid_data(gw.vi_results.policy, vi.policy, gw.width, gw.height, suffix=\"policy:\")"
   ]
  },
  {
   "cell_type": "markdown",
   "metadata": {},
   "source": [
    "### Non-linear Rewards (Uses state features so that R != w.dot(fs))"
   ]
  },
  {
   "cell_type": "code",
   "execution_count": 84,
   "metadata": {},
   "outputs": [],
   "source": [
    "R = max_ent_irl(trajectories_mat, gw.get_state_2d_features_matrix(), gw.gamma, gw.nA, gw.T, 100, 0.1, silent=True)\n",
    "vi = run_value_iteration(gw.T, R, gw.gamma)"
   ]
  },
  {
   "cell_type": "code",
   "execution_count": 85,
   "metadata": {},
   "outputs": [
    {
     "data": {
      "image/png": "[encoded data removed]",
      "text/plain": [
       "<matplotlib.figure.Figure at 0x11777ef28>"
      ]
     },
     "metadata": {},
     "output_type": "display_data"
    }
   ],
   "source": [
    "compare_grid_data(gw.R, R, gw.width, gw.height, suffix=\"reward:\")"
   ]
  },
  {
   "cell_type": "code",
   "execution_count": 86,
   "metadata": {},
   "outputs": [
    {
     "data": {
      "image/png": "[encoded data removed]",
      "text/plain": [
       "<matplotlib.figure.Figure at 0x117f65d30>"
      ]
     },
     "metadata": {},
     "output_type": "display_data"
    }
   ],
   "source": [
    "compare_grid_data(gw.vi_results.policy, vi.policy, gw.width, gw.height, suffix=\"policy:\")"
   ]
  },
  {
   "cell_type": "markdown",
   "metadata": {},
   "source": [
    "### R&N Chap. 17 Grid World, Linear Rewards"
   ]
  },
  {
   "cell_type": "code",
   "execution_count": 174,
   "metadata": {},
   "outputs": [],
   "source": [
    "book_grid = [[' ',' ',' ',+1],\n",
    "            [' ','#',' ',-1],\n",
    "            ['@',' ',' ',' ']]\n",
    "\n",
    "gw = GridWorld(book_grid, gamma=0.99, action_noise_dist=[0., 1., 0.], living_reward=-0.04)\n",
    "trajectories_mat = np.asarray(gw.sample_trajectories(1000, init_state_idx=\"random\", max_length=15), dtype=np.int)\n",
    "\n",
    "epochs, lr = 400, 0.05\n",
    "R = max_ent_irl(trajectories_mat, gw.get_state_grid_features_matrix(), gw.gamma, gw.nA, gw.T, epochs, lr, silent=True)\n",
    "vi = run_value_iteration(gw.T, R, gw.gamma)"
   ]
  },
  {
   "cell_type": "code",
   "execution_count": 175,
   "metadata": {},
   "outputs": [
    {
     "data": {
      "image/png": "[encoded data removed]",
      "text/plain": [
       "<matplotlib.figure.Figure at 0x1179a3940>"
      ]
     },
     "metadata": {},
     "output_type": "display_data"
    }
   ],
   "source": [
    "compare_grid_data(gw.R, R, gw.height, gw.width, suffix=\"reward \", title2=\"MaxEnt inferred. \\nIter={}, Alpha={}\".format(epochs, lr), grid=book_grid)"
   ]
  },
  {
   "cell_type": "code",
   "execution_count": 176,
   "metadata": {},
   "outputs": [
    {
     "data": {
      "image/png": "[encoded data removed]",
      "text/plain": [
       "<matplotlib.figure.Figure at 0x11567f550>"
      ]
     },
     "metadata": {},
     "output_type": "display_data"
    }
   ],
   "source": [
    "compare_grid_data(gw.vi_results.policy, vi.policy, gw.height, gw.width, suffix=\"policy:\", grid=book_grid)"
   ]
  },
  {
   "cell_type": "code",
   "execution_count": 177,
   "metadata": {},
   "outputs": [
    {
     "name": "stdout",
     "output_type": "stream",
     "text": [
      "East\tEast\tEast\tNorth\t\n",
      "North\t-inf\tNorth\tNorth\t\n",
      "North\tEast\tNorth\tNorth\t\n",
      "Absorbing state: North\n"
     ]
    }
   ],
   "source": [
    "gw.disp_custom_grid(vi.policy, lambda x: \"{:}\".format(gw.actions_name[x]))"
   ]
  },
  {
   "cell_type": "code",
   "execution_count": 178,
   "metadata": {},
   "outputs": [
    {
     "name": "stdout",
     "output_type": "stream",
     "text": [
      "East\tEast\tEast\tNorth\t\n",
      "North\t-inf\tNorth\tNorth\t\n",
      "North\tEast\tNorth\tWest\t\n",
      "Absorbing state: North\n"
     ]
    }
   ],
   "source": [
    "gw.disp_custom_grid(gw.vi_results.policy, lambda x: \"{:}\".format(gw.actions_name[x]))"
   ]
  },
  {
   "cell_type": "markdown",
   "metadata": {},
   "source": [
    "### R&N Chap. 17 Grid World, Linear Rewards, +Stochasticity"
   ]
  },
  {
   "cell_type": "code",
   "execution_count": 179,
   "metadata": {},
   "outputs": [],
   "source": [
    "book_grid = [[' ',' ',' ',+1],\n",
    "            [' ','#',' ',-1],\n",
    "            ['@',' ',' ',' ']]\n",
    "\n",
    "gw = GridWorld(book_grid, gamma=0.99, action_noise_dist=[0.1, 0.8, 0.1], living_reward=-0.04)\n",
    "trajectories_mat = np.asarray(gw.sample_trajectories(1000, init_state_idx=\"random\", max_length=15), dtype=np.int)\n",
    "\n",
    "epochs, lr = 400, 0.1\n",
    "R = max_ent_irl(trajectories_mat, gw.get_state_grid_features_matrix(), gw.gamma, gw.nA, gw.T, epochs, lr, silent=True)\n",
    "vi = run_value_iteration(gw.T, R, gw.gamma)"
   ]
  },
  {
   "cell_type": "code",
   "execution_count": 180,
   "metadata": {},
   "outputs": [
    {
     "data": {
      "image/png": "[encoded data removed]",
      "text/plain": [
       "<matplotlib.figure.Figure at 0x117aa13c8>"
      ]
     },
     "metadata": {},
     "output_type": "display_data"
    }
   ],
   "source": [
    "compare_grid_data(gw.R, R, gw.height, gw.width, suffix=\"reward \", title2=\"MaxEnt inferred. \\nIter={}, Alpha={}\".format(epochs, lr), grid=book_grid)"
   ]
  },
  {
   "cell_type": "code",
   "execution_count": 181,
   "metadata": {},
   "outputs": [
    {
     "data": {
      "image/png": "[encoded data removed]",
      "text/plain": [
       "<matplotlib.figure.Figure at 0x1181ca4a8>"
      ]
     },
     "metadata": {},
     "output_type": "display_data"
    }
   ],
   "source": [
    "compare_grid_data(gw.vi_results.policy, vi.policy, gw.height, gw.width, suffix=\"policy:\", grid=book_grid)"
   ]
  },
  {
   "cell_type": "markdown",
   "metadata": {},
   "source": [
    "### R&N Chap. 17 Grid World, Non-linear Rewards"
   ]
  },
  {
   "cell_type": "code",
   "execution_count": 146,
   "metadata": {},
   "outputs": [],
   "source": [
    "R = max_ent_irl(trajectories_mat, gw.get_state_2d_features_matrix(), gw.gamma, gw.nA, gw.T, epochs, lr, silent=True)\n",
    "vi = run_value_iteration(gw.T, R, gw.gamma)"
   ]
  },
  {
   "cell_type": "code",
   "execution_count": 147,
   "metadata": {},
   "outputs": [
    {
     "data": {
      "image/png": "[encoded data removed]",
      "text/plain": [
       "<matplotlib.figure.Figure at 0x11824c940>"
      ]
     },
     "metadata": {},
     "output_type": "display_data"
    }
   ],
   "source": [
    "compare_grid_data(gw.R, R, gw.height, gw.width, suffix=\"reward \", title2=\"MaxEnt inferred. \\nIter={}, Alpha={}\".format(epochs, lr), grid=book_grid)"
   ]
  },
  {
   "cell_type": "code",
   "execution_count": 148,
   "metadata": {},
   "outputs": [
    {
     "data": {
      "image/png": "[encoded data removed]",
      "text/plain": [
       "<matplotlib.figure.Figure at 0x118273898>"
      ]
     },
     "metadata": {},
     "output_type": "display_data"
    }
   ],
   "source": [
    "compare_grid_data(gw.vi_results.policy, vi.policy, gw.height, gw.width, suffix=\"policy:\", grid=book_grid)"
   ]
  },
  {
   "cell_type": "code",
   "execution_count": 133,
   "metadata": {},
   "outputs": [],
   "source": [
    "test_grid0 = [[0.1,0.1,0.1,0.1],\n",
    "              [' ',' ',' ',' '],\n",
    "            [' ',' ',' ',' ']]\n",
    "\n",
    "test_grid1 = [[' ',' ',' ',+100],\n",
    "            ['@','#',' ',' '],\n",
    "            [' ',' ',' ',-100]]\n",
    "\n",
    "test_grid2 = [[' ',' ',' ',' '],\n",
    "            ['@',' ',' ',+100],\n",
    "            [' ',' ',' ',' ']]\n",
    "\n",
    "test_grid3 = [['@',' ',' ',+100],\n",
    "            [' ',' ',' ',' '],\n",
    "            [-100,' ',' ',' ']]"
   ]
  },
  {
   "cell_type": "code",
   "execution_count": null,
   "metadata": {},
   "outputs": [],
   "source": []
  },
  {
   "cell_type": "markdown",
   "metadata": {},
   "source": [
    "## References\n",
    "\n",
    "1. Levine et al. \"CS 294: Deep Reinforcement Learning.\" 2017. http://rll.berkeley.edu/deeprlcourse/\n",
    "2. Ziebart, Brian D., et al. \"Maximum Entropy Inverse Reinforcement Learning.\" AAAI. Vol. 8. 2008.\n",
    "3. Matthew Alger's MaxEnt implementation. https://github.com/MatthewJA/Inverse-Reinforcement-Learning"
   ]
  }
 ],
 "metadata": {
  "kernelspec": {
   "display_name": "irl_python3",
   "language": "python",
   "name": "irl_python3"
  },
  "language_info": {
   "codemirror_mode": {
    "name": "ipython",
    "version": 3
   },
   "file_extension": ".py",
   "mimetype": "text/x-python",
   "name": "python",
   "nbconvert_exporter": "python",
   "pygments_lexer": "ipython3",
   "version": "3.6.1"
  }
 },
 "nbformat": 4,
 "nbformat_minor": 2
}
