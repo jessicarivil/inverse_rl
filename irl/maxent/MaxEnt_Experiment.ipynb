{
 "cells": [
  {
   "cell_type": "markdown",
   "metadata": {},
   "source": [
    "# MaxEnt"
   ]
  },
  {
   "cell_type": "code",
   "execution_count": 1,
   "metadata": {},
   "outputs": [],
   "source": [
    "import time\n",
    "import math\n",
    "import numpy as np\n",
    "\n",
    "import sys\n",
    "sys.path.append(\"../../environments/MDPGridWorld/\")\n",
    "from MDPGridWorld import *\n",
    "from maxent_irl import *\n",
    "from plotting import *\n",
    "\n",
    "%load_ext autoreload\n",
    "%autoreload 2"
   ]
  },
  {
   "cell_type": "code",
   "execution_count": 2,
   "metadata": {},
   "outputs": [],
   "source": [
    "def terminal_state_potential_fn(s_idx, terminal_state_idx):\n",
    "    \n",
    "    if s_idx == terminal_state_idx:\n",
    "        return 0\n",
    "    else:\n",
    "        return -1e20"
   ]
  },
  {
   "cell_type": "code",
   "execution_count": 3,
   "metadata": {},
   "outputs": [],
   "source": [
    "def run_max_ent_gridworld_experiment(grid,\n",
    "                                     n_traj, \n",
    "                                     max_traj_len, \n",
    "                                     n_epochs,\n",
    "                                     learning_rate,\n",
    "                                     action_noise_dist,\n",
    "                                     terminal_state_potential_fn=terminal_state_potential_fn,\n",
    "                                     linear_features=True,\n",
    "                                     init_state_idx=\"random\",\n",
    "                                     vi_eps=1e-3,\n",
    "                                     living_reward=-0.04, \n",
    "                                     obstacle_reward=-0.5, \n",
    "                                     visit_obstacles=False,\n",
    "                                     gamma=0.99,\n",
    "                                     verbose=False,\n",
    "                                     epoch_summary_rate=None):\n",
    "    \n",
    "    gw = MDPGridWorld(grid, living_reward, gamma, action_noise_dist, obstacle_reward, visit_obstacles, verbose=verbose)\n",
    "    phi=lambda x: terminal_state_potential_fn(x, gw.absorbing_state_idx)\n",
    "    trajectories = np.asarray(gw.sample_trajectories(n_traj, init_state_idx=init_state_idx, \n",
    "                                                     max_length=max_traj_len, visit_obstacles_as_init=visit_obstacles), dtype=np.int)\n",
    "    start = time.time()\n",
    "    if linear_features:\n",
    "        feature_matrix = gw.get_state_grid_features_matrix()\n",
    "    else:\n",
    "        feature_matrix = gw.get_state_2d_features_matrix()\n",
    "        \n",
    "    R = max_ent_irl(trajectories, feature_matrix, \n",
    "                    gw.gamma, gw.nA, gw.T, \n",
    "                    n_epochs, learning_rate, \n",
    "                    phi, vi_eps=vi_eps, epoch_summary_rate=epoch_summary_rate)\n",
    "    print(\"Total Time: {} sec\".format(time.time()-start))\n",
    "    return R, gw, trajectories, feature_matrix"
   ]
  },
  {
   "cell_type": "code",
   "execution_count": 4,
   "metadata": {},
   "outputs": [],
   "source": [
    "def plot_results(gw, grid, R, n_epochs, learning_rate):\n",
    "\n",
    "    plt.figure(figsize=(14,8))\n",
    "    print(\"Expert Policy\")\n",
    "    gw.disp_custom_grid(gw.vi_results.policy, lambda x: \"{:}\".format(gw.actions_name[x]))\n",
    "    vi_recovered = run_value_iteration(gw.T, R, gw.gamma)\n",
    "    print(\"Recovered Policy\")\n",
    "    gw.disp_custom_grid(vi_recovered.policy, lambda x: \"{:}\".format(gw.actions_name[x]))\n",
    "    compare_grid_data(gw.vi_results.policy, vi_recovered.policy, gw.height, gw.width, \n",
    "                      suffix=\"policy:\", \n",
    "                      grid=grid, plots=[(2,2,1), (2,2,2)])\n",
    "    \n",
    "    print(\"Groundtruth R\")\n",
    "    gw.disp_custom_grid(gw.R, formatting=lambda x: \"{:.3f}\".format(x))\n",
    "    print(\"Recovered R\")\n",
    "    gw.disp_custom_grid(R, formatting=lambda x: \"{:.3f}\".format(x))\n",
    "    \n",
    "    compare_grid_data(gw.R, R, gw.height, gw.width, suffix=\"reward \", \n",
    "                      title2=\"MaxEnt inferred. \\nIter={}, lr={}\".format(n_epochs, learning_rate), \n",
    "                      grid=grid, plots=[(2,2,3), (2,2,4)])"
   ]
  },
  {
   "cell_type": "markdown",
   "metadata": {},
   "source": [
    "## Determinitic Dynamics & Linear Rewards (True R = w.dot(fs))"
   ]
  },
  {
   "cell_type": "code",
   "execution_count": 5,
   "metadata": {},
   "outputs": [],
   "source": [
    "action_noise_dist = [0., 1., 0.]"
   ]
  },
  {
   "cell_type": "markdown",
   "metadata": {},
   "source": [
    "### Simple Grid"
   ]
  },
  {
   "cell_type": "code",
   "execution_count": 6,
   "metadata": {},
   "outputs": [
    {
     "name": "stdout",
     "output_type": "stream",
     "text": [
      " Epoch 5, sum|grad|: 2.824489451085287\n",
      " Epoch 10, sum|grad|: 1.1071259796135695\n",
      " Epoch 15, sum|grad|: 0.671388994576068\n",
      " Epoch 20, sum|grad|: 0.5553902174097594\n",
      "Total Time: 11.153404235839844 sec\n",
      "Expert Policy\n",
      "---------------\n",
      "East\tEast\tEast\tEast\tSouth\t\n",
      "East\tEast\tEast\tEast\tSouth\t\n",
      "East\tEast\tEast\tEast\tSouth\t\n",
      "East\tEast\tEast\tEast\tSouth\t\n",
      "East\tEast\tEast\tEast\tNorth\t\n",
      "Absorbing state: North\n",
      "---------------\n",
      "\n",
      "Recovered Policy\n",
      "---------------\n",
      "East\tEast\tEast\tEast\tSouth\t\n",
      "East\tEast\tEast\tEast\tSouth\t\n",
      "East\tEast\tEast\tEast\tSouth\t\n",
      "East\tEast\tEast\tEast\tSouth\t\n",
      "East\tEast\tEast\tEast\tNorth\t\n",
      "Absorbing state: North\n",
      "---------------\n",
      "\n",
      "Groundtruth R\n",
      "---------------\n",
      "-0.040\t-0.040\t-0.040\t-0.040\t-0.040\t\n",
      "-0.040\t-0.040\t-0.040\t-0.040\t-0.040\t\n",
      "-0.040\t-0.040\t-0.040\t-0.040\t-0.040\t\n",
      "-0.040\t-0.040\t-0.040\t-0.040\t-0.040\t\n",
      "-0.040\t-0.040\t-0.040\t-0.040\t1.000\t\n",
      "Absorbing state: 0.000\n",
      "---------------\n",
      "\n",
      "Recovered R\n",
      "---------------\n",
      "-0.858\t-0.971\t-0.965\t-0.902\t-0.887\t\n",
      "-0.847\t-1.181\t-1.238\t-1.903\t-0.580\t\n",
      "-1.096\t-1.234\t-1.649\t-2.279\t-1.359\t\n",
      "-0.966\t-1.291\t-2.077\t-3.039\t-1.536\t\n",
      "-1.046\t-1.687\t-2.707\t-3.944\t2.089\t\n",
      "Absorbing state: 0.019\n",
      "---------------\n",
      "\n"
     ]
    },
    {
     "data": {
      "image/png": "[encoded data removed]",
      "text/plain": [
       "<Figure size 1008x576 with 4 Axes>"
      ]
     },
     "metadata": {},
     "output_type": "display_data"
    }
   ],
   "source": [
    "np.random.seed(0)\n",
    "grid = [[' ',' ',' ',' ',' '],\n",
    "                [' ',' ',' ',' ',' '],\n",
    "                [' ',' ',' ',' ',' '],\n",
    "                [' ',' ',' ',' ',' '],\n",
    "                [' ',' ',' ',' ',+1]]\n",
    "n_epochs, lr = 20, 1.\n",
    "n_traj, max_traj_len = 100, 20\n",
    "R, gw, trajectories, feature_matrix = \\\n",
    "                    run_max_ent_gridworld_experiment(grid,\n",
    "                                     n_traj=n_traj, \n",
    "                                     max_traj_len=max_traj_len, \n",
    "                                     n_epochs=n_epochs,\n",
    "                                     learning_rate=lr,\n",
    "                                     action_noise_dist=action_noise_dist,\n",
    "                                     terminal_state_potential_fn=terminal_state_potential_fn,\n",
    "                                     linear_features=True,\n",
    "                                     init_state_idx=\"random\",\n",
    "                                     vi_eps=1e-3,\n",
    "                                     living_reward=-0.04, \n",
    "                                     obstacle_reward=-0.5, \n",
    "                                     visit_obstacles=True,\n",
    "                                     gamma=0.99,\n",
    "                                     epoch_summary_rate=5)\n",
    "plot_results(gw, grid, R, n_epochs, lr)"
   ]
  },
  {
   "cell_type": "markdown",
   "metadata": {},
   "source": [
    "### Grid with obstacles\n",
    "Let's not visit obstacle states and see"
   ]
  },
  {
   "cell_type": "code",
   "execution_count": 7,
   "metadata": {},
   "outputs": [
    {
     "name": "stdout",
     "output_type": "stream",
     "text": [
      " Epoch 10, sum|grad|: 0.8057639028011849\n",
      " Epoch 20, sum|grad|: 0.5263006962597606\n",
      "Total Time: 11.2117280960083 sec\n",
      "Expert Policy\n",
      "---------------\n",
      "East\tEast\tEast\tEast\tSouth\t\n",
      "South\tEast\tEast\tEast\tSouth\t\n",
      "East\tSouth\tEast\tEast\tSouth\t\n",
      "East\tEast\tSouth\tEast\tSouth\t\n",
      "East\tEast\tEast\tEast\tNorth\t\n",
      "Absorbing state: North\n",
      "---------------\n",
      "\n",
      "Recovered Policy\n",
      "---------------\n",
      "East\tEast\tEast\tEast\tSouth\t\n",
      "South\tSouth\tEast\tEast\tSouth\t\n",
      "East\tSouth\tSouth\tEast\tSouth\t\n",
      "East\tEast\tSouth\tSouth\tSouth\t\n",
      "East\tEast\tEast\tEast\tNorth\t\n",
      "Absorbing state: North\n",
      "---------------\n",
      "\n",
      "Groundtruth R\n",
      "---------------\n",
      "-0.040\t-0.040\t-0.040\t-0.040\t-0.040\t\n",
      "-0.040\t-0.500\t-0.040\t-0.040\t-0.040\t\n",
      "-0.040\t-0.040\t-0.500\t-0.040\t-0.040\t\n",
      "-0.040\t-0.040\t-0.040\t-0.500\t-0.040\t\n",
      "-0.040\t-0.040\t-0.040\t-0.040\t1.000\t\n",
      "Absorbing state: 0.000\n",
      "---------------\n",
      "\n",
      "Recovered R\n",
      "---------------\n",
      "-1.282\t-0.748\t-0.649\t-0.539\t-0.402\t\n",
      "-1.463\t0.200\t-1.136\t-1.806\t-0.440\t\n",
      "-1.565\t-1.505\t0.927\t-1.745\t-1.678\t\n",
      "-2.157\t-0.571\t-0.553\t0.987\t-2.719\t\n",
      "-0.993\t-2.090\t-1.180\t-1.653\t1.519\t\n",
      "Absorbing state: 0.496\n",
      "---------------\n",
      "\n"
     ]
    },
    {
     "data": {
      "image/png": "[encoded data removed]",
      "text/plain": [
       "<Figure size 1008x576 with 4 Axes>"
      ]
     },
     "metadata": {},
     "output_type": "display_data"
    }
   ],
   "source": [
    "np.random.seed(0)\n",
    "grid = [[' ',' ',' ',' ',' '],\n",
    "        [' ','#',' ',' ',' '],\n",
    "        [' ',' ','#',' ',' '],\n",
    "        [' ',' ',' ','#',' '],\n",
    "        [' ',' ',' ',' ',+1]]\n",
    "n_epochs, lr = 20, 1.\n",
    "n_traj, max_traj_len = 100, 20\n",
    "R, gw, trajectories, feature_matrix = \\\n",
    "                    run_max_ent_gridworld_experiment(grid,\n",
    "                                     n_traj=n_traj, \n",
    "                                     max_traj_len=max_traj_len, \n",
    "                                     n_epochs=n_epochs,\n",
    "                                     learning_rate=lr,\n",
    "                                     action_noise_dist=action_noise_dist,\n",
    "                                     terminal_state_potential_fn=terminal_state_potential_fn,\n",
    "                                     linear_features=True,\n",
    "                                     init_state_idx=\"random\",\n",
    "                                     vi_eps=1e-3,\n",
    "                                     living_reward=-0.04, \n",
    "                                     obstacle_reward=-0.5, \n",
    "                                     visit_obstacles=False, #Note!\n",
    "                                     gamma=0.99,\n",
    "                                     epoch_summary_rate=10)\n",
    "plot_results(gw, grid, R, n_epochs, lr)"
   ]
  },
  {
   "cell_type": "markdown",
   "metadata": {},
   "source": [
    "The policy hasn't converged yet, let's run it longer till 50th epoch."
   ]
  },
  {
   "cell_type": "code",
   "execution_count": 8,
   "metadata": {},
   "outputs": [
    {
     "name": "stdout",
     "output_type": "stream",
     "text": [
      " Epoch 10, sum|grad|: 0.8057639028011849\n",
      " Epoch 20, sum|grad|: 0.5263006962597606\n",
      " Epoch 30, sum|grad|: 0.40034624330537916\n",
      " Epoch 40, sum|grad|: 0.33220245750803534\n",
      " Epoch 50, sum|grad|: 0.2898774827169851\n",
      "Total Time: 28.527328968048096 sec\n",
      "Expert Policy\n",
      "---------------\n",
      "East\tEast\tEast\tEast\tSouth\t\n",
      "South\tEast\tEast\tEast\tSouth\t\n",
      "East\tSouth\tEast\tEast\tSouth\t\n",
      "East\tEast\tSouth\tEast\tSouth\t\n",
      "East\tEast\tEast\tEast\tNorth\t\n",
      "Absorbing state: North\n",
      "---------------\n",
      "\n",
      "Recovered Policy\n",
      "---------------\n",
      "East\tEast\tEast\tEast\tSouth\t\n",
      "South\tSouth\tEast\tEast\tSouth\t\n",
      "East\tSouth\tSouth\tEast\tSouth\t\n",
      "East\tEast\tSouth\tSouth\tSouth\t\n",
      "East\tEast\tEast\tEast\tNorth\t\n",
      "Absorbing state: North\n",
      "---------------\n",
      "\n",
      "Groundtruth R\n",
      "---------------\n",
      "-0.040\t-0.040\t-0.040\t-0.040\t-0.040\t\n",
      "-0.040\t-0.500\t-0.040\t-0.040\t-0.040\t\n",
      "-0.040\t-0.040\t-0.500\t-0.040\t-0.040\t\n",
      "-0.040\t-0.040\t-0.040\t-0.500\t-0.040\t\n",
      "-0.040\t-0.040\t-0.040\t-0.040\t1.000\t\n",
      "Absorbing state: 0.000\n",
      "---------------\n",
      "\n",
      "Recovered R\n",
      "---------------\n",
      "-1.491\t-1.034\t-1.052\t-0.992\t-0.902\t\n",
      "-1.915\t0.200\t-1.725\t-3.055\t-0.859\t\n",
      "-1.911\t-1.446\t0.927\t-2.618\t-1.968\t\n",
      "-2.998\t-0.759\t-1.094\t0.987\t-2.881\t\n",
      "-1.363\t-3.277\t-1.896\t-2.474\t1.377\t\n",
      "Absorbing state: 0.496\n",
      "---------------\n",
      "\n"
     ]
    },
    {
     "data": {
      "image/png": "[encoded data removed]",
      "text/plain": [
       "<Figure size 1008x576 with 4 Axes>"
      ]
     },
     "metadata": {},
     "output_type": "display_data"
    }
   ],
   "source": [
    "np.random.seed(0)\n",
    "grid = [[' ',' ',' ',' ',' '],\n",
    "        [' ','#',' ',' ',' '],\n",
    "        [' ',' ','#',' ',' '],\n",
    "        [' ',' ',' ','#',' '],\n",
    "        [' ',' ',' ',' ',+1]]\n",
    "n_epochs, lr = 50, 1.\n",
    "n_traj, max_traj_len = 100, 20\n",
    "R, gw, trajectories, feature_matrix = \\\n",
    "                    run_max_ent_gridworld_experiment(grid,\n",
    "                                     n_traj=n_traj, \n",
    "                                     max_traj_len=max_traj_len, \n",
    "                                     n_epochs=n_epochs,\n",
    "                                     learning_rate=lr,\n",
    "                                     action_noise_dist=action_noise_dist,\n",
    "                                     terminal_state_potential_fn=terminal_state_potential_fn,\n",
    "                                     linear_features=True,\n",
    "                                     init_state_idx=\"random\",\n",
    "                                     vi_eps=1e-3,\n",
    "                                     living_reward=-0.04, \n",
    "                                     obstacle_reward=-0.5, \n",
    "                                     visit_obstacles=False, #Note!\n",
    "                                     gamma=0.99,\n",
    "                                     epoch_summary_rate=10)\n",
    "plot_results(gw, grid, R, n_epochs, lr)"
   ]
  },
  {
   "cell_type": "markdown",
   "metadata": {},
   "source": [
    "We fail to converge to a good policy. Let's try visiting obstacle states."
   ]
  },
  {
   "cell_type": "code",
   "execution_count": 9,
   "metadata": {},
   "outputs": [
    {
     "name": "stdout",
     "output_type": "stream",
     "text": [
      " Epoch 10, sum|grad|: 0.9055311199939998\n",
      " Epoch 20, sum|grad|: 0.5350727155997281\n",
      " Epoch 30, sum|grad|: 0.43987354134687523\n",
      "Total Time: 16.26250696182251 sec\n",
      "Expert Policy\n",
      "---------------\n",
      "East\tEast\tEast\tEast\tSouth\t\n",
      "South\tEast\tEast\tEast\tSouth\t\n",
      "East\tSouth\tEast\tEast\tSouth\t\n",
      "East\tEast\tSouth\tEast\tSouth\t\n",
      "East\tEast\tEast\tEast\tNorth\t\n",
      "Absorbing state: North\n",
      "---------------\n",
      "\n",
      "Recovered Policy\n",
      "---------------\n",
      "East\tEast\tEast\tEast\tSouth\t\n",
      "South\tEast\tEast\tEast\tSouth\t\n",
      "East\tSouth\tEast\tEast\tSouth\t\n",
      "East\tEast\tSouth\tEast\tSouth\t\n",
      "East\tEast\tEast\tEast\tNorth\t\n",
      "Absorbing state: North\n",
      "---------------\n",
      "\n",
      "Groundtruth R\n",
      "---------------\n",
      "-0.040\t-0.040\t-0.040\t-0.040\t-0.040\t\n",
      "-0.040\t-0.500\t-0.040\t-0.040\t-0.040\t\n",
      "-0.040\t-0.040\t-0.500\t-0.040\t-0.040\t\n",
      "-0.040\t-0.040\t-0.040\t-0.500\t-0.040\t\n",
      "-0.040\t-0.040\t-0.040\t-0.040\t1.000\t\n",
      "Absorbing state: 0.000\n",
      "---------------\n",
      "\n",
      "Recovered R\n",
      "---------------\n",
      "-1.003\t-1.016\t-1.054\t-0.932\t-1.007\t\n",
      "-1.069\t-1.781\t-1.298\t-2.303\t-0.772\t\n",
      "-0.864\t-1.210\t-2.506\t-2.604\t-1.294\t\n",
      "-1.415\t-0.727\t-1.334\t-4.503\t-1.922\t\n",
      "-1.203\t-2.535\t-1.779\t-3.008\t2.024\t\n",
      "Absorbing state: 0.019\n",
      "---------------\n",
      "\n"
     ]
    },
    {
     "data": {
      "image/png": "[encoded data removed]",
      "text/plain": [
       "<Figure size 1008x576 with 4 Axes>"
      ]
     },
     "metadata": {},
     "output_type": "display_data"
    }
   ],
   "source": [
    "np.random.seed(0)\n",
    "grid = [[' ',' ',' ',' ',' '],\n",
    "        [' ','#',' ',' ',' '],\n",
    "        [' ',' ','#',' ',' '],\n",
    "        [' ',' ',' ','#',' '],\n",
    "        [' ',' ',' ',' ',+1]]\n",
    "n_epochs, lr = 30, 1.\n",
    "n_traj, max_traj_len = 100, 20\n",
    "R, gw, trajectories, feature_matrix = \\\n",
    "                    run_max_ent_gridworld_experiment(grid,\n",
    "                                     n_traj=n_traj, \n",
    "                                     max_traj_len=max_traj_len, \n",
    "                                     n_epochs=n_epochs,\n",
    "                                     learning_rate=lr,\n",
    "                                     action_noise_dist=action_noise_dist,\n",
    "                                     terminal_state_potential_fn=terminal_state_potential_fn,\n",
    "                                     linear_features=True,\n",
    "                                     init_state_idx=\"random\",\n",
    "                                     vi_eps=1e-3,\n",
    "                                     living_reward=-0.04, \n",
    "                                     obstacle_reward=-0.5, \n",
    "                                     visit_obstacles=True,\n",
    "                                     gamma=0.99,\n",
    "                                     epoch_summary_rate=10)\n",
    "plot_results(gw, grid, R, n_epochs, lr)"
   ]
  },
  {
   "cell_type": "markdown",
   "metadata": {},
   "source": [
    "We can see that this helps in learning/recovering better policies and reward function."
   ]
  },
  {
   "cell_type": "markdown",
   "metadata": {},
   "source": [
    "Now, let's try increasing obstacle penalties to see how it affects our results."
   ]
  },
  {
   "cell_type": "code",
   "execution_count": 10,
   "metadata": {},
   "outputs": [
    {
     "name": "stdout",
     "output_type": "stream",
     "text": [
      " Epoch 10, sum|grad|: 0.9055311199939998\n",
      " Epoch 20, sum|grad|: 0.5350727155997281\n",
      " Epoch 30, sum|grad|: 0.43987354134687523\n",
      "Total Time: 16.589802980422974 sec\n",
      "Expert Policy\n",
      "---------------\n",
      "East\tEast\tEast\tEast\tSouth\t\n",
      "South\tEast\tEast\tEast\tSouth\t\n",
      "East\tSouth\tEast\tEast\tSouth\t\n",
      "East\tEast\tSouth\tEast\tSouth\t\n",
      "East\tEast\tEast\tEast\tNorth\t\n",
      "Absorbing state: North\n",
      "---------------\n",
      "\n",
      "Recovered Policy\n",
      "---------------\n",
      "East\tEast\tEast\tEast\tSouth\t\n",
      "South\tEast\tEast\tEast\tSouth\t\n",
      "East\tSouth\tEast\tEast\tSouth\t\n",
      "East\tEast\tSouth\tEast\tSouth\t\n",
      "East\tEast\tEast\tEast\tNorth\t\n",
      "Absorbing state: North\n",
      "---------------\n",
      "\n",
      "Groundtruth R\n",
      "---------------\n",
      "-0.040\t-0.040\t-0.040\t-0.040\t-0.040\t\n",
      "-0.040\t-5.000\t-0.040\t-0.040\t-0.040\t\n",
      "-0.040\t-0.040\t-5.000\t-0.040\t-0.040\t\n",
      "-0.040\t-0.040\t-0.040\t-5.000\t-0.040\t\n",
      "-0.040\t-0.040\t-0.040\t-0.040\t1.000\t\n",
      "Absorbing state: 0.000\n",
      "---------------\n",
      "\n",
      "Recovered R\n",
      "---------------\n",
      "-1.003\t-1.016\t-1.054\t-0.932\t-1.007\t\n",
      "-1.069\t-1.781\t-1.298\t-2.303\t-0.772\t\n",
      "-0.864\t-1.210\t-2.506\t-2.604\t-1.294\t\n",
      "-1.415\t-0.727\t-1.334\t-4.503\t-1.922\t\n",
      "-1.203\t-2.535\t-1.779\t-3.008\t2.024\t\n",
      "Absorbing state: 0.019\n",
      "---------------\n",
      "\n"
     ]
    },
    {
     "data": {
      "image/png": "[encoded data removed]",
      "text/plain": [
       "<Figure size 1008x576 with 4 Axes>"
      ]
     },
     "metadata": {},
     "output_type": "display_data"
    }
   ],
   "source": [
    "np.random.seed(0)\n",
    "grid = [[' ',' ',' ',' ',' '],\n",
    "        [' ','#',' ',' ',' '],\n",
    "        [' ',' ','#',' ',' '],\n",
    "        [' ',' ',' ','#',' '],\n",
    "        [' ',' ',' ',' ',+1]]\n",
    "n_epochs, lr = 30, 1.\n",
    "n_traj, max_traj_len = 100, 20\n",
    "R, gw, trajectories, feature_matrix = \\\n",
    "                    run_max_ent_gridworld_experiment(grid,\n",
    "                                     n_traj=n_traj, \n",
    "                                     max_traj_len=max_traj_len, \n",
    "                                     n_epochs=n_epochs,\n",
    "                                     learning_rate=lr,\n",
    "                                     action_noise_dist=action_noise_dist,\n",
    "                                     terminal_state_potential_fn=terminal_state_potential_fn,\n",
    "                                     linear_features=True,\n",
    "                                     init_state_idx=\"random\",\n",
    "                                     vi_eps=1e-3,\n",
    "                                     living_reward=-0.04, \n",
    "                                     obstacle_reward=-5,\n",
    "                                     visit_obstacles=True,\n",
    "                                     gamma=0.99,\n",
    "                                     epoch_summary_rate=10)\n",
    "plot_results(gw, grid, R, n_epochs, lr)"
   ]
  },
  {
   "cell_type": "markdown",
   "metadata": {},
   "source": [
    "We converge to almost identical R and Pi. There's no significant improvement by penalizing obstacle visits beyond certain limit."
   ]
  },
  {
   "cell_type": "markdown",
   "metadata": {},
   "source": [
    "### R&N Chap. 17 Grid World"
   ]
  },
  {
   "cell_type": "markdown",
   "metadata": {},
   "source": [
    "Not visiting obstacles"
   ]
  },
  {
   "cell_type": "code",
   "execution_count": 11,
   "metadata": {},
   "outputs": [
    {
     "name": "stdout",
     "output_type": "stream",
     "text": [
      " Epoch 10, sum|grad|: 0.5239588910126985\n",
      " Epoch 20, sum|grad|: 0.30251810830575493\n",
      "Total Time: 5.541101694107056 sec\n",
      "Expert Policy\n",
      "------------\n",
      "East\tEast\tEast\tNorth\t\n",
      "North\tNorth\tNorth\tNorth\t\n",
      "North\tEast\tNorth\tWest\t\n",
      "Absorbing state: North\n",
      "------------\n",
      "\n",
      "Recovered Policy\n",
      "------------\n",
      "East\tEast\tEast\tNorth\t\n",
      "North\tEast\tNorth\tNorth\t\n",
      "North\tEast\tNorth\tWest\t\n",
      "Absorbing state: North\n",
      "------------\n",
      "\n",
      "Groundtruth R\n",
      "------------\n",
      "-0.040\t-0.040\t-0.040\t1.000\t\n",
      "-0.040\t-0.500\t-0.040\t-1.000\t\n",
      "-0.040\t-0.040\t-0.040\t-0.040\t\n",
      "Absorbing state: 0.000\n",
      "------------\n",
      "\n",
      "Recovered R\n",
      "------------\n",
      "-1.232\t-1.557\t-0.733\t3.581\t\n",
      "-1.026\t0.817\t-0.504\t-2.560\t\n",
      "-1.933\t-3.706\t-0.640\t-1.151\t\n",
      "Absorbing state: 0.225\n",
      "------------\n",
      "\n"
     ]
    },
    {
     "data": {
      "image/png": "[encoded data removed]",
      "text/plain": [
       "<Figure size 1008x576 with 4 Axes>"
      ]
     },
     "metadata": {},
     "output_type": "display_data"
    }
   ],
   "source": [
    "np.random.seed(0)\n",
    "grid = [[' ',' ',' ',+1],\n",
    "            [' ','#',' ',-1],\n",
    "            ['@',' ',' ',' ']]\n",
    "n_epochs, lr = 20, 1.\n",
    "n_traj, max_traj_len = 400, 15\n",
    "R, gw, trajectories, feature_matrix = \\\n",
    "                    run_max_ent_gridworld_experiment(grid,\n",
    "                                     n_traj=n_traj, \n",
    "                                     max_traj_len=max_traj_len, \n",
    "                                     n_epochs=n_epochs,\n",
    "                                     learning_rate=lr,\n",
    "                                     action_noise_dist=action_noise_dist,\n",
    "                                     terminal_state_potential_fn=terminal_state_potential_fn,\n",
    "                                     linear_features=True,\n",
    "                                     init_state_idx=\"random\",\n",
    "                                     vi_eps=1e-3,\n",
    "                                     living_reward=-0.04, \n",
    "                                     obstacle_reward=-0.5, \n",
    "                                     visit_obstacles=False,\n",
    "                                     gamma=0.99,\n",
    "                                     epoch_summary_rate=10)\n",
    "plot_results(gw, grid, R, n_epochs, lr)"
   ]
  },
  {
   "cell_type": "markdown",
   "metadata": {},
   "source": [
    "Visiting obstacles"
   ]
  },
  {
   "cell_type": "code",
   "execution_count": 12,
   "metadata": {},
   "outputs": [
    {
     "name": "stdout",
     "output_type": "stream",
     "text": [
      " Epoch 10, sum|grad|: 0.513622637757714\n",
      " Epoch 20, sum|grad|: 0.3188646727150539\n",
      "Total Time: 5.567760944366455 sec\n",
      "Expert Policy\n",
      "------------\n",
      "East\tEast\tEast\tNorth\t\n",
      "North\tNorth\tNorth\tNorth\t\n",
      "North\tEast\tNorth\tWest\t\n",
      "Absorbing state: North\n",
      "------------\n",
      "\n",
      "Recovered Policy\n",
      "------------\n",
      "East\tEast\tEast\tNorth\t\n",
      "North\tNorth\tNorth\tNorth\t\n",
      "North\tEast\tNorth\tWest\t\n",
      "Absorbing state: North\n",
      "------------\n",
      "\n",
      "Groundtruth R\n",
      "------------\n",
      "-0.040\t-0.040\t-0.040\t1.000\t\n",
      "-0.040\t-0.500\t-0.040\t-1.000\t\n",
      "-0.040\t-0.040\t-0.040\t-0.040\t\n",
      "Absorbing state: 0.000\n",
      "------------\n",
      "\n",
      "Recovered R\n",
      "------------\n",
      "-0.807\t-0.621\t-0.910\t4.095\t\n",
      "-0.787\t-2.509\t-0.758\t-1.993\t\n",
      "-1.396\t-2.101\t-0.397\t-1.250\t\n",
      "Absorbing state: 0.134\n",
      "------------\n",
      "\n"
     ]
    },
    {
     "data": {
      "image/png": "[encoded data removed]",
      "text/plain": [
       "<Figure size 1008x576 with 4 Axes>"
      ]
     },
     "metadata": {},
     "output_type": "display_data"
    }
   ],
   "source": [
    "np.random.seed(0)\n",
    "grid = [[' ',' ',' ',+1],\n",
    "            [' ','#',' ',-1],\n",
    "            ['@',' ',' ',' ']]\n",
    "n_epochs, lr = 20, 1.\n",
    "n_traj, max_traj_len = 400, 15\n",
    "R, gw, trajectories, feature_matrix = \\\n",
    "                    run_max_ent_gridworld_experiment(grid,\n",
    "                                     n_traj=n_traj, \n",
    "                                     max_traj_len=max_traj_len, \n",
    "                                     n_epochs=n_epochs,\n",
    "                                     learning_rate=lr,\n",
    "                                     action_noise_dist=action_noise_dist,\n",
    "                                     terminal_state_potential_fn=terminal_state_potential_fn,\n",
    "                                     linear_features=True,\n",
    "                                     init_state_idx=\"random\",\n",
    "                                     vi_eps=1e-3,\n",
    "                                     living_reward=-0.04, \n",
    "                                     obstacle_reward=-0.5, \n",
    "                                     visit_obstacles=True,\n",
    "                                     gamma=0.99,\n",
    "                                     epoch_summary_rate=10)\n",
    "plot_results(gw, grid, R, n_epochs, lr)"
   ]
  },
  {
   "cell_type": "markdown",
   "metadata": {},
   "source": [
    "## Stochastic Dynamics & Linear Rewards (True R = w.dot(fs))"
   ]
  },
  {
   "cell_type": "code",
   "execution_count": 13,
   "metadata": {},
   "outputs": [],
   "source": [
    "action_noise_dist = [0.1, 0.8, 0.1]"
   ]
  },
  {
   "cell_type": "markdown",
   "metadata": {},
   "source": [
    "### Simple Grid"
   ]
  },
  {
   "cell_type": "code",
   "execution_count": 14,
   "metadata": {},
   "outputs": [
    {
     "name": "stdout",
     "output_type": "stream",
     "text": [
      " Epoch 10, sum|grad|: 0.9689988928866444\n",
      " Epoch 20, sum|grad|: 0.597825321262178\n",
      "Total Time: 12.833080053329468 sec\n",
      "Expert Policy\n",
      "---------------\n",
      "East\tEast\tEast\tSouth\tSouth\t\n",
      "South\tSouth\tSouth\tSouth\tSouth\t\n",
      "South\tEast\tEast\tSouth\tSouth\t\n",
      "East\tEast\tEast\tEast\tSouth\t\n",
      "East\tEast\tEast\tEast\tNorth\t\n",
      "Absorbing state: North\n",
      "---------------\n",
      "\n",
      "Recovered Policy\n",
      "---------------\n",
      "East\tEast\tEast\tSouth\tWest\t\n",
      "South\tSouth\tSouth\tSouth\tSouth\t\n",
      "East\tEast\tEast\tSouth\tSouth\t\n",
      "East\tEast\tEast\tEast\tSouth\t\n",
      "East\tEast\tEast\tEast\tNorth\t\n",
      "Absorbing state: North\n",
      "---------------\n",
      "\n",
      "Groundtruth R\n",
      "---------------\n",
      "-0.040\t-0.040\t-0.040\t-0.040\t-0.040\t\n",
      "-0.040\t-0.040\t-0.040\t-0.040\t-0.040\t\n",
      "-0.040\t-0.040\t-0.040\t-0.040\t-0.040\t\n",
      "-0.040\t-0.040\t-0.040\t-0.040\t-0.040\t\n",
      "-0.040\t-0.040\t-0.040\t-0.040\t1.000\t\n",
      "Absorbing state: 0.000\n",
      "---------------\n",
      "\n",
      "Recovered R\n",
      "---------------\n",
      "-1.254\t-0.948\t-0.875\t-0.619\t-3.285\t\n",
      "-1.592\t-2.134\t-2.670\t-1.979\t-2.901\t\n",
      "-0.728\t-1.647\t-1.714\t0.730\t-2.639\t\n",
      "-0.326\t-1.286\t-1.813\t0.143\t-0.370\t\n",
      "-1.372\t-1.197\t-1.652\t-2.757\t1.438\t\n",
      "Absorbing state: 0.378\n",
      "---------------\n",
      "\n"
     ]
    },
    {
     "data": {
      "image/png": "[encoded data removed]",
      "text/plain": [
       "<Figure size 1008x576 with 4 Axes>"
      ]
     },
     "metadata": {},
     "output_type": "display_data"
    }
   ],
   "source": [
    "np.random.seed(0)\n",
    "grid = [[' ',' ',' ',' ',' '],\n",
    "                [' ',' ',' ',' ',' '],\n",
    "                [' ',' ',' ',' ',' '],\n",
    "                [' ',' ',' ',' ',' '],\n",
    "                [' ',' ',' ',' ',+1]]\n",
    "n_epochs, lr = 20, 1.\n",
    "n_traj, max_traj_len = 1000, 40\n",
    "R, gw, trajectories, feature_matrix = \\\n",
    "                    run_max_ent_gridworld_experiment(grid,\n",
    "                                     n_traj=n_traj, \n",
    "                                     max_traj_len=max_traj_len, \n",
    "                                     n_epochs=n_epochs,\n",
    "                                     learning_rate=lr,\n",
    "                                     action_noise_dist=action_noise_dist,\n",
    "                                     terminal_state_potential_fn=terminal_state_potential_fn,\n",
    "                                     linear_features=True,\n",
    "                                     init_state_idx=\"random\",\n",
    "                                     vi_eps=1e-3,\n",
    "                                     living_reward=-0.04, \n",
    "                                     obstacle_reward=-0.5, \n",
    "                                     visit_obstacles=True,\n",
    "                                     gamma=0.99,\n",
    "                                     epoch_summary_rate=10)\n",
    "plot_results(gw, grid, R, n_epochs, lr)"
   ]
  },
  {
   "cell_type": "markdown",
   "metadata": {},
   "source": [
    "### Grid with obstacles"
   ]
  },
  {
   "cell_type": "code",
   "execution_count": 15,
   "metadata": {},
   "outputs": [
    {
     "name": "stdout",
     "output_type": "stream",
     "text": [
      " Epoch 10, sum|grad|: 1.1692485551984821\n",
      " Epoch 20, sum|grad|: 0.8051943634997062\n",
      "Total Time: 12.946033954620361 sec\n",
      "Expert Policy\n",
      "---------------\n",
      "East\tEast\tEast\tEast\tSouth\t\n",
      "South\tEast\tEast\tEast\tSouth\t\n",
      "South\tSouth\tEast\tEast\tSouth\t\n",
      "South\tSouth\tSouth\tEast\tSouth\t\n",
      "East\tEast\tEast\tEast\tNorth\t\n",
      "Absorbing state: North\n",
      "---------------\n",
      "\n",
      "Recovered Policy\n",
      "---------------\n",
      "East\tEast\tEast\tEast\tSouth\t\n",
      "South\tEast\tEast\tEast\tSouth\t\n",
      "South\tSouth\tEast\tEast\tSouth\t\n",
      "South\tSouth\tSouth\tEast\tSouth\t\n",
      "East\tEast\tEast\tEast\tNorth\t\n",
      "Absorbing state: North\n",
      "---------------\n",
      "\n",
      "Groundtruth R\n",
      "---------------\n",
      "-0.040\t-0.040\t-0.040\t-0.040\t-0.040\t\n",
      "-0.040\t-0.500\t-0.040\t-0.040\t-0.040\t\n",
      "-0.040\t-0.040\t-0.500\t-0.040\t-0.040\t\n",
      "-0.040\t-0.040\t-0.040\t-0.500\t-0.040\t\n",
      "-0.040\t-0.040\t-0.040\t-0.040\t1.000\t\n",
      "Absorbing state: 0.000\n",
      "---------------\n",
      "\n",
      "Recovered R\n",
      "---------------\n",
      "-0.509\t-0.196\t-0.621\t0.095\t-0.053\t\n",
      "-0.708\t-1.005\t-0.537\t-1.169\t-0.079\t\n",
      "-0.062\t-1.379\t-1.765\t-1.609\t-0.182\t\n",
      "-0.742\t-1.154\t-2.199\t-2.468\t-0.414\t\n",
      "-0.269\t0.237\t-0.119\t-1.499\t-0.055\t\n",
      "Absorbing state: 0.797\n",
      "---------------\n",
      "\n"
     ]
    },
    {
     "data": {
      "image/png": "[encoded data removed]",
      "text/plain": [
       "<Figure size 1008x576 with 4 Axes>"
      ]
     },
     "metadata": {},
     "output_type": "display_data"
    }
   ],
   "source": [
    "np.random.seed(0)\n",
    "grid = [[' ',' ',' ',' ',' '],\n",
    "                [' ','#',' ',' ',' '],\n",
    "                [' ',' ','#',' ',' '],\n",
    "                [' ',' ',' ','#',' '],\n",
    "                [' ',' ',' ',' ',+1]]\n",
    "n_epochs, lr = 20, 1.\n",
    "n_traj, max_traj_len = 400, 40\n",
    "R, gw, trajectories, feature_matrix = \\\n",
    "                    run_max_ent_gridworld_experiment(grid,\n",
    "                                     n_traj=n_traj, \n",
    "                                     max_traj_len=max_traj_len, \n",
    "                                     n_epochs=n_epochs,\n",
    "                                     learning_rate=lr,\n",
    "                                     action_noise_dist=action_noise_dist,\n",
    "                                     terminal_state_potential_fn=terminal_state_potential_fn,\n",
    "                                     linear_features=True,\n",
    "                                     init_state_idx=\"random\",\n",
    "                                     vi_eps=1e-3,\n",
    "                                     living_reward=-0.04, \n",
    "                                     obstacle_reward=-0.5, \n",
    "                                     visit_obstacles=True,\n",
    "                                     gamma=0.99,\n",
    "                                     epoch_summary_rate=10)\n",
    "plot_results(gw, grid, R, n_epochs, lr)"
   ]
  },
  {
   "cell_type": "markdown",
   "metadata": {},
   "source": [
    "### R&N Chap. 17 Grid World"
   ]
  },
  {
   "cell_type": "markdown",
   "metadata": {},
   "source": [
    "Not visiting obstacles"
   ]
  },
  {
   "cell_type": "code",
   "execution_count": 16,
   "metadata": {},
   "outputs": [
    {
     "name": "stdout",
     "output_type": "stream",
     "text": [
      " Epoch 10, sum|grad|: 1.277391554716635\n",
      " Epoch 20, sum|grad|: 0.6430632595844115\n",
      " Epoch 30, sum|grad|: 0.3243846414795075\n",
      " Epoch 40, sum|grad|: 0.24127777386415378\n",
      "Total Time: 20.74955701828003 sec\n",
      "Expert Policy\n",
      "------------\n",
      "East\tEast\tEast\tNorth\t\n",
      "North\tNorth\tNorth\tNorth\t\n",
      "North\tWest\tNorth\tWest\t\n",
      "Absorbing state: North\n",
      "------------\n",
      "\n",
      "Recovered Policy\n",
      "------------\n",
      "East\tEast\tEast\tNorth\t\n",
      "North\tNorth\tNorth\tNorth\t\n",
      "North\tWest\tNorth\tWest\t\n",
      "Absorbing state: North\n",
      "------------\n",
      "\n",
      "Groundtruth R\n",
      "------------\n",
      "-0.040\t-0.040\t-0.040\t1.000\t\n",
      "-0.040\t-1.000\t-0.040\t-1.000\t\n",
      "-0.040\t-0.040\t-0.040\t-0.040\t\n",
      "Absorbing state: 0.000\n",
      "------------\n",
      "\n",
      "Recovered R\n",
      "------------\n",
      "-0.967\t-1.089\t-0.651\t6.483\t\n",
      "-0.528\t0.067\t-1.554\t-4.352\t\n",
      "-0.369\t-2.565\t-2.615\t-2.146\t\n",
      "Absorbing state: 0.132\n",
      "------------\n",
      "\n"
     ]
    },
    {
     "data": {
      "image/png": "[encoded data removed]",
      "text/plain": [
       "<Figure size 1008x576 with 4 Axes>"
      ]
     },
     "metadata": {},
     "output_type": "display_data"
    }
   ],
   "source": [
    "np.random.seed(0)\n",
    "grid = [[' ',' ',' ',+1],\n",
    "            [' ','#',' ',-1],\n",
    "            ['@',' ',' ',' ']]\n",
    "n_epochs, lr = 40, 1.\n",
    "n_traj, max_traj_len = 1200, 30\n",
    "R, gw, trajectories, feature_matrix = \\\n",
    "                    run_max_ent_gridworld_experiment(grid,\n",
    "                                     n_traj=n_traj, \n",
    "                                     max_traj_len=max_traj_len, \n",
    "                                     n_epochs=n_epochs,\n",
    "                                     learning_rate=lr,\n",
    "                                     action_noise_dist=action_noise_dist,\n",
    "                                     terminal_state_potential_fn=terminal_state_potential_fn,\n",
    "                                     linear_features=True,\n",
    "                                     init_state_idx=\"random\",\n",
    "                                     vi_eps=1e-6,\n",
    "                                     living_reward=-0.04, \n",
    "                                     obstacle_reward=-1, \n",
    "                                     visit_obstacles=False,\n",
    "                                     gamma=0.99,\n",
    "                                     epoch_summary_rate=10)\n",
    "plot_results(gw, grid, R, n_epochs, lr)"
   ]
  },
  {
   "cell_type": "markdown",
   "metadata": {},
   "source": [
    "Visit obstacles"
   ]
  },
  {
   "cell_type": "code",
   "execution_count": 17,
   "metadata": {},
   "outputs": [
    {
     "name": "stdout",
     "output_type": "stream",
     "text": [
      " Epoch 10, sum|grad|: 1.0165781503469218\n",
      " Epoch 20, sum|grad|: 0.4945683533256543\n",
      " Epoch 30, sum|grad|: 0.28569810407164126\n",
      " Epoch 40, sum|grad|: 0.21855069113571984\n",
      "Total Time: 21.238718271255493 sec\n",
      "Expert Policy\n",
      "------------\n",
      "East\tEast\tEast\tNorth\t\n",
      "North\tNorth\tNorth\tNorth\t\n",
      "North\tWest\tNorth\tWest\t\n",
      "Absorbing state: North\n",
      "------------\n",
      "\n",
      "Recovered Policy\n",
      "------------\n",
      "East\tEast\tEast\tNorth\t\n",
      "North\tNorth\tNorth\tNorth\t\n",
      "North\tWest\tNorth\tWest\t\n",
      "Absorbing state: North\n",
      "------------\n",
      "\n",
      "Groundtruth R\n",
      "------------\n",
      "-0.040\t-0.040\t-0.040\t1.000\t\n",
      "-0.040\t-0.500\t-0.040\t-1.000\t\n",
      "-0.040\t-0.040\t-0.040\t-0.040\t\n",
      "Absorbing state: 0.000\n",
      "------------\n",
      "\n",
      "Recovered R\n",
      "------------\n",
      "-0.471\t-0.036\t-0.545\t6.023\t\n",
      "0.241\t-3.521\t-1.341\t-4.300\t\n",
      "-0.006\t-2.200\t-0.535\t-1.884\t\n",
      "Absorbing state: 0.422\n",
      "------------\n",
      "\n"
     ]
    },
    {
     "data": {
      "image/png": "[encoded data removed]",
      "text/plain": [
       "<Figure size 1008x576 with 4 Axes>"
      ]
     },
     "metadata": {},
     "output_type": "display_data"
    }
   ],
   "source": [
    "np.random.seed(0)\n",
    "grid = [[' ',' ',' ',+1],\n",
    "            [' ','#',' ',-1],\n",
    "            ['@',' ',' ',' ']]\n",
    "n_epochs, lr = 40, 1.\n",
    "n_traj, max_traj_len = 1200, 30\n",
    "R, gw, trajectories, feature_matrix = \\\n",
    "                    run_max_ent_gridworld_experiment(grid,\n",
    "                                     n_traj=n_traj, \n",
    "                                     max_traj_len=max_traj_len, \n",
    "                                     n_epochs=n_epochs,\n",
    "                                     learning_rate=lr,\n",
    "                                     action_noise_dist=action_noise_dist,\n",
    "                                     terminal_state_potential_fn=terminal_state_potential_fn,\n",
    "                                     linear_features=True,\n",
    "                                     init_state_idx=\"random\",\n",
    "                                     vi_eps=1e-6,\n",
    "                                     living_reward=-0.04, \n",
    "                                     obstacle_reward=-0.5, \n",
    "                                     visit_obstacles=True,\n",
    "                                     gamma=0.99,\n",
    "                                     epoch_summary_rate=10)\n",
    "plot_results(gw, grid, R, n_epochs, lr)"
   ]
  }
 ],
 "metadata": {
  "kernelspec": {
   "display_name": "irl_python3",
   "language": "python",
   "name": "irl_python3"
  },
  "language_info": {
   "codemirror_mode": {
    "name": "ipython",
    "version": 3
   },
   "file_extension": ".py",
   "mimetype": "text/x-python",
   "name": "python",
   "nbconvert_exporter": "python",
   "pygments_lexer": "ipython3",
   "version": "3.6.1"
  }
 },
 "nbformat": 4,
 "nbformat_minor": 2
}
